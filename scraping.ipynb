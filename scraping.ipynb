{
 "cells": [
  {
   "cell_type": "markdown",
   "metadata": {},
   "source": [
    "During one of my school projects me and my teammates needed to download some pdf files in order\n",
    "to get data to create an Ai based solution.\n",
    "\n",
    "This notebook is an automation for scrapping pdf files from the \"https://www.ons.dz/\" website\n",
    "and text extraction from these pdf files"
   ]
  },
  {
   "cell_type": "markdown",
   "metadata": {},
   "source": [
    "# Part I: Web scrapping"
   ]
  },
  {
   "cell_type": "code",
   "execution_count": null,
   "metadata": {},
   "outputs": [],
   "source": [
    "# for get the pdf files or url\n",
    "import requests\n",
    "\n",
    "# for tree traversal scraping in webpage\n",
    "from bs4 import BeautifulSoup"
   ]
  },
  {
   "cell_type": "markdown",
   "metadata": {},
   "source": [
    "The scrap function is reponsible for return a beautiful soup object (it parses the html file)\n",
    "in order to be able to manipulate it to extact the desired data\n",
    "\n",
    "The code is adapted from geeks for geeks https://www.geeksforgeeks.org/how-to-scrape-websites-with-beautifulsoup-and-python/"
   ]
  },
  {
   "cell_type": "code",
   "execution_count": null,
   "metadata": {},
   "outputs": [],
   "source": [
    "def scrap(url):\n",
    "\n",
    "    # get the url from requests get method\n",
    "    read = requests.get(url, verify=False)#I changed it to false cuz Algerian websites don't have an SSL certificate\n",
    "\n",
    "    # full html content \n",
    "    html_content = read.content\n",
    "\n",
    "    # Parse the html content \n",
    "    soup = BeautifulSoup(html_content, \"html.parser\")\n",
    "    return soup"
   ]
  },
  {
   "cell_type": "code",
   "execution_count": 98,
   "metadata": {},
   "outputs": [
    {
     "name": "stderr",
     "output_type": "stream",
     "text": [
      "c:\\anaconda3\\envs\\TS_ENV\\Lib\\site-packages\\urllib3\\connectionpool.py:1097: InsecureRequestWarning: Unverified HTTPS request is being made to host 'www.ons.dz'. Adding certificate verification is strongly advised. See: https://urllib3.readthedocs.io/en/latest/advanced-usage.html#tls-warnings\n",
      "  warnings.warn(\n"
     ]
    },
    {
     "name": "stdout",
     "output_type": "stream",
     "text": [
      "<!DOCTYPE html PUBLIC \"-//W3C//DTD XHTML 1.0 Transitional//EN\" \"http://www.w3.org/TR/xhtml1/DTD/xhtml1-transitional.dtd\">\n",
      "\n",
      "<html dir=\"ltr\" lang=\"fr\" xml:lang=\"fr\" xmlns=\"http://www.w3.org/1999/xhtml\">\n",
      "<head>\n",
      "<meta content=\"text/html; charset=utf-8\" http-equiv=\"Content-Type\"/>\n",
      "<meta content=\"IE=edge\" http-equiv=\"X-UA-Compatible\"/>\n",
      "<title>ONS : Office National des Statistiques</title>\n",
      "<link href=\"css/menui.css\" rel=\"stylesheet\" type=\"text/css\"/>\n",
      "<link href=\"style-2.css\" rel=\"stylesheet\" type=\"text/css\"/>\n",
      "<style type=\"text/css\">\n",
      "<!--\n",
      ".bordure_bas {border-bottom: 1px dotted #CCCCCC;\n",
      "}\n",
      "-->\n",
      ".hover{background:#FFF0E1;}\n",
      ".hover a{color:#008040;font-weight: bold;}\t\n",
      ".hover a:hover{color:#008040\t;font-weight: bold;}\n",
      "</style>\n",
      "<script src=\"ddaccordion.js\" type=\"text/javascript\">\n",
      "</script>\n",
      "<script src=\"jquery.js\" type=\"text/javascript\"></script>\n",
      "<script>\n",
      "ddaccordion.init({\n",
      "\theaderclass: \"technology\", //Shared CSS class name of headers group\n",
      "\tcontentclass: \"thelanguage\", //Shared CSS class name of contents group\n",
      "\trevealtype: \"click\", //Reveal content when user clicks or onmouseover the header? Valid value: \"click\", \"clickgo\", or \"mouseover\"\n",
      "\tmouseoverdelay: 200, //if revealtype=\"mouseover\", set delay in milliseconds before header expands onMouseover\n",
      "\tcollapseprev: false, //Collapse previous content (so only one open at any time)? true/false \n",
      "\tdefaultexpanded: [], //index of content(s) open by default [index1, index2, etc]. [] denotes no content.\n",
      "\tonemustopen: false, //Specify whether at least one header should be open always (so never all headers closed)\n",
      "\tanimatedefault: false, //Should contents open by default be animated into view?\n",
      "\tpersiststate: false, //persist state of opened contents within browser session?\n",
      "\ttoggleclass: [\"closedlanguage\", \"openlanguage\"], //Two CSS classes to be applied to the header when it's collapsed and expanded, respectively [\"class1\", \"class2\"]\n",
      "\ttogglehtml: [\"prefix\", \"<img src='6tpc4td.gif' /> \", \"<img src='80mxwlz.gif' /> \"], //Additional HTML added to the header when it's collapsed and expanded, respectively  [\"position\", \"html1\", \"html2\"] (see docs)\n",
      "\tanimatespeed: \"fast\", //speed of animation: integer in milliseconds (ie: 200), or keywords \"fast\", \"normal\", or \"slow\"\n",
      "\toninit:function(expandedindices){ //custom code to run when headers have initalized\n",
      "\t\t//do nothing\n",
      "\t},\n",
      "\tonopenclose:function(header, index, state, isuseractivated){ //custom code to run whenever a header is opened or closed\n",
      "\t\t//do nothing\n",
      "\t}\n",
      "})\n",
      "\n",
      "</script>\n",
      "<script type=\"text/javascript\">/* <![CDATA[ */\n",
      "var box_settings = {tt_img:true,sel_g:\"#documents_portfolio a[type='image/jpeg'],#documents_portfolio a[type='image/png'],#documents_portfolio a[type='image/gif']\",sel_c:\".mediabox\",trans:\"elastic\",speed:\"200\",ssSpeed:\"2500\",maxW:\"90%\",maxH:\"90%\",minW:\"400px\",minH:\"\",opa:\"0.9\",str_ssStart:\"Diaporama\",str_ssStop:\"Arrêter\",str_cur:\"{current}/{total}\",str_prev:\"Précédent\",str_next:\"Suivant\",str_close:\"Fermer\",splash_url:\"\"};\n",
      "/* ]]> */</script>\n",
      "<!-- insert_head_css --><link href=\"plugins-dist/mediabox/colorbox/black-striped/colorbox.css\" media=\"all\" rel=\"stylesheet\" type=\"text/css\"/><link href=\"plugins-dist/porte_plume/css/barre_outils.css\" media=\"all\" rel=\"stylesheet\" type=\"text/css\"/>\n",
      "<link href=\"spip.php?page=barre_outils_icones.css\" media=\"all\" rel=\"stylesheet\" type=\"text/css\"/>\n",
      "<script src=\"prive/javascript/jquery.js\" type=\"text/javascript\"></script>\n",
      "<script src=\"prive/javascript/jquery.form.js\" type=\"text/javascript\"></script>\n",
      "<script src=\"prive/javascript/jquery.autosave.js\" type=\"text/javascript\"></script>\n",
      "<script src=\"prive/javascript/jquery.placeholder-label.js\" type=\"text/javascript\"></script>\n",
      "<script src=\"prive/javascript/ajaxCallback.js\" type=\"text/javascript\"></script>\n",
      "<script src=\"prive/javascript/jquery.cookie.js\" type=\"text/javascript\"></script>\n",
      "<!-- insert_head -->\n",
      "<script src=\"plugins-dist/mediabox/javascript/jquery.colorbox.js?1394722704\" type=\"text/javascript\"></script>\n",
      "<script src=\"plugins-dist/mediabox/javascript/spip.mediabox.js?1394722704\" type=\"text/javascript\"></script><script src=\"plugins-dist/porte_plume/javascript/jquery.markitup_pour_spip.js\" type=\"text/javascript\"></script>\n",
      "<script src=\"plugins-dist/porte_plume/javascript/jquery.previsu_spip.js\" type=\"text/javascript\"></script>\n",
      "<script src=\"spip.php?page=porte_plume_start.js&amp;lang=fr\" type=\"text/javascript\"></script>\n",
      "<style type=\"text/css\">\n",
      "/* FCKEditor's CSS */\n",
      "\n",
      "</style>\n",
      "</head>\n",
      "<body>\n",
      "<table align=\"center\" bgcolor=\"#FFFFFF\" border=\"0\" cellpadding=\"0\" cellspacing=\"0\" width=\"940\">\n",
      "<tr>\n",
      "<td bgcolor=\"#F6F6F6\">\n",
      "<table border=\"0\" cellpadding=\"0\" cellspacing=\"0\" width=\"940\">\n",
      "<tr>\n",
      "<td align=\"left\" bgcolor=\"#fff\" id=\"td\" valign=\"top\" width=\"68%\"><!---logo--->\n",
      "<table bgcolor=\"#fff\" border=\"0\" cellpadding=\"0\" cellspacing=\"0\" width=\"100%\">\n",
      "<tr>\n",
      "<td align=\"left\" id=\"td\" style=\"padding-top:10px;padding-left:62px;\"> <img height=\"90\" src=\"new-template/logo_ONS.jpg\" width=\"90\"/> </td>\n",
      "<td align=\"right\" id=\"td\">\n",
      "<div style=\"padding-top:6px; margin-right:20px;color:#192f65;\">\n",
      "<span style=\"font-family:Andalus;font-size:38px; \">الديوان الوطني للإحصائيات</span>\n",
      "<span style=\"font-family:Calibri;font-size:25px; \">Office National des Statistiques</span>\n",
      "</div>\n",
      "</td>\n",
      "</tr>\n",
      "</table>\n",
      "</td>\n",
      "<td align=\"right\" bgcolor=\"#fff\" id=\"td\" valign=\"middle\" width=\"32%\">\n",
      "<table border=\"0\" cellpadding=\"0\" cellspacing=\"0\" width=\"100%\">\n",
      "<tr>\n",
      "<td align=\"center\" height=\"102\" valign=\"bottom\">\n",
      "<div align=\"center\" style=\"padding-left:37px;\"> <img height=\"90\" src=\"new-template/drapeau-algerien-ons.jpg\" width=\"90\"/></div><!---drapeau--->\n",
      "</td>\n",
      "</tr>\n",
      "</table>\n",
      "</td>\n",
      "</tr>\n",
      "</table>\n",
      "</td>\n",
      "</tr>\n",
      "<!--- MENU --->\n",
      "<tr><td><div class=\"barre-noire\"><div style=\"padding-left:20px;\"><style>\n",
      ".fige{\n",
      "background:#7f7f7f; \n",
      "}\n",
      "</style>\n",
      "<div id=\"bloc-menu\">\n",
      "<ul class=\"list-inline\" id=\"menu\">\n",
      "<li id=\"acceuil\"> <a href=\"./\">Accueil</a> </li>\n",
      "<li style=\"border-bottom-style:solid ;border-top-style:solid ;border-left-style:solid ;border-right-style:solid ;\n",
      "\t                 border-bottom-width: thick;border-top-width: thick;border-left-width: thin;border-right-width: thin;\n",
      "\t                 border-top-color:#7f7f7f;border-left-color:#7f7f7f;border-right-color:#7f7f7f;\n",
      "\t                 border-bottom-color:#7f7f7f;\">\n",
      "<a href=\"spip.php?rubrique38\">Présentation </a>\n",
      "</li>\n",
      "<li style=\"border-bottom-style:solid ;border-top-style:solid ;border-left-style:solid ;border-right-style:solid ;\n",
      "\t                 border-bottom-width: thick;border-top-width: thick;border-left-width: thin;border-right-width: thin;\n",
      "\t                 border-top-color:#f0ad4e;border-left-color:#f0ad4e;border-right-color:#f0ad4e;\n",
      "\t                 border-bottom-color:#f0ad4e;\">\n",
      "<a href=\"spip.php?rubrique3\">Statistiques Sociales </a>\n",
      "</li>\n",
      "<li style=\"border-bottom-style:solid ;border-top-style:solid ;border-left-style:solid ;border-right-style:solid ;\n",
      "\t                 border-bottom-width: thick;border-top-width: thick;border-left-width: thin;border-right-width: thin;\n",
      "\t                 border-top-color:#f0ad4e;border-left-color:#f0ad4e;border-right-color:#f0ad4e;\n",
      "\t                 border-bottom-color:#f0ad4e;\">\n",
      "<a href=\"spip.php?rubrique4\">Statistiques Economiques </a>\n",
      "</li>\n",
      "<li style=\"border-bottom-style:solid ;border-top-style:solid ;border-left-style:solid ;border-right-style:solid ;\n",
      "\t                 border-bottom-width: thick;border-top-width: thick;border-left-width: thin;border-right-width: thin;\n",
      "\t                 border-top-color:#f0ad4e;border-left-color:#f0ad4e;border-right-color:#f0ad4e;\n",
      "\t                 border-bottom-color:#f0ad4e;\">\n",
      "<a href=\"spip.php?rubrique294\">Répertoires </a>\n",
      "</li>\n",
      "<li style=\"border-bottom-style:solid ;border-top-style:solid ;border-left-style:solid ;border-right-style:solid ;\n",
      "\t                 border-bottom-width: thick;border-top-width: thick;border-left-width: thin;border-right-width: thin;\n",
      "\t                 border-top-color:#f0ad4e;border-left-color:#f0ad4e;border-right-color:#f0ad4e;\n",
      "\t                 border-bottom-color:#f0ad4e;\">\n",
      "<a href=\"spip.php?rubrique12\">Indices </a>\n",
      "</li>\n",
      "<li class=\"fige\" style=\"border-bottom-style:solid ;border-top-style:solid ;border-left-style:solid ;border-right-style:solid ;\n",
      "\t                 border-bottom-width: thick;border-top-width: thick;border-left-width: thin;border-right-width: thin;\n",
      "\t                 border-top-color:#7f7f7f;border-left-color:#7f7f7f;border-right-color:#7f7f7f;\n",
      "\t                 border-bottom-color:#7f7f7f;\">\n",
      "<a href=\"spip.php?rubrique2\" style=\"color:#fff;\">Publications </a>\n",
      "</li>\n",
      "<li style=\"border-bottom-style:solid ;border-top-style:solid ;border-left-style:solid ;border-right-style:solid ;\n",
      "\t                 border-bottom-width: thick;border-top-width: thick;border-left-width: thin;border-right-width: thin;\n",
      "\t                 border-top-color:#7f7f7f;border-left-color:#7f7f7f;border-right-color:#7f7f7f;\n",
      "\t                 border-bottom-color:#7f7f7f;\">\n",
      "<a href=\"spip.php?rubrique24\">Nomenclatures </a>\n",
      "</li>\n",
      "<li style=\"border-bottom-style:solid ;border-top-style:solid ;border-left-style:solid ;border-right-style:solid ;\n",
      "\t                 border-bottom-width: thick;border-top-width: thick;border-left-width: thin;border-right-width: thin;\n",
      "\t                 border-top-color:#7f7f7f;border-left-color:#7f7f7f;border-right-color:#7f7f7f;\n",
      "\t                 border-bottom-color:#7f7f7f;\">\n",
      "<a href=\"spip.php?rubrique42\">Contact </a>\n",
      "</li>\n",
      "</ul>\n",
      "<!-- et hop, un petit div pour r�cup�rer le flux normal d'affichage -->\n",
      "<div class=\"nettoyeur\"></div>\n",
      "</div></div></div></td></tr>\n",
      "<tr><td> </td></tr>\n",
      "<!--- *** --->\n",
      "<tr>\n",
      "<td><table align=\"center\" border=\"0\" cellpadding=\"0\" cellspacing=\"0\" width=\"900\">\n",
      "<tr>\n",
      "<td align=\"left\" class=\"trait-droite\" height=\"350\" valign=\"top\" width=\"670\">\n",
      "<table border=\"0\" cellpadding=\"0\" cellspacing=\"0\" width=\"660\">\n",
      "<!---<tr><td></td></tr>--->\n",
      "<!--- Chemin hiérarchique --->\n",
      "<tr><td>\n",
      "<div id=\"links\" style=\"padding-left:5px;\">\n",
      "<a href=\"./\">Accueil</a>\n",
      "                   \n",
      "                   &gt; <a href=\"spip.php?rubrique2\">Publications</a>\n",
      "                   \n",
      "                   &gt; <a href=\"spip.php?rubrique40\">Publications disponibles sur le site</a>\n",
      "                   \n",
      "                   &gt; <a href=\"spip.php?rubrique124\">Indice des prix à la consommation</a>\n",
      "</div>\n",
      "</td>\n",
      "</tr>\n",
      "<!--  Partie gauche  -->\n",
      "<tr>\n",
      "<td align=\"left\" valign=\"top\"><table border=\"0\" cellpadding=\"0\" cellspacing=\"0\" width=\"660\">\n",
      "<tr>\n",
      "<td align=\"left\" class=\"trait-droite\" valign=\"top\" width=\"200\">\n",
      "<table align=\"center\" border=\"0\" cellpadding=\"0\" cellspacing=\"0\" width=\"200\">\n",
      "<tr>\n",
      "<td align=\"left\" valign=\"top\"><div>\n",
      "<div class=\"h8\">Publications</div>\n",
      "</div>\n",
      "<div style=\"margin-bottom:5px; margin-top:2px\">\n",
      "<table align=\"left\" border=\"0\" cellpadding=\"0\" cellspacing=\"0\" class=\"title\" width=\"180\">\n",
      "<tr>\n",
      "<td align=\"left\" valign=\"top\">\n",
      "<div class=\"hover\">\n",
      "<div class=\"acces-rapide\">\n",
      "<a href=\"spip.php?rubrique40\">\n",
      "<img border=\"0\" height=\"7\" src=\"../template/arrowrightv.gif\" width=\"7\"/>\n",
      "\t\t\t\t\t\t\t\t     Publications disponibles sur le site\n",
      "\t\t\t\t\t\t\t\t  </a>\n",
      "</div>\n",
      "</div>\n",
      "</td>\n",
      "</tr>\n",
      "</table>\n",
      "<table align=\"left\" border=\"0\" cellpadding=\"0\" cellspacing=\"0\" class=\"title\" width=\"180\">\n",
      "<tr>\n",
      "<td align=\"left\" valign=\"top\">\n",
      "<div>\n",
      "<div class=\"acces-rapide\">\n",
      "<a href=\"spip.php?rubrique207\">\n",
      "<img border=\"0\" height=\"7\" src=\"../template/arrowrightv.gif\" width=\"7\"/>\n",
      "\t\t\t\t\t\t\t\t     المنشورات باللغة العربية\n",
      "\t\t\t\t\t\t\t\t  </a>\n",
      "</div>\n",
      "</div>\n",
      "</td>\n",
      "</tr>\n",
      "</table>\n",
      "<table align=\"left\" border=\"0\" cellpadding=\"0\" cellspacing=\"0\" class=\"title\" width=\"180\">\n",
      "<tr>\n",
      "<td align=\"left\" valign=\"top\">\n",
      "<div>\n",
      "<div class=\"acces-rapide\">\n",
      "<a href=\"spip.php?rubrique220\">\n",
      "<img border=\"0\" height=\"7\" src=\"../template/arrowrightv.gif\" width=\"7\"/>\n",
      "\t\t\t\t\t\t\t\t     Publications in English\n",
      "\t\t\t\t\t\t\t\t  </a>\n",
      "</div>\n",
      "</div>\n",
      "</td>\n",
      "</tr>\n",
      "</table>\n",
      "<table align=\"left\" border=\"0\" cellpadding=\"0\" cellspacing=\"0\" class=\"title\" width=\"180\">\n",
      "<tr>\n",
      "<td align=\"left\" valign=\"top\">\n",
      "<div>\n",
      "<div class=\"acces-rapide\">\n",
      "<a href=\"spip.php?rubrique39\">\n",
      "<img border=\"0\" height=\"7\" src=\"../template/arrowrightv.gif\" width=\"7\"/>\n",
      "\t\t\t\t\t\t\t\t     Catalogue et modalités d’abonnements\n",
      "\t\t\t\t\t\t\t\t  </a>\n",
      "</div>\n",
      "</div>\n",
      "</td>\n",
      "</tr>\n",
      "</table>\n",
      "<table align=\"left\" border=\"0\" cellpadding=\"0\" cellspacing=\"0\" class=\"title\" width=\"180\">\n",
      "<tr>\n",
      "<td align=\"left\" valign=\"top\">\n",
      "<div>\n",
      "<div class=\"acces-rapide\">\n",
      "<a href=\"spip.php?rubrique173\">\n",
      "<img border=\"0\" height=\"7\" src=\"../template/arrowrightv.gif\" width=\"7\"/>\n",
      "\t\t\t\t\t\t\t\t     Publication Euro-Med\n",
      "\t\t\t\t\t\t\t\t  </a>\n",
      "</div>\n",
      "</div>\n",
      "</td>\n",
      "</tr>\n",
      "</table>\n",
      "<table align=\"left\" border=\"0\" cellpadding=\"0\" cellspacing=\"0\" class=\"title\" width=\"180\">\n",
      "<tr>\n",
      "<td align=\"left\" valign=\"top\">\n",
      "<div>\n",
      "<div class=\"acces-rapide\">\n",
      "<a href=\"spip.php?rubrique397\">\n",
      "<img border=\"0\" height=\"7\" src=\"../template/arrowrightv.gif\" width=\"7\"/>\n",
      "\t\t\t\t\t\t\t\t     Calendrier ONS\n",
      "\t\t\t\t\t\t\t\t  </a>\n",
      "</div>\n",
      "</div>\n",
      "</td>\n",
      "</tr>\n",
      "</table>\n",
      "<table align=\"left\" border=\"0\" cellpadding=\"0\" cellspacing=\"0\" class=\"title\" width=\"180\">\n",
      "<tr>\n",
      "<td align=\"left\" valign=\"top\">\n",
      "<div>\n",
      "<div class=\"acces-rapide\">\n",
      "<a href=\"spip.php?rubrique390\">\n",
      "<img border=\"0\" height=\"7\" src=\"../template/arrowrightv.gif\" width=\"7\"/>\n",
      "\t\t\t\t\t\t\t\t     RGPH 2022\n",
      "\t\t\t\t\t\t\t\t  </a>\n",
      "</div>\n",
      "</div>\n",
      "</td>\n",
      "</tr>\n",
      "</table>\n",
      "</div>\n",
      "</td>\n",
      "</tr>\n",
      "<tr><td height=\"2\"></td></tr>\n",
      "</table>\n",
      "</td>\n",
      "<td align=\"left\" valign=\"top\" width=\"460\">\n",
      "<table align=\"center\" border=\"0\" cellpadding=\"0\" cellspacing=\"0\" width=\"98%\">\n",
      "<tr>\n",
      "<td align=\"left\" valign=\"top\">\n",
      "<div class=\"grand-titre-rubrique\">\n",
      "\t\t\t\t\t  Indice des prix à la consommation</div>\n",
      "<div style=\"padding:10px;\"></div> </td>\n",
      "</tr>\n",
      "<tr>\n",
      "<td align=\"left\" valign=\"top\">\n",
      "<a href=\"#\">\n",
      "<div class=\"technology\" style=\"margin-bottom:5px; margin-top:5px;\">\n",
      "\t\t\t\t\t    Indice 2025\n",
      "\t\t\t\t\t   </div>\n",
      "</a>\n",
      "<div class=\"thelanguage\" style=\"padding:10px; border:1px solid #CCCCCC;\">\n",
      "<div class=\"acces-rapide\"><a href=\"spip.php?article3060\">Janvier</a></div>\n",
      "</div>\n",
      "<a href=\"#\">\n",
      "<div class=\"technology\" style=\"margin-bottom:5px; margin-top:5px;\">\n",
      "\t\t\t\t\t    Indice 2024\n",
      "\t\t\t\t\t   </div>\n",
      "</a>\n",
      "<div class=\"thelanguage\" style=\"padding:10px; border:1px solid #CCCCCC;\">\n",
      "<div class=\"acces-rapide\"><a href=\"spip.php?article2970\">Janvier</a></div>\n",
      "<div class=\"acces-rapide\"><a href=\"spip.php?article2976\">Février</a></div>\n",
      "<div class=\"acces-rapide\"><a href=\"spip.php?article2987\">Mars</a></div>\n",
      "<div class=\"acces-rapide\"><a href=\"spip.php?article2994\">Avril</a></div>\n",
      "<div class=\"acces-rapide\"><a href=\"spip.php?article2996\">Mai</a></div>\n",
      "<div class=\"acces-rapide\"><a href=\"spip.php?article3005\">Juin</a></div>\n",
      "<div class=\"acces-rapide\"><a href=\"spip.php?article3010\">Juillet</a></div>\n",
      "<div class=\"acces-rapide\"><a href=\"spip.php?article3012\">Août</a></div>\n",
      "<div class=\"acces-rapide\"><a href=\"spip.php?article3021\">Septembre</a></div>\n",
      "<div class=\"acces-rapide\"><a href=\"spip.php?article3031\">Octobre</a></div>\n",
      "<div class=\"acces-rapide\"><a href=\"spip.php?article3034\">Novembre</a></div>\n",
      "<div class=\"acces-rapide\"><a href=\"spip.php?article3049\">Décembre</a></div>\n",
      "</div>\n",
      "<a href=\"#\">\n",
      "<div class=\"technology\" style=\"margin-bottom:5px; margin-top:5px;\">\n",
      "\t\t\t\t\t    Indice 2023\n",
      "\t\t\t\t\t   </div>\n",
      "</a>\n",
      "<div class=\"thelanguage\" style=\"padding:10px; border:1px solid #CCCCCC;\">\n",
      "<div class=\"acces-rapide\"><a href=\"spip.php?article2895\">Janvier </a></div>\n",
      "<div class=\"acces-rapide\"><a href=\"spip.php?article2902\">Février</a></div>\n",
      "<div class=\"acces-rapide\"><a href=\"spip.php?article2905\">Mars</a></div>\n",
      "<div class=\"acces-rapide\"><a href=\"spip.php?article2911\">Avril</a></div>\n",
      "<div class=\"acces-rapide\"><a href=\"spip.php?article2919\">Mai</a></div>\n",
      "<div class=\"acces-rapide\"><a href=\"spip.php?article2927\">Juin</a></div>\n",
      "<div class=\"acces-rapide\"><a href=\"spip.php?article2935\">Juillet</a></div>\n",
      "<div class=\"acces-rapide\"><a href=\"spip.php?article2939\">Août</a></div>\n",
      "<div class=\"acces-rapide\"><a href=\"spip.php?article2943\">Septembre</a></div>\n",
      "<div class=\"acces-rapide\"><a href=\"spip.php?article2955\">Octobre</a></div>\n",
      "<div class=\"acces-rapide\"><a href=\"spip.php?article2959\">Novembre</a></div>\n",
      "<div class=\"acces-rapide\"><a href=\"spip.php?article2962\">Décembre</a></div>\n",
      "</div>\n",
      "<a href=\"#\">\n",
      "<div class=\"technology\" style=\"margin-bottom:5px; margin-top:5px;\">\n",
      "\t\t\t\t\t    Indice 2022\n",
      "\t\t\t\t\t   </div>\n",
      "</a>\n",
      "<div class=\"thelanguage\" style=\"padding:10px; border:1px solid #CCCCCC;\">\n",
      "<div class=\"acces-rapide\"><a href=\"spip.php?article2771\">Janvier</a></div>\n",
      "<div class=\"acces-rapide\"><a href=\"spip.php?article2772\">Février</a></div>\n",
      "<div class=\"acces-rapide\"><a href=\"spip.php?article2794\">Mars</a></div>\n",
      "<div class=\"acces-rapide\"><a href=\"spip.php?article2800\">Avril</a></div>\n",
      "<div class=\"acces-rapide\"><a href=\"spip.php?article2801\">Mai</a></div>\n",
      "<div class=\"acces-rapide\"><a href=\"spip.php?article2802\">Juin</a></div>\n",
      "<div class=\"acces-rapide\"><a href=\"spip.php?article2803\">Juillet</a></div>\n",
      "<div class=\"acces-rapide\"><a href=\"spip.php?article2822\">Août</a></div>\n",
      "<div class=\"acces-rapide\"><a href=\"spip.php?article2826\">Septembre</a></div>\n",
      "<div class=\"acces-rapide\"><a href=\"spip.php?article2834\">Octobre</a></div>\n",
      "<div class=\"acces-rapide\"><a href=\"spip.php?article2843\">Novembre</a></div>\n",
      "<div class=\"acces-rapide\"><a href=\"spip.php?article2863\">Décembre</a></div>\n",
      "</div>\n",
      "<a href=\"#\">\n",
      "<div class=\"technology\" style=\"margin-bottom:5px; margin-top:5px;\">\n",
      "\t\t\t\t\t    Indice 2021\n",
      "\t\t\t\t\t   </div>\n",
      "</a>\n",
      "<div class=\"thelanguage\" style=\"padding:10px; border:1px solid #CCCCCC;\">\n",
      "<div class=\"acces-rapide\"><a href=\"spip.php?article2639\">Janvier </a></div>\n",
      "<div class=\"acces-rapide\"><a href=\"spip.php?article2682\">Février </a></div>\n",
      "<div class=\"acces-rapide\"><a href=\"spip.php?article2683\">Mars</a></div>\n",
      "<div class=\"acces-rapide\"><a href=\"spip.php?article2684\">Avril</a></div>\n",
      "<div class=\"acces-rapide\"><a href=\"spip.php?article2685\">Mai</a></div>\n",
      "<div class=\"acces-rapide\"><a href=\"spip.php?article2686\">Juin</a></div>\n",
      "<div class=\"acces-rapide\"><a href=\"spip.php?article2742\">Juillet</a></div>\n",
      "<div class=\"acces-rapide\"><a href=\"spip.php?article2743\">Août </a></div>\n",
      "<div class=\"acces-rapide\"><a href=\"spip.php?article2744\">Septembre</a></div>\n",
      "<div class=\"acces-rapide\"><a href=\"spip.php?article2745\">Octobre</a></div>\n",
      "<div class=\"acces-rapide\"><a href=\"spip.php?article2758\">Novembre</a></div>\n",
      "<div class=\"acces-rapide\"><a href=\"spip.php?article2770\">Décembre</a></div>\n",
      "</div>\n",
      "<a href=\"#\">\n",
      "<div class=\"technology\" style=\"margin-bottom:5px; margin-top:5px;\">\n",
      "\t\t\t\t\t    Indice 2020\n",
      "\t\t\t\t\t   </div>\n",
      "</a>\n",
      "<div class=\"thelanguage\" style=\"padding:10px; border:1px solid #CCCCCC;\">\n",
      "<div class=\"acces-rapide\"><a href=\"spip.php?article2529\">janvier</a></div>\n",
      "<div class=\"acces-rapide\"><a href=\"spip.php?article2531\">Février</a></div>\n",
      "<div class=\"acces-rapide\"><a href=\"spip.php?article2540\">Mars</a></div>\n",
      "<div class=\"acces-rapide\"><a href=\"spip.php?article2546\">Avril</a></div>\n",
      "<div class=\"acces-rapide\"><a href=\"spip.php?article2549\">Mai</a></div>\n",
      "<div class=\"acces-rapide\"><a href=\"spip.php?article2597\">Juin</a></div>\n",
      "<div class=\"acces-rapide\"><a href=\"spip.php?article2605\">Juillet</a></div>\n",
      "<div class=\"acces-rapide\"><a href=\"spip.php?article2610\">Août</a></div>\n",
      "<div class=\"acces-rapide\"><a href=\"spip.php?article2618\">Septembre</a></div>\n",
      "<div class=\"acces-rapide\"><a href=\"spip.php?article2621\">Octobre</a></div>\n",
      "<div class=\"acces-rapide\"><a href=\"spip.php?article2625\">Novembre</a></div>\n",
      "<div class=\"acces-rapide\"><a href=\"spip.php?article2632\">Décembre</a></div>\n",
      "</div>\n",
      "<a href=\"#\">\n",
      "<div class=\"technology\" style=\"margin-bottom:5px; margin-top:5px;\">\n",
      "\t\t\t\t\t    Indice 2019\n",
      "\t\t\t\t\t   </div>\n",
      "</a>\n",
      "<div class=\"thelanguage\" style=\"padding:10px; border:1px solid #CCCCCC;\">\n",
      "<div class=\"acces-rapide\"><a href=\"spip.php?article2306\">Janvier</a></div>\n",
      "<div class=\"acces-rapide\"><a href=\"spip.php?article2315\">Février</a></div>\n",
      "<div class=\"acces-rapide\"><a href=\"spip.php?article2321\">Mars</a></div>\n",
      "<div class=\"acces-rapide\"><a href=\"spip.php?article2326\">Avril</a></div>\n",
      "<div class=\"acces-rapide\"><a href=\"spip.php?article2343\">Mai</a></div>\n",
      "<div class=\"acces-rapide\"><a href=\"spip.php?article2344\">Juin</a></div>\n",
      "<div class=\"acces-rapide\"><a href=\"spip.php?article2345\">Juillet</a></div>\n",
      "<div class=\"acces-rapide\"><a href=\"spip.php?article2347\">Août</a></div>\n",
      "<div class=\"acces-rapide\"><a href=\"spip.php?article2381\">Septembre</a></div>\n",
      "<div class=\"acces-rapide\"><a href=\"spip.php?article2410\">Octobre</a></div>\n",
      "<div class=\"acces-rapide\"><a href=\"spip.php?article2413\">Novembre</a></div>\n",
      "<div class=\"acces-rapide\"><a href=\"spip.php?article2455\">Décembre</a></div>\n",
      "</div>\n",
      "<a href=\"#\">\n",
      "<div class=\"technology\" style=\"margin-bottom:5px; margin-top:5px;\">\n",
      "\t\t\t\t\t    Indice 2018\n",
      "\t\t\t\t\t   </div>\n",
      "</a>\n",
      "<div class=\"thelanguage\" style=\"padding:10px; border:1px solid #CCCCCC;\">\n",
      "<div class=\"acces-rapide\"><a href=\"spip.php?article2098\">Janvier</a></div>\n",
      "<div class=\"acces-rapide\"><a href=\"spip.php?article2112\">Février</a></div>\n",
      "<div class=\"acces-rapide\"><a href=\"spip.php?article2121\">Mars</a></div>\n",
      "<div class=\"acces-rapide\"><a href=\"spip.php?article2131\">Avril</a></div>\n",
      "<div class=\"acces-rapide\"><a href=\"spip.php?article2135\">Mai</a></div>\n",
      "<div class=\"acces-rapide\"><a href=\"spip.php?article2148\">Juin</a></div>\n",
      "<div class=\"acces-rapide\"><a href=\"spip.php?article2154\">Juillet</a></div>\n",
      "<div class=\"acces-rapide\"><a href=\"spip.php?article2191\">Août</a></div>\n",
      "<div class=\"acces-rapide\"><a href=\"spip.php?article2199\">Septembre</a></div>\n",
      "<div class=\"acces-rapide\"><a href=\"spip.php?article2206\">Octobre</a></div>\n",
      "<div class=\"acces-rapide\"><a href=\"spip.php?article2212\">Novembre</a></div>\n",
      "<div class=\"acces-rapide\"><a href=\"spip.php?article2252\">Décembre</a></div>\n",
      "</div>\n",
      "<a href=\"#\">\n",
      "<div class=\"technology\" style=\"margin-bottom:5px; margin-top:5px;\">\n",
      "\t\t\t\t\t    Indice 2017\n",
      "\t\t\t\t\t   </div>\n",
      "</a>\n",
      "<div class=\"thelanguage\" style=\"padding:10px; border:1px solid #CCCCCC;\">\n",
      "<div class=\"acces-rapide\"><a href=\"spip.php?article1982\">Janvier</a></div>\n",
      "<div class=\"acces-rapide\"><a href=\"spip.php?article1995\">Février</a></div>\n",
      "<div class=\"acces-rapide\"><a href=\"spip.php?article2004\">Mars</a></div>\n",
      "<div class=\"acces-rapide\"><a href=\"spip.php?article2007\">Avril</a></div>\n",
      "<div class=\"acces-rapide\"><a href=\"spip.php?article2012\">Mai</a></div>\n",
      "<div class=\"acces-rapide\"><a href=\"spip.php?article2024\">Juin</a></div>\n",
      "<div class=\"acces-rapide\"><a href=\"spip.php?article2047\">Juillet</a></div>\n",
      "<div class=\"acces-rapide\"><a href=\"spip.php?article2048\">Août</a></div>\n",
      "<div class=\"acces-rapide\"><a href=\"spip.php?article2061\">Septembre</a></div>\n",
      "<div class=\"acces-rapide\"><a href=\"spip.php?article2067\">Octobre</a></div>\n",
      "<div class=\"acces-rapide\"><a href=\"spip.php?article2072\">Novembre</a></div>\n",
      "<div class=\"acces-rapide\"><a href=\"spip.php?article2083\">Décembre</a></div>\n",
      "</div>\n",
      "<a href=\"#\">\n",
      "<div class=\"technology\" style=\"margin-bottom:5px; margin-top:5px;\">\n",
      "\t\t\t\t\t    indice 2016\n",
      "\t\t\t\t\t   </div>\n",
      "</a>\n",
      "<div class=\"thelanguage\" style=\"padding:10px; border:1px solid #CCCCCC;\">\n",
      "<div class=\"acces-rapide\"><a href=\"spip.php?article1804\">Janvier</a></div>\n",
      "<div class=\"acces-rapide\"><a href=\"spip.php?article1822\">Février</a></div>\n",
      "<div class=\"acces-rapide\"><a href=\"spip.php?article1857\">Mars</a></div>\n",
      "<div class=\"acces-rapide\"><a href=\"spip.php?article1864\">Avril</a></div>\n",
      "<div class=\"acces-rapide\"><a href=\"spip.php?article1867\">Mai</a></div>\n",
      "<div class=\"acces-rapide\"><a href=\"spip.php?article1878\">Juin</a></div>\n",
      "<div class=\"acces-rapide\"><a href=\"spip.php?article1879\">Juillet</a></div>\n",
      "<div class=\"acces-rapide\"><a href=\"spip.php?article1894\">Août</a></div>\n",
      "<div class=\"acces-rapide\"><a href=\"spip.php?article1914\">Septembre</a></div>\n",
      "<div class=\"acces-rapide\"><a href=\"spip.php?article1930\">Octobre</a></div>\n",
      "<div class=\"acces-rapide\"><a href=\"spip.php?article1975\">Décembre</a></div>\n",
      "</div>\n",
      "<a href=\"#\">\n",
      "<div class=\"technology\" style=\"margin-bottom:5px; margin-top:5px;\">\n",
      "\t\t\t\t\t    indice 2015\n",
      "\t\t\t\t\t   </div>\n",
      "</a>\n",
      "<div class=\"thelanguage\" style=\"padding:10px; border:1px solid #CCCCCC;\">\n",
      "<div class=\"acces-rapide\"><a href=\"spip.php?article1579\">Janvier</a></div>\n",
      "<div class=\"acces-rapide\"><a href=\"spip.php?article1608\">Février</a></div>\n",
      "<div class=\"acces-rapide\"><a href=\"spip.php?article1631\">Mars</a></div>\n",
      "<div class=\"acces-rapide\"><a href=\"spip.php?article1649\">Avril</a></div>\n",
      "<div class=\"acces-rapide\"><a href=\"spip.php?article1684\">Mai</a></div>\n",
      "<div class=\"acces-rapide\"><a href=\"spip.php?article1696\">Juin</a></div>\n",
      "<div class=\"acces-rapide\"><a href=\"spip.php?article1735\">Août</a></div>\n",
      "<div class=\"acces-rapide\"><a href=\"spip.php?article1741\">Septembre</a></div>\n",
      "<div class=\"acces-rapide\"><a href=\"spip.php?article1752\">Octobre</a></div>\n",
      "<div class=\"acces-rapide\"><a href=\"spip.php?article1762\">Novembre</a></div>\n",
      "<div class=\"acces-rapide\"><a href=\"spip.php?article1783\">Décembre</a></div>\n",
      "</div>\n",
      "<a href=\"#\">\n",
      "<div class=\"technology\" style=\"margin-bottom:5px; margin-top:5px;\">\n",
      "\t\t\t\t\t    Indice 2014\n",
      "\t\t\t\t\t   </div>\n",
      "</a>\n",
      "<div class=\"thelanguage\" style=\"padding:10px; border:1px solid #CCCCCC;\">\n",
      "<div class=\"acces-rapide\"><a href=\"spip.php?article1391\">Janvier</a></div>\n",
      "<div class=\"acces-rapide\"><a href=\"spip.php?article1432\">Février</a></div>\n",
      "<div class=\"acces-rapide\"><a href=\"spip.php?article1437\">Mars</a></div>\n",
      "<div class=\"acces-rapide\"><a href=\"spip.php?article1445\">Avril</a></div>\n",
      "<div class=\"acces-rapide\"><a href=\"spip.php?article1456\">Mai</a></div>\n",
      "<div class=\"acces-rapide\"><a href=\"spip.php?article1464\">Juin</a></div>\n",
      "<div class=\"acces-rapide\"><a href=\"spip.php?article1471\">Juillet</a></div>\n",
      "<div class=\"acces-rapide\"><a href=\"spip.php?article1499\">Août</a></div>\n",
      "<div class=\"acces-rapide\"><a href=\"spip.php?article1507\">Septembre</a></div>\n",
      "<div class=\"acces-rapide\"><a href=\"spip.php?article1532\">Octobre</a></div>\n",
      "<div class=\"acces-rapide\"><a href=\"spip.php?article1534\">Novembre</a></div>\n",
      "<div class=\"acces-rapide\"><a href=\"spip.php?article1543\">Décembre</a></div>\n",
      "</div>\n",
      "<a href=\"#\">\n",
      "<div class=\"technology\" style=\"margin-bottom:5px; margin-top:5px;\">\n",
      "\t\t\t\t\t    Indice 2013\n",
      "\t\t\t\t\t   </div>\n",
      "</a>\n",
      "<div class=\"thelanguage\" style=\"padding:10px; border:1px solid #CCCCCC;\">\n",
      "<div class=\"acces-rapide\"><a href=\"spip.php?article1172\">Janvier</a></div>\n",
      "<div class=\"acces-rapide\"><a href=\"spip.php?article1174\">Février</a></div>\n",
      "<div class=\"acces-rapide\"><a href=\"spip.php?article1175\">Mars</a></div>\n",
      "<div class=\"acces-rapide\"><a href=\"spip.php?article1199\">Avril</a></div>\n",
      "<div class=\"acces-rapide\"><a href=\"spip.php?article1200\">Mai</a></div>\n",
      "<div class=\"acces-rapide\"><a href=\"spip.php?article1204\">Juin</a></div>\n",
      "<div class=\"acces-rapide\"><a href=\"spip.php?article1254\">Juillet</a></div>\n",
      "<div class=\"acces-rapide\"><a href=\"spip.php?article1276\">Août</a></div>\n",
      "<div class=\"acces-rapide\"><a href=\"spip.php?article1278\">Septembre</a></div>\n",
      "<div class=\"acces-rapide\"><a href=\"spip.php?article1290\">Octobre</a></div>\n",
      "<div class=\"acces-rapide\"><a href=\"spip.php?article1301\">Novembre</a></div>\n",
      "<div class=\"acces-rapide\"><a href=\"spip.php?article1354\">Décembre</a></div>\n",
      "</div>\n",
      "<a href=\"#\">\n",
      "<div class=\"technology\" style=\"margin-bottom:5px; margin-top:5px;\">\n",
      "\t\t\t\t\t    Indice 2012\n",
      "\t\t\t\t\t   </div>\n",
      "</a>\n",
      "<div class=\"thelanguage\" style=\"padding:10px; border:1px solid #CCCCCC;\">\n",
      "<div class=\"acces-rapide\"><a href=\"spip.php?article1097\">Janvier</a></div>\n",
      "<div class=\"acces-rapide\"><a href=\"spip.php?article1098\">Février</a></div>\n",
      "<div class=\"acces-rapide\"><a href=\"spip.php?article1102\">Mars</a></div>\n",
      "<div class=\"acces-rapide\"><a href=\"spip.php?article1122\">Avril</a></div>\n",
      "<div class=\"acces-rapide\"><a href=\"spip.php?article1130\">Mai</a></div>\n",
      "<div class=\"acces-rapide\"><a href=\"spip.php?article1133\">Juin</a></div>\n",
      "<div class=\"acces-rapide\"><a href=\"spip.php?article1141\">Juillet</a></div>\n",
      "<div class=\"acces-rapide\"><a href=\"spip.php?article1144\">Août</a></div>\n",
      "<div class=\"acces-rapide\"><a href=\"spip.php?article1147\">Septembre</a></div>\n",
      "<div class=\"acces-rapide\"><a href=\"spip.php?article1153\">Octobre</a></div>\n",
      "<div class=\"acces-rapide\"><a href=\"spip.php?article1167\">Novembre</a></div>\n",
      "<div class=\"acces-rapide\"><a href=\"spip.php?article1195\">Décembre</a></div>\n",
      "</div>\n",
      "<a href=\"#\">\n",
      "<div class=\"technology\" style=\"margin-bottom:5px; margin-top:5px;\">\n",
      "\t\t\t\t\t    indice 2011\n",
      "\t\t\t\t\t   </div>\n",
      "</a>\n",
      "<div class=\"thelanguage\" style=\"padding:10px; border:1px solid #CCCCCC;\">\n",
      "<div class=\"acces-rapide\"><a href=\"spip.php?article980\">Janvier </a></div>\n",
      "<div class=\"acces-rapide\"><a href=\"spip.php?article987\">Février</a></div>\n",
      "<div class=\"acces-rapide\"><a href=\"spip.php?article988\">Mars</a></div>\n",
      "<div class=\"acces-rapide\"><a href=\"spip.php?article992\">Avril</a></div>\n",
      "<div class=\"acces-rapide\"><a href=\"spip.php?article1089\">Mai</a></div>\n",
      "<div class=\"acces-rapide\"><a href=\"spip.php?article1090\">Juin</a></div>\n",
      "<div class=\"acces-rapide\"><a href=\"spip.php?article1091\">Juillet</a></div>\n",
      "<div class=\"acces-rapide\"><a href=\"spip.php?article1092\">Août</a></div>\n",
      "<div class=\"acces-rapide\"><a href=\"spip.php?article1093\">Septembre</a></div>\n",
      "<div class=\"acces-rapide\"><a href=\"spip.php?article1094\">Octobre</a></div>\n",
      "<div class=\"acces-rapide\"><a href=\"spip.php?article1095\">Novembre</a></div>\n",
      "<div class=\"acces-rapide\"><a href=\"spip.php?article1096\">Décembre</a></div>\n",
      "</div>\n",
      "<a href=\"#\">\n",
      "<div class=\"technology\" style=\"margin-bottom:5px; margin-top:5px;\">\n",
      "\t\t\t\t\t    Indice 2010\n",
      "\t\t\t\t\t   </div>\n",
      "</a>\n",
      "<div class=\"thelanguage\" style=\"padding:10px; border:1px solid #CCCCCC;\">\n",
      "<div class=\"acces-rapide\"><a href=\"spip.php?article935\">Janvier</a></div>\n",
      "<div class=\"acces-rapide\"><a href=\"spip.php?article936\">Février</a></div>\n",
      "<div class=\"acces-rapide\"><a href=\"spip.php?article937\">Mars</a></div>\n",
      "<div class=\"acces-rapide\"><a href=\"spip.php?article938\">Avril</a></div>\n",
      "<div class=\"acces-rapide\"><a href=\"spip.php?article939\">Mai</a></div>\n",
      "<div class=\"acces-rapide\"><a href=\"spip.php?article940\">Juin</a></div>\n",
      "<div class=\"acces-rapide\"><a href=\"spip.php?article941\">Juillet</a></div>\n",
      "<div class=\"acces-rapide\"><a href=\"spip.php?article942\">Août</a></div>\n",
      "<div class=\"acces-rapide\"><a href=\"spip.php?article950\">Septembre</a></div>\n",
      "<div class=\"acces-rapide\"><a href=\"spip.php?article948\">Octobre</a></div>\n",
      "<div class=\"acces-rapide\"><a href=\"spip.php?article954\">Novembre</a></div>\n",
      "<div class=\"acces-rapide\"><a href=\"spip.php?article976\">Décembre</a></div>\n",
      "</div>\n",
      "<a href=\"#\">\n",
      "<div class=\"technology\" style=\"margin-bottom:5px; margin-top:5px;\">\n",
      "\t\t\t\t\t    Indice 2009\n",
      "\t\t\t\t\t   </div>\n",
      "</a>\n",
      "<div class=\"thelanguage\" style=\"padding:10px; border:1px solid #CCCCCC;\">\n",
      "<div class=\"acces-rapide\"><a href=\"spip.php?article714\">Janvier</a></div>\n",
      "<div class=\"acces-rapide\"><a href=\"spip.php?article715\">Février</a></div>\n",
      "<div class=\"acces-rapide\"><a href=\"spip.php?article716\">Mars</a></div>\n",
      "<div class=\"acces-rapide\"><a href=\"spip.php?article717\">Avril</a></div>\n",
      "<div class=\"acces-rapide\"><a href=\"spip.php?article718\">Mai</a></div>\n",
      "<div class=\"acces-rapide\"><a href=\"spip.php?article719\">Juin</a></div>\n",
      "<div class=\"acces-rapide\"><a href=\"spip.php?article720\">Juillet</a></div>\n",
      "<div class=\"acces-rapide\"><a href=\"spip.php?article721\">Août</a></div>\n",
      "<div class=\"acces-rapide\"><a href=\"spip.php?article722\">Septembre</a></div>\n",
      "<div class=\"acces-rapide\"><a href=\"spip.php?article723\">Octobre</a></div>\n",
      "<div class=\"acces-rapide\"><a href=\"spip.php?article724\">Novembre</a></div>\n",
      "<div class=\"acces-rapide\"><a href=\"spip.php?article725\">Décembre</a></div>\n",
      "</div>\n",
      "<a href=\"#\">\n",
      "<div class=\"technology\" style=\"margin-bottom:5px; margin-top:5px;\">\n",
      "\t\t\t\t\t    Indice 2008\n",
      "\t\t\t\t\t   </div>\n",
      "</a>\n",
      "<div class=\"thelanguage\" style=\"padding:10px; border:1px solid #CCCCCC;\">\n",
      "<div class=\"acces-rapide\"><a href=\"spip.php?article739\">Janvier</a></div>\n",
      "<div class=\"acces-rapide\"><a href=\"spip.php?article740\">Février</a></div>\n",
      "<div class=\"acces-rapide\"><a href=\"spip.php?article741\">Mars</a></div>\n",
      "<div class=\"acces-rapide\"><a href=\"spip.php?article742\">Avril</a></div>\n",
      "<div class=\"acces-rapide\"><a href=\"spip.php?article743\">Mai</a></div>\n",
      "<div class=\"acces-rapide\"><a href=\"spip.php?article744\">Juin</a></div>\n",
      "<div class=\"acces-rapide\"><a href=\"spip.php?article745\">Juillet</a></div>\n",
      "<div class=\"acces-rapide\"><a href=\"spip.php?article746\">Août</a></div>\n",
      "<div class=\"acces-rapide\"><a href=\"spip.php?article747\">Septembre</a></div>\n",
      "<div class=\"acces-rapide\"><a href=\"spip.php?article748\">Octobre</a></div>\n",
      "<div class=\"acces-rapide\"><a href=\"spip.php?article749\">Novembre</a></div>\n",
      "<div class=\"acces-rapide\"><a href=\"spip.php?article750\">Décembre</a></div>\n",
      "</div>\n",
      "<a href=\"#\">\n",
      "<div class=\"technology\" style=\"margin-bottom:5px; margin-top:5px;\">\n",
      "\t\t\t\t\t    indice 2007\n",
      "\t\t\t\t\t   </div>\n",
      "</a>\n",
      "<div class=\"thelanguage\" style=\"padding:10px; border:1px solid #CCCCCC;\">\n",
      "<div class=\"acces-rapide\"><a href=\"spip.php?article763\">Janvier</a></div>\n",
      "<div class=\"acces-rapide\"><a href=\"spip.php?article764\">Février</a></div>\n",
      "<div class=\"acces-rapide\"><a href=\"spip.php?article765\">Mars</a></div>\n",
      "<div class=\"acces-rapide\"><a href=\"spip.php?article766\">Avril</a></div>\n",
      "<div class=\"acces-rapide\"><a href=\"spip.php?article767\">Mai</a></div>\n",
      "<div class=\"acces-rapide\"><a href=\"spip.php?article768\">Juin</a></div>\n",
      "<div class=\"acces-rapide\"><a href=\"spip.php?article769\">Juillet</a></div>\n",
      "<div class=\"acces-rapide\"><a href=\"spip.php?article770\">Août</a></div>\n",
      "<div class=\"acces-rapide\"><a href=\"spip.php?article771\">Septembre</a></div>\n",
      "<div class=\"acces-rapide\"><a href=\"spip.php?article772\">Octobre</a></div>\n",
      "<div class=\"acces-rapide\"><a href=\"spip.php?article773\">Novembre</a></div>\n",
      "<div class=\"acces-rapide\"><a href=\"spip.php?article774\">Décembre</a></div>\n",
      "</div>\n",
      "<a href=\"#\">\n",
      "<div class=\"technology\" style=\"margin-bottom:5px; margin-top:5px;\">\n",
      "\t\t\t\t\t    Indice 2006\n",
      "\t\t\t\t\t   </div>\n",
      "</a>\n",
      "<div class=\"thelanguage\" style=\"padding:10px; border:1px solid #CCCCCC;\">\n",
      "<div class=\"acces-rapide\"><a href=\"spip.php?article787\">Janvier</a></div>\n",
      "<div class=\"acces-rapide\"><a href=\"spip.php?article788\">Février</a></div>\n",
      "<div class=\"acces-rapide\"><a href=\"spip.php?article789\">Mars</a></div>\n",
      "<div class=\"acces-rapide\"><a href=\"spip.php?article790\">Avril</a></div>\n",
      "<div class=\"acces-rapide\"><a href=\"spip.php?article791\">Mai</a></div>\n",
      "<div class=\"acces-rapide\"><a href=\"spip.php?article792\">Juin</a></div>\n",
      "<div class=\"acces-rapide\"><a href=\"spip.php?article793\">Juillet</a></div>\n",
      "<div class=\"acces-rapide\"><a href=\"spip.php?article794\">Août</a></div>\n",
      "<div class=\"acces-rapide\"><a href=\"spip.php?article795\">Septembre</a></div>\n",
      "<div class=\"acces-rapide\"><a href=\"spip.php?article796\">Octobre</a></div>\n",
      "<div class=\"acces-rapide\"><a href=\"spip.php?article797\">Novembre</a></div>\n",
      "<div class=\"acces-rapide\"><a href=\"spip.php?article798\">Décembre</a></div>\n",
      "</div>\n",
      "<a href=\"#\">\n",
      "<div class=\"technology\" style=\"margin-bottom:5px; margin-top:5px;\">\n",
      "\t\t\t\t\t    indice 2005\n",
      "\t\t\t\t\t   </div>\n",
      "</a>\n",
      "<div class=\"thelanguage\" style=\"padding:10px; border:1px solid #CCCCCC;\">\n",
      "<div class=\"acces-rapide\"><a href=\"spip.php?article811\">Janvier</a></div>\n",
      "<div class=\"acces-rapide\"><a href=\"spip.php?article812\">Février</a></div>\n",
      "<div class=\"acces-rapide\"><a href=\"spip.php?article813\">Mars</a></div>\n",
      "<div class=\"acces-rapide\"><a href=\"spip.php?article814\">Avril</a></div>\n",
      "<div class=\"acces-rapide\"><a href=\"spip.php?article815\">Mai</a></div>\n",
      "<div class=\"acces-rapide\"><a href=\"spip.php?article816\">Juin</a></div>\n",
      "<div class=\"acces-rapide\"><a href=\"spip.php?article817\">Juillet</a></div>\n",
      "<div class=\"acces-rapide\"><a href=\"spip.php?article818\">Août</a></div>\n",
      "<div class=\"acces-rapide\"><a href=\"spip.php?article819\">Septembre</a></div>\n",
      "<div class=\"acces-rapide\"><a href=\"spip.php?article820\">Octobre</a></div>\n",
      "<div class=\"acces-rapide\"><a href=\"spip.php?article821\">Novembre</a></div>\n",
      "<div class=\"acces-rapide\"><a href=\"spip.php?article822\">Décembre</a></div>\n",
      "</div>\n",
      "<a href=\"#\">\n",
      "<div class=\"technology\" style=\"margin-bottom:5px; margin-top:5px;\">\n",
      "\t\t\t\t\t    indice 2004\n",
      "\t\t\t\t\t   </div>\n",
      "</a>\n",
      "<div class=\"thelanguage\" style=\"padding:10px; border:1px solid #CCCCCC;\">\n",
      "<div class=\"acces-rapide\"><a href=\"spip.php?article835\">Janvier</a></div>\n",
      "<div class=\"acces-rapide\"><a href=\"spip.php?article836\">Février</a></div>\n",
      "<div class=\"acces-rapide\"><a href=\"spip.php?article837\">Mars</a></div>\n",
      "<div class=\"acces-rapide\"><a href=\"spip.php?article838\">Avril</a></div>\n",
      "<div class=\"acces-rapide\"><a href=\"spip.php?article839\">Mai</a></div>\n",
      "<div class=\"acces-rapide\"><a href=\"spip.php?article840\">Juin</a></div>\n",
      "<div class=\"acces-rapide\"><a href=\"spip.php?article841\">Juillet</a></div>\n",
      "<div class=\"acces-rapide\"><a href=\"spip.php?article842\">Août</a></div>\n",
      "<div class=\"acces-rapide\"><a href=\"spip.php?article843\">Septembre</a></div>\n",
      "<div class=\"acces-rapide\"><a href=\"spip.php?article844\">Octobre</a></div>\n",
      "<div class=\"acces-rapide\"><a href=\"spip.php?article845\">Novembre</a></div>\n",
      "<div class=\"acces-rapide\"><a href=\"spip.php?article846\">Décembre</a></div>\n",
      "</div>\n",
      "<a href=\"#\">\n",
      "<div class=\"technology\" style=\"margin-bottom:5px; margin-top:5px;\">\n",
      "\t\t\t\t\t    indice 2003\n",
      "\t\t\t\t\t   </div>\n",
      "</a>\n",
      "<div class=\"thelanguage\" style=\"padding:10px; border:1px solid #CCCCCC;\">\n",
      "<div class=\"acces-rapide\"><a href=\"spip.php?article859\">Janvier</a></div>\n",
      "<div class=\"acces-rapide\"><a href=\"spip.php?article860\">Février</a></div>\n",
      "<div class=\"acces-rapide\"><a href=\"spip.php?article861\">Mars</a></div>\n",
      "<div class=\"acces-rapide\"><a href=\"spip.php?article862\">Avril</a></div>\n",
      "<div class=\"acces-rapide\"><a href=\"spip.php?article863\">Mai</a></div>\n",
      "<div class=\"acces-rapide\"><a href=\"spip.php?article864\">Juin</a></div>\n",
      "<div class=\"acces-rapide\"><a href=\"spip.php?article865\">Juillet</a></div>\n",
      "<div class=\"acces-rapide\"><a href=\"spip.php?article866\">Août</a></div>\n",
      "<div class=\"acces-rapide\"><a href=\"spip.php?article867\">Septembre</a></div>\n",
      "<div class=\"acces-rapide\"><a href=\"spip.php?article868\">Octobre</a></div>\n",
      "<div class=\"acces-rapide\"><a href=\"spip.php?article869\">Novembre</a></div>\n",
      "<div class=\"acces-rapide\"><a href=\"spip.php?article870\">Décembre</a></div>\n",
      "</div>\n",
      "<a href=\"#\">\n",
      "<div class=\"technology\" style=\"margin-bottom:5px; margin-top:5px;\">\n",
      "\t\t\t\t\t    indice 2002\n",
      "\t\t\t\t\t   </div>\n",
      "</a>\n",
      "<div class=\"thelanguage\" style=\"padding:10px; border:1px solid #CCCCCC;\">\n",
      "<div class=\"acces-rapide\"><a href=\"spip.php?article726\">Janvier</a></div>\n",
      "<div class=\"acces-rapide\"><a href=\"spip.php?article727\">Février</a></div>\n",
      "<div class=\"acces-rapide\"><a href=\"spip.php?article728\">Mars</a></div>\n",
      "<div class=\"acces-rapide\"><a href=\"spip.php?article729\">Avril</a></div>\n",
      "<div class=\"acces-rapide\"><a href=\"spip.php?article730\">Mai</a></div>\n",
      "<div class=\"acces-rapide\"><a href=\"spip.php?article731\">Juin</a></div>\n",
      "<div class=\"acces-rapide\"><a href=\"spip.php?article732\">Juillet</a></div>\n",
      "<div class=\"acces-rapide\"><a href=\"spip.php?article733\">Août</a></div>\n",
      "<div class=\"acces-rapide\"><a href=\"spip.php?article734\">Septembre</a></div>\n",
      "<div class=\"acces-rapide\"><a href=\"spip.php?article735\">Octobre</a></div>\n",
      "<div class=\"acces-rapide\"><a href=\"spip.php?article737\">Novembre</a></div>\n",
      "<div class=\"acces-rapide\"><a href=\"spip.php?article738\">Décembre</a></div>\n",
      "</div>\n",
      "<a href=\"#\">\n",
      "<div class=\"technology\" style=\"margin-bottom:5px; margin-top:5px;\">\n",
      "\t\t\t\t\t    indice 2001\n",
      "\t\t\t\t\t   </div>\n",
      "</a>\n",
      "<div class=\"thelanguage\" style=\"padding:10px; border:1px solid #CCCCCC;\">\n",
      "<div class=\"acces-rapide\"><a href=\"spip.php?article751\">Janvier</a></div>\n",
      "<div class=\"acces-rapide\"><a href=\"spip.php?article752\">Février</a></div>\n",
      "<div class=\"acces-rapide\"><a href=\"spip.php?article753\">Mars</a></div>\n",
      "<div class=\"acces-rapide\"><a href=\"spip.php?article754\">Avril</a></div>\n",
      "<div class=\"acces-rapide\"><a href=\"spip.php?article755\">Mai</a></div>\n",
      "<div class=\"acces-rapide\"><a href=\"spip.php?article756\">Juin</a></div>\n",
      "<div class=\"acces-rapide\"><a href=\"spip.php?article757\">Juillet</a></div>\n",
      "<div class=\"acces-rapide\"><a href=\"spip.php?article758\">Août</a></div>\n",
      "<div class=\"acces-rapide\"><a href=\"spip.php?article759\">Septembre</a></div>\n",
      "<div class=\"acces-rapide\"><a href=\"spip.php?article760\">Octobre</a></div>\n",
      "<div class=\"acces-rapide\"><a href=\"spip.php?article761\">Novembre</a></div>\n",
      "<div class=\"acces-rapide\"><a href=\"spip.php?article762\">Décembre</a></div>\n",
      "</div>\n",
      "<a href=\"#\">\n",
      "<div class=\"technology\" style=\"margin-bottom:5px; margin-top:5px;\">\n",
      "\t\t\t\t\t    indice 2000\n",
      "\t\t\t\t\t   </div>\n",
      "</a>\n",
      "<div class=\"thelanguage\" style=\"padding:10px; border:1px solid #CCCCCC;\">\n",
      "<div class=\"acces-rapide\"><a href=\"spip.php?article775\">Janvier</a></div>\n",
      "<div class=\"acces-rapide\"><a href=\"spip.php?article776\">Février</a></div>\n",
      "<div class=\"acces-rapide\"><a href=\"spip.php?article777\">Mars</a></div>\n",
      "<div class=\"acces-rapide\"><a href=\"spip.php?article778\">Avril</a></div>\n",
      "<div class=\"acces-rapide\"><a href=\"spip.php?article779\">Mai</a></div>\n",
      "<div class=\"acces-rapide\"><a href=\"spip.php?article780\">Juin</a></div>\n",
      "<div class=\"acces-rapide\"><a href=\"spip.php?article781\">Juillet</a></div>\n",
      "<div class=\"acces-rapide\"><a href=\"spip.php?article782\">Août</a></div>\n",
      "<div class=\"acces-rapide\"><a href=\"spip.php?article783\">Septembre</a></div>\n",
      "<div class=\"acces-rapide\"><a href=\"spip.php?article784\">Octobre</a></div>\n",
      "<div class=\"acces-rapide\"><a href=\"spip.php?article785\">Novembre</a></div>\n",
      "<div class=\"acces-rapide\"><a href=\"spip.php?article786\">Décembre</a></div>\n",
      "</div>\n",
      "<a href=\"#\">\n",
      "<div class=\"technology\" style=\"margin-bottom:5px; margin-top:5px;\">\n",
      "\t\t\t\t\t    indice 1999\n",
      "\t\t\t\t\t   </div>\n",
      "</a>\n",
      "<div class=\"thelanguage\" style=\"padding:10px; border:1px solid #CCCCCC;\">\n",
      "<div class=\"acces-rapide\"><a href=\"spip.php?article799\">Janvier</a></div>\n",
      "<div class=\"acces-rapide\"><a href=\"spip.php?article800\">Février</a></div>\n",
      "<div class=\"acces-rapide\"><a href=\"spip.php?article801\">Mars</a></div>\n",
      "<div class=\"acces-rapide\"><a href=\"spip.php?article802\">Avril</a></div>\n",
      "<div class=\"acces-rapide\"><a href=\"spip.php?article803\">Mai</a></div>\n",
      "<div class=\"acces-rapide\"><a href=\"spip.php?article804\">Juin</a></div>\n",
      "<div class=\"acces-rapide\"><a href=\"spip.php?article805\">Juillet</a></div>\n",
      "<div class=\"acces-rapide\"><a href=\"spip.php?article806\">Août</a></div>\n",
      "<div class=\"acces-rapide\"><a href=\"spip.php?article807\">Septembre</a></div>\n",
      "<div class=\"acces-rapide\"><a href=\"spip.php?article808\">Octobre</a></div>\n",
      "<div class=\"acces-rapide\"><a href=\"spip.php?article809\">Novembre</a></div>\n",
      "<div class=\"acces-rapide\"><a href=\"spip.php?article810\">Décembre</a></div>\n",
      "</div>\n",
      "<a href=\"#\">\n",
      "<div class=\"technology\" style=\"margin-bottom:5px; margin-top:5px;\">\n",
      "\t\t\t\t\t    indice 1998\n",
      "\t\t\t\t\t   </div>\n",
      "</a>\n",
      "<div class=\"thelanguage\" style=\"padding:10px; border:1px solid #CCCCCC;\">\n",
      "<div class=\"acces-rapide\"><a href=\"spip.php?article823\">Janvier</a></div>\n",
      "<div class=\"acces-rapide\"><a href=\"spip.php?article824\">Février</a></div>\n",
      "<div class=\"acces-rapide\"><a href=\"spip.php?article825\">Mars</a></div>\n",
      "<div class=\"acces-rapide\"><a href=\"spip.php?article826\">Avril</a></div>\n",
      "<div class=\"acces-rapide\"><a href=\"spip.php?article827\">Mai</a></div>\n",
      "<div class=\"acces-rapide\"><a href=\"spip.php?article828\">Juin</a></div>\n",
      "<div class=\"acces-rapide\"><a href=\"spip.php?article829\">Juillet</a></div>\n",
      "<div class=\"acces-rapide\"><a href=\"spip.php?article830\">Août</a></div>\n",
      "<div class=\"acces-rapide\"><a href=\"spip.php?article831\">Septembre</a></div>\n",
      "<div class=\"acces-rapide\"><a href=\"spip.php?article832\">Octobre</a></div>\n",
      "<div class=\"acces-rapide\"><a href=\"spip.php?article833\">Novembre</a></div>\n",
      "<div class=\"acces-rapide\"><a href=\"spip.php?article834\">Décembre</a></div>\n",
      "</div>\n",
      "<a href=\"#\">\n",
      "<div class=\"technology\" style=\"margin-bottom:5px; margin-top:5px;\">\n",
      "\t\t\t\t\t    indice 1997\n",
      "\t\t\t\t\t   </div>\n",
      "</a>\n",
      "<div class=\"thelanguage\" style=\"padding:10px; border:1px solid #CCCCCC;\">\n",
      "<div class=\"acces-rapide\"><a href=\"spip.php?article847\">Janvier</a></div>\n",
      "<div class=\"acces-rapide\"><a href=\"spip.php?article848\">Février</a></div>\n",
      "<div class=\"acces-rapide\"><a href=\"spip.php?article849\">Mars</a></div>\n",
      "<div class=\"acces-rapide\"><a href=\"spip.php?article850\">Avril</a></div>\n",
      "<div class=\"acces-rapide\"><a href=\"spip.php?article851\">Mai</a></div>\n",
      "<div class=\"acces-rapide\"><a href=\"spip.php?article852\">Juin</a></div>\n",
      "<div class=\"acces-rapide\"><a href=\"spip.php?article853\">Juillet</a></div>\n",
      "<div class=\"acces-rapide\"><a href=\"spip.php?article854\">Août</a></div>\n",
      "<div class=\"acces-rapide\"><a href=\"spip.php?article855\">Septembre</a></div>\n",
      "<div class=\"acces-rapide\"><a href=\"spip.php?article856\">Octobre</a></div>\n",
      "<div class=\"acces-rapide\"><a href=\"spip.php?article857\">Novembre</a></div>\n",
      "<div class=\"acces-rapide\"><a href=\"spip.php?article858\">Décembre</a></div>\n",
      "</div>\n",
      "<a href=\"#\">\n",
      "<div class=\"technology\" style=\"margin-bottom:5px; margin-top:5px;\">\n",
      "\t\t\t\t\t    indice 1996\n",
      "\t\t\t\t\t   </div>\n",
      "</a>\n",
      "<div class=\"thelanguage\" style=\"padding:10px; border:1px solid #CCCCCC;\">\n",
      "<div class=\"acces-rapide\"><a href=\"spip.php?article871\">Janvier</a></div>\n",
      "<div class=\"acces-rapide\"><a href=\"spip.php?article872\">Février</a></div>\n",
      "<div class=\"acces-rapide\"><a href=\"spip.php?article873\">Mars</a></div>\n",
      "<div class=\"acces-rapide\"><a href=\"spip.php?article874\">Avril</a></div>\n",
      "<div class=\"acces-rapide\"><a href=\"spip.php?article875\">Mai</a></div>\n",
      "<div class=\"acces-rapide\"><a href=\"spip.php?article876\">Juin</a></div>\n",
      "<div class=\"acces-rapide\"><a href=\"spip.php?article877\">Juillet</a></div>\n",
      "<div class=\"acces-rapide\"><a href=\"spip.php?article878\">Août</a></div>\n",
      "<div class=\"acces-rapide\"><a href=\"spip.php?article879\">Septembre</a></div>\n",
      "<div class=\"acces-rapide\"><a href=\"spip.php?article880\">Octobre</a></div>\n",
      "<div class=\"acces-rapide\"><a href=\"spip.php?article881\">Novembre</a></div>\n",
      "<div class=\"acces-rapide\"><a href=\"spip.php?article882\">Décembre</a></div>\n",
      "</div>\n",
      "</td>\n",
      "</tr>\n",
      "<tr><td align=\"center\" valign=\"top\"> </td></tr>\n",
      "</table>\n",
      "</td>\n",
      "</tr>\n",
      "</table>\n",
      "</td>\n",
      "</tr>\n",
      "<tr><td> </td></tr>\n",
      "</table>\n",
      "</td>\n",
      "<td align=\"right\" valign=\"top\" width=\"230\">\n",
      "<table align=\"center\" border=\"0\" cellpadding=\"0\" cellspacing=\"0\" width=\"180\">\n",
      "<tr>\n",
      "<td align=\"center\" valign=\"top\" width=\"264\">\n",
      "<table border=\"0\" cellpadding=\"0\" cellspacing=\"0\" width=\"180\">\n",
      "<tr>\n",
      "<td><div align=\"center\" style=\"height:18px;\"><!---date de mise à jour--->\n",
      "<span>\n",
      "<span class=\"date\">Date de dernière mise à jour  :</span>\n",
      "<span class=\"date1\"> lundi 24 mars 2025</span>\n",
      "</span>\n",
      "</div>\n",
      "</td>\n",
      "</tr>\n",
      "<tr><td> </td></tr>\n",
      "<tr>\n",
      "<td align=\"left\" valign=\"middle\"><div class=\"formulaire-de-recherche\"><div class=\"formulaire_spip formulaire_recherche\" id=\"formulaire_recherche\">\n",
      "<form action=\"spip.php?page=recherche\" method=\"get\"><div>\n",
      "<input name=\"page\" type=\"hidden\" value=\"recherche\"/>\n",
      "<label for=\"recherche\">Rechercher :</label>\n",
      "<input accesskey=\"4\" autocapitalize=\"off\" autocorrect=\"off\" class=\"search text\" id=\"recherche\" name=\"recherche\" size=\"10\" type=\"text\"/><input class=\"submit\" title=\"Rechercher\" type=\"submit\" value=\"&gt;&gt;\"/>\n",
      "</div></form>\n",
      "</div>\n",
      "</div></td>\n",
      "</tr>\n",
      "<tr>\n",
      "<td align=\"left\" valign=\"middle\"><div class=\"h4\"> Indices</div></td>\n",
      "</tr>\n",
      "<tr>\n",
      "<td align=\"left\" valign=\"top\"><div class=\"h4bg\">\n",
      "<div style=\"padding-right:20px; padding-left:5px;\">\n",
      "<div class=\"acces-rapide\"><a href=\"spip.php?rubrique26\">Prix à la consommation</a></div>\n",
      "<div class=\"acces-rapide\"><a href=\"spip.php?rubrique27\">Prix à la Production Industrielle</a></div>\n",
      "<div class=\"acces-rapide\"><a href=\"spip.php?rubrique28\">Production Industrielle</a></div>\n",
      "<div class=\"acces-rapide\"><a href=\"spip.php?rubrique31\">Indices des valeurs unitaires</a></div>\n",
      "</div>\n",
      "</div></td>\n",
      "</tr>\n",
      "</table></td>\n",
      "</tr>\n",
      "<tr>\n",
      "<td align=\"center\" height=\"10\" valign=\"top\"></td>\n",
      "</tr>\n",
      "<tr>\n",
      "<td align=\"center\" height=\"4\" valign=\"top\"></td>\n",
      "</tr>\n",
      "<tr>\n",
      "<td align=\"center\" valign=\"top\"> </td>\n",
      "</tr>\n",
      "<tr>\n",
      "<td align=\"left\" valign=\"top\"><div class=\"h4\">Messagerie</div></td>\n",
      "</tr>\n",
      "<tr>\n",
      "<td align=\"left\" valign=\"top\"><div class=\"h4bg\">\n",
      "<div class=\"bg-newsletter\">\n",
      "<table align=\"center\" border=\"0\" cellpadding=\"2\" cellspacing=\"0\" width=\"98%\">\n",
      "<tr>\n",
      "<td align=\"left\" valign=\"middle\"></td>\n",
      "</tr>\n",
      "<tr>\n",
      "<td align=\"center\" height=\"70\" valign=\"middle\"><p><a href=\"https://webmail.ons.dz/owa\" target=\"_blank\">Accéder à votre messagerie </a></p></td>\n",
      "</tr>\n",
      "</table>\n",
      "</div>\n",
      "</div></td>\n",
      "</tr>\n",
      "</table></td>\n",
      "</tr>\n",
      "</table></td>\n",
      "</tr>\n",
      "<tr>\n",
      "<td> </td>\n",
      "</tr>\n",
      "<tr>\n",
      "<td bgcolor=\"#666666\" height=\"30\"> </td>\n",
      "</tr>\n",
      "</table>\n",
      "</body>\n",
      "</html>\n",
      "\n"
     ]
    }
   ],
   "source": [
    "main_page = scrap(\"https://www.ons.dz/spip.php?rubrique124\")\n",
    "print(main_page)"
   ]
  },
  {
   "attachments": {
    "1.png": {
     "image/png": "[encoded data removed]"
    }
   },
   "cell_type": "markdown",
   "metadata": {},
   "source": [
    "After analysing the output we notice that for each month of the year between 1996 and 2025,\n",
    "the link that takes us to the pdf file is nested within a div un an anchor element with href\n",
    "that starts with \"spip.php?article\" then the id of the article\n",
    "\n",
    "Since our goal is to download all the pdf files we need to collect all the links of the pdf files\n",
    "to send html request and get them afterwards\n",
    "\n",
    "![1.png](attachment:1.png)"
   ]
  },
  {
   "cell_type": "code",
   "execution_count": 99,
   "metadata": {},
   "outputs": [
    {
     "name": "stdout",
     "output_type": "stream",
     "text": [
      "447\n",
      "347\n"
     ]
    }
   ],
   "source": [
    "target_div_list = main_page.find_all(\"div\")\n",
    "pdf_links = set()\n",
    "if target_div_list:\n",
    "    print(len(target_div_list))\n",
    "    # Find all <a> elements inside the div\n",
    "    for target_div in target_div_list:\n",
    "        pdf_link = [a[\"href\"] for a in target_div.find_all(\"a\", href=True) if \"spip.php?article\"  in a[\"href\"]]\n",
    "        #print(pdf_links)\n",
    "        if pdf_link:\n",
    "            pdf_links.update(pdf_link)\n",
    "    print(len(pdf_links))\n",
    "else:\n",
    "\n",
    "    print(\"no pdf links !\")"
   ]
  },
  {
   "cell_type": "code",
   "execution_count": 109,
   "metadata": {},
   "outputs": [
    {
     "name": "stdout",
     "output_type": "stream",
     "text": [
      "spip.php?article2148\n"
     ]
    },
    {
     "name": "stderr",
     "output_type": "stream",
     "text": [
      "c:\\anaconda3\\envs\\TS_ENV\\Lib\\site-packages\\urllib3\\connectionpool.py:1097: InsecureRequestWarning: Unverified HTTPS request is being made to host 'www.ons.dz'. Adding certificate verification is strongly advised. See: https://urllib3.readthedocs.io/en/latest/advanced-usage.html#tls-warnings\n",
      "  warnings.warn(\n"
     ]
    },
    {
     "name": "stdout",
     "output_type": "stream",
     "text": [
      "<!DOCTYPE html PUBLIC \"-//W3C//DTD XHTML 1.0 Transitional//EN\" \"http://www.w3.org/TR/xhtml1/DTD/xhtml1-transitional.dtd\">\n",
      "\n",
      "<html dir=\"ltr\" lang=\"fr\" xml:lang=\"fr\" xmlns=\"http://www.w3.org/1999/xhtml\">\n",
      "<head>\n",
      "<meta content=\"text/html; charset=utf-8\" http-equiv=\"Content-Type\"/>\n",
      "<meta content=\"IE=edge\" http-equiv=\"X-UA-Compatible\"/>\n",
      "<title>ONS : Office National des Statistiques</title>\n",
      "<link href=\"css/menui.css\" rel=\"stylesheet\" type=\"text/css\"/>\n",
      "<link href=\"style-2.css\" rel=\"stylesheet\" type=\"text/css\"/>\n",
      "<style type=\"text/css\">\n",
      "<!--\n",
      ".bordure_bas {border-bottom: 1px dotted #CCCCCC;\n",
      "}\n",
      "-->\n",
      ".hover{background:#FFF0E1;}\n",
      ".hover a{color:#008040;font-weight: bold;}\t\n",
      ".hover a:hover{color:#008040\t;font-weight: bold;}\n",
      "</style>\n",
      "<script type=\"text/javascript\">/* <![CDATA[ */\n",
      "var box_settings = {tt_img:true,sel_g:\"#documents_portfolio a[type='image/jpeg'],#documents_portfolio a[type='image/png'],#documents_portfolio a[type='image/gif']\",sel_c:\".mediabox\",trans:\"elastic\",speed:\"200\",ssSpeed:\"2500\",maxW:\"90%\",maxH:\"90%\",minW:\"400px\",minH:\"\",opa:\"0.9\",str_ssStart:\"Diaporama\",str_ssStop:\"Arrêter\",str_cur:\"{current}/{total}\",str_prev:\"Précédent\",str_next:\"Suivant\",str_close:\"Fermer\",splash_url:\"\"};\n",
      "/* ]]> */</script>\n",
      "<!-- insert_head_css --><link href=\"plugins-dist/mediabox/colorbox/black-striped/colorbox.css\" media=\"all\" rel=\"stylesheet\" type=\"text/css\"/><link href=\"plugins-dist/porte_plume/css/barre_outils.css\" media=\"all\" rel=\"stylesheet\" type=\"text/css\"/>\n",
      "<link href=\"spip.php?page=barre_outils_icones.css\" media=\"all\" rel=\"stylesheet\" type=\"text/css\"/>\n",
      "<script src=\"prive/javascript/jquery.js\" type=\"text/javascript\"></script>\n",
      "<script src=\"prive/javascript/jquery.form.js\" type=\"text/javascript\"></script>\n",
      "<script src=\"prive/javascript/jquery.autosave.js\" type=\"text/javascript\"></script>\n",
      "<script src=\"prive/javascript/jquery.placeholder-label.js\" type=\"text/javascript\"></script>\n",
      "<script src=\"prive/javascript/ajaxCallback.js\" type=\"text/javascript\"></script>\n",
      "<script src=\"prive/javascript/jquery.cookie.js\" type=\"text/javascript\"></script>\n",
      "<!-- insert_head -->\n",
      "<script src=\"plugins-dist/mediabox/javascript/jquery.colorbox.js?1394722704\" type=\"text/javascript\"></script>\n",
      "<script src=\"plugins-dist/mediabox/javascript/spip.mediabox.js?1394722704\" type=\"text/javascript\"></script><script src=\"plugins-dist/porte_plume/javascript/jquery.markitup_pour_spip.js\" type=\"text/javascript\"></script>\n",
      "<script src=\"plugins-dist/porte_plume/javascript/jquery.previsu_spip.js\" type=\"text/javascript\"></script>\n",
      "<script src=\"spip.php?page=porte_plume_start.js&amp;lang=fr\" type=\"text/javascript\"></script>\n",
      "<style type=\"text/css\">\n",
      "/* FCKEditor's CSS */\n",
      "\n",
      "</style>\n",
      "</head>\n",
      "<body>\n",
      "<table align=\"center\" bgcolor=\"#FFFFFF\" border=\"0\" cellpadding=\"0\" cellspacing=\"0\" width=\"940\">\n",
      "<tr>\n",
      "<td bgcolor=\"#F6F6F6\">\n",
      "<table border=\"0\" cellpadding=\"0\" cellspacing=\"0\" width=\"940\">\n",
      "<tr>\n",
      "<td align=\"left\" id=\"td\" valign=\"top\" width=\"68%\"><!---logo--->\n",
      "<table bgcolor=\"#fff\" border=\"0\" cellpadding=\"0\" cellspacing=\"0\" width=\"100%\">\n",
      "<tr>\n",
      "<td align=\"left\" id=\"td\" style=\"padding-top:10px;padding-left:62px;\"> <img height=\"90\" src=\"new-template/logo_ONS.jpg\" width=\"90\"/> </td>\n",
      "<td align=\"right\" id=\"td\">\n",
      "<div style=\"padding-top:6px; margin-right:20px;color:#192f65;\">\n",
      "<span style=\"font-family:Andalus;font-size:38px; \">الديوان الوطني للإحصائيات</span>\n",
      "<span style=\"font-family:Calibri;font-size:25px; \">Office National des Statistiques</span>\n",
      "</div>\n",
      "</td>\n",
      "</tr>\n",
      "</table>\n",
      "</td>\n",
      "<td align=\"right\" id=\"td\" valign=\"middle\" width=\"32%\">\n",
      "<table border=\"0\" cellpadding=\"0\" cellspacing=\"0\" width=\"100%\">\n",
      "<tr>\n",
      "<td align=\"center\" height=\"102\" valign=\"bottom\">\n",
      "<div align=\"center\" style=\"padding-left:37px;\"> <img height=\"90\" src=\"new-template/drapeau-algerien-ons.jpg\" width=\"90\"/></div><!---drapeau--->\n",
      "</td>\n",
      "</tr>\n",
      "</table>\n",
      "</td>\n",
      "</tr>\n",
      "</table>\n",
      "</td>\n",
      "</tr>\n",
      "<!---  Menu  --->\n",
      "<tr><td><div class=\"barre-noire\"><div style=\"padding-left:20px;\"><style>\n",
      ".fige{\n",
      "background:#7f7f7f; \n",
      "}\n",
      "</style>\n",
      "<div id=\"bloc-menu\">\n",
      "<ul class=\"list-inline\" id=\"menu\">\n",
      "<li id=\"acceuil\"> <a href=\"./\">Accueil</a> </li>\n",
      "<li style=\"border-bottom-style:solid ;border-top-style:solid ;border-left-style:solid ;border-right-style:solid ;\n",
      "\t                 border-bottom-width: thick;border-top-width: thick;border-left-width: thin;border-right-width: thin;\n",
      "\t                 border-top-color:#7f7f7f;border-left-color:#7f7f7f;border-right-color:#7f7f7f;\n",
      "\t                 border-bottom-color:#7f7f7f;\">\n",
      "<a href=\"spip.php?rubrique38\">Présentation </a>\n",
      "</li>\n",
      "<li style=\"border-bottom-style:solid ;border-top-style:solid ;border-left-style:solid ;border-right-style:solid ;\n",
      "\t                 border-bottom-width: thick;border-top-width: thick;border-left-width: thin;border-right-width: thin;\n",
      "\t                 border-top-color:#f0ad4e;border-left-color:#f0ad4e;border-right-color:#f0ad4e;\n",
      "\t                 border-bottom-color:#f0ad4e;\">\n",
      "<a href=\"spip.php?rubrique3\">Statistiques Sociales </a>\n",
      "</li>\n",
      "<li style=\"border-bottom-style:solid ;border-top-style:solid ;border-left-style:solid ;border-right-style:solid ;\n",
      "\t                 border-bottom-width: thick;border-top-width: thick;border-left-width: thin;border-right-width: thin;\n",
      "\t                 border-top-color:#f0ad4e;border-left-color:#f0ad4e;border-right-color:#f0ad4e;\n",
      "\t                 border-bottom-color:#f0ad4e;\">\n",
      "<a href=\"spip.php?rubrique4\">Statistiques Economiques </a>\n",
      "</li>\n",
      "<li style=\"border-bottom-style:solid ;border-top-style:solid ;border-left-style:solid ;border-right-style:solid ;\n",
      "\t                 border-bottom-width: thick;border-top-width: thick;border-left-width: thin;border-right-width: thin;\n",
      "\t                 border-top-color:#f0ad4e;border-left-color:#f0ad4e;border-right-color:#f0ad4e;\n",
      "\t                 border-bottom-color:#f0ad4e;\">\n",
      "<a href=\"spip.php?rubrique294\">Répertoires </a>\n",
      "</li>\n",
      "<li style=\"border-bottom-style:solid ;border-top-style:solid ;border-left-style:solid ;border-right-style:solid ;\n",
      "\t                 border-bottom-width: thick;border-top-width: thick;border-left-width: thin;border-right-width: thin;\n",
      "\t                 border-top-color:#f0ad4e;border-left-color:#f0ad4e;border-right-color:#f0ad4e;\n",
      "\t                 border-bottom-color:#f0ad4e;\">\n",
      "<a href=\"spip.php?rubrique12\">Indices </a>\n",
      "</li>\n",
      "<li class=\"fige\" style=\"border-bottom-style:solid ;border-top-style:solid ;border-left-style:solid ;border-right-style:solid ;\n",
      "\t                 border-bottom-width: thick;border-top-width: thick;border-left-width: thin;border-right-width: thin;\n",
      "\t                 border-top-color:#7f7f7f;border-left-color:#7f7f7f;border-right-color:#7f7f7f;\n",
      "\t                 border-bottom-color:#7f7f7f;\">\n",
      "<a href=\"spip.php?rubrique2\" style=\"color:#fff;\">Publications </a>\n",
      "</li>\n",
      "<li style=\"border-bottom-style:solid ;border-top-style:solid ;border-left-style:solid ;border-right-style:solid ;\n",
      "\t                 border-bottom-width: thick;border-top-width: thick;border-left-width: thin;border-right-width: thin;\n",
      "\t                 border-top-color:#7f7f7f;border-left-color:#7f7f7f;border-right-color:#7f7f7f;\n",
      "\t                 border-bottom-color:#7f7f7f;\">\n",
      "<a href=\"spip.php?rubrique24\">Nomenclatures </a>\n",
      "</li>\n",
      "<li style=\"border-bottom-style:solid ;border-top-style:solid ;border-left-style:solid ;border-right-style:solid ;\n",
      "\t                 border-bottom-width: thick;border-top-width: thick;border-left-width: thin;border-right-width: thin;\n",
      "\t                 border-top-color:#7f7f7f;border-left-color:#7f7f7f;border-right-color:#7f7f7f;\n",
      "\t                 border-bottom-color:#7f7f7f;\">\n",
      "<a href=\"spip.php?rubrique42\">Contact </a>\n",
      "</li>\n",
      "</ul>\n",
      "<!-- et hop, un petit div pour r�cup�rer le flux normal d'affichage -->\n",
      "<div class=\"nettoyeur\"></div>\n",
      "</div></div></div></td></tr>\n",
      "<tr><td> </td></tr>\n",
      "<!--- *** --->\n",
      "<tr>\n",
      "<td>\n",
      "<table align=\"center\" border=\"0\" cellpadding=\"0\" cellspacing=\"0\" width=\"900\">\n",
      "<tr>\n",
      "<td align=\"left\" class=\"trait-droite\" height=\"350\" valign=\"top\" width=\"670\">\n",
      "<table border=\"0\" cellpadding=\"0\" cellspacing=\"0\" width=\"660\">\n",
      "<!---<tr><td></td></tr>--->\n",
      "<!--- Chemin hiérarchique --->\n",
      "<tr>\n",
      "<td>\n",
      "<div id=\"links\" style=\"padding-left:5px;\">\n",
      "<a href=\"./\">Accueil</a>\n",
      "              \n",
      "              &gt; <a href=\"spip.php?rubrique2\">Publications</a>\n",
      "              \n",
      "              &gt; <a href=\"spip.php?rubrique40\">Publications disponibles sur le site</a>\n",
      "              \n",
      "              &gt; <a href=\"spip.php?rubrique124\">Indice des prix à la consommation</a>\n",
      "              \n",
      "              &gt; <a href=\"spip.php?rubrique337\">Indice 2018</a>\n",
      "</div></td>\n",
      "</tr>\n",
      "<tr>\n",
      "<td align=\"left\" valign=\"top\">\n",
      "<table border=\"0\" cellpadding=\"0\" cellspacing=\"0\" width=\"660\">\n",
      "<tr>\n",
      "<td align=\"left\" valign=\"top\">\n",
      "<table align=\"center\" border=\"0\" cellpadding=\"0\" cellspacing=\"0\" width=\"100%\">\n",
      "<tr>\n",
      "<td align=\"left\" class=\"trait-droite\" valign=\"top\" width=\"200\">\n",
      "<table align=\"center\" border=\"0\" cellpadding=\"0\" cellspacing=\"0\" width=\"200\">\n",
      "<tr>\n",
      "<td align=\"left\" valign=\"top\">\n",
      "<div>\n",
      "<div class=\"h8\">Publications</div>\n",
      "</div>\n",
      "<div style=\"margin-bottom:5px; margin-top:2px\">\n",
      "<table align=\"left\" border=\"0\" cellpadding=\"0\" cellspacing=\"0\" class=\"title\" width=\"180\">\n",
      "<tr>\n",
      "<td align=\"left\" valign=\"top\">\n",
      "<div class=\"hover\">\n",
      "<div class=\"acces-rapide\">\n",
      "<a href=\"spip.php?rubrique40\">\n",
      "<img border=\"0\" height=\"7\" src=\"../template/arrowrightv.gif\" width=\"7\"/>\n",
      "\t\t\t\t\t\t\t\t     Publications disponibles sur le site\n",
      "\t\t\t\t\t\t\t\t  </a>\n",
      "</div>\n",
      "</div>\n",
      "</td>\n",
      "</tr>\n",
      "</table>\n",
      "<table align=\"left\" border=\"0\" cellpadding=\"0\" cellspacing=\"0\" class=\"title\" width=\"180\">\n",
      "<tr>\n",
      "<td align=\"left\" valign=\"top\">\n",
      "<div>\n",
      "<div class=\"acces-rapide\">\n",
      "<a href=\"spip.php?rubrique207\">\n",
      "<img border=\"0\" height=\"7\" src=\"../template/arrowrightv.gif\" width=\"7\"/>\n",
      "\t\t\t\t\t\t\t\t     المنشورات باللغة العربية\n",
      "\t\t\t\t\t\t\t\t  </a>\n",
      "</div>\n",
      "</div>\n",
      "</td>\n",
      "</tr>\n",
      "</table>\n",
      "<table align=\"left\" border=\"0\" cellpadding=\"0\" cellspacing=\"0\" class=\"title\" width=\"180\">\n",
      "<tr>\n",
      "<td align=\"left\" valign=\"top\">\n",
      "<div>\n",
      "<div class=\"acces-rapide\">\n",
      "<a href=\"spip.php?rubrique220\">\n",
      "<img border=\"0\" height=\"7\" src=\"../template/arrowrightv.gif\" width=\"7\"/>\n",
      "\t\t\t\t\t\t\t\t     Publications in English\n",
      "\t\t\t\t\t\t\t\t  </a>\n",
      "</div>\n",
      "</div>\n",
      "</td>\n",
      "</tr>\n",
      "</table>\n",
      "<table align=\"left\" border=\"0\" cellpadding=\"0\" cellspacing=\"0\" class=\"title\" width=\"180\">\n",
      "<tr>\n",
      "<td align=\"left\" valign=\"top\">\n",
      "<div>\n",
      "<div class=\"acces-rapide\">\n",
      "<a href=\"spip.php?rubrique39\">\n",
      "<img border=\"0\" height=\"7\" src=\"../template/arrowrightv.gif\" width=\"7\"/>\n",
      "\t\t\t\t\t\t\t\t     Catalogue et modalités d’abonnements\n",
      "\t\t\t\t\t\t\t\t  </a>\n",
      "</div>\n",
      "</div>\n",
      "</td>\n",
      "</tr>\n",
      "</table>\n",
      "<table align=\"left\" border=\"0\" cellpadding=\"0\" cellspacing=\"0\" class=\"title\" width=\"180\">\n",
      "<tr>\n",
      "<td align=\"left\" valign=\"top\">\n",
      "<div>\n",
      "<div class=\"acces-rapide\">\n",
      "<a href=\"spip.php?rubrique173\">\n",
      "<img border=\"0\" height=\"7\" src=\"../template/arrowrightv.gif\" width=\"7\"/>\n",
      "\t\t\t\t\t\t\t\t     Publication Euro-Med\n",
      "\t\t\t\t\t\t\t\t  </a>\n",
      "</div>\n",
      "</div>\n",
      "</td>\n",
      "</tr>\n",
      "</table>\n",
      "<table align=\"left\" border=\"0\" cellpadding=\"0\" cellspacing=\"0\" class=\"title\" width=\"180\">\n",
      "<tr>\n",
      "<td align=\"left\" valign=\"top\">\n",
      "<div>\n",
      "<div class=\"acces-rapide\">\n",
      "<a href=\"spip.php?rubrique397\">\n",
      "<img border=\"0\" height=\"7\" src=\"../template/arrowrightv.gif\" width=\"7\"/>\n",
      "\t\t\t\t\t\t\t\t     Calendrier ONS\n",
      "\t\t\t\t\t\t\t\t  </a>\n",
      "</div>\n",
      "</div>\n",
      "</td>\n",
      "</tr>\n",
      "</table>\n",
      "<table align=\"left\" border=\"0\" cellpadding=\"0\" cellspacing=\"0\" class=\"title\" width=\"180\">\n",
      "<tr>\n",
      "<td align=\"left\" valign=\"top\">\n",
      "<div>\n",
      "<div class=\"acces-rapide\">\n",
      "<a href=\"spip.php?rubrique390\">\n",
      "<img border=\"0\" height=\"7\" src=\"../template/arrowrightv.gif\" width=\"7\"/>\n",
      "\t\t\t\t\t\t\t\t     RGPH 2022\n",
      "\t\t\t\t\t\t\t\t  </a>\n",
      "</div>\n",
      "</div>\n",
      "</td>\n",
      "</tr>\n",
      "</table>\n",
      "</div>\n",
      "</td>\n",
      "</tr>\n",
      "<tr><td height=\"2\"></td></tr>\n",
      "</table>\n",
      "</td>\n",
      "<td valign=\"top\">\n",
      "<div class=\"grand-titre-rubrique\">\n",
      "</div>\n",
      "<table align=\"center\" border=\"0\" cellpadding=\"4\" cellspacing=\"0\" valign=\"top\" width=\"100%\">\n",
      "<tr>\n",
      "<td height=\"25\" valign=\"top\">\n",
      "<div style=\"margin-top:-5px;\"></div>\n",
      "<div class=\"grand-titre-rubrique\">Juin</div></td>\n",
      "</tr>\n",
      "<tr>\n",
      "<td align=\"left\" valign=\"top\">\n",
      "<div style=\"margin-bottom:7px ; margin-top:5px; margin-left:5px; margin-right:5px;\">\n",
      "<em></em>\n",
      "</div>\n",
      "<div class=\"enveloppeur\">\n",
      "<!--<div class=\"logo-box\"></div>-->\n",
      "<div class=\"texte-article\"></div>\n",
      "</div></td>\n",
      "</tr>\n",
      "<tr>\n",
      "<td align=\"left\" valign=\"top\">\n",
      "<div id=\"document_articles\">\n",
      "<ul>\n",
      "<li>\n",
      "<div class=\"spip_doc_titre\"><a href=\"IMG/pdf/ipc062018.pdf\" target=\"blanc\" title=\"Télécharger\" type=\"application/pdf\">info document\n",
      "                                      </a> <small>(PDF - 353.4 ko)</small></div>\n",
      "</li>\n",
      "</ul>\n",
      "</div>\n",
      "</td>\n",
      "</tr>\n",
      "<tr>\n",
      "<td></td>\n",
      "</tr>\n",
      "</table>\n",
      "</td>\n",
      "</tr>\n",
      "</table></td>\n",
      "</tr>\n",
      "</table></td>\n",
      "</tr>\n",
      "<tr>\n",
      "<td> </td>\n",
      "</tr>\n",
      "</table></td>\n",
      "<td align=\"right\" valign=\"top\" width=\"230\">\n",
      "<table align=\"center\" border=\"0\" cellpadding=\"0\" cellspacing=\"0\" width=\"180\">\n",
      "<tr>\n",
      "<td align=\"center\" valign=\"top\" width=\"264\">\n",
      "<table border=\"0\" cellpadding=\"0\" cellspacing=\"0\" width=\"180\">\n",
      "<tr>\n",
      "<td><div align=\"center\" style=\"height:18px;\"><!---date de mise à jour--->\n",
      "<span>\n",
      "<span class=\"date\">Date de dernière mise à jour  :</span>\n",
      "<span class=\"date1\"> lundi 24 mars 2025</span>\n",
      "</span>\n",
      "</div>\n",
      "</td>\n",
      "</tr>\n",
      "<tr><td> </td></tr><tr>\n",
      "<td align=\"left\" valign=\"middle\"><div class=\"formulaire-de-recherche\"><div class=\"formulaire_spip formulaire_recherche\" id=\"formulaire_recherche\">\n",
      "<form action=\"spip.php?page=recherche\" method=\"get\"><div>\n",
      "<input name=\"page\" type=\"hidden\" value=\"recherche\"/>\n",
      "<label for=\"recherche\">Rechercher :</label>\n",
      "<input accesskey=\"4\" autocapitalize=\"off\" autocorrect=\"off\" class=\"search text\" id=\"recherche\" name=\"recherche\" size=\"10\" type=\"text\"/><input class=\"submit\" title=\"Rechercher\" type=\"submit\" value=\"&gt;&gt;\"/>\n",
      "</div></form>\n",
      "</div>\n",
      "</div></td>\n",
      "</tr>\n",
      "<tr>\n",
      "<td align=\"left\" valign=\"middle\"><div class=\"h4\"> Indices</div></td>\n",
      "</tr>\n",
      "<tr>\n",
      "<td align=\"left\" valign=\"top\"><div class=\"h4bg\">\n",
      "<div style=\"padding-right:20px; padding-left:5px;\">\n",
      "<div class=\"acces-rapide\"><a href=\"spip.php?rubrique26\">Prix à la consommation</a></div>\n",
      "<div class=\"acces-rapide\"><a href=\"spip.php?rubrique27\">Prix à la Production Industrielle</a></div>\n",
      "<div class=\"acces-rapide\"><a href=\"spip.php?rubrique28\">Production Industrielle</a></div>\n",
      "<div class=\"acces-rapide\"><a href=\"spip.php?rubrique31\">Indices des valeurs unitaires</a></div>\n",
      "</div>\n",
      "</div></td>\n",
      "</tr>\n",
      "</table></td>\n",
      "</tr>\n",
      "<tr>\n",
      "<td align=\"center\" height=\"10\" valign=\"top\"></td>\n",
      "</tr>\n",
      "<tr>\n",
      "<td align=\"center\" height=\"4\" valign=\"top\"></td>\n",
      "</tr>\n",
      "<tr>\n",
      "<td align=\"center\" valign=\"top\"> </td>\n",
      "</tr>\n",
      "<tr>\n",
      "<td align=\"left\" valign=\"top\"><div class=\"h4\">Messagerie</div></td>\n",
      "</tr>\n",
      "<tr>\n",
      "<td align=\"left\" valign=\"top\"><div class=\"h4bg\">\n",
      "<div class=\"bg-newsletter\">\n",
      "<table align=\"center\" border=\"0\" cellpadding=\"2\" cellspacing=\"0\" width=\"98%\">\n",
      "<tr>\n",
      "<td align=\"left\" valign=\"middle\"></td>\n",
      "</tr>\n",
      "<tr>\n",
      "<td align=\"center\" height=\"100\" valign=\"middle\"><p><a href=\"https://webmail.ons.dz/owa\" target=\"_blank\">Accéder à votre messagerie </a></p></td>\n",
      "</tr>\n",
      "</table>\n",
      "</div>\n",
      "</div></td>\n",
      "</tr>\n",
      "</table></td>\n",
      "</tr>\n",
      "</table></td>\n",
      "</tr>\n",
      "<tr>\n",
      "<td> </td>\n",
      "</tr>\n",
      "<tr>\n",
      "<td bgcolor=\"#666666\" height=\"30\"> </td>\n",
      "</tr>\n",
      "</table>\n",
      "</body>\n",
      "</html>\n",
      "\n"
     ]
    }
   ],
   "source": [
    "print(list(pdf_links)[0])\n",
    "print(scrap(\"https://www.ons.dz/\" + list(pdf_links)[0]))"
   ]
  },
  {
   "attachments": {
    "2.png": {
     "image/png": "[encoded data removed]"
    }
   },
   "cell_type": "markdown",
   "metadata": {},
   "source": [
    "We analyse the output again:\n",
    "\n",
    "![2.png](attachment:2.png)\n",
    "\n",
    "We notice that the desired pdf files links are within anchor elements that are nested inside divs.\n",
    "The href of the anchor elements contains \"/IMG/pdf/\" in it (or IMG/pdf/ without the / in some cases\n",
    "that's why we'll be using string without the / because it will work for all the pages)\n",
    "\n",
    "So we used the previously obtained set (we use the set data structure to handle the duplicates in an efficient way)\n",
    "and we iterate to get the desired pdf files links"
   ]
  },
  {
   "cell_type": "code",
   "execution_count": 107,
   "metadata": {},
   "outputs": [
    {
     "name": "stderr",
     "output_type": "stream",
     "text": [
      "c:\\anaconda3\\envs\\TS_ENV\\Lib\\site-packages\\urllib3\\connectionpool.py:1097: InsecureRequestWarning: Unverified HTTPS request is being made to host 'www.ons.dz'. Adding certificate verification is strongly advised. See: https://urllib3.readthedocs.io/en/latest/advanced-usage.html#tls-warnings\n",
      "  warnings.warn(\n"
     ]
    },
    {
     "name": "stdout",
     "output_type": "stream",
     "text": [
      "link:\t https://www.ons.dz/spip.php?article2148\n",
      "file:\t ['IMG/pdf/ipc062018.pdf'] added\n",
      "file:\t ['IMG/pdf/ipc062018.pdf'] added\n"
     ]
    },
    {
     "name": "stderr",
     "output_type": "stream",
     "text": [
      "c:\\anaconda3\\envs\\TS_ENV\\Lib\\site-packages\\urllib3\\connectionpool.py:1097: InsecureRequestWarning: Unverified HTTPS request is being made to host 'www.ons.dz'. Adding certificate verification is strongly advised. See: https://urllib3.readthedocs.io/en/latest/advanced-usage.html#tls-warnings\n",
      "  warnings.warn(\n"
     ]
    },
    {
     "name": "stdout",
     "output_type": "stream",
     "text": [
      "link:\t https://www.ons.dz/spip.php?article745\n"
     ]
    },
    {
     "name": "stderr",
     "output_type": "stream",
     "text": [
      "c:\\anaconda3\\envs\\TS_ENV\\Lib\\site-packages\\urllib3\\connectionpool.py:1097: InsecureRequestWarning: Unverified HTTPS request is being made to host 'www.ons.dz'. Adding certificate verification is strongly advised. See: https://urllib3.readthedocs.io/en/latest/advanced-usage.html#tls-warnings\n",
      "  warnings.warn(\n"
     ]
    },
    {
     "name": "stdout",
     "output_type": "stream",
     "text": [
      "link:\t https://www.ons.dz/spip.php?article796\n"
     ]
    },
    {
     "name": "stderr",
     "output_type": "stream",
     "text": [
      "c:\\anaconda3\\envs\\TS_ENV\\Lib\\site-packages\\urllib3\\connectionpool.py:1097: InsecureRequestWarning: Unverified HTTPS request is being made to host 'www.ons.dz'. Adding certificate verification is strongly advised. See: https://urllib3.readthedocs.io/en/latest/advanced-usage.html#tls-warnings\n",
      "  warnings.warn(\n"
     ]
    },
    {
     "name": "stdout",
     "output_type": "stream",
     "text": [
      "link:\t https://www.ons.dz/spip.php?article823\n"
     ]
    },
    {
     "name": "stderr",
     "output_type": "stream",
     "text": [
      "c:\\anaconda3\\envs\\TS_ENV\\Lib\\site-packages\\urllib3\\connectionpool.py:1097: InsecureRequestWarning: Unverified HTTPS request is being made to host 'www.ons.dz'. Adding certificate verification is strongly advised. See: https://urllib3.readthedocs.io/en/latest/advanced-usage.html#tls-warnings\n",
      "  warnings.warn(\n"
     ]
    },
    {
     "name": "stdout",
     "output_type": "stream",
     "text": [
      "link:\t https://www.ons.dz/spip.php?article2206\n",
      "file:\t ['IMG/pdf/ipc102018.pdf'] added\n",
      "file:\t ['IMG/pdf/ipc102018.pdf'] added\n"
     ]
    },
    {
     "name": "stderr",
     "output_type": "stream",
     "text": [
      "c:\\anaconda3\\envs\\TS_ENV\\Lib\\site-packages\\urllib3\\connectionpool.py:1097: InsecureRequestWarning: Unverified HTTPS request is being made to host 'www.ons.dz'. Adding certificate verification is strongly advised. See: https://urllib3.readthedocs.io/en/latest/advanced-usage.html#tls-warnings\n",
      "  warnings.warn(\n"
     ]
    },
    {
     "name": "stdout",
     "output_type": "stream",
     "text": [
      "link:\t https://www.ons.dz/spip.php?article809\n"
     ]
    },
    {
     "name": "stderr",
     "output_type": "stream",
     "text": [
      "c:\\anaconda3\\envs\\TS_ENV\\Lib\\site-packages\\urllib3\\connectionpool.py:1097: InsecureRequestWarning: Unverified HTTPS request is being made to host 'www.ons.dz'. Adding certificate verification is strongly advised. See: https://urllib3.readthedocs.io/en/latest/advanced-usage.html#tls-warnings\n",
      "  warnings.warn(\n"
     ]
    },
    {
     "name": "stdout",
     "output_type": "stream",
     "text": [
      "link:\t https://www.ons.dz/spip.php?article2682\n",
      "file:\t ['IMG/pdf/i.ipc_fevrier2021.pdf'] added\n",
      "file:\t ['IMG/pdf/i.ipc_fevrier2021.pdf'] added\n"
     ]
    },
    {
     "name": "stderr",
     "output_type": "stream",
     "text": [
      "c:\\anaconda3\\envs\\TS_ENV\\Lib\\site-packages\\urllib3\\connectionpool.py:1097: InsecureRequestWarning: Unverified HTTPS request is being made to host 'www.ons.dz'. Adding certificate verification is strongly advised. See: https://urllib3.readthedocs.io/en/latest/advanced-usage.html#tls-warnings\n",
      "  warnings.warn(\n"
     ]
    },
    {
     "name": "stdout",
     "output_type": "stream",
     "text": [
      "link:\t https://www.ons.dz/spip.php?article778\n"
     ]
    },
    {
     "name": "stderr",
     "output_type": "stream",
     "text": [
      "c:\\anaconda3\\envs\\TS_ENV\\Lib\\site-packages\\urllib3\\connectionpool.py:1097: InsecureRequestWarning: Unverified HTTPS request is being made to host 'www.ons.dz'. Adding certificate verification is strongly advised. See: https://urllib3.readthedocs.io/en/latest/advanced-usage.html#tls-warnings\n",
      "  warnings.warn(\n"
     ]
    },
    {
     "name": "stdout",
     "output_type": "stream",
     "text": [
      "link:\t https://www.ons.dz/spip.php?article1995\n",
      "file:\t ['IMG/pdf/ipc022017.pdf'] added\n",
      "file:\t ['IMG/pdf/ipc022017.pdf'] added\n"
     ]
    },
    {
     "name": "stderr",
     "output_type": "stream",
     "text": [
      "c:\\anaconda3\\envs\\TS_ENV\\Lib\\site-packages\\urllib3\\connectionpool.py:1097: InsecureRequestWarning: Unverified HTTPS request is being made to host 'www.ons.dz'. Adding certificate verification is strongly advised. See: https://urllib3.readthedocs.io/en/latest/advanced-usage.html#tls-warnings\n",
      "  warnings.warn(\n"
     ]
    },
    {
     "name": "stdout",
     "output_type": "stream",
     "text": [
      "link:\t https://www.ons.dz/spip.php?article820\n"
     ]
    },
    {
     "name": "stderr",
     "output_type": "stream",
     "text": [
      "c:\\anaconda3\\envs\\TS_ENV\\Lib\\site-packages\\urllib3\\connectionpool.py:1097: InsecureRequestWarning: Unverified HTTPS request is being made to host 'www.ons.dz'. Adding certificate verification is strongly advised. See: https://urllib3.readthedocs.io/en/latest/advanced-usage.html#tls-warnings\n",
      "  warnings.warn(\n"
     ]
    },
    {
     "name": "stdout",
     "output_type": "stream",
     "text": [
      "link:\t https://www.ons.dz/spip.php?article849\n"
     ]
    },
    {
     "name": "stderr",
     "output_type": "stream",
     "text": [
      "c:\\anaconda3\\envs\\TS_ENV\\Lib\\site-packages\\urllib3\\connectionpool.py:1097: InsecureRequestWarning: Unverified HTTPS request is being made to host 'www.ons.dz'. Adding certificate verification is strongly advised. See: https://urllib3.readthedocs.io/en/latest/advanced-usage.html#tls-warnings\n",
      "  warnings.warn(\n"
     ]
    },
    {
     "name": "stdout",
     "output_type": "stream",
     "text": [
      "link:\t https://www.ons.dz/spip.php?article2047\n",
      "file:\t ['IMG/pdf/ipc072017.pdf'] added\n",
      "file:\t ['IMG/pdf/ipc072017.pdf'] added\n"
     ]
    },
    {
     "name": "stderr",
     "output_type": "stream",
     "text": [
      "c:\\anaconda3\\envs\\TS_ENV\\Lib\\site-packages\\urllib3\\connectionpool.py:1097: InsecureRequestWarning: Unverified HTTPS request is being made to host 'www.ons.dz'. Adding certificate verification is strongly advised. See: https://urllib3.readthedocs.io/en/latest/advanced-usage.html#tls-warnings\n",
      "  warnings.warn(\n"
     ]
    },
    {
     "name": "stdout",
     "output_type": "stream",
     "text": [
      "link:\t https://www.ons.dz/spip.php?article2455\n",
      "file:\t ['IMG/pdf/i.ipc_decembre2019.pdf'] added\n",
      "file:\t ['IMG/pdf/i.ipc_decembre2019.pdf'] added\n"
     ]
    },
    {
     "name": "stderr",
     "output_type": "stream",
     "text": [
      "c:\\anaconda3\\envs\\TS_ENV\\Lib\\site-packages\\urllib3\\connectionpool.py:1097: InsecureRequestWarning: Unverified HTTPS request is being made to host 'www.ons.dz'. Adding certificate verification is strongly advised. See: https://urllib3.readthedocs.io/en/latest/advanced-usage.html#tls-warnings\n",
      "  warnings.warn(\n"
     ]
    },
    {
     "name": "stdout",
     "output_type": "stream",
     "text": [
      "link:\t https://www.ons.dz/spip.php?article1864\n",
      "file:\t ['IMG/pdf/Ipc0416.pdf'] added\n",
      "file:\t ['IMG/pdf/Ipc0416.pdf'] added\n"
     ]
    },
    {
     "name": "stderr",
     "output_type": "stream",
     "text": [
      "c:\\anaconda3\\envs\\TS_ENV\\Lib\\site-packages\\urllib3\\connectionpool.py:1097: InsecureRequestWarning: Unverified HTTPS request is being made to host 'www.ons.dz'. Adding certificate verification is strongly advised. See: https://urllib3.readthedocs.io/en/latest/advanced-usage.html#tls-warnings\n",
      "  warnings.warn(\n"
     ]
    },
    {
     "name": "stdout",
     "output_type": "stream",
     "text": [
      "link:\t https://www.ons.dz/spip.php?article1432\n",
      "file:\t ['IMG/pdf/Ipc0214_-2.pdf'] added\n",
      "file:\t ['IMG/pdf/Ipc0214_-2.pdf'] added\n"
     ]
    },
    {
     "name": "stderr",
     "output_type": "stream",
     "text": [
      "c:\\anaconda3\\envs\\TS_ENV\\Lib\\site-packages\\urllib3\\connectionpool.py:1097: InsecureRequestWarning: Unverified HTTPS request is being made to host 'www.ons.dz'. Adding certificate verification is strongly advised. See: https://urllib3.readthedocs.io/en/latest/advanced-usage.html#tls-warnings\n",
      "  warnings.warn(\n"
     ]
    },
    {
     "name": "stdout",
     "output_type": "stream",
     "text": [
      "link:\t https://www.ons.dz/spip.php?article1930\n",
      "file:\t ['IMG/pdf/Ipc1016.pdf'] added\n",
      "file:\t ['IMG/pdf/Ipc1016.pdf'] added\n"
     ]
    },
    {
     "name": "stderr",
     "output_type": "stream",
     "text": [
      "c:\\anaconda3\\envs\\TS_ENV\\Lib\\site-packages\\urllib3\\connectionpool.py:1097: InsecureRequestWarning: Unverified HTTPS request is being made to host 'www.ons.dz'. Adding certificate verification is strongly advised. See: https://urllib3.readthedocs.io/en/latest/advanced-usage.html#tls-warnings\n",
      "  warnings.warn(\n"
     ]
    },
    {
     "name": "stdout",
     "output_type": "stream",
     "text": [
      "link:\t https://www.ons.dz/spip.php?article2955\n",
      "file:\t ['/IMG/pdf/I.IPC_Octobre2023.pdf'] added\n",
      "file:\t ['/IMG/pdf/I.IPC_Octobre2023.pdf'] added\n",
      "file:\t ['/IMG/pdf/I.IPC_Octobre2023.pdf'] added\n",
      "file:\t ['/IMG/pdf/I.IPC_Octobre2023.pdf'] added\n"
     ]
    },
    {
     "name": "stderr",
     "output_type": "stream",
     "text": [
      "c:\\anaconda3\\envs\\TS_ENV\\Lib\\site-packages\\urllib3\\connectionpool.py:1097: InsecureRequestWarning: Unverified HTTPS request is being made to host 'www.ons.dz'. Adding certificate verification is strongly advised. See: https://urllib3.readthedocs.io/en/latest/advanced-usage.html#tls-warnings\n",
      "  warnings.warn(\n"
     ]
    },
    {
     "name": "stdout",
     "output_type": "stream",
     "text": [
      "link:\t https://www.ons.dz/spip.php?article935\n",
      "file:\t ['IMG/pdf/IPC0110_NB.pdf'] added\n",
      "file:\t ['IMG/pdf/IPC0110_NB.pdf'] added\n"
     ]
    },
    {
     "name": "stderr",
     "output_type": "stream",
     "text": [
      "c:\\anaconda3\\envs\\TS_ENV\\Lib\\site-packages\\urllib3\\connectionpool.py:1097: InsecureRequestWarning: Unverified HTTPS request is being made to host 'www.ons.dz'. Adding certificate verification is strongly advised. See: https://urllib3.readthedocs.io/en/latest/advanced-usage.html#tls-warnings\n",
      "  warnings.warn(\n"
     ]
    },
    {
     "name": "stdout",
     "output_type": "stream",
     "text": [
      "link:\t https://www.ons.dz/spip.php?article860\n",
      "file:\t ['IMG/pdf/ipc0203-2.pdf'] added\n",
      "file:\t ['IMG/pdf/ipc0203-2.pdf'] added\n"
     ]
    },
    {
     "name": "stderr",
     "output_type": "stream",
     "text": [
      "c:\\anaconda3\\envs\\TS_ENV\\Lib\\site-packages\\urllib3\\connectionpool.py:1097: InsecureRequestWarning: Unverified HTTPS request is being made to host 'www.ons.dz'. Adding certificate verification is strongly advised. See: https://urllib3.readthedocs.io/en/latest/advanced-usage.html#tls-warnings\n",
      "  warnings.warn(\n"
     ]
    },
    {
     "name": "stdout",
     "output_type": "stream",
     "text": [
      "link:\t https://www.ons.dz/spip.php?article2834\n",
      "file:\t ['/IMG/pdf/i.ipc_octobre2022.pdf'] added\n",
      "file:\t ['/IMG/pdf/i.ipc_octobre2022.pdf'] added\n",
      "file:\t ['/IMG/pdf/i.ipc_octobre2022.pdf'] added\n",
      "file:\t ['/IMG/pdf/i.ipc_octobre2022.pdf'] added\n"
     ]
    },
    {
     "name": "stderr",
     "output_type": "stream",
     "text": [
      "c:\\anaconda3\\envs\\TS_ENV\\Lib\\site-packages\\urllib3\\connectionpool.py:1097: InsecureRequestWarning: Unverified HTTPS request is being made to host 'www.ons.dz'. Adding certificate verification is strongly advised. See: https://urllib3.readthedocs.io/en/latest/advanced-usage.html#tls-warnings\n",
      "  warnings.warn(\n"
     ]
    },
    {
     "name": "stdout",
     "output_type": "stream",
     "text": [
      "link:\t https://www.ons.dz/spip.php?article2745\n",
      "file:\t ['IMG/pdf/i.ipc_octobre2021.pdf'] added\n",
      "file:\t ['IMG/pdf/i.ipc_octobre2021.pdf'] added\n"
     ]
    },
    {
     "name": "stderr",
     "output_type": "stream",
     "text": [
      "c:\\anaconda3\\envs\\TS_ENV\\Lib\\site-packages\\urllib3\\connectionpool.py:1097: InsecureRequestWarning: Unverified HTTPS request is being made to host 'www.ons.dz'. Adding certificate verification is strongly advised. See: https://urllib3.readthedocs.io/en/latest/advanced-usage.html#tls-warnings\n",
      "  warnings.warn(\n"
     ]
    },
    {
     "name": "stdout",
     "output_type": "stream",
     "text": [
      "link:\t https://www.ons.dz/spip.php?article801\n"
     ]
    },
    {
     "name": "stderr",
     "output_type": "stream",
     "text": [
      "c:\\anaconda3\\envs\\TS_ENV\\Lib\\site-packages\\urllib3\\connectionpool.py:1097: InsecureRequestWarning: Unverified HTTPS request is being made to host 'www.ons.dz'. Adding certificate verification is strongly advised. See: https://urllib3.readthedocs.io/en/latest/advanced-usage.html#tls-warnings\n",
      "  warnings.warn(\n"
     ]
    },
    {
     "name": "stdout",
     "output_type": "stream",
     "text": [
      "link:\t https://www.ons.dz/spip.php?article724\n",
      "file:\t ['IMG/pdf/IPC1109-2.pdf'] added\n",
      "file:\t ['IMG/pdf/IPC1109-2.pdf'] added\n"
     ]
    },
    {
     "name": "stderr",
     "output_type": "stream",
     "text": [
      "c:\\anaconda3\\envs\\TS_ENV\\Lib\\site-packages\\urllib3\\connectionpool.py:1097: InsecureRequestWarning: Unverified HTTPS request is being made to host 'www.ons.dz'. Adding certificate verification is strongly advised. See: https://urllib3.readthedocs.io/en/latest/advanced-usage.html#tls-warnings\n",
      "  warnings.warn(\n"
     ]
    },
    {
     "name": "stdout",
     "output_type": "stream",
     "text": [
      "link:\t https://www.ons.dz/spip.php?article1122\n",
      "file:\t ['IMG/pdf/Ipc0412-2.pdf'] added\n",
      "file:\t ['IMG/pdf/Ipc0412-2.pdf'] added\n"
     ]
    },
    {
     "name": "stderr",
     "output_type": "stream",
     "text": [
      "c:\\anaconda3\\envs\\TS_ENV\\Lib\\site-packages\\urllib3\\connectionpool.py:1097: InsecureRequestWarning: Unverified HTTPS request is being made to host 'www.ons.dz'. Adding certificate verification is strongly advised. See: https://urllib3.readthedocs.io/en/latest/advanced-usage.html#tls-warnings\n",
      "  warnings.warn(\n"
     ]
    },
    {
     "name": "stdout",
     "output_type": "stream",
     "text": [
      "link:\t https://www.ons.dz/spip.php?article750\n"
     ]
    },
    {
     "name": "stderr",
     "output_type": "stream",
     "text": [
      "c:\\anaconda3\\envs\\TS_ENV\\Lib\\site-packages\\urllib3\\connectionpool.py:1097: InsecureRequestWarning: Unverified HTTPS request is being made to host 'www.ons.dz'. Adding certificate verification is strongly advised. See: https://urllib3.readthedocs.io/en/latest/advanced-usage.html#tls-warnings\n",
      "  warnings.warn(\n"
     ]
    },
    {
     "name": "stdout",
     "output_type": "stream",
     "text": [
      "link:\t https://www.ons.dz/spip.php?article1867\n",
      "file:\t ['IMG/pdf/ipc0516.pdf'] added\n",
      "file:\t ['IMG/pdf/ipc0516.pdf'] added\n"
     ]
    },
    {
     "name": "stderr",
     "output_type": "stream",
     "text": [
      "c:\\anaconda3\\envs\\TS_ENV\\Lib\\site-packages\\urllib3\\connectionpool.py:1097: InsecureRequestWarning: Unverified HTTPS request is being made to host 'www.ons.dz'. Adding certificate verification is strongly advised. See: https://urllib3.readthedocs.io/en/latest/advanced-usage.html#tls-warnings\n",
      "  warnings.warn(\n"
     ]
    },
    {
     "name": "stdout",
     "output_type": "stream",
     "text": [
      "link:\t https://www.ons.dz/spip.php?article1456\n",
      "file:\t ['IMG/pdf/Ipc0514_-2.pdf'] added\n",
      "file:\t ['IMG/pdf/Ipc0514_-2.pdf'] added\n"
     ]
    },
    {
     "name": "stderr",
     "output_type": "stream",
     "text": [
      "c:\\anaconda3\\envs\\TS_ENV\\Lib\\site-packages\\urllib3\\connectionpool.py:1097: InsecureRequestWarning: Unverified HTTPS request is being made to host 'www.ons.dz'. Adding certificate verification is strongly advised. See: https://urllib3.readthedocs.io/en/latest/advanced-usage.html#tls-warnings\n",
      "  warnings.warn(\n"
     ]
    },
    {
     "name": "stdout",
     "output_type": "stream",
     "text": [
      "link:\t https://www.ons.dz/spip.php?article1543\n",
      "file:\t ['IMG/pdf/IPC_1214-2.pdf'] added\n",
      "file:\t ['IMG/pdf/IPC_1214-2.pdf'] added\n"
     ]
    },
    {
     "name": "stderr",
     "output_type": "stream",
     "text": [
      "c:\\anaconda3\\envs\\TS_ENV\\Lib\\site-packages\\urllib3\\connectionpool.py:1097: InsecureRequestWarning: Unverified HTTPS request is being made to host 'www.ons.dz'. Adding certificate verification is strongly advised. See: https://urllib3.readthedocs.io/en/latest/advanced-usage.html#tls-warnings\n",
      "  warnings.warn(\n"
     ]
    },
    {
     "name": "stdout",
     "output_type": "stream",
     "text": [
      "link:\t https://www.ons.dz/spip.php?article732\n"
     ]
    },
    {
     "name": "stderr",
     "output_type": "stream",
     "text": [
      "c:\\anaconda3\\envs\\TS_ENV\\Lib\\site-packages\\urllib3\\connectionpool.py:1097: InsecureRequestWarning: Unverified HTTPS request is being made to host 'www.ons.dz'. Adding certificate verification is strongly advised. See: https://urllib3.readthedocs.io/en/latest/advanced-usage.html#tls-warnings\n",
      "  warnings.warn(\n"
     ]
    },
    {
     "name": "stdout",
     "output_type": "stream",
     "text": [
      "link:\t https://www.ons.dz/spip.php?article751\n"
     ]
    },
    {
     "name": "stderr",
     "output_type": "stream",
     "text": [
      "c:\\anaconda3\\envs\\TS_ENV\\Lib\\site-packages\\urllib3\\connectionpool.py:1097: InsecureRequestWarning: Unverified HTTPS request is being made to host 'www.ons.dz'. Adding certificate verification is strongly advised. See: https://urllib3.readthedocs.io/en/latest/advanced-usage.html#tls-warnings\n",
      "  warnings.warn(\n"
     ]
    },
    {
     "name": "stdout",
     "output_type": "stream",
     "text": [
      "link:\t https://www.ons.dz/spip.php?article2381\n",
      "file:\t ['IMG/pdf/ipcsept2019.pdf'] added\n",
      "file:\t ['IMG/pdf/ipcsept2019.pdf'] added\n"
     ]
    },
    {
     "name": "stderr",
     "output_type": "stream",
     "text": [
      "c:\\anaconda3\\envs\\TS_ENV\\Lib\\site-packages\\urllib3\\connectionpool.py:1097: InsecureRequestWarning: Unverified HTTPS request is being made to host 'www.ons.dz'. Adding certificate verification is strongly advised. See: https://urllib3.readthedocs.io/en/latest/advanced-usage.html#tls-warnings\n",
      "  warnings.warn(\n"
     ]
    },
    {
     "name": "stdout",
     "output_type": "stream",
     "text": [
      "link:\t https://www.ons.dz/spip.php?article803\n"
     ]
    },
    {
     "name": "stderr",
     "output_type": "stream",
     "text": [
      "c:\\anaconda3\\envs\\TS_ENV\\Lib\\site-packages\\urllib3\\connectionpool.py:1097: InsecureRequestWarning: Unverified HTTPS request is being made to host 'www.ons.dz'. Adding certificate verification is strongly advised. See: https://urllib3.readthedocs.io/en/latest/advanced-usage.html#tls-warnings\n",
      "  warnings.warn(\n"
     ]
    },
    {
     "name": "stdout",
     "output_type": "stream",
     "text": [
      "link:\t https://www.ons.dz/spip.php?article2531\n",
      "file:\t ['IMG/pdf/i.ipc_fevrier2020.pdf'] added\n",
      "file:\t ['IMG/pdf/i.ipc_fevrier2020.pdf'] added\n"
     ]
    },
    {
     "name": "stderr",
     "output_type": "stream",
     "text": [
      "c:\\anaconda3\\envs\\TS_ENV\\Lib\\site-packages\\urllib3\\connectionpool.py:1097: InsecureRequestWarning: Unverified HTTPS request is being made to host 'www.ons.dz'. Adding certificate verification is strongly advised. See: https://urllib3.readthedocs.io/en/latest/advanced-usage.html#tls-warnings\n",
      "  warnings.warn(\n"
     ]
    },
    {
     "name": "stdout",
     "output_type": "stream",
     "text": [
      "link:\t https://www.ons.dz/spip.php?article1822\n",
      "file:\t ['IMG/pdf/Ipc0216-2.pdf'] added\n",
      "file:\t ['IMG/pdf/Ipc0216-2.pdf'] added\n"
     ]
    },
    {
     "name": "stderr",
     "output_type": "stream",
     "text": [
      "c:\\anaconda3\\envs\\TS_ENV\\Lib\\site-packages\\urllib3\\connectionpool.py:1097: InsecureRequestWarning: Unverified HTTPS request is being made to host 'www.ons.dz'. Adding certificate verification is strongly advised. See: https://urllib3.readthedocs.io/en/latest/advanced-usage.html#tls-warnings\n",
      "  warnings.warn(\n"
     ]
    },
    {
     "name": "stdout",
     "output_type": "stream",
     "text": [
      "link:\t https://www.ons.dz/spip.php?article828\n"
     ]
    },
    {
     "name": "stderr",
     "output_type": "stream",
     "text": [
      "c:\\anaconda3\\envs\\TS_ENV\\Lib\\site-packages\\urllib3\\connectionpool.py:1097: InsecureRequestWarning: Unverified HTTPS request is being made to host 'www.ons.dz'. Adding certificate verification is strongly advised. See: https://urllib3.readthedocs.io/en/latest/advanced-usage.html#tls-warnings\n",
      "  warnings.warn(\n"
     ]
    },
    {
     "name": "stdout",
     "output_type": "stream",
     "text": [
      "link:\t https://www.ons.dz/spip.php?article752\n"
     ]
    },
    {
     "name": "stderr",
     "output_type": "stream",
     "text": [
      "c:\\anaconda3\\envs\\TS_ENV\\Lib\\site-packages\\urllib3\\connectionpool.py:1097: InsecureRequestWarning: Unverified HTTPS request is being made to host 'www.ons.dz'. Adding certificate verification is strongly advised. See: https://urllib3.readthedocs.io/en/latest/advanced-usage.html#tls-warnings\n",
      "  warnings.warn(\n"
     ]
    },
    {
     "name": "stdout",
     "output_type": "stream",
     "text": [
      "link:\t https://www.ons.dz/spip.php?article3021\n",
      "file:\t ['/IMG/pdf/I.IPC_septembre2024.pdf'] added\n",
      "file:\t ['/IMG/pdf/I.IPC_septembre2024.pdf'] added\n",
      "file:\t ['/IMG/pdf/I.IPC_septembre2024.pdf'] added\n",
      "file:\t ['/IMG/pdf/I.IPC_septembre2024.pdf'] added\n"
     ]
    },
    {
     "name": "stderr",
     "output_type": "stream",
     "text": [
      "c:\\anaconda3\\envs\\TS_ENV\\Lib\\site-packages\\urllib3\\connectionpool.py:1097: InsecureRequestWarning: Unverified HTTPS request is being made to host 'www.ons.dz'. Adding certificate verification is strongly advised. See: https://urllib3.readthedocs.io/en/latest/advanced-usage.html#tls-warnings\n",
      "  warnings.warn(\n"
     ]
    },
    {
     "name": "stdout",
     "output_type": "stream",
     "text": [
      "link:\t https://www.ons.dz/spip.php?article2683\n",
      "file:\t ['IMG/pdf/i.ipc_mars2021.pdf'] added\n",
      "file:\t ['IMG/pdf/i.ipc_mars2021.pdf'] added\n"
     ]
    },
    {
     "name": "stderr",
     "output_type": "stream",
     "text": [
      "c:\\anaconda3\\envs\\TS_ENV\\Lib\\site-packages\\urllib3\\connectionpool.py:1097: InsecureRequestWarning: Unverified HTTPS request is being made to host 'www.ons.dz'. Adding certificate verification is strongly advised. See: https://urllib3.readthedocs.io/en/latest/advanced-usage.html#tls-warnings\n",
      "  warnings.warn(\n"
     ]
    },
    {
     "name": "stdout",
     "output_type": "stream",
     "text": [
      "link:\t https://www.ons.dz/spip.php?article867\n",
      "file:\t ['IMG/pdf/ipc0903-2.pdf'] added\n",
      "file:\t ['IMG/pdf/ipc0903-2.pdf'] added\n"
     ]
    },
    {
     "name": "stderr",
     "output_type": "stream",
     "text": [
      "c:\\anaconda3\\envs\\TS_ENV\\Lib\\site-packages\\urllib3\\connectionpool.py:1097: InsecureRequestWarning: Unverified HTTPS request is being made to host 'www.ons.dz'. Adding certificate verification is strongly advised. See: https://urllib3.readthedocs.io/en/latest/advanced-usage.html#tls-warnings\n",
      "  warnings.warn(\n"
     ]
    },
    {
     "name": "stdout",
     "output_type": "stream",
     "text": [
      "link:\t https://www.ons.dz/spip.php?article1857\n",
      "file:\t ['IMG/pdf/Ipc0316.pdf'] added\n",
      "file:\t ['IMG/pdf/Ipc0316.pdf'] added\n"
     ]
    },
    {
     "name": "stderr",
     "output_type": "stream",
     "text": [
      "c:\\anaconda3\\envs\\TS_ENV\\Lib\\site-packages\\urllib3\\connectionpool.py:1097: InsecureRequestWarning: Unverified HTTPS request is being made to host 'www.ons.dz'. Adding certificate verification is strongly advised. See: https://urllib3.readthedocs.io/en/latest/advanced-usage.html#tls-warnings\n",
      "  warnings.warn(\n"
     ]
    },
    {
     "name": "stdout",
     "output_type": "stream",
     "text": [
      "link:\t https://www.ons.dz/spip.php?article1879\n",
      "file:\t ['IMG/pdf/ipc0716.pdf'] added\n",
      "file:\t ['IMG/pdf/ipc0716.pdf'] added\n"
     ]
    },
    {
     "name": "stderr",
     "output_type": "stream",
     "text": [
      "c:\\anaconda3\\envs\\TS_ENV\\Lib\\site-packages\\urllib3\\connectionpool.py:1097: InsecureRequestWarning: Unverified HTTPS request is being made to host 'www.ons.dz'. Adding certificate verification is strongly advised. See: https://urllib3.readthedocs.io/en/latest/advanced-usage.html#tls-warnings\n",
      "  warnings.warn(\n"
     ]
    },
    {
     "name": "stdout",
     "output_type": "stream",
     "text": [
      "link:\t https://www.ons.dz/spip.php?article811\n"
     ]
    },
    {
     "name": "stderr",
     "output_type": "stream",
     "text": [
      "c:\\anaconda3\\envs\\TS_ENV\\Lib\\site-packages\\urllib3\\connectionpool.py:1097: InsecureRequestWarning: Unverified HTTPS request is being made to host 'www.ons.dz'. Adding certificate verification is strongly advised. See: https://urllib3.readthedocs.io/en/latest/advanced-usage.html#tls-warnings\n",
      "  warnings.warn(\n"
     ]
    },
    {
     "name": "stdout",
     "output_type": "stream",
     "text": [
      "link:\t https://www.ons.dz/spip.php?article845\n",
      "file:\t ['IMG/pdf/ipc1104-2.pdf'] added\n",
      "file:\t ['IMG/pdf/ipc1104-2.pdf'] added\n"
     ]
    },
    {
     "name": "stderr",
     "output_type": "stream",
     "text": [
      "c:\\anaconda3\\envs\\TS_ENV\\Lib\\site-packages\\urllib3\\connectionpool.py:1097: InsecureRequestWarning: Unverified HTTPS request is being made to host 'www.ons.dz'. Adding certificate verification is strongly advised. See: https://urllib3.readthedocs.io/en/latest/advanced-usage.html#tls-warnings\n",
      "  warnings.warn(\n"
     ]
    },
    {
     "name": "stdout",
     "output_type": "stream",
     "text": [
      "link:\t https://www.ons.dz/spip.php?article772\n"
     ]
    },
    {
     "name": "stderr",
     "output_type": "stream",
     "text": [
      "c:\\anaconda3\\envs\\TS_ENV\\Lib\\site-packages\\urllib3\\connectionpool.py:1097: InsecureRequestWarning: Unverified HTTPS request is being made to host 'www.ons.dz'. Adding certificate verification is strongly advised. See: https://urllib3.readthedocs.io/en/latest/advanced-usage.html#tls-warnings\n",
      "  warnings.warn(\n"
     ]
    },
    {
     "name": "stdout",
     "output_type": "stream",
     "text": [
      "link:\t https://www.ons.dz/spip.php?article800\n"
     ]
    },
    {
     "name": "stderr",
     "output_type": "stream",
     "text": [
      "c:\\anaconda3\\envs\\TS_ENV\\Lib\\site-packages\\urllib3\\connectionpool.py:1097: InsecureRequestWarning: Unverified HTTPS request is being made to host 'www.ons.dz'. Adding certificate verification is strongly advised. See: https://urllib3.readthedocs.io/en/latest/advanced-usage.html#tls-warnings\n",
      "  warnings.warn(\n"
     ]
    },
    {
     "name": "stdout",
     "output_type": "stream",
     "text": [
      "link:\t https://www.ons.dz/spip.php?article2326\n",
      "file:\t ['IMG/pdf/ipc042019.pdf'] added\n",
      "file:\t ['IMG/pdf/ipc042019.pdf'] added\n"
     ]
    },
    {
     "name": "stderr",
     "output_type": "stream",
     "text": [
      "c:\\anaconda3\\envs\\TS_ENV\\Lib\\site-packages\\urllib3\\connectionpool.py:1097: InsecureRequestWarning: Unverified HTTPS request is being made to host 'www.ons.dz'. Adding certificate verification is strongly advised. See: https://urllib3.readthedocs.io/en/latest/advanced-usage.html#tls-warnings\n",
      "  warnings.warn(\n"
     ]
    },
    {
     "name": "stdout",
     "output_type": "stream",
     "text": [
      "link:\t https://www.ons.dz/spip.php?article2621\n",
      "file:\t ['IMG/pdf/i.ipc_octobre2020.pdf'] added\n",
      "file:\t ['IMG/pdf/i.ipc_octobre2020.pdf'] added\n"
     ]
    },
    {
     "name": "stderr",
     "output_type": "stream",
     "text": [
      "c:\\anaconda3\\envs\\TS_ENV\\Lib\\site-packages\\urllib3\\connectionpool.py:1097: InsecureRequestWarning: Unverified HTTPS request is being made to host 'www.ons.dz'. Adding certificate verification is strongly advised. See: https://urllib3.readthedocs.io/en/latest/advanced-usage.html#tls-warnings\n",
      "  warnings.warn(\n"
     ]
    },
    {
     "name": "stdout",
     "output_type": "stream",
     "text": [
      "link:\t https://www.ons.dz/spip.php?article844\n",
      "file:\t ['IMG/pdf/ipc1004-2.pdf'] added\n",
      "file:\t ['IMG/pdf/ipc1004-2.pdf'] added\n"
     ]
    },
    {
     "name": "stderr",
     "output_type": "stream",
     "text": [
      "c:\\anaconda3\\envs\\TS_ENV\\Lib\\site-packages\\urllib3\\connectionpool.py:1097: InsecureRequestWarning: Unverified HTTPS request is being made to host 'www.ons.dz'. Adding certificate verification is strongly advised. See: https://urllib3.readthedocs.io/en/latest/advanced-usage.html#tls-warnings\n",
      "  warnings.warn(\n"
     ]
    },
    {
     "name": "stdout",
     "output_type": "stream",
     "text": [
      "link:\t https://www.ons.dz/spip.php?article868\n",
      "file:\t ['IMG/pdf/ipc1003-2.pdf'] added\n",
      "file:\t ['IMG/pdf/ipc1003-2.pdf'] added\n"
     ]
    },
    {
     "name": "stderr",
     "output_type": "stream",
     "text": [
      "c:\\anaconda3\\envs\\TS_ENV\\Lib\\site-packages\\urllib3\\connectionpool.py:1097: InsecureRequestWarning: Unverified HTTPS request is being made to host 'www.ons.dz'. Adding certificate verification is strongly advised. See: https://urllib3.readthedocs.io/en/latest/advanced-usage.html#tls-warnings\n",
      "  warnings.warn(\n"
     ]
    },
    {
     "name": "stdout",
     "output_type": "stream",
     "text": [
      "link:\t https://www.ons.dz/spip.php?article1499\n",
      "file:\t ['IMG/pdf/Ipc0814.pdf'] added\n",
      "file:\t ['IMG/pdf/Ipc0814.pdf'] added\n"
     ]
    },
    {
     "name": "stderr",
     "output_type": "stream",
     "text": [
      "c:\\anaconda3\\envs\\TS_ENV\\Lib\\site-packages\\urllib3\\connectionpool.py:1097: InsecureRequestWarning: Unverified HTTPS request is being made to host 'www.ons.dz'. Adding certificate verification is strongly advised. See: https://urllib3.readthedocs.io/en/latest/advanced-usage.html#tls-warnings\n",
      "  warnings.warn(\n"
     ]
    },
    {
     "name": "stdout",
     "output_type": "stream",
     "text": [
      "link:\t https://www.ons.dz/spip.php?article2902\n",
      "file:\t ['/IMG/pdf/i.IPC022023.pdf'] added\n",
      "file:\t ['/IMG/pdf/i.IPC022023.pdf'] added\n",
      "file:\t ['/IMG/pdf/i.IPC022023.pdf'] added\n",
      "file:\t ['/IMG/pdf/i.IPC022023.pdf'] added\n"
     ]
    },
    {
     "name": "stderr",
     "output_type": "stream",
     "text": [
      "c:\\anaconda3\\envs\\TS_ENV\\Lib\\site-packages\\urllib3\\connectionpool.py:1097: InsecureRequestWarning: Unverified HTTPS request is being made to host 'www.ons.dz'. Adding certificate verification is strongly advised. See: https://urllib3.readthedocs.io/en/latest/advanced-usage.html#tls-warnings\n",
      "  warnings.warn(\n"
     ]
    },
    {
     "name": "stdout",
     "output_type": "stream",
     "text": [
      "link:\t https://www.ons.dz/spip.php?article2970\n",
      "file:\t ['/IMG/pdf/I.IPC_Janvier2024.pdf'] added\n",
      "file:\t ['/IMG/pdf/I.IPC_Janvier2024.pdf'] added\n",
      "file:\t ['/IMG/pdf/I.IPC_Janvier2024.pdf'] added\n",
      "file:\t ['/IMG/pdf/I.IPC_Janvier2024.pdf'] added\n"
     ]
    },
    {
     "name": "stderr",
     "output_type": "stream",
     "text": [
      "c:\\anaconda3\\envs\\TS_ENV\\Lib\\site-packages\\urllib3\\connectionpool.py:1097: InsecureRequestWarning: Unverified HTTPS request is being made to host 'www.ons.dz'. Adding certificate verification is strongly advised. See: https://urllib3.readthedocs.io/en/latest/advanced-usage.html#tls-warnings\n",
      "  warnings.warn(\n"
     ]
    },
    {
     "name": "stdout",
     "output_type": "stream",
     "text": [
      "link:\t https://www.ons.dz/spip.php?article843\n",
      "file:\t ['IMG/pdf/ipc0904-2.pdf'] added\n",
      "file:\t ['IMG/pdf/ipc0904-2.pdf'] added\n"
     ]
    },
    {
     "name": "stderr",
     "output_type": "stream",
     "text": [
      "c:\\anaconda3\\envs\\TS_ENV\\Lib\\site-packages\\urllib3\\connectionpool.py:1097: InsecureRequestWarning: Unverified HTTPS request is being made to host 'www.ons.dz'. Adding certificate verification is strongly advised. See: https://urllib3.readthedocs.io/en/latest/advanced-usage.html#tls-warnings\n",
      "  warnings.warn(\n"
     ]
    },
    {
     "name": "stdout",
     "output_type": "stream",
     "text": [
      "link:\t https://www.ons.dz/spip.php?article1301\n",
      "file:\t ['IMG/pdf/Ipc1113-2.pdf'] added\n",
      "file:\t ['IMG/pdf/Ipc1113-2.pdf'] added\n"
     ]
    },
    {
     "name": "stderr",
     "output_type": "stream",
     "text": [
      "c:\\anaconda3\\envs\\TS_ENV\\Lib\\site-packages\\urllib3\\connectionpool.py:1097: InsecureRequestWarning: Unverified HTTPS request is being made to host 'www.ons.dz'. Adding certificate verification is strongly advised. See: https://urllib3.readthedocs.io/en/latest/advanced-usage.html#tls-warnings\n",
      "  warnings.warn(\n"
     ]
    },
    {
     "name": "stdout",
     "output_type": "stream",
     "text": [
      "link:\t https://www.ons.dz/spip.php?article1130\n",
      "file:\t ['IMG/pdf/Ipc0512-2.pdf'] added\n",
      "file:\t ['IMG/pdf/Ipc0512-2.pdf'] added\n"
     ]
    },
    {
     "name": "stderr",
     "output_type": "stream",
     "text": [
      "c:\\anaconda3\\envs\\TS_ENV\\Lib\\site-packages\\urllib3\\connectionpool.py:1097: InsecureRequestWarning: Unverified HTTPS request is being made to host 'www.ons.dz'. Adding certificate verification is strongly advised. See: https://urllib3.readthedocs.io/en/latest/advanced-usage.html#tls-warnings\n",
      "  warnings.warn(\n"
     ]
    },
    {
     "name": "stdout",
     "output_type": "stream",
     "text": [
      "link:\t https://www.ons.dz/spip.php?article851\n"
     ]
    },
    {
     "name": "stderr",
     "output_type": "stream",
     "text": [
      "c:\\anaconda3\\envs\\TS_ENV\\Lib\\site-packages\\urllib3\\connectionpool.py:1097: InsecureRequestWarning: Unverified HTTPS request is being made to host 'www.ons.dz'. Adding certificate verification is strongly advised. See: https://urllib3.readthedocs.io/en/latest/advanced-usage.html#tls-warnings\n",
      "  warnings.warn(\n"
     ]
    },
    {
     "name": "stdout",
     "output_type": "stream",
     "text": [
      "link:\t https://www.ons.dz/spip.php?article2770\n",
      "file:\t ['IMG/pdf/i.ipc.decembre2021.pdf'] added\n",
      "file:\t ['IMG/pdf/i.ipc.decembre2021.pdf'] added\n"
     ]
    },
    {
     "name": "stderr",
     "output_type": "stream",
     "text": [
      "c:\\anaconda3\\envs\\TS_ENV\\Lib\\site-packages\\urllib3\\connectionpool.py:1097: InsecureRequestWarning: Unverified HTTPS request is being made to host 'www.ons.dz'. Adding certificate verification is strongly advised. See: https://urllib3.readthedocs.io/en/latest/advanced-usage.html#tls-warnings\n",
      "  warnings.warn(\n"
     ]
    },
    {
     "name": "stdout",
     "output_type": "stream",
     "text": [
      "link:\t https://www.ons.dz/spip.php?article1783\n",
      "file:\t ['IMG/pdf/Ipc1215-2.pdf'] added\n",
      "file:\t ['IMG/pdf/Ipc1215-2.pdf'] added\n"
     ]
    },
    {
     "name": "stderr",
     "output_type": "stream",
     "text": [
      "c:\\anaconda3\\envs\\TS_ENV\\Lib\\site-packages\\urllib3\\connectionpool.py:1097: InsecureRequestWarning: Unverified HTTPS request is being made to host 'www.ons.dz'. Adding certificate verification is strongly advised. See: https://urllib3.readthedocs.io/en/latest/advanced-usage.html#tls-warnings\n",
      "  warnings.warn(\n"
     ]
    },
    {
     "name": "stdout",
     "output_type": "stream",
     "text": [
      "link:\t https://www.ons.dz/spip.php?article792\n"
     ]
    },
    {
     "name": "stderr",
     "output_type": "stream",
     "text": [
      "c:\\anaconda3\\envs\\TS_ENV\\Lib\\site-packages\\urllib3\\connectionpool.py:1097: InsecureRequestWarning: Unverified HTTPS request is being made to host 'www.ons.dz'. Adding certificate verification is strongly advised. See: https://urllib3.readthedocs.io/en/latest/advanced-usage.html#tls-warnings\n",
      "  warnings.warn(\n"
     ]
    },
    {
     "name": "stdout",
     "output_type": "stream",
     "text": [
      "link:\t https://www.ons.dz/spip.php?article861\n",
      "file:\t ['IMG/pdf/ipc0303-2.pdf'] added\n",
      "file:\t ['IMG/pdf/ipc0303-2.pdf'] added\n"
     ]
    },
    {
     "name": "stderr",
     "output_type": "stream",
     "text": [
      "c:\\anaconda3\\envs\\TS_ENV\\Lib\\site-packages\\urllib3\\connectionpool.py:1097: InsecureRequestWarning: Unverified HTTPS request is being made to host 'www.ons.dz'. Adding certificate verification is strongly advised. See: https://urllib3.readthedocs.io/en/latest/advanced-usage.html#tls-warnings\n",
      "  warnings.warn(\n"
     ]
    },
    {
     "name": "stdout",
     "output_type": "stream",
     "text": [
      "link:\t https://www.ons.dz/spip.php?article1354\n",
      "file:\t ['IMG/pdf/Ipc1213_2_-2.pdf'] added\n",
      "file:\t ['IMG/pdf/Ipc1213_2_-2.pdf'] added\n"
     ]
    },
    {
     "name": "stderr",
     "output_type": "stream",
     "text": [
      "c:\\anaconda3\\envs\\TS_ENV\\Lib\\site-packages\\urllib3\\connectionpool.py:1097: InsecureRequestWarning: Unverified HTTPS request is being made to host 'www.ons.dz'. Adding certificate verification is strongly advised. See: https://urllib3.readthedocs.io/en/latest/advanced-usage.html#tls-warnings\n",
      "  warnings.warn(\n"
     ]
    },
    {
     "name": "stdout",
     "output_type": "stream",
     "text": [
      "link:\t https://www.ons.dz/spip.php?article793\n"
     ]
    },
    {
     "name": "stderr",
     "output_type": "stream",
     "text": [
      "c:\\anaconda3\\envs\\TS_ENV\\Lib\\site-packages\\urllib3\\connectionpool.py:1097: InsecureRequestWarning: Unverified HTTPS request is being made to host 'www.ons.dz'. Adding certificate verification is strongly advised. See: https://urllib3.readthedocs.io/en/latest/advanced-usage.html#tls-warnings\n",
      "  warnings.warn(\n"
     ]
    },
    {
     "name": "stdout",
     "output_type": "stream",
     "text": [
      "link:\t https://www.ons.dz/spip.php?article2135\n",
      "file:\t ['IMG/pdf/ipc052018.pdf'] added\n",
      "file:\t ['IMG/pdf/ipc052018.pdf'] added\n"
     ]
    },
    {
     "name": "stderr",
     "output_type": "stream",
     "text": [
      "c:\\anaconda3\\envs\\TS_ENV\\Lib\\site-packages\\urllib3\\connectionpool.py:1097: InsecureRequestWarning: Unverified HTTPS request is being made to host 'www.ons.dz'. Adding certificate verification is strongly advised. See: https://urllib3.readthedocs.io/en/latest/advanced-usage.html#tls-warnings\n",
      "  warnings.warn(\n"
     ]
    },
    {
     "name": "stdout",
     "output_type": "stream",
     "text": [
      "link:\t https://www.ons.dz/spip.php?article2549\n",
      "file:\t ['IMG/pdf/i.ipc_mai2020.pdf'] added\n",
      "file:\t ['IMG/pdf/i.ipc_mai2020.pdf'] added\n"
     ]
    },
    {
     "name": "stderr",
     "output_type": "stream",
     "text": [
      "c:\\anaconda3\\envs\\TS_ENV\\Lib\\site-packages\\urllib3\\connectionpool.py:1097: InsecureRequestWarning: Unverified HTTPS request is being made to host 'www.ons.dz'. Adding certificate verification is strongly advised. See: https://urllib3.readthedocs.io/en/latest/advanced-usage.html#tls-warnings\n",
      "  warnings.warn(\n"
     ]
    },
    {
     "name": "stdout",
     "output_type": "stream",
     "text": [
      "link:\t https://www.ons.dz/spip.php?article2742\n",
      "file:\t ['IMG/pdf/i.ipc_juillet2021.pdf'] added\n",
      "file:\t ['IMG/pdf/i.ipc_juillet2021.pdf'] added\n"
     ]
    },
    {
     "name": "stderr",
     "output_type": "stream",
     "text": [
      "c:\\anaconda3\\envs\\TS_ENV\\Lib\\site-packages\\urllib3\\connectionpool.py:1097: InsecureRequestWarning: Unverified HTTPS request is being made to host 'www.ons.dz'. Adding certificate verification is strongly advised. See: https://urllib3.readthedocs.io/en/latest/advanced-usage.html#tls-warnings\n",
      "  warnings.warn(\n"
     ]
    },
    {
     "name": "stdout",
     "output_type": "stream",
     "text": [
      "link:\t https://www.ons.dz/spip.php?article876\n"
     ]
    },
    {
     "name": "stderr",
     "output_type": "stream",
     "text": [
      "c:\\anaconda3\\envs\\TS_ENV\\Lib\\site-packages\\urllib3\\connectionpool.py:1097: InsecureRequestWarning: Unverified HTTPS request is being made to host 'www.ons.dz'. Adding certificate verification is strongly advised. See: https://urllib3.readthedocs.io/en/latest/advanced-usage.html#tls-warnings\n",
      "  warnings.warn(\n"
     ]
    },
    {
     "name": "stdout",
     "output_type": "stream",
     "text": [
      "link:\t https://www.ons.dz/spip.php?article2048\n",
      "file:\t ['IMG/pdf/ipc082017.pdf'] added\n",
      "file:\t ['IMG/pdf/ipc082017.pdf'] added\n"
     ]
    },
    {
     "name": "stderr",
     "output_type": "stream",
     "text": [
      "c:\\anaconda3\\envs\\TS_ENV\\Lib\\site-packages\\urllib3\\connectionpool.py:1097: InsecureRequestWarning: Unverified HTTPS request is being made to host 'www.ons.dz'. Adding certificate verification is strongly advised. See: https://urllib3.readthedocs.io/en/latest/advanced-usage.html#tls-warnings\n",
      "  warnings.warn(\n"
     ]
    },
    {
     "name": "stdout",
     "output_type": "stream",
     "text": [
      "link:\t https://www.ons.dz/spip.php?article848\n"
     ]
    },
    {
     "name": "stderr",
     "output_type": "stream",
     "text": [
      "c:\\anaconda3\\envs\\TS_ENV\\Lib\\site-packages\\urllib3\\connectionpool.py:1097: InsecureRequestWarning: Unverified HTTPS request is being made to host 'www.ons.dz'. Adding certificate verification is strongly advised. See: https://urllib3.readthedocs.io/en/latest/advanced-usage.html#tls-warnings\n",
      "  warnings.warn(\n"
     ]
    },
    {
     "name": "stdout",
     "output_type": "stream",
     "text": [
      "link:\t https://www.ons.dz/spip.php?article878\n"
     ]
    },
    {
     "name": "stderr",
     "output_type": "stream",
     "text": [
      "c:\\anaconda3\\envs\\TS_ENV\\Lib\\site-packages\\urllib3\\connectionpool.py:1097: InsecureRequestWarning: Unverified HTTPS request is being made to host 'www.ons.dz'. Adding certificate verification is strongly advised. See: https://urllib3.readthedocs.io/en/latest/advanced-usage.html#tls-warnings\n",
      "  warnings.warn(\n"
     ]
    },
    {
     "name": "stdout",
     "output_type": "stream",
     "text": [
      "link:\t https://www.ons.dz/spip.php?article737\n"
     ]
    },
    {
     "name": "stderr",
     "output_type": "stream",
     "text": [
      "c:\\anaconda3\\envs\\TS_ENV\\Lib\\site-packages\\urllib3\\connectionpool.py:1097: InsecureRequestWarning: Unverified HTTPS request is being made to host 'www.ons.dz'. Adding certificate verification is strongly advised. See: https://urllib3.readthedocs.io/en/latest/advanced-usage.html#tls-warnings\n",
      "  warnings.warn(\n"
     ]
    },
    {
     "name": "stdout",
     "output_type": "stream",
     "text": [
      "link:\t https://www.ons.dz/spip.php?article768\n"
     ]
    },
    {
     "name": "stderr",
     "output_type": "stream",
     "text": [
      "c:\\anaconda3\\envs\\TS_ENV\\Lib\\site-packages\\urllib3\\connectionpool.py:1097: InsecureRequestWarning: Unverified HTTPS request is being made to host 'www.ons.dz'. Adding certificate verification is strongly advised. See: https://urllib3.readthedocs.io/en/latest/advanced-usage.html#tls-warnings\n",
      "  warnings.warn(\n"
     ]
    },
    {
     "name": "stdout",
     "output_type": "stream",
     "text": [
      "link:\t https://www.ons.dz/spip.php?article785\n"
     ]
    },
    {
     "name": "stderr",
     "output_type": "stream",
     "text": [
      "c:\\anaconda3\\envs\\TS_ENV\\Lib\\site-packages\\urllib3\\connectionpool.py:1097: InsecureRequestWarning: Unverified HTTPS request is being made to host 'www.ons.dz'. Adding certificate verification is strongly advised. See: https://urllib3.readthedocs.io/en/latest/advanced-usage.html#tls-warnings\n",
      "  warnings.warn(\n"
     ]
    },
    {
     "name": "stdout",
     "output_type": "stream",
     "text": [
      "link:\t https://www.ons.dz/spip.php?article2996\n",
      "file:\t ['/IMG/pdf/I.IPC_mai2024.pdf'] added\n",
      "file:\t ['/IMG/pdf/I.IPC_mai2024.pdf'] added\n",
      "file:\t ['/IMG/pdf/I.IPC_mai2024.pdf'] added\n",
      "file:\t ['/IMG/pdf/I.IPC_mai2024.pdf'] added\n"
     ]
    },
    {
     "name": "stderr",
     "output_type": "stream",
     "text": [
      "c:\\anaconda3\\envs\\TS_ENV\\Lib\\site-packages\\urllib3\\connectionpool.py:1097: InsecureRequestWarning: Unverified HTTPS request is being made to host 'www.ons.dz'. Adding certificate verification is strongly advised. See: https://urllib3.readthedocs.io/en/latest/advanced-usage.html#tls-warnings\n",
      "  warnings.warn(\n"
     ]
    },
    {
     "name": "stdout",
     "output_type": "stream",
     "text": [
      "link:\t https://www.ons.dz/spip.php?article1982\n",
      "file:\t ['IMG/pdf/ipc012017.pdf'] added\n",
      "file:\t ['IMG/pdf/ipc012017.pdf'] added\n"
     ]
    },
    {
     "name": "stderr",
     "output_type": "stream",
     "text": [
      "c:\\anaconda3\\envs\\TS_ENV\\Lib\\site-packages\\urllib3\\connectionpool.py:1097: InsecureRequestWarning: Unverified HTTPS request is being made to host 'www.ons.dz'. Adding certificate verification is strongly advised. See: https://urllib3.readthedocs.io/en/latest/advanced-usage.html#tls-warnings\n",
      "  warnings.warn(\n"
     ]
    },
    {
     "name": "stdout",
     "output_type": "stream",
     "text": [
      "link:\t https://www.ons.dz/spip.php?article881\n"
     ]
    },
    {
     "name": "stderr",
     "output_type": "stream",
     "text": [
      "c:\\anaconda3\\envs\\TS_ENV\\Lib\\site-packages\\urllib3\\connectionpool.py:1097: InsecureRequestWarning: Unverified HTTPS request is being made to host 'www.ons.dz'. Adding certificate verification is strongly advised. See: https://urllib3.readthedocs.io/en/latest/advanced-usage.html#tls-warnings\n",
      "  warnings.warn(\n"
     ]
    },
    {
     "name": "stdout",
     "output_type": "stream",
     "text": [
      "link:\t https://www.ons.dz/spip.php?article873\n"
     ]
    },
    {
     "name": "stderr",
     "output_type": "stream",
     "text": [
      "c:\\anaconda3\\envs\\TS_ENV\\Lib\\site-packages\\urllib3\\connectionpool.py:1097: InsecureRequestWarning: Unverified HTTPS request is being made to host 'www.ons.dz'. Adding certificate verification is strongly advised. See: https://urllib3.readthedocs.io/en/latest/advanced-usage.html#tls-warnings\n",
      "  warnings.warn(\n"
     ]
    },
    {
     "name": "stdout",
     "output_type": "stream",
     "text": [
      "link:\t https://www.ons.dz/spip.php?article807\n"
     ]
    },
    {
     "name": "stderr",
     "output_type": "stream",
     "text": [
      "c:\\anaconda3\\envs\\TS_ENV\\Lib\\site-packages\\urllib3\\connectionpool.py:1097: InsecureRequestWarning: Unverified HTTPS request is being made to host 'www.ons.dz'. Adding certificate verification is strongly advised. See: https://urllib3.readthedocs.io/en/latest/advanced-usage.html#tls-warnings\n",
      "  warnings.warn(\n"
     ]
    },
    {
     "name": "stdout",
     "output_type": "stream",
     "text": [
      "link:\t https://www.ons.dz/spip.php?article2994\n",
      "file:\t ['/IMG/pdf/I.IPC_Avril2024.pdf'] added\n",
      "file:\t ['/IMG/pdf/I.IPC_Avril2024.pdf'] added\n",
      "file:\t ['/IMG/pdf/I.IPC_Avril2024.pdf'] added\n",
      "file:\t ['/IMG/pdf/I.IPC_Avril2024.pdf'] added\n"
     ]
    },
    {
     "name": "stderr",
     "output_type": "stream",
     "text": [
      "c:\\anaconda3\\envs\\TS_ENV\\Lib\\site-packages\\urllib3\\connectionpool.py:1097: InsecureRequestWarning: Unverified HTTPS request is being made to host 'www.ons.dz'. Adding certificate verification is strongly advised. See: https://urllib3.readthedocs.io/en/latest/advanced-usage.html#tls-warnings\n",
      "  warnings.warn(\n"
     ]
    },
    {
     "name": "stdout",
     "output_type": "stream",
     "text": [
      "link:\t https://www.ons.dz/spip.php?article846\n",
      "file:\t ['IMG/pdf/ipc1204-2.pdf'] added\n",
      "file:\t ['IMG/pdf/ipc1204-2.pdf'] added\n"
     ]
    },
    {
     "name": "stderr",
     "output_type": "stream",
     "text": [
      "c:\\anaconda3\\envs\\TS_ENV\\Lib\\site-packages\\urllib3\\connectionpool.py:1097: InsecureRequestWarning: Unverified HTTPS request is being made to host 'www.ons.dz'. Adding certificate verification is strongly advised. See: https://urllib3.readthedocs.io/en/latest/advanced-usage.html#tls-warnings\n",
      "  warnings.warn(\n"
     ]
    },
    {
     "name": "stdout",
     "output_type": "stream",
     "text": [
      "link:\t https://www.ons.dz/spip.php?article942\n",
      "file:\t ['IMG/pdf/IPC0810.pdf'] added\n",
      "file:\t ['IMG/pdf/IPC0810.pdf'] added\n"
     ]
    },
    {
     "name": "stderr",
     "output_type": "stream",
     "text": [
      "c:\\anaconda3\\envs\\TS_ENV\\Lib\\site-packages\\urllib3\\connectionpool.py:1097: InsecureRequestWarning: Unverified HTTPS request is being made to host 'www.ons.dz'. Adding certificate verification is strongly advised. See: https://urllib3.readthedocs.io/en/latest/advanced-usage.html#tls-warnings\n",
      "  warnings.warn(\n"
     ]
    },
    {
     "name": "stdout",
     "output_type": "stream",
     "text": [
      "link:\t https://www.ons.dz/spip.php?article815\n"
     ]
    },
    {
     "name": "stderr",
     "output_type": "stream",
     "text": [
      "c:\\anaconda3\\envs\\TS_ENV\\Lib\\site-packages\\urllib3\\connectionpool.py:1097: InsecureRequestWarning: Unverified HTTPS request is being made to host 'www.ons.dz'. Adding certificate verification is strongly advised. See: https://urllib3.readthedocs.io/en/latest/advanced-usage.html#tls-warnings\n",
      "  warnings.warn(\n"
     ]
    },
    {
     "name": "stdout",
     "output_type": "stream",
     "text": [
      "link:\t https://www.ons.dz/spip.php?article3005\n",
      "file:\t ['/IMG/pdf/I.IPC_Juin2024.pdf'] added\n",
      "file:\t ['/IMG/pdf/I.IPC_Juin2024.pdf'] added\n",
      "file:\t ['/IMG/pdf/I.IPC_Juin2024.pdf'] added\n",
      "file:\t ['/IMG/pdf/I.IPC_Juin2024.pdf'] added\n"
     ]
    },
    {
     "name": "stderr",
     "output_type": "stream",
     "text": [
      "c:\\anaconda3\\envs\\TS_ENV\\Lib\\site-packages\\urllib3\\connectionpool.py:1097: InsecureRequestWarning: Unverified HTTPS request is being made to host 'www.ons.dz'. Adding certificate verification is strongly advised. See: https://urllib3.readthedocs.io/en/latest/advanced-usage.html#tls-warnings\n",
      "  warnings.warn(\n"
     ]
    },
    {
     "name": "stdout",
     "output_type": "stream",
     "text": [
      "link:\t https://www.ons.dz/spip.php?article819\n"
     ]
    },
    {
     "name": "stderr",
     "output_type": "stream",
     "text": [
      "c:\\anaconda3\\envs\\TS_ENV\\Lib\\site-packages\\urllib3\\connectionpool.py:1097: InsecureRequestWarning: Unverified HTTPS request is being made to host 'www.ons.dz'. Adding certificate verification is strongly advised. See: https://urllib3.readthedocs.io/en/latest/advanced-usage.html#tls-warnings\n",
      "  warnings.warn(\n"
     ]
    },
    {
     "name": "stdout",
     "output_type": "stream",
     "text": [
      "link:\t https://www.ons.dz/spip.php?article2772\n",
      "file:\t ['IMG/pdf/i.ipc_fevrier2022.pdf'] added\n",
      "file:\t ['IMG/pdf/i.ipc_fevrier2022.pdf'] added\n"
     ]
    },
    {
     "name": "stderr",
     "output_type": "stream",
     "text": [
      "c:\\anaconda3\\envs\\TS_ENV\\Lib\\site-packages\\urllib3\\connectionpool.py:1097: InsecureRequestWarning: Unverified HTTPS request is being made to host 'www.ons.dz'. Adding certificate verification is strongly advised. See: https://urllib3.readthedocs.io/en/latest/advanced-usage.html#tls-warnings\n",
      "  warnings.warn(\n"
     ]
    },
    {
     "name": "stdout",
     "output_type": "stream",
     "text": [
      "link:\t https://www.ons.dz/spip.php?article842\n",
      "file:\t ['IMG/pdf/ipc0804-2.pdf'] added\n",
      "file:\t ['IMG/pdf/ipc0804-2.pdf'] added\n"
     ]
    },
    {
     "name": "stderr",
     "output_type": "stream",
     "text": [
      "c:\\anaconda3\\envs\\TS_ENV\\Lib\\site-packages\\urllib3\\connectionpool.py:1097: InsecureRequestWarning: Unverified HTTPS request is being made to host 'www.ons.dz'. Adding certificate verification is strongly advised. See: https://urllib3.readthedocs.io/en/latest/advanced-usage.html#tls-warnings\n",
      "  warnings.warn(\n"
     ]
    },
    {
     "name": "stdout",
     "output_type": "stream",
     "text": [
      "link:\t https://www.ons.dz/spip.php?article1153\n",
      "file:\t ['IMG/pdf/Ipc1012-2.pdf'] added\n",
      "file:\t ['IMG/pdf/Ipc1012-2.pdf'] added\n"
     ]
    },
    {
     "name": "stderr",
     "output_type": "stream",
     "text": [
      "c:\\anaconda3\\envs\\TS_ENV\\Lib\\site-packages\\urllib3\\connectionpool.py:1097: InsecureRequestWarning: Unverified HTTPS request is being made to host 'www.ons.dz'. Adding certificate verification is strongly advised. See: https://urllib3.readthedocs.io/en/latest/advanced-usage.html#tls-warnings\n",
      "  warnings.warn(\n"
     ]
    },
    {
     "name": "stdout",
     "output_type": "stream",
     "text": [
      "link:\t https://www.ons.dz/spip.php?article1172\n",
      "file:\t ['IMG/pdf/Ipc0113-2.pdf'] added\n",
      "file:\t ['IMG/pdf/Ipc0113-2.pdf'] added\n"
     ]
    },
    {
     "name": "stderr",
     "output_type": "stream",
     "text": [
      "c:\\anaconda3\\envs\\TS_ENV\\Lib\\site-packages\\urllib3\\connectionpool.py:1097: InsecureRequestWarning: Unverified HTTPS request is being made to host 'www.ons.dz'. Adding certificate verification is strongly advised. See: https://urllib3.readthedocs.io/en/latest/advanced-usage.html#tls-warnings\n",
      "  warnings.warn(\n"
     ]
    },
    {
     "name": "stdout",
     "output_type": "stream",
     "text": [
      "link:\t https://www.ons.dz/spip.php?article841\n",
      "file:\t ['IMG/pdf/ipc0704-2.pdf'] added\n",
      "file:\t ['IMG/pdf/ipc0704-2.pdf'] added\n"
     ]
    },
    {
     "name": "stderr",
     "output_type": "stream",
     "text": [
      "c:\\anaconda3\\envs\\TS_ENV\\Lib\\site-packages\\urllib3\\connectionpool.py:1097: InsecureRequestWarning: Unverified HTTPS request is being made to host 'www.ons.dz'. Adding certificate verification is strongly advised. See: https://urllib3.readthedocs.io/en/latest/advanced-usage.html#tls-warnings\n",
      "  warnings.warn(\n"
     ]
    },
    {
     "name": "stdout",
     "output_type": "stream",
     "text": [
      "link:\t https://www.ons.dz/spip.php?article2067\n",
      "file:\t ['IMG/pdf/ipc102017.pdf'] added\n",
      "file:\t ['IMG/pdf/ipc102017.pdf'] added\n"
     ]
    },
    {
     "name": "stderr",
     "output_type": "stream",
     "text": [
      "c:\\anaconda3\\envs\\TS_ENV\\Lib\\site-packages\\urllib3\\connectionpool.py:1097: InsecureRequestWarning: Unverified HTTPS request is being made to host 'www.ons.dz'. Adding certificate verification is strongly advised. See: https://urllib3.readthedocs.io/en/latest/advanced-usage.html#tls-warnings\n",
      "  warnings.warn(\n"
     ]
    },
    {
     "name": "stdout",
     "output_type": "stream",
     "text": [
      "link:\t https://www.ons.dz/spip.php?article2905\n",
      "file:\t ['/IMG/pdf/i.IPC_Mars2023.pdf'] added\n",
      "file:\t ['/IMG/pdf/i.IPC_Mars2023.pdf'] added\n",
      "file:\t ['/IMG/pdf/i.IPC_Mars2023.pdf'] added\n",
      "file:\t ['/IMG/pdf/i.IPC_Mars2023.pdf'] added\n"
     ]
    },
    {
     "name": "stderr",
     "output_type": "stream",
     "text": [
      "c:\\anaconda3\\envs\\TS_ENV\\Lib\\site-packages\\urllib3\\connectionpool.py:1097: InsecureRequestWarning: Unverified HTTPS request is being made to host 'www.ons.dz'. Adding certificate verification is strongly advised. See: https://urllib3.readthedocs.io/en/latest/advanced-usage.html#tls-warnings\n",
      "  warnings.warn(\n"
     ]
    },
    {
     "name": "stdout",
     "output_type": "stream",
     "text": [
      "link:\t https://www.ons.dz/spip.php?article1391\n",
      "file:\t ['IMG/pdf/Ipc0114-2.pdf'] added\n",
      "file:\t ['IMG/pdf/Ipc0114-2.pdf'] added\n"
     ]
    },
    {
     "name": "stderr",
     "output_type": "stream",
     "text": [
      "c:\\anaconda3\\envs\\TS_ENV\\Lib\\site-packages\\urllib3\\connectionpool.py:1097: InsecureRequestWarning: Unverified HTTPS request is being made to host 'www.ons.dz'. Adding certificate verification is strongly advised. See: https://urllib3.readthedocs.io/en/latest/advanced-usage.html#tls-warnings\n",
      "  warnings.warn(\n"
     ]
    },
    {
     "name": "stdout",
     "output_type": "stream",
     "text": [
      "link:\t https://www.ons.dz/spip.php?article739\n"
     ]
    },
    {
     "name": "stderr",
     "output_type": "stream",
     "text": [
      "c:\\anaconda3\\envs\\TS_ENV\\Lib\\site-packages\\urllib3\\connectionpool.py:1097: InsecureRequestWarning: Unverified HTTPS request is being made to host 'www.ons.dz'. Adding certificate verification is strongly advised. See: https://urllib3.readthedocs.io/en/latest/advanced-usage.html#tls-warnings\n",
      "  warnings.warn(\n"
     ]
    },
    {
     "name": "stdout",
     "output_type": "stream",
     "text": [
      "link:\t https://www.ons.dz/spip.php?article871\n"
     ]
    },
    {
     "name": "stderr",
     "output_type": "stream",
     "text": [
      "c:\\anaconda3\\envs\\TS_ENV\\Lib\\site-packages\\urllib3\\connectionpool.py:1097: InsecureRequestWarning: Unverified HTTPS request is being made to host 'www.ons.dz'. Adding certificate verification is strongly advised. See: https://urllib3.readthedocs.io/en/latest/advanced-usage.html#tls-warnings\n",
      "  warnings.warn(\n"
     ]
    },
    {
     "name": "stdout",
     "output_type": "stream",
     "text": [
      "link:\t https://www.ons.dz/spip.php?article1091\n",
      "file:\t ['IMG/pdf/Ipc0711.pdf'] added\n",
      "file:\t ['IMG/pdf/Ipc0711.pdf'] added\n"
     ]
    },
    {
     "name": "stderr",
     "output_type": "stream",
     "text": [
      "c:\\anaconda3\\envs\\TS_ENV\\Lib\\site-packages\\urllib3\\connectionpool.py:1097: InsecureRequestWarning: Unverified HTTPS request is being made to host 'www.ons.dz'. Adding certificate verification is strongly advised. See: https://urllib3.readthedocs.io/en/latest/advanced-usage.html#tls-warnings\n",
      "  warnings.warn(\n"
     ]
    },
    {
     "name": "stdout",
     "output_type": "stream",
     "text": [
      "link:\t https://www.ons.dz/spip.php?article2987\n",
      "file:\t ['/IMG/pdf/I.IPC_mars2024.pdf'] added\n",
      "file:\t ['/IMG/pdf/I.IPC_mars2024.pdf'] added\n",
      "file:\t ['/IMG/pdf/I.IPC_mars2024.pdf'] added\n",
      "file:\t ['/IMG/pdf/I.IPC_mars2024.pdf'] added\n"
     ]
    },
    {
     "name": "stderr",
     "output_type": "stream",
     "text": [
      "c:\\anaconda3\\envs\\TS_ENV\\Lib\\site-packages\\urllib3\\connectionpool.py:1097: InsecureRequestWarning: Unverified HTTPS request is being made to host 'www.ons.dz'. Adding certificate verification is strongly advised. See: https://urllib3.readthedocs.io/en/latest/advanced-usage.html#tls-warnings\n",
      "  warnings.warn(\n"
     ]
    },
    {
     "name": "stdout",
     "output_type": "stream",
     "text": [
      "link:\t https://www.ons.dz/spip.php?article1649\n",
      "file:\t ['IMG/pdf/Ipc0415-2.pdf'] added\n",
      "file:\t ['IMG/pdf/Ipc0415-2.pdf'] added\n"
     ]
    },
    {
     "name": "stderr",
     "output_type": "stream",
     "text": [
      "c:\\anaconda3\\envs\\TS_ENV\\Lib\\site-packages\\urllib3\\connectionpool.py:1097: InsecureRequestWarning: Unverified HTTPS request is being made to host 'www.ons.dz'. Adding certificate verification is strongly advised. See: https://urllib3.readthedocs.io/en/latest/advanced-usage.html#tls-warnings\n",
      "  warnings.warn(\n"
     ]
    },
    {
     "name": "stdout",
     "output_type": "stream",
     "text": [
      "link:\t https://www.ons.dz/spip.php?article753\n"
     ]
    },
    {
     "name": "stderr",
     "output_type": "stream",
     "text": [
      "c:\\anaconda3\\envs\\TS_ENV\\Lib\\site-packages\\urllib3\\connectionpool.py:1097: InsecureRequestWarning: Unverified HTTPS request is being made to host 'www.ons.dz'. Adding certificate verification is strongly advised. See: https://urllib3.readthedocs.io/en/latest/advanced-usage.html#tls-warnings\n",
      "  warnings.warn(\n"
     ]
    },
    {
     "name": "stdout",
     "output_type": "stream",
     "text": [
      "link:\t https://www.ons.dz/spip.php?article864\n",
      "file:\t ['IMG/pdf/ipc0603-2.pdf'] added\n",
      "file:\t ['IMG/pdf/ipc0603-2.pdf'] added\n"
     ]
    },
    {
     "name": "stderr",
     "output_type": "stream",
     "text": [
      "c:\\anaconda3\\envs\\TS_ENV\\Lib\\site-packages\\urllib3\\connectionpool.py:1097: InsecureRequestWarning: Unverified HTTPS request is being made to host 'www.ons.dz'. Adding certificate verification is strongly advised. See: https://urllib3.readthedocs.io/en/latest/advanced-usage.html#tls-warnings\n",
      "  warnings.warn(\n"
     ]
    },
    {
     "name": "stdout",
     "output_type": "stream",
     "text": [
      "link:\t https://www.ons.dz/spip.php?article2306\n",
      "file:\t ['IMG/pdf/ipc012019.pdf'] added\n",
      "file:\t ['IMG/pdf/ipc012019.pdf'] added\n"
     ]
    },
    {
     "name": "stderr",
     "output_type": "stream",
     "text": [
      "c:\\anaconda3\\envs\\TS_ENV\\Lib\\site-packages\\urllib3\\connectionpool.py:1097: InsecureRequestWarning: Unverified HTTPS request is being made to host 'www.ons.dz'. Adding certificate verification is strongly advised. See: https://urllib3.readthedocs.io/en/latest/advanced-usage.html#tls-warnings\n",
      "  warnings.warn(\n"
     ]
    },
    {
     "name": "stdout",
     "output_type": "stream",
     "text": [
      "link:\t https://www.ons.dz/spip.php?article756\n"
     ]
    },
    {
     "name": "stderr",
     "output_type": "stream",
     "text": [
      "c:\\anaconda3\\envs\\TS_ENV\\Lib\\site-packages\\urllib3\\connectionpool.py:1097: InsecureRequestWarning: Unverified HTTPS request is being made to host 'www.ons.dz'. Adding certificate verification is strongly advised. See: https://urllib3.readthedocs.io/en/latest/advanced-usage.html#tls-warnings\n",
      "  warnings.warn(\n"
     ]
    },
    {
     "name": "stdout",
     "output_type": "stream",
     "text": [
      "link:\t https://www.ons.dz/spip.php?article720\n",
      "file:\t ['IMG/pdf/IPC0709.pdf'] added\n",
      "file:\t ['IMG/pdf/IPC0709.pdf'] added\n"
     ]
    },
    {
     "name": "stderr",
     "output_type": "stream",
     "text": [
      "c:\\anaconda3\\envs\\TS_ENV\\Lib\\site-packages\\urllib3\\connectionpool.py:1097: InsecureRequestWarning: Unverified HTTPS request is being made to host 'www.ons.dz'. Adding certificate verification is strongly advised. See: https://urllib3.readthedocs.io/en/latest/advanced-usage.html#tls-warnings\n",
      "  warnings.warn(\n"
     ]
    },
    {
     "name": "stdout",
     "output_type": "stream",
     "text": [
      "link:\t https://www.ons.dz/spip.php?article838\n",
      "file:\t ['IMG/pdf/ipc0404-2.pdf'] added\n",
      "file:\t ['IMG/pdf/ipc0404-2.pdf'] added\n"
     ]
    },
    {
     "name": "stderr",
     "output_type": "stream",
     "text": [
      "c:\\anaconda3\\envs\\TS_ENV\\Lib\\site-packages\\urllib3\\connectionpool.py:1097: InsecureRequestWarning: Unverified HTTPS request is being made to host 'www.ons.dz'. Adding certificate verification is strongly advised. See: https://urllib3.readthedocs.io/en/latest/advanced-usage.html#tls-warnings\n",
      "  warnings.warn(\n"
     ]
    },
    {
     "name": "stdout",
     "output_type": "stream",
     "text": [
      "link:\t https://www.ons.dz/spip.php?article731\n"
     ]
    },
    {
     "name": "stderr",
     "output_type": "stream",
     "text": [
      "c:\\anaconda3\\envs\\TS_ENV\\Lib\\site-packages\\urllib3\\connectionpool.py:1097: InsecureRequestWarning: Unverified HTTPS request is being made to host 'www.ons.dz'. Adding certificate verification is strongly advised. See: https://urllib3.readthedocs.io/en/latest/advanced-usage.html#tls-warnings\n",
      "  warnings.warn(\n"
     ]
    },
    {
     "name": "stdout",
     "output_type": "stream",
     "text": [
      "link:\t https://www.ons.dz/spip.php?article2744\n",
      "file:\t ['IMG/pdf/i.ipc_septembre_2021.pdf'] added\n",
      "file:\t ['IMG/pdf/i.ipc_septembre_2021.pdf'] added\n"
     ]
    },
    {
     "name": "stderr",
     "output_type": "stream",
     "text": [
      "c:\\anaconda3\\envs\\TS_ENV\\Lib\\site-packages\\urllib3\\connectionpool.py:1097: InsecureRequestWarning: Unverified HTTPS request is being made to host 'www.ons.dz'. Adding certificate verification is strongly advised. See: https://urllib3.readthedocs.io/en/latest/advanced-usage.html#tls-warnings\n",
      "  warnings.warn(\n"
     ]
    },
    {
     "name": "stdout",
     "output_type": "stream",
     "text": [
      "link:\t https://www.ons.dz/spip.php?article767\n"
     ]
    },
    {
     "name": "stderr",
     "output_type": "stream",
     "text": [
      "c:\\anaconda3\\envs\\TS_ENV\\Lib\\site-packages\\urllib3\\connectionpool.py:1097: InsecureRequestWarning: Unverified HTTPS request is being made to host 'www.ons.dz'. Adding certificate verification is strongly advised. See: https://urllib3.readthedocs.io/en/latest/advanced-usage.html#tls-warnings\n",
      "  warnings.warn(\n"
     ]
    },
    {
     "name": "stdout",
     "output_type": "stream",
     "text": [
      "link:\t https://www.ons.dz/spip.php?article1290\n",
      "file:\t ['IMG/pdf/Ipc1013-2.pdf'] added\n",
      "file:\t ['IMG/pdf/Ipc1013-2.pdf'] added\n"
     ]
    },
    {
     "name": "stderr",
     "output_type": "stream",
     "text": [
      "c:\\anaconda3\\envs\\TS_ENV\\Lib\\site-packages\\urllib3\\connectionpool.py:1097: InsecureRequestWarning: Unverified HTTPS request is being made to host 'www.ons.dz'. Adding certificate verification is strongly advised. See: https://urllib3.readthedocs.io/en/latest/advanced-usage.html#tls-warnings\n",
      "  warnings.warn(\n"
     ]
    },
    {
     "name": "stdout",
     "output_type": "stream",
     "text": [
      "link:\t https://www.ons.dz/spip.php?article2413\n",
      "file:\t ['IMG/pdf/ipc_novembre2019.pdf'] added\n",
      "file:\t ['IMG/pdf/ipc_novembre2019.pdf'] added\n"
     ]
    },
    {
     "name": "stderr",
     "output_type": "stream",
     "text": [
      "c:\\anaconda3\\envs\\TS_ENV\\Lib\\site-packages\\urllib3\\connectionpool.py:1097: InsecureRequestWarning: Unverified HTTPS request is being made to host 'www.ons.dz'. Adding certificate verification is strongly advised. See: https://urllib3.readthedocs.io/en/latest/advanced-usage.html#tls-warnings\n",
      "  warnings.warn(\n"
     ]
    },
    {
     "name": "stdout",
     "output_type": "stream",
     "text": [
      "link:\t https://www.ons.dz/spip.php?article980\n",
      "file:\t ['IMG/pdf/Ipc0111.pdf'] added\n",
      "file:\t ['IMG/pdf/Ipc0111.pdf'] added\n"
     ]
    },
    {
     "name": "stderr",
     "output_type": "stream",
     "text": [
      "c:\\anaconda3\\envs\\TS_ENV\\Lib\\site-packages\\urllib3\\connectionpool.py:1097: InsecureRequestWarning: Unverified HTTPS request is being made to host 'www.ons.dz'. Adding certificate verification is strongly advised. See: https://urllib3.readthedocs.io/en/latest/advanced-usage.html#tls-warnings\n",
      "  warnings.warn(\n"
     ]
    },
    {
     "name": "stdout",
     "output_type": "stream",
     "text": [
      "link:\t https://www.ons.dz/spip.php?article747\n"
     ]
    },
    {
     "name": "stderr",
     "output_type": "stream",
     "text": [
      "c:\\anaconda3\\envs\\TS_ENV\\Lib\\site-packages\\urllib3\\connectionpool.py:1097: InsecureRequestWarning: Unverified HTTPS request is being made to host 'www.ons.dz'. Adding certificate verification is strongly advised. See: https://urllib3.readthedocs.io/en/latest/advanced-usage.html#tls-warnings\n",
      "  warnings.warn(\n"
     ]
    },
    {
     "name": "stdout",
     "output_type": "stream",
     "text": [
      "link:\t https://www.ons.dz/spip.php?article829\n"
     ]
    },
    {
     "name": "stderr",
     "output_type": "stream",
     "text": [
      "c:\\anaconda3\\envs\\TS_ENV\\Lib\\site-packages\\urllib3\\connectionpool.py:1097: InsecureRequestWarning: Unverified HTTPS request is being made to host 'www.ons.dz'. Adding certificate verification is strongly advised. See: https://urllib3.readthedocs.io/en/latest/advanced-usage.html#tls-warnings\n",
      "  warnings.warn(\n"
     ]
    },
    {
     "name": "stdout",
     "output_type": "stream",
     "text": [
      "link:\t https://www.ons.dz/spip.php?article789\n"
     ]
    },
    {
     "name": "stderr",
     "output_type": "stream",
     "text": [
      "c:\\anaconda3\\envs\\TS_ENV\\Lib\\site-packages\\urllib3\\connectionpool.py:1097: InsecureRequestWarning: Unverified HTTPS request is being made to host 'www.ons.dz'. Adding certificate verification is strongly advised. See: https://urllib3.readthedocs.io/en/latest/advanced-usage.html#tls-warnings\n",
      "  warnings.warn(\n"
     ]
    },
    {
     "name": "stdout",
     "output_type": "stream",
     "text": [
      "link:\t https://www.ons.dz/spip.php?article2743\n",
      "file:\t ['IMG/pdf/i.ipc_aout2021.pdf'] added\n",
      "file:\t ['IMG/pdf/i.ipc_aout2021.pdf'] added\n"
     ]
    },
    {
     "name": "stderr",
     "output_type": "stream",
     "text": [
      "c:\\anaconda3\\envs\\TS_ENV\\Lib\\site-packages\\urllib3\\connectionpool.py:1097: InsecureRequestWarning: Unverified HTTPS request is being made to host 'www.ons.dz'. Adding certificate verification is strongly advised. See: https://urllib3.readthedocs.io/en/latest/advanced-usage.html#tls-warnings\n",
      "  warnings.warn(\n"
     ]
    },
    {
     "name": "stdout",
     "output_type": "stream",
     "text": [
      "link:\t https://www.ons.dz/spip.php?article2919\n",
      "file:\t ['/IMG/pdf/I.IPC052023.pdf'] added\n",
      "file:\t ['/IMG/pdf/I.IPC052023.pdf'] added\n",
      "file:\t ['/IMG/pdf/I.IPC052023.pdf'] added\n",
      "file:\t ['/IMG/pdf/I.IPC052023.pdf'] added\n"
     ]
    },
    {
     "name": "stderr",
     "output_type": "stream",
     "text": [
      "c:\\anaconda3\\envs\\TS_ENV\\Lib\\site-packages\\urllib3\\connectionpool.py:1097: InsecureRequestWarning: Unverified HTTPS request is being made to host 'www.ons.dz'. Adding certificate verification is strongly advised. See: https://urllib3.readthedocs.io/en/latest/advanced-usage.html#tls-warnings\n",
      "  warnings.warn(\n"
     ]
    },
    {
     "name": "stdout",
     "output_type": "stream",
     "text": [
      "link:\t https://www.ons.dz/spip.php?article1878\n",
      "file:\t ['IMG/pdf/Ipc_juin2016.pdf'] added\n",
      "file:\t ['IMG/pdf/Ipc_juin2016.pdf'] added\n"
     ]
    },
    {
     "name": "stderr",
     "output_type": "stream",
     "text": [
      "c:\\anaconda3\\envs\\TS_ENV\\Lib\\site-packages\\urllib3\\connectionpool.py:1097: InsecureRequestWarning: Unverified HTTPS request is being made to host 'www.ons.dz'. Adding certificate verification is strongly advised. See: https://urllib3.readthedocs.io/en/latest/advanced-usage.html#tls-warnings\n",
      "  warnings.warn(\n"
     ]
    },
    {
     "name": "stdout",
     "output_type": "stream",
     "text": [
      "link:\t https://www.ons.dz/spip.php?article806\n"
     ]
    },
    {
     "name": "stderr",
     "output_type": "stream",
     "text": [
      "c:\\anaconda3\\envs\\TS_ENV\\Lib\\site-packages\\urllib3\\connectionpool.py:1097: InsecureRequestWarning: Unverified HTTPS request is being made to host 'www.ons.dz'. Adding certificate verification is strongly advised. See: https://urllib3.readthedocs.io/en/latest/advanced-usage.html#tls-warnings\n",
      "  warnings.warn(\n"
     ]
    },
    {
     "name": "stdout",
     "output_type": "stream",
     "text": [
      "link:\t https://www.ons.dz/spip.php?article2344\n",
      "file:\t ['IMG/pdf/ipcjuin2019-3.pdf'] added\n",
      "file:\t ['IMG/pdf/ipcjuin2019-3.pdf'] added\n"
     ]
    },
    {
     "name": "stderr",
     "output_type": "stream",
     "text": [
      "c:\\anaconda3\\envs\\TS_ENV\\Lib\\site-packages\\urllib3\\connectionpool.py:1097: InsecureRequestWarning: Unverified HTTPS request is being made to host 'www.ons.dz'. Adding certificate verification is strongly advised. See: https://urllib3.readthedocs.io/en/latest/advanced-usage.html#tls-warnings\n",
      "  warnings.warn(\n"
     ]
    },
    {
     "name": "stdout",
     "output_type": "stream",
     "text": [
      "link:\t https://www.ons.dz/spip.php?article743\n"
     ]
    },
    {
     "name": "stderr",
     "output_type": "stream",
     "text": [
      "c:\\anaconda3\\envs\\TS_ENV\\Lib\\site-packages\\urllib3\\connectionpool.py:1097: InsecureRequestWarning: Unverified HTTPS request is being made to host 'www.ons.dz'. Adding certificate verification is strongly advised. See: https://urllib3.readthedocs.io/en/latest/advanced-usage.html#tls-warnings\n",
      "  warnings.warn(\n"
     ]
    },
    {
     "name": "stdout",
     "output_type": "stream",
     "text": [
      "link:\t https://www.ons.dz/spip.php?article730\n"
     ]
    },
    {
     "name": "stderr",
     "output_type": "stream",
     "text": [
      "c:\\anaconda3\\envs\\TS_ENV\\Lib\\site-packages\\urllib3\\connectionpool.py:1097: InsecureRequestWarning: Unverified HTTPS request is being made to host 'www.ons.dz'. Adding certificate verification is strongly advised. See: https://urllib3.readthedocs.io/en/latest/advanced-usage.html#tls-warnings\n",
      "  warnings.warn(\n"
     ]
    },
    {
     "name": "stdout",
     "output_type": "stream",
     "text": [
      "link:\t https://www.ons.dz/spip.php?article2943\n",
      "file:\t ['/IMG/pdf/I.IPC_Septembre2023.pdf'] added\n",
      "file:\t ['/IMG/pdf/I.IPC_Septembre2023.pdf'] added\n",
      "file:\t ['/IMG/pdf/I.IPC_Septembre2023.pdf'] added\n",
      "file:\t ['/IMG/pdf/I.IPC_Septembre2023.pdf'] added\n"
     ]
    },
    {
     "name": "stderr",
     "output_type": "stream",
     "text": [
      "c:\\anaconda3\\envs\\TS_ENV\\Lib\\site-packages\\urllib3\\connectionpool.py:1097: InsecureRequestWarning: Unverified HTTPS request is being made to host 'www.ons.dz'. Adding certificate verification is strongly advised. See: https://urllib3.readthedocs.io/en/latest/advanced-usage.html#tls-warnings\n",
      "  warnings.warn(\n"
     ]
    },
    {
     "name": "stdout",
     "output_type": "stream",
     "text": [
      "link:\t https://www.ons.dz/spip.php?article2321\n",
      "file:\t ['IMG/pdf/ipc032019.pdf'] added\n",
      "file:\t ['IMG/pdf/ipc032019.pdf'] added\n"
     ]
    },
    {
     "name": "stderr",
     "output_type": "stream",
     "text": [
      "c:\\anaconda3\\envs\\TS_ENV\\Lib\\site-packages\\urllib3\\connectionpool.py:1097: InsecureRequestWarning: Unverified HTTPS request is being made to host 'www.ons.dz'. Adding certificate verification is strongly advised. See: https://urllib3.readthedocs.io/en/latest/advanced-usage.html#tls-warnings\n",
      "  warnings.warn(\n"
     ]
    },
    {
     "name": "stdout",
     "output_type": "stream",
     "text": [
      "link:\t https://www.ons.dz/spip.php?article1175\n",
      "file:\t ['IMG/pdf/Ipc0313-2.pdf'] added\n",
      "file:\t ['IMG/pdf/Ipc0313-2.pdf'] added\n"
     ]
    },
    {
     "name": "stderr",
     "output_type": "stream",
     "text": [
      "c:\\anaconda3\\envs\\TS_ENV\\Lib\\site-packages\\urllib3\\connectionpool.py:1097: InsecureRequestWarning: Unverified HTTPS request is being made to host 'www.ons.dz'. Adding certificate verification is strongly advised. See: https://urllib3.readthedocs.io/en/latest/advanced-usage.html#tls-warnings\n",
      "  warnings.warn(\n"
     ]
    },
    {
     "name": "stdout",
     "output_type": "stream",
     "text": [
      "link:\t https://www.ons.dz/spip.php?article764\n"
     ]
    },
    {
     "name": "stderr",
     "output_type": "stream",
     "text": [
      "c:\\anaconda3\\envs\\TS_ENV\\Lib\\site-packages\\urllib3\\connectionpool.py:1097: InsecureRequestWarning: Unverified HTTPS request is being made to host 'www.ons.dz'. Adding certificate verification is strongly advised. See: https://urllib3.readthedocs.io/en/latest/advanced-usage.html#tls-warnings\n",
      "  warnings.warn(\n"
     ]
    },
    {
     "name": "stdout",
     "output_type": "stream",
     "text": [
      "link:\t https://www.ons.dz/spip.php?article766\n"
     ]
    },
    {
     "name": "stderr",
     "output_type": "stream",
     "text": [
      "c:\\anaconda3\\envs\\TS_ENV\\Lib\\site-packages\\urllib3\\connectionpool.py:1097: InsecureRequestWarning: Unverified HTTPS request is being made to host 'www.ons.dz'. Adding certificate verification is strongly advised. See: https://urllib3.readthedocs.io/en/latest/advanced-usage.html#tls-warnings\n",
      "  warnings.warn(\n"
     ]
    },
    {
     "name": "stdout",
     "output_type": "stream",
     "text": [
      "link:\t https://www.ons.dz/spip.php?article1254\n",
      "file:\t ['IMG/pdf/Ipc0713-2.pdf'] added\n",
      "file:\t ['IMG/pdf/Ipc0713-2.pdf'] added\n"
     ]
    },
    {
     "name": "stderr",
     "output_type": "stream",
     "text": [
      "c:\\anaconda3\\envs\\TS_ENV\\Lib\\site-packages\\urllib3\\connectionpool.py:1097: InsecureRequestWarning: Unverified HTTPS request is being made to host 'www.ons.dz'. Adding certificate verification is strongly advised. See: https://urllib3.readthedocs.io/en/latest/advanced-usage.html#tls-warnings\n",
      "  warnings.warn(\n"
     ]
    },
    {
     "name": "stdout",
     "output_type": "stream",
     "text": [
      "link:\t https://www.ons.dz/spip.php?article734\n"
     ]
    },
    {
     "name": "stderr",
     "output_type": "stream",
     "text": [
      "c:\\anaconda3\\envs\\TS_ENV\\Lib\\site-packages\\urllib3\\connectionpool.py:1097: InsecureRequestWarning: Unverified HTTPS request is being made to host 'www.ons.dz'. Adding certificate verification is strongly advised. See: https://urllib3.readthedocs.io/en/latest/advanced-usage.html#tls-warnings\n",
      "  warnings.warn(\n"
     ]
    },
    {
     "name": "stdout",
     "output_type": "stream",
     "text": [
      "link:\t https://www.ons.dz/spip.php?article855\n"
     ]
    },
    {
     "name": "stderr",
     "output_type": "stream",
     "text": [
      "c:\\anaconda3\\envs\\TS_ENV\\Lib\\site-packages\\urllib3\\connectionpool.py:1097: InsecureRequestWarning: Unverified HTTPS request is being made to host 'www.ons.dz'. Adding certificate verification is strongly advised. See: https://urllib3.readthedocs.io/en/latest/advanced-usage.html#tls-warnings\n",
      "  warnings.warn(\n"
     ]
    },
    {
     "name": "stdout",
     "output_type": "stream",
     "text": [
      "link:\t https://www.ons.dz/spip.php?article880\n"
     ]
    },
    {
     "name": "stderr",
     "output_type": "stream",
     "text": [
      "c:\\anaconda3\\envs\\TS_ENV\\Lib\\site-packages\\urllib3\\connectionpool.py:1097: InsecureRequestWarning: Unverified HTTPS request is being made to host 'www.ons.dz'. Adding certificate verification is strongly advised. See: https://urllib3.readthedocs.io/en/latest/advanced-usage.html#tls-warnings\n",
      "  warnings.warn(\n"
     ]
    },
    {
     "name": "stdout",
     "output_type": "stream",
     "text": [
      "link:\t https://www.ons.dz/spip.php?article1204\n",
      "file:\t ['IMG/pdf/Ipc0613.pdf'] added\n",
      "file:\t ['IMG/pdf/Ipc0613.pdf'] added\n"
     ]
    },
    {
     "name": "stderr",
     "output_type": "stream",
     "text": [
      "c:\\anaconda3\\envs\\TS_ENV\\Lib\\site-packages\\urllib3\\connectionpool.py:1097: InsecureRequestWarning: Unverified HTTPS request is being made to host 'www.ons.dz'. Adding certificate verification is strongly advised. See: https://urllib3.readthedocs.io/en/latest/advanced-usage.html#tls-warnings\n",
      "  warnings.warn(\n"
     ]
    },
    {
     "name": "stdout",
     "output_type": "stream",
     "text": [
      "link:\t https://www.ons.dz/spip.php?article769\n"
     ]
    },
    {
     "name": "stderr",
     "output_type": "stream",
     "text": [
      "c:\\anaconda3\\envs\\TS_ENV\\Lib\\site-packages\\urllib3\\connectionpool.py:1097: InsecureRequestWarning: Unverified HTTPS request is being made to host 'www.ons.dz'. Adding certificate verification is strongly advised. See: https://urllib3.readthedocs.io/en/latest/advanced-usage.html#tls-warnings\n",
      "  warnings.warn(\n"
     ]
    },
    {
     "name": "stdout",
     "output_type": "stream",
     "text": [
      "link:\t https://www.ons.dz/spip.php?article2540\n",
      "file:\t ['IMG/pdf/i.ipc_mars2020.pdf'] added\n",
      "file:\t ['IMG/pdf/i.ipc_mars2020.pdf'] added\n"
     ]
    },
    {
     "name": "stderr",
     "output_type": "stream",
     "text": [
      "c:\\anaconda3\\envs\\TS_ENV\\Lib\\site-packages\\urllib3\\connectionpool.py:1097: InsecureRequestWarning: Unverified HTTPS request is being made to host 'www.ons.dz'. Adding certificate verification is strongly advised. See: https://urllib3.readthedocs.io/en/latest/advanced-usage.html#tls-warnings\n",
      "  warnings.warn(\n"
     ]
    },
    {
     "name": "stdout",
     "output_type": "stream",
     "text": [
      "link:\t https://www.ons.dz/spip.php?article728\n"
     ]
    },
    {
     "name": "stderr",
     "output_type": "stream",
     "text": [
      "c:\\anaconda3\\envs\\TS_ENV\\Lib\\site-packages\\urllib3\\connectionpool.py:1097: InsecureRequestWarning: Unverified HTTPS request is being made to host 'www.ons.dz'. Adding certificate verification is strongly advised. See: https://urllib3.readthedocs.io/en/latest/advanced-usage.html#tls-warnings\n",
      "  warnings.warn(\n"
     ]
    },
    {
     "name": "stdout",
     "output_type": "stream",
     "text": [
      "link:\t https://www.ons.dz/spip.php?article856\n"
     ]
    },
    {
     "name": "stderr",
     "output_type": "stream",
     "text": [
      "c:\\anaconda3\\envs\\TS_ENV\\Lib\\site-packages\\urllib3\\connectionpool.py:1097: InsecureRequestWarning: Unverified HTTPS request is being made to host 'www.ons.dz'. Adding certificate verification is strongly advised. See: https://urllib3.readthedocs.io/en/latest/advanced-usage.html#tls-warnings\n",
      "  warnings.warn(\n"
     ]
    },
    {
     "name": "stdout",
     "output_type": "stream",
     "text": [
      "link:\t https://www.ons.dz/spip.php?article2639\n",
      "file:\t ['IMG/pdf/i.ipc_janvier2021.pdf'] added\n",
      "file:\t ['IMG/pdf/i.ipc_janvier2021.pdf'] added\n"
     ]
    },
    {
     "name": "stderr",
     "output_type": "stream",
     "text": [
      "c:\\anaconda3\\envs\\TS_ENV\\Lib\\site-packages\\urllib3\\connectionpool.py:1097: InsecureRequestWarning: Unverified HTTPS request is being made to host 'www.ons.dz'. Adding certificate verification is strongly advised. See: https://urllib3.readthedocs.io/en/latest/advanced-usage.html#tls-warnings\n",
      "  warnings.warn(\n"
     ]
    },
    {
     "name": "stdout",
     "output_type": "stream",
     "text": [
      "link:\t https://www.ons.dz/spip.php?article2935\n",
      "file:\t ['/IMG/pdf/I.IPC_juillet2023.pdf'] added\n",
      "file:\t ['/IMG/pdf/I.IPC_juillet2023.pdf'] added\n",
      "file:\t ['/IMG/pdf/I.IPC_juillet2023.pdf'] added\n",
      "file:\t ['/IMG/pdf/I.IPC_juillet2023.pdf'] added\n"
     ]
    },
    {
     "name": "stderr",
     "output_type": "stream",
     "text": [
      "c:\\anaconda3\\envs\\TS_ENV\\Lib\\site-packages\\urllib3\\connectionpool.py:1097: InsecureRequestWarning: Unverified HTTPS request is being made to host 'www.ons.dz'. Adding certificate verification is strongly advised. See: https://urllib3.readthedocs.io/en/latest/advanced-usage.html#tls-warnings\n",
      "  warnings.warn(\n"
     ]
    },
    {
     "name": "stdout",
     "output_type": "stream",
     "text": [
      "link:\t https://www.ons.dz/spip.php?article810\n"
     ]
    },
    {
     "name": "stderr",
     "output_type": "stream",
     "text": [
      "c:\\anaconda3\\envs\\TS_ENV\\Lib\\site-packages\\urllib3\\connectionpool.py:1097: InsecureRequestWarning: Unverified HTTPS request is being made to host 'www.ons.dz'. Adding certificate verification is strongly advised. See: https://urllib3.readthedocs.io/en/latest/advanced-usage.html#tls-warnings\n",
      "  warnings.warn(\n"
     ]
    },
    {
     "name": "stdout",
     "output_type": "stream",
     "text": [
      "link:\t https://www.ons.dz/spip.php?article988\n",
      "file:\t ['IMG/pdf/Ipc0311.pdf'] added\n",
      "file:\t ['IMG/pdf/Ipc0311.pdf'] added\n"
     ]
    },
    {
     "name": "stderr",
     "output_type": "stream",
     "text": [
      "c:\\anaconda3\\envs\\TS_ENV\\Lib\\site-packages\\urllib3\\connectionpool.py:1097: InsecureRequestWarning: Unverified HTTPS request is being made to host 'www.ons.dz'. Adding certificate verification is strongly advised. See: https://urllib3.readthedocs.io/en/latest/advanced-usage.html#tls-warnings\n",
      "  warnings.warn(\n"
     ]
    },
    {
     "name": "stdout",
     "output_type": "stream",
     "text": [
      "link:\t https://www.ons.dz/spip.php?article715\n",
      "file:\t ['IMG/pdf/IPC0209.pdf'] added\n",
      "file:\t ['IMG/pdf/IPC0209.pdf'] added\n"
     ]
    },
    {
     "name": "stderr",
     "output_type": "stream",
     "text": [
      "c:\\anaconda3\\envs\\TS_ENV\\Lib\\site-packages\\urllib3\\connectionpool.py:1097: InsecureRequestWarning: Unverified HTTPS request is being made to host 'www.ons.dz'. Adding certificate verification is strongly advised. See: https://urllib3.readthedocs.io/en/latest/advanced-usage.html#tls-warnings\n",
      "  warnings.warn(\n"
     ]
    },
    {
     "name": "stdout",
     "output_type": "stream",
     "text": [
      "link:\t https://www.ons.dz/spip.php?article717\n",
      "file:\t ['IMG/pdf/IPC0409.pdf'] added\n",
      "file:\t ['IMG/pdf/IPC0409.pdf'] added\n"
     ]
    },
    {
     "name": "stderr",
     "output_type": "stream",
     "text": [
      "c:\\anaconda3\\envs\\TS_ENV\\Lib\\site-packages\\urllib3\\connectionpool.py:1097: InsecureRequestWarning: Unverified HTTPS request is being made to host 'www.ons.dz'. Adding certificate verification is strongly advised. See: https://urllib3.readthedocs.io/en/latest/advanced-usage.html#tls-warnings\n",
      "  warnings.warn(\n"
     ]
    },
    {
     "name": "stdout",
     "output_type": "stream",
     "text": [
      "link:\t https://www.ons.dz/spip.php?article798\n"
     ]
    },
    {
     "name": "stderr",
     "output_type": "stream",
     "text": [
      "c:\\anaconda3\\envs\\TS_ENV\\Lib\\site-packages\\urllib3\\connectionpool.py:1097: InsecureRequestWarning: Unverified HTTPS request is being made to host 'www.ons.dz'. Adding certificate verification is strongly advised. See: https://urllib3.readthedocs.io/en/latest/advanced-usage.html#tls-warnings\n",
      "  warnings.warn(\n"
     ]
    },
    {
     "name": "stdout",
     "output_type": "stream",
     "text": [
      "link:\t https://www.ons.dz/spip.php?article2801\n",
      "file:\t ['IMG/pdf/i.ipc_mai_2022.pdf'] added\n",
      "file:\t ['IMG/pdf/i.ipc_mai_2022.pdf'] added\n"
     ]
    },
    {
     "name": "stderr",
     "output_type": "stream",
     "text": [
      "c:\\anaconda3\\envs\\TS_ENV\\Lib\\site-packages\\urllib3\\connectionpool.py:1097: InsecureRequestWarning: Unverified HTTPS request is being made to host 'www.ons.dz'. Adding certificate verification is strongly advised. See: https://urllib3.readthedocs.io/en/latest/advanced-usage.html#tls-warnings\n",
      "  warnings.warn(\n"
     ]
    },
    {
     "name": "stdout",
     "output_type": "stream",
     "text": [
      "link:\t https://www.ons.dz/spip.php?article2927\n",
      "file:\t ['/IMG/pdf/I.IPC_juin2023.pdf'] added\n",
      "file:\t ['/IMG/pdf/I.IPC_juin2023.pdf'] added\n",
      "file:\t ['/IMG/pdf/I.IPC_juin2023.pdf'] added\n",
      "file:\t ['/IMG/pdf/I.IPC_juin2023.pdf'] added\n"
     ]
    },
    {
     "name": "stderr",
     "output_type": "stream",
     "text": [
      "c:\\anaconda3\\envs\\TS_ENV\\Lib\\site-packages\\urllib3\\connectionpool.py:1097: InsecureRequestWarning: Unverified HTTPS request is being made to host 'www.ons.dz'. Adding certificate verification is strongly advised. See: https://urllib3.readthedocs.io/en/latest/advanced-usage.html#tls-warnings\n",
      "  warnings.warn(\n"
     ]
    },
    {
     "name": "stdout",
     "output_type": "stream",
     "text": [
      "link:\t https://www.ons.dz/spip.php?article2632\n",
      "file:\t ['IMG/pdf/i.ipc_decembre2020.pdf'] added\n",
      "file:\t ['IMG/pdf/i.ipc_decembre2020.pdf'] added\n"
     ]
    },
    {
     "name": "stderr",
     "output_type": "stream",
     "text": [
      "c:\\anaconda3\\envs\\TS_ENV\\Lib\\site-packages\\urllib3\\connectionpool.py:1097: InsecureRequestWarning: Unverified HTTPS request is being made to host 'www.ons.dz'. Adding certificate verification is strongly advised. See: https://urllib3.readthedocs.io/en/latest/advanced-usage.html#tls-warnings\n",
      "  warnings.warn(\n"
     ]
    },
    {
     "name": "stdout",
     "output_type": "stream",
     "text": [
      "link:\t https://www.ons.dz/spip.php?article770\n"
     ]
    },
    {
     "name": "stderr",
     "output_type": "stream",
     "text": [
      "c:\\anaconda3\\envs\\TS_ENV\\Lib\\site-packages\\urllib3\\connectionpool.py:1097: InsecureRequestWarning: Unverified HTTPS request is being made to host 'www.ons.dz'. Adding certificate verification is strongly advised. See: https://urllib3.readthedocs.io/en/latest/advanced-usage.html#tls-warnings\n",
      "  warnings.warn(\n"
     ]
    },
    {
     "name": "stdout",
     "output_type": "stream",
     "text": [
      "link:\t https://www.ons.dz/spip.php?article818\n"
     ]
    },
    {
     "name": "stderr",
     "output_type": "stream",
     "text": [
      "c:\\anaconda3\\envs\\TS_ENV\\Lib\\site-packages\\urllib3\\connectionpool.py:1097: InsecureRequestWarning: Unverified HTTPS request is being made to host 'www.ons.dz'. Adding certificate verification is strongly advised. See: https://urllib3.readthedocs.io/en/latest/advanced-usage.html#tls-warnings\n",
      "  warnings.warn(\n"
     ]
    },
    {
     "name": "stdout",
     "output_type": "stream",
     "text": [
      "link:\t https://www.ons.dz/spip.php?article729\n"
     ]
    },
    {
     "name": "stderr",
     "output_type": "stream",
     "text": [
      "c:\\anaconda3\\envs\\TS_ENV\\Lib\\site-packages\\urllib3\\connectionpool.py:1097: InsecureRequestWarning: Unverified HTTPS request is being made to host 'www.ons.dz'. Adding certificate verification is strongly advised. See: https://urllib3.readthedocs.io/en/latest/advanced-usage.html#tls-warnings\n",
      "  warnings.warn(\n"
     ]
    },
    {
     "name": "stdout",
     "output_type": "stream",
     "text": [
      "link:\t https://www.ons.dz/spip.php?article759\n"
     ]
    },
    {
     "name": "stderr",
     "output_type": "stream",
     "text": [
      "c:\\anaconda3\\envs\\TS_ENV\\Lib\\site-packages\\urllib3\\connectionpool.py:1097: InsecureRequestWarning: Unverified HTTPS request is being made to host 'www.ons.dz'. Adding certificate verification is strongly advised. See: https://urllib3.readthedocs.io/en/latest/advanced-usage.html#tls-warnings\n",
      "  warnings.warn(\n"
     ]
    },
    {
     "name": "stdout",
     "output_type": "stream",
     "text": [
      "link:\t https://www.ons.dz/spip.php?article721\n",
      "file:\t ['IMG/pdf/IPC0809nouvb.pdf'] added\n",
      "file:\t ['IMG/pdf/IPC0809nouvb.pdf'] added\n"
     ]
    },
    {
     "name": "stderr",
     "output_type": "stream",
     "text": [
      "c:\\anaconda3\\envs\\TS_ENV\\Lib\\site-packages\\urllib3\\connectionpool.py:1097: InsecureRequestWarning: Unverified HTTPS request is being made to host 'www.ons.dz'. Adding certificate verification is strongly advised. See: https://urllib3.readthedocs.io/en/latest/advanced-usage.html#tls-warnings\n",
      "  warnings.warn(\n"
     ]
    },
    {
     "name": "stdout",
     "output_type": "stream",
     "text": [
      "link:\t https://www.ons.dz/spip.php?article870\n",
      "file:\t ['IMG/pdf/ipc1203-2.pdf'] added\n",
      "file:\t ['IMG/pdf/ipc1203-2.pdf'] added\n"
     ]
    },
    {
     "name": "stderr",
     "output_type": "stream",
     "text": [
      "c:\\anaconda3\\envs\\TS_ENV\\Lib\\site-packages\\urllib3\\connectionpool.py:1097: InsecureRequestWarning: Unverified HTTPS request is being made to host 'www.ons.dz'. Adding certificate verification is strongly advised. See: https://urllib3.readthedocs.io/en/latest/advanced-usage.html#tls-warnings\n",
      "  warnings.warn(\n"
     ]
    },
    {
     "name": "stdout",
     "output_type": "stream",
     "text": [
      "link:\t https://www.ons.dz/spip.php?article780\n"
     ]
    },
    {
     "name": "stderr",
     "output_type": "stream",
     "text": [
      "c:\\anaconda3\\envs\\TS_ENV\\Lib\\site-packages\\urllib3\\connectionpool.py:1097: InsecureRequestWarning: Unverified HTTPS request is being made to host 'www.ons.dz'. Adding certificate verification is strongly advised. See: https://urllib3.readthedocs.io/en/latest/advanced-usage.html#tls-warnings\n",
      "  warnings.warn(\n"
     ]
    },
    {
     "name": "stdout",
     "output_type": "stream",
     "text": [
      "link:\t https://www.ons.dz/spip.php?article2012\n",
      "file:\t ['IMG/pdf/ipc0517.pdf'] added\n",
      "file:\t ['IMG/pdf/ipc0517.pdf'] added\n"
     ]
    },
    {
     "name": "stderr",
     "output_type": "stream",
     "text": [
      "c:\\anaconda3\\envs\\TS_ENV\\Lib\\site-packages\\urllib3\\connectionpool.py:1097: InsecureRequestWarning: Unverified HTTPS request is being made to host 'www.ons.dz'. Adding certificate verification is strongly advised. See: https://urllib3.readthedocs.io/en/latest/advanced-usage.html#tls-warnings\n",
      "  warnings.warn(\n"
     ]
    },
    {
     "name": "stdout",
     "output_type": "stream",
     "text": [
      "link:\t https://www.ons.dz/spip.php?article1092\n",
      "file:\t ['IMG/pdf/Ipc0811.pdf'] added\n",
      "file:\t ['IMG/pdf/Ipc0811.pdf'] added\n"
     ]
    },
    {
     "name": "stderr",
     "output_type": "stream",
     "text": [
      "c:\\anaconda3\\envs\\TS_ENV\\Lib\\site-packages\\urllib3\\connectionpool.py:1097: InsecureRequestWarning: Unverified HTTPS request is being made to host 'www.ons.dz'. Adding certificate verification is strongly advised. See: https://urllib3.readthedocs.io/en/latest/advanced-usage.html#tls-warnings\n",
      "  warnings.warn(\n"
     ]
    },
    {
     "name": "stdout",
     "output_type": "stream",
     "text": [
      "link:\t https://www.ons.dz/spip.php?article790\n"
     ]
    },
    {
     "name": "stderr",
     "output_type": "stream",
     "text": [
      "c:\\anaconda3\\envs\\TS_ENV\\Lib\\site-packages\\urllib3\\connectionpool.py:1097: InsecureRequestWarning: Unverified HTTPS request is being made to host 'www.ons.dz'. Adding certificate verification is strongly advised. See: https://urllib3.readthedocs.io/en/latest/advanced-usage.html#tls-warnings\n",
      "  warnings.warn(\n"
     ]
    },
    {
     "name": "stdout",
     "output_type": "stream",
     "text": [
      "link:\t https://www.ons.dz/spip.php?article2154\n",
      "file:\t ['IMG/pdf/ipc072018.pdf'] added\n",
      "file:\t ['IMG/pdf/ipc072018.pdf'] added\n"
     ]
    },
    {
     "name": "stderr",
     "output_type": "stream",
     "text": [
      "c:\\anaconda3\\envs\\TS_ENV\\Lib\\site-packages\\urllib3\\connectionpool.py:1097: InsecureRequestWarning: Unverified HTTPS request is being made to host 'www.ons.dz'. Adding certificate verification is strongly advised. See: https://urllib3.readthedocs.io/en/latest/advanced-usage.html#tls-warnings\n",
      "  warnings.warn(\n"
     ]
    },
    {
     "name": "stdout",
     "output_type": "stream",
     "text": [
      "link:\t https://www.ons.dz/spip.php?article2911\n",
      "file:\t ['/IMG/pdf/I.IPC_Avril2023.pdf'] added\n",
      "file:\t ['/IMG/pdf/I.IPC_Avril2023.pdf'] added\n",
      "file:\t ['/IMG/pdf/I.IPC_Avril2023.pdf'] added\n",
      "file:\t ['/IMG/pdf/I.IPC_Avril2023.pdf'] added\n"
     ]
    },
    {
     "name": "stderr",
     "output_type": "stream",
     "text": [
      "c:\\anaconda3\\envs\\TS_ENV\\Lib\\site-packages\\urllib3\\connectionpool.py:1097: InsecureRequestWarning: Unverified HTTPS request is being made to host 'www.ons.dz'. Adding certificate verification is strongly advised. See: https://urllib3.readthedocs.io/en/latest/advanced-usage.html#tls-warnings\n",
      "  warnings.warn(\n"
     ]
    },
    {
     "name": "stdout",
     "output_type": "stream",
     "text": [
      "link:\t https://www.ons.dz/spip.php?article1093\n",
      "file:\t ['IMG/pdf/Ipc0911.pdf'] added\n",
      "file:\t ['IMG/pdf/Ipc0911.pdf'] added\n"
     ]
    },
    {
     "name": "stderr",
     "output_type": "stream",
     "text": [
      "c:\\anaconda3\\envs\\TS_ENV\\Lib\\site-packages\\urllib3\\connectionpool.py:1097: InsecureRequestWarning: Unverified HTTPS request is being made to host 'www.ons.dz'. Adding certificate verification is strongly advised. See: https://urllib3.readthedocs.io/en/latest/advanced-usage.html#tls-warnings\n",
      "  warnings.warn(\n"
     ]
    },
    {
     "name": "stdout",
     "output_type": "stream",
     "text": [
      "link:\t https://www.ons.dz/spip.php?article3010\n",
      "file:\t ['/IMG/pdf/I.IPC_Juillet2024.pdf'] added\n",
      "file:\t ['/IMG/pdf/I.IPC_Juillet2024.pdf'] added\n",
      "file:\t ['/IMG/pdf/I.IPC_Juillet2024.pdf'] added\n",
      "file:\t ['/IMG/pdf/I.IPC_Juillet2024.pdf'] added\n"
     ]
    },
    {
     "name": "stderr",
     "output_type": "stream",
     "text": [
      "c:\\anaconda3\\envs\\TS_ENV\\Lib\\site-packages\\urllib3\\connectionpool.py:1097: InsecureRequestWarning: Unverified HTTPS request is being made to host 'www.ons.dz'. Adding certificate verification is strongly advised. See: https://urllib3.readthedocs.io/en/latest/advanced-usage.html#tls-warnings\n",
      "  warnings.warn(\n"
     ]
    },
    {
     "name": "stdout",
     "output_type": "stream",
     "text": [
      "link:\t https://www.ons.dz/spip.php?article1098\n",
      "file:\t ['IMG/pdf/Ipc0212-2.pdf'] added\n",
      "file:\t ['IMG/pdf/Ipc0212-2.pdf'] added\n"
     ]
    },
    {
     "name": "stderr",
     "output_type": "stream",
     "text": [
      "c:\\anaconda3\\envs\\TS_ENV\\Lib\\site-packages\\urllib3\\connectionpool.py:1097: InsecureRequestWarning: Unverified HTTPS request is being made to host 'www.ons.dz'. Adding certificate verification is strongly advised. See: https://urllib3.readthedocs.io/en/latest/advanced-usage.html#tls-warnings\n",
      "  warnings.warn(\n"
     ]
    },
    {
     "name": "stdout",
     "output_type": "stream",
     "text": [
      "link:\t https://www.ons.dz/spip.php?article813\n"
     ]
    },
    {
     "name": "stderr",
     "output_type": "stream",
     "text": [
      "c:\\anaconda3\\envs\\TS_ENV\\Lib\\site-packages\\urllib3\\connectionpool.py:1097: InsecureRequestWarning: Unverified HTTPS request is being made to host 'www.ons.dz'. Adding certificate verification is strongly advised. See: https://urllib3.readthedocs.io/en/latest/advanced-usage.html#tls-warnings\n",
      "  warnings.warn(\n"
     ]
    },
    {
     "name": "stdout",
     "output_type": "stream",
     "text": [
      "link:\t https://www.ons.dz/spip.php?article782\n"
     ]
    },
    {
     "name": "stderr",
     "output_type": "stream",
     "text": [
      "c:\\anaconda3\\envs\\TS_ENV\\Lib\\site-packages\\urllib3\\connectionpool.py:1097: InsecureRequestWarning: Unverified HTTPS request is being made to host 'www.ons.dz'. Adding certificate verification is strongly advised. See: https://urllib3.readthedocs.io/en/latest/advanced-usage.html#tls-warnings\n",
      "  warnings.warn(\n"
     ]
    },
    {
     "name": "stdout",
     "output_type": "stream",
     "text": [
      "link:\t https://www.ons.dz/spip.php?article3034\n",
      "file:\t ['/IMG/pdf/i.ipc_Novembre2024.pdf'] added\n",
      "file:\t ['/IMG/pdf/i.ipc_Novembre2024.pdf'] added\n",
      "file:\t ['/IMG/pdf/i.ipc_Novembre2024.pdf'] added\n",
      "file:\t ['/IMG/pdf/i.ipc_Novembre2024.pdf'] added\n"
     ]
    },
    {
     "name": "stderr",
     "output_type": "stream",
     "text": [
      "c:\\anaconda3\\envs\\TS_ENV\\Lib\\site-packages\\urllib3\\connectionpool.py:1097: InsecureRequestWarning: Unverified HTTPS request is being made to host 'www.ons.dz'. Adding certificate verification is strongly advised. See: https://urllib3.readthedocs.io/en/latest/advanced-usage.html#tls-warnings\n",
      "  warnings.warn(\n"
     ]
    },
    {
     "name": "stdout",
     "output_type": "stream",
     "text": [
      "link:\t https://www.ons.dz/spip.php?article937\n",
      "file:\t ['IMG/pdf/IPC0310.pdf'] added\n",
      "file:\t ['IMG/pdf/IPC0310.pdf'] added\n"
     ]
    },
    {
     "name": "stderr",
     "output_type": "stream",
     "text": [
      "c:\\anaconda3\\envs\\TS_ENV\\Lib\\site-packages\\urllib3\\connectionpool.py:1097: InsecureRequestWarning: Unverified HTTPS request is being made to host 'www.ons.dz'. Adding certificate verification is strongly advised. See: https://urllib3.readthedocs.io/en/latest/advanced-usage.html#tls-warnings\n",
      "  warnings.warn(\n"
     ]
    },
    {
     "name": "stdout",
     "output_type": "stream",
     "text": [
      "link:\t https://www.ons.dz/spip.php?article869\n",
      "file:\t ['IMG/pdf/ipc1103-2.pdf'] added\n",
      "file:\t ['IMG/pdf/ipc1103-2.pdf'] added\n"
     ]
    },
    {
     "name": "stderr",
     "output_type": "stream",
     "text": [
      "c:\\anaconda3\\envs\\TS_ENV\\Lib\\site-packages\\urllib3\\connectionpool.py:1097: InsecureRequestWarning: Unverified HTTPS request is being made to host 'www.ons.dz'. Adding certificate verification is strongly advised. See: https://urllib3.readthedocs.io/en/latest/advanced-usage.html#tls-warnings\n",
      "  warnings.warn(\n"
     ]
    },
    {
     "name": "stdout",
     "output_type": "stream",
     "text": [
      "link:\t https://www.ons.dz/spip.php?article857\n"
     ]
    },
    {
     "name": "stderr",
     "output_type": "stream",
     "text": [
      "c:\\anaconda3\\envs\\TS_ENV\\Lib\\site-packages\\urllib3\\connectionpool.py:1097: InsecureRequestWarning: Unverified HTTPS request is being made to host 'www.ons.dz'. Adding certificate verification is strongly advised. See: https://urllib3.readthedocs.io/en/latest/advanced-usage.html#tls-warnings\n",
      "  warnings.warn(\n"
     ]
    },
    {
     "name": "stdout",
     "output_type": "stream",
     "text": [
      "link:\t https://www.ons.dz/spip.php?article714\n",
      "file:\t ['IMG/pdf/IPC0109.pdf'] added\n",
      "file:\t ['IMG/pdf/IPC0109.pdf'] added\n"
     ]
    },
    {
     "name": "stderr",
     "output_type": "stream",
     "text": [
      "c:\\anaconda3\\envs\\TS_ENV\\Lib\\site-packages\\urllib3\\connectionpool.py:1097: InsecureRequestWarning: Unverified HTTPS request is being made to host 'www.ons.dz'. Adding certificate verification is strongly advised. See: https://urllib3.readthedocs.io/en/latest/advanced-usage.html#tls-warnings\n",
      "  warnings.warn(\n"
     ]
    },
    {
     "name": "stdout",
     "output_type": "stream",
     "text": [
      "link:\t https://www.ons.dz/spip.php?article1534\n",
      "file:\t ['IMG/pdf/Ipc1114_-2.pdf'] added\n",
      "file:\t ['IMG/pdf/Ipc1114_-2.pdf'] added\n"
     ]
    },
    {
     "name": "stderr",
     "output_type": "stream",
     "text": [
      "c:\\anaconda3\\envs\\TS_ENV\\Lib\\site-packages\\urllib3\\connectionpool.py:1097: InsecureRequestWarning: Unverified HTTPS request is being made to host 'www.ons.dz'. Adding certificate verification is strongly advised. See: https://urllib3.readthedocs.io/en/latest/advanced-usage.html#tls-warnings\n",
      "  warnings.warn(\n"
     ]
    },
    {
     "name": "stdout",
     "output_type": "stream",
     "text": [
      "link:\t https://www.ons.dz/spip.php?article808\n"
     ]
    },
    {
     "name": "stderr",
     "output_type": "stream",
     "text": [
      "c:\\anaconda3\\envs\\TS_ENV\\Lib\\site-packages\\urllib3\\connectionpool.py:1097: InsecureRequestWarning: Unverified HTTPS request is being made to host 'www.ons.dz'. Adding certificate verification is strongly advised. See: https://urllib3.readthedocs.io/en/latest/advanced-usage.html#tls-warnings\n",
      "  warnings.warn(\n"
     ]
    },
    {
     "name": "stdout",
     "output_type": "stream",
     "text": [
      "link:\t https://www.ons.dz/spip.php?article840\n",
      "file:\t ['IMG/pdf/ipc0604-2.pdf'] added\n",
      "file:\t ['IMG/pdf/ipc0604-2.pdf'] added\n"
     ]
    },
    {
     "name": "stderr",
     "output_type": "stream",
     "text": [
      "c:\\anaconda3\\envs\\TS_ENV\\Lib\\site-packages\\urllib3\\connectionpool.py:1097: InsecureRequestWarning: Unverified HTTPS request is being made to host 'www.ons.dz'. Adding certificate verification is strongly advised. See: https://urllib3.readthedocs.io/en/latest/advanced-usage.html#tls-warnings\n",
      "  warnings.warn(\n"
     ]
    },
    {
     "name": "stdout",
     "output_type": "stream",
     "text": [
      "link:\t https://www.ons.dz/spip.php?article992\n",
      "file:\t ['IMG/pdf/Ipc0411-2.pdf'] added\n",
      "file:\t ['IMG/pdf/Ipc0411-2.pdf'] added\n"
     ]
    },
    {
     "name": "stderr",
     "output_type": "stream",
     "text": [
      "c:\\anaconda3\\envs\\TS_ENV\\Lib\\site-packages\\urllib3\\connectionpool.py:1097: InsecureRequestWarning: Unverified HTTPS request is being made to host 'www.ons.dz'. Adding certificate verification is strongly advised. See: https://urllib3.readthedocs.io/en/latest/advanced-usage.html#tls-warnings\n",
      "  warnings.warn(\n"
     ]
    },
    {
     "name": "stdout",
     "output_type": "stream",
     "text": [
      "link:\t https://www.ons.dz/spip.php?article757\n"
     ]
    },
    {
     "name": "stderr",
     "output_type": "stream",
     "text": [
      "c:\\anaconda3\\envs\\TS_ENV\\Lib\\site-packages\\urllib3\\connectionpool.py:1097: InsecureRequestWarning: Unverified HTTPS request is being made to host 'www.ons.dz'. Adding certificate verification is strongly advised. See: https://urllib3.readthedocs.io/en/latest/advanced-usage.html#tls-warnings\n",
      "  warnings.warn(\n"
     ]
    },
    {
     "name": "stdout",
     "output_type": "stream",
     "text": [
      "link:\t https://www.ons.dz/spip.php?article725\n",
      "file:\t ['IMG/pdf/IPC1209.pdf'] added\n",
      "file:\t ['IMG/pdf/IPC1209.pdf'] added\n"
     ]
    },
    {
     "name": "stderr",
     "output_type": "stream",
     "text": [
      "c:\\anaconda3\\envs\\TS_ENV\\Lib\\site-packages\\urllib3\\connectionpool.py:1097: InsecureRequestWarning: Unverified HTTPS request is being made to host 'www.ons.dz'. Adding certificate verification is strongly advised. See: https://urllib3.readthedocs.io/en/latest/advanced-usage.html#tls-warnings\n",
      "  warnings.warn(\n"
     ]
    },
    {
     "name": "stdout",
     "output_type": "stream",
     "text": [
      "link:\t https://www.ons.dz/spip.php?article874\n"
     ]
    },
    {
     "name": "stderr",
     "output_type": "stream",
     "text": [
      "c:\\anaconda3\\envs\\TS_ENV\\Lib\\site-packages\\urllib3\\connectionpool.py:1097: InsecureRequestWarning: Unverified HTTPS request is being made to host 'www.ons.dz'. Adding certificate verification is strongly advised. See: https://urllib3.readthedocs.io/en/latest/advanced-usage.html#tls-warnings\n",
      "  warnings.warn(\n"
     ]
    },
    {
     "name": "stdout",
     "output_type": "stream",
     "text": [
      "link:\t https://www.ons.dz/spip.php?article822\n"
     ]
    },
    {
     "name": "stderr",
     "output_type": "stream",
     "text": [
      "c:\\anaconda3\\envs\\TS_ENV\\Lib\\site-packages\\urllib3\\connectionpool.py:1097: InsecureRequestWarning: Unverified HTTPS request is being made to host 'www.ons.dz'. Adding certificate verification is strongly advised. See: https://urllib3.readthedocs.io/en/latest/advanced-usage.html#tls-warnings\n",
      "  warnings.warn(\n"
     ]
    },
    {
     "name": "stdout",
     "output_type": "stream",
     "text": [
      "link:\t https://www.ons.dz/spip.php?article1741\n",
      "file:\t ['IMG/pdf/Ipc0915_.pdf'] added\n",
      "file:\t ['IMG/pdf/Ipc0915_.pdf'] added\n"
     ]
    },
    {
     "name": "stderr",
     "output_type": "stream",
     "text": [
      "c:\\anaconda3\\envs\\TS_ENV\\Lib\\site-packages\\urllib3\\connectionpool.py:1097: InsecureRequestWarning: Unverified HTTPS request is being made to host 'www.ons.dz'. Adding certificate verification is strongly advised. See: https://urllib3.readthedocs.io/en/latest/advanced-usage.html#tls-warnings\n",
      "  warnings.warn(\n"
     ]
    },
    {
     "name": "stdout",
     "output_type": "stream",
     "text": [
      "link:\t https://www.ons.dz/spip.php?article948\n",
      "file:\t ['IMG/pdf/IPC1010.pdf'] added\n",
      "file:\t ['IMG/pdf/IPC1010.pdf'] added\n"
     ]
    },
    {
     "name": "stderr",
     "output_type": "stream",
     "text": [
      "c:\\anaconda3\\envs\\TS_ENV\\Lib\\site-packages\\urllib3\\connectionpool.py:1097: InsecureRequestWarning: Unverified HTTPS request is being made to host 'www.ons.dz'. Adding certificate verification is strongly advised. See: https://urllib3.readthedocs.io/en/latest/advanced-usage.html#tls-warnings\n",
      "  warnings.warn(\n"
     ]
    },
    {
     "name": "stdout",
     "output_type": "stream",
     "text": [
      "link:\t https://www.ons.dz/spip.php?article758\n"
     ]
    },
    {
     "name": "stderr",
     "output_type": "stream",
     "text": [
      "c:\\anaconda3\\envs\\TS_ENV\\Lib\\site-packages\\urllib3\\connectionpool.py:1097: InsecureRequestWarning: Unverified HTTPS request is being made to host 'www.ons.dz'. Adding certificate verification is strongly advised. See: https://urllib3.readthedocs.io/en/latest/advanced-usage.html#tls-warnings\n",
      "  warnings.warn(\n"
     ]
    },
    {
     "name": "stdout",
     "output_type": "stream",
     "text": [
      "link:\t https://www.ons.dz/spip.php?article1975\n",
      "file:\t ['IMG/pdf/Ipc1216.pdf'] added\n",
      "file:\t ['IMG/pdf/Ipc1216.pdf'] added\n"
     ]
    },
    {
     "name": "stderr",
     "output_type": "stream",
     "text": [
      "c:\\anaconda3\\envs\\TS_ENV\\Lib\\site-packages\\urllib3\\connectionpool.py:1097: InsecureRequestWarning: Unverified HTTPS request is being made to host 'www.ons.dz'. Adding certificate verification is strongly advised. See: https://urllib3.readthedocs.io/en/latest/advanced-usage.html#tls-warnings\n",
      "  warnings.warn(\n"
     ]
    },
    {
     "name": "stdout",
     "output_type": "stream",
     "text": [
      "link:\t https://www.ons.dz/spip.php?article1532\n",
      "file:\t ['IMG/pdf/Ipc1014-2.pdf'] added\n",
      "file:\t ['IMG/pdf/Ipc1014-2.pdf'] added\n"
     ]
    },
    {
     "name": "stderr",
     "output_type": "stream",
     "text": [
      "c:\\anaconda3\\envs\\TS_ENV\\Lib\\site-packages\\urllib3\\connectionpool.py:1097: InsecureRequestWarning: Unverified HTTPS request is being made to host 'www.ons.dz'. Adding certificate verification is strongly advised. See: https://urllib3.readthedocs.io/en/latest/advanced-usage.html#tls-warnings\n",
      "  warnings.warn(\n"
     ]
    },
    {
     "name": "stdout",
     "output_type": "stream",
     "text": [
      "link:\t https://www.ons.dz/spip.php?article2843\n",
      "file:\t ['/IMG/pdf/i.ipc_novembre2022.pdf'] added\n",
      "file:\t ['/IMG/pdf/i.ipc_novembre2022.pdf'] added\n",
      "file:\t ['/IMG/pdf/i.ipc_novembre2022.pdf'] added\n",
      "file:\t ['/IMG/pdf/i.ipc_novembre2022.pdf'] added\n"
     ]
    },
    {
     "name": "stderr",
     "output_type": "stream",
     "text": [
      "c:\\anaconda3\\envs\\TS_ENV\\Lib\\site-packages\\urllib3\\connectionpool.py:1097: InsecureRequestWarning: Unverified HTTPS request is being made to host 'www.ons.dz'. Adding certificate verification is strongly advised. See: https://urllib3.readthedocs.io/en/latest/advanced-usage.html#tls-warnings\n",
      "  warnings.warn(\n"
     ]
    },
    {
     "name": "stdout",
     "output_type": "stream",
     "text": [
      "link:\t https://www.ons.dz/spip.php?article777\n"
     ]
    },
    {
     "name": "stderr",
     "output_type": "stream",
     "text": [
      "c:\\anaconda3\\envs\\TS_ENV\\Lib\\site-packages\\urllib3\\connectionpool.py:1097: InsecureRequestWarning: Unverified HTTPS request is being made to host 'www.ons.dz'. Adding certificate verification is strongly advised. See: https://urllib3.readthedocs.io/en/latest/advanced-usage.html#tls-warnings\n",
      "  warnings.warn(\n"
     ]
    },
    {
     "name": "stdout",
     "output_type": "stream",
     "text": [
      "link:\t https://www.ons.dz/spip.php?article2939\n",
      "file:\t ['/IMG/pdf/ipc_Aout2023.pdf'] added\n",
      "file:\t ['/IMG/pdf/ipc_Aout2023.pdf'] added\n",
      "file:\t ['/IMG/pdf/ipc_Aout2023.pdf'] added\n",
      "file:\t ['/IMG/pdf/ipc_Aout2023.pdf'] added\n"
     ]
    },
    {
     "name": "stderr",
     "output_type": "stream",
     "text": [
      "c:\\anaconda3\\envs\\TS_ENV\\Lib\\site-packages\\urllib3\\connectionpool.py:1097: InsecureRequestWarning: Unverified HTTPS request is being made to host 'www.ons.dz'. Adding certificate verification is strongly advised. See: https://urllib3.readthedocs.io/en/latest/advanced-usage.html#tls-warnings\n",
      "  warnings.warn(\n"
     ]
    },
    {
     "name": "stdout",
     "output_type": "stream",
     "text": [
      "link:\t https://www.ons.dz/spip.php?article786\n"
     ]
    },
    {
     "name": "stderr",
     "output_type": "stream",
     "text": [
      "c:\\anaconda3\\envs\\TS_ENV\\Lib\\site-packages\\urllib3\\connectionpool.py:1097: InsecureRequestWarning: Unverified HTTPS request is being made to host 'www.ons.dz'. Adding certificate verification is strongly advised. See: https://urllib3.readthedocs.io/en/latest/advanced-usage.html#tls-warnings\n",
      "  warnings.warn(\n"
     ]
    },
    {
     "name": "stdout",
     "output_type": "stream",
     "text": [
      "link:\t https://www.ons.dz/spip.php?article3031\n",
      "file:\t ['/IMG/pdf/i.ipc_octobre2024.pdf'] added\n",
      "file:\t ['/IMG/pdf/i.ipc_octobre2024.pdf'] added\n",
      "file:\t ['/IMG/pdf/i.ipc_octobre2024.pdf'] added\n",
      "file:\t ['/IMG/pdf/i.ipc_octobre2024.pdf'] added\n"
     ]
    },
    {
     "name": "stderr",
     "output_type": "stream",
     "text": [
      "c:\\anaconda3\\envs\\TS_ENV\\Lib\\site-packages\\urllib3\\connectionpool.py:1097: InsecureRequestWarning: Unverified HTTPS request is being made to host 'www.ons.dz'. Adding certificate verification is strongly advised. See: https://urllib3.readthedocs.io/en/latest/advanced-usage.html#tls-warnings\n",
      "  warnings.warn(\n"
     ]
    },
    {
     "name": "stdout",
     "output_type": "stream",
     "text": [
      "link:\t https://www.ons.dz/spip.php?article742\n"
     ]
    },
    {
     "name": "stderr",
     "output_type": "stream",
     "text": [
      "c:\\anaconda3\\envs\\TS_ENV\\Lib\\site-packages\\urllib3\\connectionpool.py:1097: InsecureRequestWarning: Unverified HTTPS request is being made to host 'www.ons.dz'. Adding certificate verification is strongly advised. See: https://urllib3.readthedocs.io/en/latest/advanced-usage.html#tls-warnings\n",
      "  warnings.warn(\n"
     ]
    },
    {
     "name": "stdout",
     "output_type": "stream",
     "text": [
      "link:\t https://www.ons.dz/spip.php?article2758\n",
      "file:\t ['IMG/pdf/i.ipc_novembre_2021.pdf'] added\n",
      "file:\t ['IMG/pdf/i.ipc_novembre_2021.pdf'] added\n"
     ]
    },
    {
     "name": "stderr",
     "output_type": "stream",
     "text": [
      "c:\\anaconda3\\envs\\TS_ENV\\Lib\\site-packages\\urllib3\\connectionpool.py:1097: InsecureRequestWarning: Unverified HTTPS request is being made to host 'www.ons.dz'. Adding certificate verification is strongly advised. See: https://urllib3.readthedocs.io/en/latest/advanced-usage.html#tls-warnings\n",
      "  warnings.warn(\n"
     ]
    },
    {
     "name": "stdout",
     "output_type": "stream",
     "text": [
      "link:\t https://www.ons.dz/spip.php?article1147\n",
      "file:\t ['IMG/pdf/Ipc0912-2.pdf'] added\n",
      "file:\t ['IMG/pdf/Ipc0912-2.pdf'] added\n"
     ]
    },
    {
     "name": "stderr",
     "output_type": "stream",
     "text": [
      "c:\\anaconda3\\envs\\TS_ENV\\Lib\\site-packages\\urllib3\\connectionpool.py:1097: InsecureRequestWarning: Unverified HTTPS request is being made to host 'www.ons.dz'. Adding certificate verification is strongly advised. See: https://urllib3.readthedocs.io/en/latest/advanced-usage.html#tls-warnings\n",
      "  warnings.warn(\n"
     ]
    },
    {
     "name": "stdout",
     "output_type": "stream",
     "text": [
      "link:\t https://www.ons.dz/spip.php?article2061\n",
      "file:\t ['IMG/pdf/ipc092017.pdf'] added\n",
      "file:\t ['IMG/pdf/ipc092017.pdf'] added\n"
     ]
    },
    {
     "name": "stderr",
     "output_type": "stream",
     "text": [
      "c:\\anaconda3\\envs\\TS_ENV\\Lib\\site-packages\\urllib3\\connectionpool.py:1097: InsecureRequestWarning: Unverified HTTPS request is being made to host 'www.ons.dz'. Adding certificate verification is strongly advised. See: https://urllib3.readthedocs.io/en/latest/advanced-usage.html#tls-warnings\n",
      "  warnings.warn(\n"
     ]
    },
    {
     "name": "stdout",
     "output_type": "stream",
     "text": [
      "link:\t https://www.ons.dz/spip.php?article2822\n",
      "file:\t ['/IMG/pdf/I.IPC-Aout2022.pdf'] added\n",
      "file:\t ['/IMG/pdf/I.IPC-Aout2022.pdf'] added\n",
      "file:\t ['/IMG/pdf/I.IPC-Aout2022.pdf'] added\n",
      "file:\t ['/IMG/pdf/I.IPC-Aout2022.pdf'] added\n"
     ]
    },
    {
     "name": "stderr",
     "output_type": "stream",
     "text": [
      "c:\\anaconda3\\envs\\TS_ENV\\Lib\\site-packages\\urllib3\\connectionpool.py:1097: InsecureRequestWarning: Unverified HTTPS request is being made to host 'www.ons.dz'. Adding certificate verification is strongly advised. See: https://urllib3.readthedocs.io/en/latest/advanced-usage.html#tls-warnings\n",
      "  warnings.warn(\n"
     ]
    },
    {
     "name": "stdout",
     "output_type": "stream",
     "text": [
      "link:\t https://www.ons.dz/spip.php?article1684\n",
      "file:\t ['IMG/pdf/Ipc0515-2.pdf'] added\n",
      "file:\t ['IMG/pdf/Ipc0515-2.pdf'] added\n"
     ]
    },
    {
     "name": "stderr",
     "output_type": "stream",
     "text": [
      "c:\\anaconda3\\envs\\TS_ENV\\Lib\\site-packages\\urllib3\\connectionpool.py:1097: InsecureRequestWarning: Unverified HTTPS request is being made to host 'www.ons.dz'. Adding certificate verification is strongly advised. See: https://urllib3.readthedocs.io/en/latest/advanced-usage.html#tls-warnings\n",
      "  warnings.warn(\n"
     ]
    },
    {
     "name": "stdout",
     "output_type": "stream",
     "text": [
      "link:\t https://www.ons.dz/spip.php?article862\n",
      "file:\t ['IMG/pdf/ipc0403-2.pdf'] added\n",
      "file:\t ['IMG/pdf/ipc0403-2.pdf'] added\n"
     ]
    },
    {
     "name": "stderr",
     "output_type": "stream",
     "text": [
      "c:\\anaconda3\\envs\\TS_ENV\\Lib\\site-packages\\urllib3\\connectionpool.py:1097: InsecureRequestWarning: Unverified HTTPS request is being made to host 'www.ons.dz'. Adding certificate verification is strongly advised. See: https://urllib3.readthedocs.io/en/latest/advanced-usage.html#tls-warnings\n",
      "  warnings.warn(\n"
     ]
    },
    {
     "name": "stdout",
     "output_type": "stream",
     "text": [
      "link:\t https://www.ons.dz/spip.php?article2347\n",
      "file:\t ['IMG/pdf/ipcaout2019.pdf'] added\n",
      "file:\t ['IMG/pdf/ipcaout2019.pdf'] added\n"
     ]
    },
    {
     "name": "stderr",
     "output_type": "stream",
     "text": [
      "c:\\anaconda3\\envs\\TS_ENV\\Lib\\site-packages\\urllib3\\connectionpool.py:1097: InsecureRequestWarning: Unverified HTTPS request is being made to host 'www.ons.dz'. Adding certificate verification is strongly advised. See: https://urllib3.readthedocs.io/en/latest/advanced-usage.html#tls-warnings\n",
      "  warnings.warn(\n"
     ]
    },
    {
     "name": "stdout",
     "output_type": "stream",
     "text": [
      "link:\t https://www.ons.dz/spip.php?article735\n"
     ]
    },
    {
     "name": "stderr",
     "output_type": "stream",
     "text": [
      "c:\\anaconda3\\envs\\TS_ENV\\Lib\\site-packages\\urllib3\\connectionpool.py:1097: InsecureRequestWarning: Unverified HTTPS request is being made to host 'www.ons.dz'. Adding certificate verification is strongly advised. See: https://urllib3.readthedocs.io/en/latest/advanced-usage.html#tls-warnings\n",
      "  warnings.warn(\n"
     ]
    },
    {
     "name": "stdout",
     "output_type": "stream",
     "text": [
      "link:\t https://www.ons.dz/spip.php?article2072\n",
      "file:\t ['IMG/pdf/ipc112017.pdf'] added\n",
      "file:\t ['IMG/pdf/ipc112017.pdf'] added\n"
     ]
    },
    {
     "name": "stderr",
     "output_type": "stream",
     "text": [
      "c:\\anaconda3\\envs\\TS_ENV\\Lib\\site-packages\\urllib3\\connectionpool.py:1097: InsecureRequestWarning: Unverified HTTPS request is being made to host 'www.ons.dz'. Adding certificate verification is strongly advised. See: https://urllib3.readthedocs.io/en/latest/advanced-usage.html#tls-warnings\n",
      "  warnings.warn(\n"
     ]
    },
    {
     "name": "stdout",
     "output_type": "stream",
     "text": [
      "link:\t https://www.ons.dz/spip.php?article1195\n",
      "file:\t ['IMG/pdf/Ipc1212.pdf'] added\n",
      "file:\t ['IMG/pdf/Ipc1212.pdf'] added\n"
     ]
    },
    {
     "name": "stderr",
     "output_type": "stream",
     "text": [
      "c:\\anaconda3\\envs\\TS_ENV\\Lib\\site-packages\\urllib3\\connectionpool.py:1097: InsecureRequestWarning: Unverified HTTPS request is being made to host 'www.ons.dz'. Adding certificate verification is strongly advised. See: https://urllib3.readthedocs.io/en/latest/advanced-usage.html#tls-warnings\n",
      "  warnings.warn(\n"
     ]
    },
    {
     "name": "stdout",
     "output_type": "stream",
     "text": [
      "link:\t https://www.ons.dz/spip.php?article2004\n",
      "file:\t ['IMG/pdf/ipcmars2017.pdf'] added\n",
      "file:\t ['IMG/pdf/ipcmars2017.pdf'] added\n"
     ]
    },
    {
     "name": "stderr",
     "output_type": "stream",
     "text": [
      "c:\\anaconda3\\envs\\TS_ENV\\Lib\\site-packages\\urllib3\\connectionpool.py:1097: InsecureRequestWarning: Unverified HTTPS request is being made to host 'www.ons.dz'. Adding certificate verification is strongly advised. See: https://urllib3.readthedocs.io/en/latest/advanced-usage.html#tls-warnings\n",
      "  warnings.warn(\n"
     ]
    },
    {
     "name": "stdout",
     "output_type": "stream",
     "text": [
      "link:\t https://www.ons.dz/spip.php?article773\n"
     ]
    },
    {
     "name": "stderr",
     "output_type": "stream",
     "text": [
      "c:\\anaconda3\\envs\\TS_ENV\\Lib\\site-packages\\urllib3\\connectionpool.py:1097: InsecureRequestWarning: Unverified HTTPS request is being made to host 'www.ons.dz'. Adding certificate verification is strongly advised. See: https://urllib3.readthedocs.io/en/latest/advanced-usage.html#tls-warnings\n",
      "  warnings.warn(\n"
     ]
    },
    {
     "name": "stdout",
     "output_type": "stream",
     "text": [
      "link:\t https://www.ons.dz/spip.php?article2546\n",
      "file:\t ['IMG/pdf/i.ipc_avril2020.pdf'] added\n",
      "file:\t ['IMG/pdf/i.ipc_avril2020.pdf'] added\n"
     ]
    },
    {
     "name": "stderr",
     "output_type": "stream",
     "text": [
      "c:\\anaconda3\\envs\\TS_ENV\\Lib\\site-packages\\urllib3\\connectionpool.py:1097: InsecureRequestWarning: Unverified HTTPS request is being made to host 'www.ons.dz'. Adding certificate verification is strongly advised. See: https://urllib3.readthedocs.io/en/latest/advanced-usage.html#tls-warnings\n",
      "  warnings.warn(\n"
     ]
    },
    {
     "name": "stdout",
     "output_type": "stream",
     "text": [
      "link:\t https://www.ons.dz/spip.php?article1102\n",
      "file:\t ['IMG/pdf/Ipc0312-2.pdf'] added\n",
      "file:\t ['IMG/pdf/Ipc0312-2.pdf'] added\n"
     ]
    },
    {
     "name": "stderr",
     "output_type": "stream",
     "text": [
      "c:\\anaconda3\\envs\\TS_ENV\\Lib\\site-packages\\urllib3\\connectionpool.py:1097: InsecureRequestWarning: Unverified HTTPS request is being made to host 'www.ons.dz'. Adding certificate verification is strongly advised. See: https://urllib3.readthedocs.io/en/latest/advanced-usage.html#tls-warnings\n",
      "  warnings.warn(\n"
     ]
    },
    {
     "name": "stdout",
     "output_type": "stream",
     "text": [
      "link:\t https://www.ons.dz/spip.php?article1696\n",
      "file:\t ['IMG/pdf/Ipc0615.pdf'] added\n",
      "file:\t ['IMG/pdf/Ipc0615.pdf'] added\n"
     ]
    },
    {
     "name": "stderr",
     "output_type": "stream",
     "text": [
      "c:\\anaconda3\\envs\\TS_ENV\\Lib\\site-packages\\urllib3\\connectionpool.py:1097: InsecureRequestWarning: Unverified HTTPS request is being made to host 'www.ons.dz'. Adding certificate verification is strongly advised. See: https://urllib3.readthedocs.io/en/latest/advanced-usage.html#tls-warnings\n",
      "  warnings.warn(\n"
     ]
    },
    {
     "name": "stdout",
     "output_type": "stream",
     "text": [
      "link:\t https://www.ons.dz/spip.php?article1200\n",
      "file:\t ['IMG/pdf/Ipc0513-3.pdf'] added\n",
      "file:\t ['IMG/pdf/Ipc0513-3.pdf'] added\n"
     ]
    },
    {
     "name": "stderr",
     "output_type": "stream",
     "text": [
      "c:\\anaconda3\\envs\\TS_ENV\\Lib\\site-packages\\urllib3\\connectionpool.py:1097: InsecureRequestWarning: Unverified HTTPS request is being made to host 'www.ons.dz'. Adding certificate verification is strongly advised. See: https://urllib3.readthedocs.io/en/latest/advanced-usage.html#tls-warnings\n",
      "  warnings.warn(\n"
     ]
    },
    {
     "name": "stdout",
     "output_type": "stream",
     "text": [
      "link:\t https://www.ons.dz/spip.php?article740\n"
     ]
    },
    {
     "name": "stderr",
     "output_type": "stream",
     "text": [
      "c:\\anaconda3\\envs\\TS_ENV\\Lib\\site-packages\\urllib3\\connectionpool.py:1097: InsecureRequestWarning: Unverified HTTPS request is being made to host 'www.ons.dz'. Adding certificate verification is strongly advised. See: https://urllib3.readthedocs.io/en/latest/advanced-usage.html#tls-warnings\n",
      "  warnings.warn(\n"
     ]
    },
    {
     "name": "stdout",
     "output_type": "stream",
     "text": [
      "link:\t https://www.ons.dz/spip.php?article837\n",
      "file:\t ['IMG/pdf/ipc0304-2.pdf'] added\n",
      "file:\t ['IMG/pdf/ipc0304-2.pdf'] added\n"
     ]
    },
    {
     "name": "stderr",
     "output_type": "stream",
     "text": [
      "c:\\anaconda3\\envs\\TS_ENV\\Lib\\site-packages\\urllib3\\connectionpool.py:1097: InsecureRequestWarning: Unverified HTTPS request is being made to host 'www.ons.dz'. Adding certificate verification is strongly advised. See: https://urllib3.readthedocs.io/en/latest/advanced-usage.html#tls-warnings\n",
      "  warnings.warn(\n"
     ]
    },
    {
     "name": "stdout",
     "output_type": "stream",
     "text": [
      "link:\t https://www.ons.dz/spip.php?article1471\n",
      "file:\t ['IMG/pdf/Ipc0714-2.pdf'] added\n",
      "file:\t ['IMG/pdf/Ipc0714-2.pdf'] added\n"
     ]
    },
    {
     "name": "stderr",
     "output_type": "stream",
     "text": [
      "c:\\anaconda3\\envs\\TS_ENV\\Lib\\site-packages\\urllib3\\connectionpool.py:1097: InsecureRequestWarning: Unverified HTTPS request is being made to host 'www.ons.dz'. Adding certificate verification is strongly advised. See: https://urllib3.readthedocs.io/en/latest/advanced-usage.html#tls-warnings\n",
      "  warnings.warn(\n"
     ]
    },
    {
     "name": "stdout",
     "output_type": "stream",
     "text": [
      "link:\t https://www.ons.dz/spip.php?article719\n",
      "file:\t ['IMG/pdf/IPC0609.pdf'] added\n",
      "file:\t ['IMG/pdf/IPC0609.pdf'] added\n"
     ]
    },
    {
     "name": "stderr",
     "output_type": "stream",
     "text": [
      "c:\\anaconda3\\envs\\TS_ENV\\Lib\\site-packages\\urllib3\\connectionpool.py:1097: InsecureRequestWarning: Unverified HTTPS request is being made to host 'www.ons.dz'. Adding certificate verification is strongly advised. See: https://urllib3.readthedocs.io/en/latest/advanced-usage.html#tls-warnings\n",
      "  warnings.warn(\n"
     ]
    },
    {
     "name": "stdout",
     "output_type": "stream",
     "text": [
      "link:\t https://www.ons.dz/spip.php?article2252\n",
      "file:\t ['IMG/pdf/ipc122018.pdf'] added\n",
      "file:\t ['IMG/pdf/ipc122018.pdf'] added\n"
     ]
    },
    {
     "name": "stderr",
     "output_type": "stream",
     "text": [
      "c:\\anaconda3\\envs\\TS_ENV\\Lib\\site-packages\\urllib3\\connectionpool.py:1097: InsecureRequestWarning: Unverified HTTPS request is being made to host 'www.ons.dz'. Adding certificate verification is strongly advised. See: https://urllib3.readthedocs.io/en/latest/advanced-usage.html#tls-warnings\n",
      "  warnings.warn(\n"
     ]
    },
    {
     "name": "stdout",
     "output_type": "stream",
     "text": [
      "link:\t https://www.ons.dz/spip.php?article1276\n",
      "file:\t ['IMG/pdf/Ipc0813.pdf'] added\n",
      "file:\t ['IMG/pdf/Ipc0813.pdf'] added\n"
     ]
    },
    {
     "name": "stderr",
     "output_type": "stream",
     "text": [
      "c:\\anaconda3\\envs\\TS_ENV\\Lib\\site-packages\\urllib3\\connectionpool.py:1097: InsecureRequestWarning: Unverified HTTPS request is being made to host 'www.ons.dz'. Adding certificate verification is strongly advised. See: https://urllib3.readthedocs.io/en/latest/advanced-usage.html#tls-warnings\n",
      "  warnings.warn(\n"
     ]
    },
    {
     "name": "stdout",
     "output_type": "stream",
     "text": [
      "link:\t https://www.ons.dz/spip.php?article816\n"
     ]
    },
    {
     "name": "stderr",
     "output_type": "stream",
     "text": [
      "c:\\anaconda3\\envs\\TS_ENV\\Lib\\site-packages\\urllib3\\connectionpool.py:1097: InsecureRequestWarning: Unverified HTTPS request is being made to host 'www.ons.dz'. Adding certificate verification is strongly advised. See: https://urllib3.readthedocs.io/en/latest/advanced-usage.html#tls-warnings\n",
      "  warnings.warn(\n"
     ]
    },
    {
     "name": "stdout",
     "output_type": "stream",
     "text": [
      "link:\t https://www.ons.dz/spip.php?article2191\n",
      "file:\t ['IMG/pdf/ipc082018.pdf'] added\n",
      "file:\t ['IMG/pdf/ipc082018.pdf'] added\n"
     ]
    },
    {
     "name": "stderr",
     "output_type": "stream",
     "text": [
      "c:\\anaconda3\\envs\\TS_ENV\\Lib\\site-packages\\urllib3\\connectionpool.py:1097: InsecureRequestWarning: Unverified HTTPS request is being made to host 'www.ons.dz'. Adding certificate verification is strongly advised. See: https://urllib3.readthedocs.io/en/latest/advanced-usage.html#tls-warnings\n",
      "  warnings.warn(\n"
     ]
    },
    {
     "name": "stdout",
     "output_type": "stream",
     "text": [
      "link:\t https://www.ons.dz/spip.php?article2597\n",
      "file:\t ['IMG/pdf/ipc-juin-2020.pdf'] added\n",
      "file:\t ['IMG/pdf/ipc-juin-2020.pdf'] added\n"
     ]
    },
    {
     "name": "stderr",
     "output_type": "stream",
     "text": [
      "c:\\anaconda3\\envs\\TS_ENV\\Lib\\site-packages\\urllib3\\connectionpool.py:1097: InsecureRequestWarning: Unverified HTTPS request is being made to host 'www.ons.dz'. Adding certificate verification is strongly advised. See: https://urllib3.readthedocs.io/en/latest/advanced-usage.html#tls-warnings\n",
      "  warnings.warn(\n"
     ]
    },
    {
     "name": "stdout",
     "output_type": "stream",
     "text": [
      "link:\t https://www.ons.dz/spip.php?article812\n"
     ]
    },
    {
     "name": "stderr",
     "output_type": "stream",
     "text": [
      "c:\\anaconda3\\envs\\TS_ENV\\Lib\\site-packages\\urllib3\\connectionpool.py:1097: InsecureRequestWarning: Unverified HTTPS request is being made to host 'www.ons.dz'. Adding certificate verification is strongly advised. See: https://urllib3.readthedocs.io/en/latest/advanced-usage.html#tls-warnings\n",
      "  warnings.warn(\n"
     ]
    },
    {
     "name": "stdout",
     "output_type": "stream",
     "text": [
      "link:\t https://www.ons.dz/spip.php?article1894\n",
      "file:\t ['IMG/pdf/Ipc0816.pdf'] added\n",
      "file:\t ['IMG/pdf/Ipc0816.pdf'] added\n"
     ]
    },
    {
     "name": "stderr",
     "output_type": "stream",
     "text": [
      "c:\\anaconda3\\envs\\TS_ENV\\Lib\\site-packages\\urllib3\\connectionpool.py:1097: InsecureRequestWarning: Unverified HTTPS request is being made to host 'www.ons.dz'. Adding certificate verification is strongly advised. See: https://urllib3.readthedocs.io/en/latest/advanced-usage.html#tls-warnings\n",
      "  warnings.warn(\n"
     ]
    },
    {
     "name": "stdout",
     "output_type": "stream",
     "text": [
      "link:\t https://www.ons.dz/spip.php?article1090\n",
      "file:\t ['IMG/pdf/Ipc0611.pdf'] added\n",
      "file:\t ['IMG/pdf/Ipc0611.pdf'] added\n"
     ]
    },
    {
     "name": "stderr",
     "output_type": "stream",
     "text": [
      "c:\\anaconda3\\envs\\TS_ENV\\Lib\\site-packages\\urllib3\\connectionpool.py:1097: InsecureRequestWarning: Unverified HTTPS request is being made to host 'www.ons.dz'. Adding certificate verification is strongly advised. See: https://urllib3.readthedocs.io/en/latest/advanced-usage.html#tls-warnings\n",
      "  warnings.warn(\n"
     ]
    },
    {
     "name": "stdout",
     "output_type": "stream",
     "text": [
      "link:\t https://www.ons.dz/spip.php?article779\n"
     ]
    },
    {
     "name": "stderr",
     "output_type": "stream",
     "text": [
      "c:\\anaconda3\\envs\\TS_ENV\\Lib\\site-packages\\urllib3\\connectionpool.py:1097: InsecureRequestWarning: Unverified HTTPS request is being made to host 'www.ons.dz'. Adding certificate verification is strongly advised. See: https://urllib3.readthedocs.io/en/latest/advanced-usage.html#tls-warnings\n",
      "  warnings.warn(\n"
     ]
    },
    {
     "name": "stdout",
     "output_type": "stream",
     "text": [
      "link:\t https://www.ons.dz/spip.php?article853\n"
     ]
    },
    {
     "name": "stderr",
     "output_type": "stream",
     "text": [
      "c:\\anaconda3\\envs\\TS_ENV\\Lib\\site-packages\\urllib3\\connectionpool.py:1097: InsecureRequestWarning: Unverified HTTPS request is being made to host 'www.ons.dz'. Adding certificate verification is strongly advised. See: https://urllib3.readthedocs.io/en/latest/advanced-usage.html#tls-warnings\n",
      "  warnings.warn(\n"
     ]
    },
    {
     "name": "stdout",
     "output_type": "stream",
     "text": [
      "link:\t https://www.ons.dz/spip.php?article2794\n",
      "file:\t ['IMG/pdf/i.ipc_mars2022.pdf'] added\n",
      "file:\t ['IMG/pdf/i.ipc_mars2022.pdf'] added\n"
     ]
    },
    {
     "name": "stderr",
     "output_type": "stream",
     "text": [
      "c:\\anaconda3\\envs\\TS_ENV\\Lib\\site-packages\\urllib3\\connectionpool.py:1097: InsecureRequestWarning: Unverified HTTPS request is being made to host 'www.ons.dz'. Adding certificate verification is strongly advised. See: https://urllib3.readthedocs.io/en/latest/advanced-usage.html#tls-warnings\n",
      "  warnings.warn(\n"
     ]
    },
    {
     "name": "stdout",
     "output_type": "stream",
     "text": [
      "link:\t https://www.ons.dz/spip.php?article826\n"
     ]
    },
    {
     "name": "stderr",
     "output_type": "stream",
     "text": [
      "c:\\anaconda3\\envs\\TS_ENV\\Lib\\site-packages\\urllib3\\connectionpool.py:1097: InsecureRequestWarning: Unverified HTTPS request is being made to host 'www.ons.dz'. Adding certificate verification is strongly advised. See: https://urllib3.readthedocs.io/en/latest/advanced-usage.html#tls-warnings\n",
      "  warnings.warn(\n"
     ]
    },
    {
     "name": "stdout",
     "output_type": "stream",
     "text": [
      "link:\t https://www.ons.dz/spip.php?article744\n"
     ]
    },
    {
     "name": "stderr",
     "output_type": "stream",
     "text": [
      "c:\\anaconda3\\envs\\TS_ENV\\Lib\\site-packages\\urllib3\\connectionpool.py:1097: InsecureRequestWarning: Unverified HTTPS request is being made to host 'www.ons.dz'. Adding certificate verification is strongly advised. See: https://urllib3.readthedocs.io/en/latest/advanced-usage.html#tls-warnings\n",
      "  warnings.warn(\n"
     ]
    },
    {
     "name": "stdout",
     "output_type": "stream",
     "text": [
      "link:\t https://www.ons.dz/spip.php?article875\n"
     ]
    },
    {
     "name": "stderr",
     "output_type": "stream",
     "text": [
      "c:\\anaconda3\\envs\\TS_ENV\\Lib\\site-packages\\urllib3\\connectionpool.py:1097: InsecureRequestWarning: Unverified HTTPS request is being made to host 'www.ons.dz'. Adding certificate verification is strongly advised. See: https://urllib3.readthedocs.io/en/latest/advanced-usage.html#tls-warnings\n",
      "  warnings.warn(\n"
     ]
    },
    {
     "name": "stdout",
     "output_type": "stream",
     "text": [
      "link:\t https://www.ons.dz/spip.php?article2083\n",
      "file:\t ['IMG/pdf/ipc122017.pdf'] added\n",
      "file:\t ['IMG/pdf/ipc122017.pdf'] added\n"
     ]
    },
    {
     "name": "stderr",
     "output_type": "stream",
     "text": [
      "c:\\anaconda3\\envs\\TS_ENV\\Lib\\site-packages\\urllib3\\connectionpool.py:1097: InsecureRequestWarning: Unverified HTTPS request is being made to host 'www.ons.dz'. Adding certificate verification is strongly advised. See: https://urllib3.readthedocs.io/en/latest/advanced-usage.html#tls-warnings\n",
      "  warnings.warn(\n"
     ]
    },
    {
     "name": "stdout",
     "output_type": "stream",
     "text": [
      "link:\t https://www.ons.dz/spip.php?article850\n"
     ]
    },
    {
     "name": "stderr",
     "output_type": "stream",
     "text": [
      "c:\\anaconda3\\envs\\TS_ENV\\Lib\\site-packages\\urllib3\\connectionpool.py:1097: InsecureRequestWarning: Unverified HTTPS request is being made to host 'www.ons.dz'. Adding certificate verification is strongly advised. See: https://urllib3.readthedocs.io/en/latest/advanced-usage.html#tls-warnings\n",
      "  warnings.warn(\n"
     ]
    },
    {
     "name": "stdout",
     "output_type": "stream",
     "text": [
      "link:\t https://www.ons.dz/spip.php?article797\n"
     ]
    },
    {
     "name": "stderr",
     "output_type": "stream",
     "text": [
      "c:\\anaconda3\\envs\\TS_ENV\\Lib\\site-packages\\urllib3\\connectionpool.py:1097: InsecureRequestWarning: Unverified HTTPS request is being made to host 'www.ons.dz'. Adding certificate verification is strongly advised. See: https://urllib3.readthedocs.io/en/latest/advanced-usage.html#tls-warnings\n",
      "  warnings.warn(\n"
     ]
    },
    {
     "name": "stdout",
     "output_type": "stream",
     "text": [
      "link:\t https://www.ons.dz/spip.php?article2962\n",
      "file:\t ['/IMG/pdf/I.IPC_Decembre2023.pdf'] added\n",
      "file:\t ['/IMG/pdf/I.IPC_Decembre2023.pdf'] added\n",
      "file:\t ['/IMG/pdf/I.IPC_Decembre2023.pdf'] added\n",
      "file:\t ['/IMG/pdf/I.IPC_Decembre2023.pdf'] added\n"
     ]
    },
    {
     "name": "stderr",
     "output_type": "stream",
     "text": [
      "c:\\anaconda3\\envs\\TS_ENV\\Lib\\site-packages\\urllib3\\connectionpool.py:1097: InsecureRequestWarning: Unverified HTTPS request is being made to host 'www.ons.dz'. Adding certificate verification is strongly advised. See: https://urllib3.readthedocs.io/en/latest/advanced-usage.html#tls-warnings\n",
      "  warnings.warn(\n"
     ]
    },
    {
     "name": "stdout",
     "output_type": "stream",
     "text": [
      "link:\t https://www.ons.dz/spip.php?article2529\n",
      "file:\t ['IMG/pdf/i.ipc_janvier2020.pdf'] added\n",
      "file:\t ['IMG/pdf/i.ipc_janvier2020.pdf'] added\n"
     ]
    },
    {
     "name": "stderr",
     "output_type": "stream",
     "text": [
      "c:\\anaconda3\\envs\\TS_ENV\\Lib\\site-packages\\urllib3\\connectionpool.py:1097: InsecureRequestWarning: Unverified HTTPS request is being made to host 'www.ons.dz'. Adding certificate verification is strongly advised. See: https://urllib3.readthedocs.io/en/latest/advanced-usage.html#tls-warnings\n",
      "  warnings.warn(\n"
     ]
    },
    {
     "name": "stdout",
     "output_type": "stream",
     "text": [
      "link:\t https://www.ons.dz/spip.php?article795\n"
     ]
    },
    {
     "name": "stderr",
     "output_type": "stream",
     "text": [
      "c:\\anaconda3\\envs\\TS_ENV\\Lib\\site-packages\\urllib3\\connectionpool.py:1097: InsecureRequestWarning: Unverified HTTPS request is being made to host 'www.ons.dz'. Adding certificate verification is strongly advised. See: https://urllib3.readthedocs.io/en/latest/advanced-usage.html#tls-warnings\n",
      "  warnings.warn(\n"
     ]
    },
    {
     "name": "stdout",
     "output_type": "stream",
     "text": [
      "link:\t https://www.ons.dz/spip.php?article1174\n",
      "file:\t ['IMG/pdf/Ipc0213f-2.pdf'] added\n",
      "file:\t ['IMG/pdf/Ipc0213f-2.pdf'] added\n"
     ]
    },
    {
     "name": "stderr",
     "output_type": "stream",
     "text": [
      "c:\\anaconda3\\envs\\TS_ENV\\Lib\\site-packages\\urllib3\\connectionpool.py:1097: InsecureRequestWarning: Unverified HTTPS request is being made to host 'www.ons.dz'. Adding certificate verification is strongly advised. See: https://urllib3.readthedocs.io/en/latest/advanced-usage.html#tls-warnings\n",
      "  warnings.warn(\n"
     ]
    },
    {
     "name": "stdout",
     "output_type": "stream",
     "text": [
      "link:\t https://www.ons.dz/spip.php?article863\n",
      "file:\t ['IMG/pdf/ipc0503-2.pdf'] added\n",
      "file:\t ['IMG/pdf/ipc0503-2.pdf'] added\n"
     ]
    },
    {
     "name": "stderr",
     "output_type": "stream",
     "text": [
      "c:\\anaconda3\\envs\\TS_ENV\\Lib\\site-packages\\urllib3\\connectionpool.py:1097: InsecureRequestWarning: Unverified HTTPS request is being made to host 'www.ons.dz'. Adding certificate verification is strongly advised. See: https://urllib3.readthedocs.io/en/latest/advanced-usage.html#tls-warnings\n",
      "  warnings.warn(\n"
     ]
    },
    {
     "name": "stdout",
     "output_type": "stream",
     "text": [
      "link:\t https://www.ons.dz/spip.php?article791\n"
     ]
    },
    {
     "name": "stderr",
     "output_type": "stream",
     "text": [
      "c:\\anaconda3\\envs\\TS_ENV\\Lib\\site-packages\\urllib3\\connectionpool.py:1097: InsecureRequestWarning: Unverified HTTPS request is being made to host 'www.ons.dz'. Adding certificate verification is strongly advised. See: https://urllib3.readthedocs.io/en/latest/advanced-usage.html#tls-warnings\n",
      "  warnings.warn(\n"
     ]
    },
    {
     "name": "stdout",
     "output_type": "stream",
     "text": [
      "link:\t https://www.ons.dz/spip.php?article1762\n",
      "file:\t ['IMG/pdf/Ipc1115-2.pdf'] added\n",
      "file:\t ['IMG/pdf/Ipc1115-2.pdf'] added\n"
     ]
    },
    {
     "name": "stderr",
     "output_type": "stream",
     "text": [
      "c:\\anaconda3\\envs\\TS_ENV\\Lib\\site-packages\\urllib3\\connectionpool.py:1097: InsecureRequestWarning: Unverified HTTPS request is being made to host 'www.ons.dz'. Adding certificate verification is strongly advised. See: https://urllib3.readthedocs.io/en/latest/advanced-usage.html#tls-warnings\n",
      "  warnings.warn(\n"
     ]
    },
    {
     "name": "stdout",
     "output_type": "stream",
     "text": [
      "link:\t https://www.ons.dz/spip.php?article950\n",
      "file:\t ['IMG/pdf/IPC0910-3.pdf'] added\n",
      "file:\t ['IMG/pdf/IPC0910-3.pdf'] added\n"
     ]
    },
    {
     "name": "stderr",
     "output_type": "stream",
     "text": [
      "c:\\anaconda3\\envs\\TS_ENV\\Lib\\site-packages\\urllib3\\connectionpool.py:1097: InsecureRequestWarning: Unverified HTTPS request is being made to host 'www.ons.dz'. Adding certificate verification is strongly advised. See: https://urllib3.readthedocs.io/en/latest/advanced-usage.html#tls-warnings\n",
      "  warnings.warn(\n"
     ]
    },
    {
     "name": "stdout",
     "output_type": "stream",
     "text": [
      "link:\t https://www.ons.dz/spip.php?article872\n"
     ]
    },
    {
     "name": "stderr",
     "output_type": "stream",
     "text": [
      "c:\\anaconda3\\envs\\TS_ENV\\Lib\\site-packages\\urllib3\\connectionpool.py:1097: InsecureRequestWarning: Unverified HTTPS request is being made to host 'www.ons.dz'. Adding certificate verification is strongly advised. See: https://urllib3.readthedocs.io/en/latest/advanced-usage.html#tls-warnings\n",
      "  warnings.warn(\n"
     ]
    },
    {
     "name": "stdout",
     "output_type": "stream",
     "text": [
      "link:\t https://www.ons.dz/spip.php?article2098\n",
      "file:\t ['IMG/pdf/ipc012018.pdf'] added\n",
      "file:\t ['IMG/pdf/ipc012018.pdf'] added\n"
     ]
    },
    {
     "name": "stderr",
     "output_type": "stream",
     "text": [
      "c:\\anaconda3\\envs\\TS_ENV\\Lib\\site-packages\\urllib3\\connectionpool.py:1097: InsecureRequestWarning: Unverified HTTPS request is being made to host 'www.ons.dz'. Adding certificate verification is strongly advised. See: https://urllib3.readthedocs.io/en/latest/advanced-usage.html#tls-warnings\n",
      "  warnings.warn(\n"
     ]
    },
    {
     "name": "stdout",
     "output_type": "stream",
     "text": [
      "link:\t https://www.ons.dz/spip.php?article2959\n",
      "file:\t ['/IMG/pdf/I.IPC_novembre2023.pdf'] added\n",
      "file:\t ['/IMG/pdf/I.IPC_novembre2023.pdf'] added\n",
      "file:\t ['/IMG/pdf/I.IPC_novembre2023.pdf'] added\n",
      "file:\t ['/IMG/pdf/I.IPC_novembre2023.pdf'] added\n"
     ]
    },
    {
     "name": "stderr",
     "output_type": "stream",
     "text": [
      "c:\\anaconda3\\envs\\TS_ENV\\Lib\\site-packages\\urllib3\\connectionpool.py:1097: InsecureRequestWarning: Unverified HTTPS request is being made to host 'www.ons.dz'. Adding certificate verification is strongly advised. See: https://urllib3.readthedocs.io/en/latest/advanced-usage.html#tls-warnings\n",
      "  warnings.warn(\n"
     ]
    },
    {
     "name": "stdout",
     "output_type": "stream",
     "text": [
      "link:\t https://www.ons.dz/spip.php?article741\n"
     ]
    },
    {
     "name": "stderr",
     "output_type": "stream",
     "text": [
      "c:\\anaconda3\\envs\\TS_ENV\\Lib\\site-packages\\urllib3\\connectionpool.py:1097: InsecureRequestWarning: Unverified HTTPS request is being made to host 'www.ons.dz'. Adding certificate verification is strongly advised. See: https://urllib3.readthedocs.io/en/latest/advanced-usage.html#tls-warnings\n",
      "  warnings.warn(\n"
     ]
    },
    {
     "name": "stdout",
     "output_type": "stream",
     "text": [
      "link:\t https://www.ons.dz/spip.php?article1089\n",
      "file:\t ['IMG/pdf/Ipc0511-2.pdf'] added\n",
      "file:\t ['IMG/pdf/Ipc0511-2.pdf'] added\n"
     ]
    },
    {
     "name": "stderr",
     "output_type": "stream",
     "text": [
      "c:\\anaconda3\\envs\\TS_ENV\\Lib\\site-packages\\urllib3\\connectionpool.py:1097: InsecureRequestWarning: Unverified HTTPS request is being made to host 'www.ons.dz'. Adding certificate verification is strongly advised. See: https://urllib3.readthedocs.io/en/latest/advanced-usage.html#tls-warnings\n",
      "  warnings.warn(\n"
     ]
    },
    {
     "name": "stdout",
     "output_type": "stream",
     "text": [
      "link:\t https://www.ons.dz/spip.php?article738\n"
     ]
    },
    {
     "name": "stderr",
     "output_type": "stream",
     "text": [
      "c:\\anaconda3\\envs\\TS_ENV\\Lib\\site-packages\\urllib3\\connectionpool.py:1097: InsecureRequestWarning: Unverified HTTPS request is being made to host 'www.ons.dz'. Adding certificate verification is strongly advised. See: https://urllib3.readthedocs.io/en/latest/advanced-usage.html#tls-warnings\n",
      "  warnings.warn(\n"
     ]
    },
    {
     "name": "stdout",
     "output_type": "stream",
     "text": [
      "link:\t https://www.ons.dz/spip.php?article761\n"
     ]
    },
    {
     "name": "stderr",
     "output_type": "stream",
     "text": [
      "c:\\anaconda3\\envs\\TS_ENV\\Lib\\site-packages\\urllib3\\connectionpool.py:1097: InsecureRequestWarning: Unverified HTTPS request is being made to host 'www.ons.dz'. Adding certificate verification is strongly advised. See: https://urllib3.readthedocs.io/en/latest/advanced-usage.html#tls-warnings\n",
      "  warnings.warn(\n"
     ]
    },
    {
     "name": "stdout",
     "output_type": "stream",
     "text": [
      "link:\t https://www.ons.dz/spip.php?article1608\n",
      "file:\t ['IMG/pdf/Ipc0215.pdf'] added\n",
      "file:\t ['IMG/pdf/Ipc0215.pdf'] added\n"
     ]
    },
    {
     "name": "stderr",
     "output_type": "stream",
     "text": [
      "c:\\anaconda3\\envs\\TS_ENV\\Lib\\site-packages\\urllib3\\connectionpool.py:1097: InsecureRequestWarning: Unverified HTTPS request is being made to host 'www.ons.dz'. Adding certificate verification is strongly advised. See: https://urllib3.readthedocs.io/en/latest/advanced-usage.html#tls-warnings\n",
      "  warnings.warn(\n"
     ]
    },
    {
     "name": "stdout",
     "output_type": "stream",
     "text": [
      "link:\t https://www.ons.dz/spip.php?article2410\n",
      "file:\t ['IMG/pdf/ipcoctobre2019.pdf'] added\n",
      "file:\t ['IMG/pdf/ipcoctobre2019.pdf'] added\n"
     ]
    },
    {
     "name": "stderr",
     "output_type": "stream",
     "text": [
      "c:\\anaconda3\\envs\\TS_ENV\\Lib\\site-packages\\urllib3\\connectionpool.py:1097: InsecureRequestWarning: Unverified HTTPS request is being made to host 'www.ons.dz'. Adding certificate verification is strongly advised. See: https://urllib3.readthedocs.io/en/latest/advanced-usage.html#tls-warnings\n",
      "  warnings.warn(\n"
     ]
    },
    {
     "name": "stdout",
     "output_type": "stream",
     "text": [
      "link:\t https://www.ons.dz/spip.php?article754\n"
     ]
    },
    {
     "name": "stderr",
     "output_type": "stream",
     "text": [
      "c:\\anaconda3\\envs\\TS_ENV\\Lib\\site-packages\\urllib3\\connectionpool.py:1097: InsecureRequestWarning: Unverified HTTPS request is being made to host 'www.ons.dz'. Adding certificate verification is strongly advised. See: https://urllib3.readthedocs.io/en/latest/advanced-usage.html#tls-warnings\n",
      "  warnings.warn(\n"
     ]
    },
    {
     "name": "stdout",
     "output_type": "stream",
     "text": [
      "link:\t https://www.ons.dz/spip.php?article987\n",
      "file:\t ['IMG/pdf/Ipc0211.pdf'] added\n",
      "file:\t ['IMG/pdf/Ipc0211.pdf'] added\n"
     ]
    },
    {
     "name": "stderr",
     "output_type": "stream",
     "text": [
      "c:\\anaconda3\\envs\\TS_ENV\\Lib\\site-packages\\urllib3\\connectionpool.py:1097: InsecureRequestWarning: Unverified HTTPS request is being made to host 'www.ons.dz'. Adding certificate verification is strongly advised. See: https://urllib3.readthedocs.io/en/latest/advanced-usage.html#tls-warnings\n",
      "  warnings.warn(\n"
     ]
    },
    {
     "name": "stdout",
     "output_type": "stream",
     "text": [
      "link:\t https://www.ons.dz/spip.php?article775\n"
     ]
    },
    {
     "name": "stderr",
     "output_type": "stream",
     "text": [
      "c:\\anaconda3\\envs\\TS_ENV\\Lib\\site-packages\\urllib3\\connectionpool.py:1097: InsecureRequestWarning: Unverified HTTPS request is being made to host 'www.ons.dz'. Adding certificate verification is strongly advised. See: https://urllib3.readthedocs.io/en/latest/advanced-usage.html#tls-warnings\n",
      "  warnings.warn(\n"
     ]
    },
    {
     "name": "stdout",
     "output_type": "stream",
     "text": [
      "link:\t https://www.ons.dz/spip.php?article836\n",
      "file:\t ['IMG/pdf/ipc0204-2.pdf'] added\n",
      "file:\t ['IMG/pdf/ipc0204-2.pdf'] added\n"
     ]
    },
    {
     "name": "stderr",
     "output_type": "stream",
     "text": [
      "c:\\anaconda3\\envs\\TS_ENV\\Lib\\site-packages\\urllib3\\connectionpool.py:1097: InsecureRequestWarning: Unverified HTTPS request is being made to host 'www.ons.dz'. Adding certificate verification is strongly advised. See: https://urllib3.readthedocs.io/en/latest/advanced-usage.html#tls-warnings\n",
      "  warnings.warn(\n"
     ]
    },
    {
     "name": "stdout",
     "output_type": "stream",
     "text": [
      "link:\t https://www.ons.dz/spip.php?article2863\n",
      "file:\t ['/IMG/pdf/I.IPC_decembre2022.pdf'] added\n",
      "file:\t ['/IMG/pdf/I.IPC_decembre2022.pdf'] added\n",
      "file:\t ['/IMG/pdf/I.IPC_decembre2022.pdf'] added\n",
      "file:\t ['/IMG/pdf/I.IPC_decembre2022.pdf'] added\n"
     ]
    },
    {
     "name": "stderr",
     "output_type": "stream",
     "text": [
      "c:\\anaconda3\\envs\\TS_ENV\\Lib\\site-packages\\urllib3\\connectionpool.py:1097: InsecureRequestWarning: Unverified HTTPS request is being made to host 'www.ons.dz'. Adding certificate verification is strongly advised. See: https://urllib3.readthedocs.io/en/latest/advanced-usage.html#tls-warnings\n",
      "  warnings.warn(\n"
     ]
    },
    {
     "name": "stdout",
     "output_type": "stream",
     "text": [
      "link:\t https://www.ons.dz/spip.php?article833\n"
     ]
    },
    {
     "name": "stderr",
     "output_type": "stream",
     "text": [
      "c:\\anaconda3\\envs\\TS_ENV\\Lib\\site-packages\\urllib3\\connectionpool.py:1097: InsecureRequestWarning: Unverified HTTPS request is being made to host 'www.ons.dz'. Adding certificate verification is strongly advised. See: https://urllib3.readthedocs.io/en/latest/advanced-usage.html#tls-warnings\n",
      "  warnings.warn(\n"
     ]
    },
    {
     "name": "stdout",
     "output_type": "stream",
     "text": [
      "link:\t https://www.ons.dz/spip.php?article825\n"
     ]
    },
    {
     "name": "stderr",
     "output_type": "stream",
     "text": [
      "c:\\anaconda3\\envs\\TS_ENV\\Lib\\site-packages\\urllib3\\connectionpool.py:1097: InsecureRequestWarning: Unverified HTTPS request is being made to host 'www.ons.dz'. Adding certificate verification is strongly advised. See: https://urllib3.readthedocs.io/en/latest/advanced-usage.html#tls-warnings\n",
      "  warnings.warn(\n"
     ]
    },
    {
     "name": "stdout",
     "output_type": "stream",
     "text": [
      "link:\t https://www.ons.dz/spip.php?article2618\n",
      "file:\t ['IMG/pdf/i.ipc_septembre2020.pdf'] added\n",
      "file:\t ['IMG/pdf/i.ipc_septembre2020.pdf'] added\n"
     ]
    },
    {
     "name": "stderr",
     "output_type": "stream",
     "text": [
      "c:\\anaconda3\\envs\\TS_ENV\\Lib\\site-packages\\urllib3\\connectionpool.py:1097: InsecureRequestWarning: Unverified HTTPS request is being made to host 'www.ons.dz'. Adding certificate verification is strongly advised. See: https://urllib3.readthedocs.io/en/latest/advanced-usage.html#tls-warnings\n",
      "  warnings.warn(\n"
     ]
    },
    {
     "name": "stdout",
     "output_type": "stream",
     "text": [
      "link:\t https://www.ons.dz/spip.php?article781\n"
     ]
    },
    {
     "name": "stderr",
     "output_type": "stream",
     "text": [
      "c:\\anaconda3\\envs\\TS_ENV\\Lib\\site-packages\\urllib3\\connectionpool.py:1097: InsecureRequestWarning: Unverified HTTPS request is being made to host 'www.ons.dz'. Adding certificate verification is strongly advised. See: https://urllib3.readthedocs.io/en/latest/advanced-usage.html#tls-warnings\n",
      "  warnings.warn(\n"
     ]
    },
    {
     "name": "stdout",
     "output_type": "stream",
     "text": [
      "link:\t https://www.ons.dz/spip.php?article1141\n",
      "file:\t ['IMG/pdf/Ipc0712-2.pdf'] added\n",
      "file:\t ['IMG/pdf/Ipc0712-2.pdf'] added\n"
     ]
    },
    {
     "name": "stderr",
     "output_type": "stream",
     "text": [
      "c:\\anaconda3\\envs\\TS_ENV\\Lib\\site-packages\\urllib3\\connectionpool.py:1097: InsecureRequestWarning: Unverified HTTPS request is being made to host 'www.ons.dz'. Adding certificate verification is strongly advised. See: https://urllib3.readthedocs.io/en/latest/advanced-usage.html#tls-warnings\n",
      "  warnings.warn(\n"
     ]
    },
    {
     "name": "stdout",
     "output_type": "stream",
     "text": [
      "link:\t https://www.ons.dz/spip.php?article787\n"
     ]
    },
    {
     "name": "stderr",
     "output_type": "stream",
     "text": [
      "c:\\anaconda3\\envs\\TS_ENV\\Lib\\site-packages\\urllib3\\connectionpool.py:1097: InsecureRequestWarning: Unverified HTTPS request is being made to host 'www.ons.dz'. Adding certificate verification is strongly advised. See: https://urllib3.readthedocs.io/en/latest/advanced-usage.html#tls-warnings\n",
      "  warnings.warn(\n"
     ]
    },
    {
     "name": "stdout",
     "output_type": "stream",
     "text": [
      "link:\t https://www.ons.dz/spip.php?article2771\n",
      "file:\t ['IMG/pdf/i.ipc_janvier2022.pdf'] added\n",
      "file:\t ['IMG/pdf/i.ipc_janvier2022.pdf'] added\n"
     ]
    },
    {
     "name": "stderr",
     "output_type": "stream",
     "text": [
      "c:\\anaconda3\\envs\\TS_ENV\\Lib\\site-packages\\urllib3\\connectionpool.py:1097: InsecureRequestWarning: Unverified HTTPS request is being made to host 'www.ons.dz'. Adding certificate verification is strongly advised. See: https://urllib3.readthedocs.io/en/latest/advanced-usage.html#tls-warnings\n",
      "  warnings.warn(\n"
     ]
    },
    {
     "name": "stdout",
     "output_type": "stream",
     "text": [
      "link:\t https://www.ons.dz/spip.php?article783\n"
     ]
    },
    {
     "name": "stderr",
     "output_type": "stream",
     "text": [
      "c:\\anaconda3\\envs\\TS_ENV\\Lib\\site-packages\\urllib3\\connectionpool.py:1097: InsecureRequestWarning: Unverified HTTPS request is being made to host 'www.ons.dz'. Adding certificate verification is strongly advised. See: https://urllib3.readthedocs.io/en/latest/advanced-usage.html#tls-warnings\n",
      "  warnings.warn(\n"
     ]
    },
    {
     "name": "stdout",
     "output_type": "stream",
     "text": [
      "link:\t https://www.ons.dz/spip.php?article1752\n",
      "file:\t ['IMG/pdf/Ipc1015.pdf'] added\n",
      "file:\t ['IMG/pdf/Ipc1015.pdf'] added\n"
     ]
    },
    {
     "name": "stderr",
     "output_type": "stream",
     "text": [
      "c:\\anaconda3\\envs\\TS_ENV\\Lib\\site-packages\\urllib3\\connectionpool.py:1097: InsecureRequestWarning: Unverified HTTPS request is being made to host 'www.ons.dz'. Adding certificate verification is strongly advised. See: https://urllib3.readthedocs.io/en/latest/advanced-usage.html#tls-warnings\n",
      "  warnings.warn(\n"
     ]
    },
    {
     "name": "stdout",
     "output_type": "stream",
     "text": [
      "link:\t https://www.ons.dz/spip.php?article1437\n",
      "file:\t ['IMG/pdf/Ipc0314-2.pdf'] added\n",
      "file:\t ['IMG/pdf/Ipc0314-2.pdf'] added\n"
     ]
    },
    {
     "name": "stderr",
     "output_type": "stream",
     "text": [
      "c:\\anaconda3\\envs\\TS_ENV\\Lib\\site-packages\\urllib3\\connectionpool.py:1097: InsecureRequestWarning: Unverified HTTPS request is being made to host 'www.ons.dz'. Adding certificate verification is strongly advised. See: https://urllib3.readthedocs.io/en/latest/advanced-usage.html#tls-warnings\n",
      "  warnings.warn(\n"
     ]
    },
    {
     "name": "stdout",
     "output_type": "stream",
     "text": [
      "link:\t https://www.ons.dz/spip.php?article2315\n",
      "file:\t ['IMG/pdf/ipc022019.pdf'] added\n",
      "file:\t ['IMG/pdf/ipc022019.pdf'] added\n"
     ]
    },
    {
     "name": "stderr",
     "output_type": "stream",
     "text": [
      "c:\\anaconda3\\envs\\TS_ENV\\Lib\\site-packages\\urllib3\\connectionpool.py:1097: InsecureRequestWarning: Unverified HTTPS request is being made to host 'www.ons.dz'. Adding certificate verification is strongly advised. See: https://urllib3.readthedocs.io/en/latest/advanced-usage.html#tls-warnings\n",
      "  warnings.warn(\n"
     ]
    },
    {
     "name": "stdout",
     "output_type": "stream",
     "text": [
      "link:\t https://www.ons.dz/spip.php?article771\n"
     ]
    },
    {
     "name": "stderr",
     "output_type": "stream",
     "text": [
      "c:\\anaconda3\\envs\\TS_ENV\\Lib\\site-packages\\urllib3\\connectionpool.py:1097: InsecureRequestWarning: Unverified HTTPS request is being made to host 'www.ons.dz'. Adding certificate verification is strongly advised. See: https://urllib3.readthedocs.io/en/latest/advanced-usage.html#tls-warnings\n",
      "  warnings.warn(\n"
     ]
    },
    {
     "name": "stdout",
     "output_type": "stream",
     "text": [
      "link:\t https://www.ons.dz/spip.php?article755\n"
     ]
    },
    {
     "name": "stderr",
     "output_type": "stream",
     "text": [
      "c:\\anaconda3\\envs\\TS_ENV\\Lib\\site-packages\\urllib3\\connectionpool.py:1097: InsecureRequestWarning: Unverified HTTPS request is being made to host 'www.ons.dz'. Adding certificate verification is strongly advised. See: https://urllib3.readthedocs.io/en/latest/advanced-usage.html#tls-warnings\n",
      "  warnings.warn(\n"
     ]
    },
    {
     "name": "stdout",
     "output_type": "stream",
     "text": [
      "link:\t https://www.ons.dz/spip.php?article2685\n",
      "file:\t ['IMG/pdf/i.ipc-mai2021.pdf'] added\n",
      "file:\t ['IMG/pdf/i.ipc-mai2021.pdf'] added\n"
     ]
    },
    {
     "name": "stderr",
     "output_type": "stream",
     "text": [
      "c:\\anaconda3\\envs\\TS_ENV\\Lib\\site-packages\\urllib3\\connectionpool.py:1097: InsecureRequestWarning: Unverified HTTPS request is being made to host 'www.ons.dz'. Adding certificate verification is strongly advised. See: https://urllib3.readthedocs.io/en/latest/advanced-usage.html#tls-warnings\n",
      "  warnings.warn(\n"
     ]
    },
    {
     "name": "stdout",
     "output_type": "stream",
     "text": [
      "link:\t https://www.ons.dz/spip.php?article1735\n",
      "file:\t ['IMG/pdf/Ipc0815.pdf'] added\n",
      "file:\t ['IMG/pdf/Ipc0815.pdf'] added\n"
     ]
    },
    {
     "name": "stderr",
     "output_type": "stream",
     "text": [
      "c:\\anaconda3\\envs\\TS_ENV\\Lib\\site-packages\\urllib3\\connectionpool.py:1097: InsecureRequestWarning: Unverified HTTPS request is being made to host 'www.ons.dz'. Adding certificate verification is strongly advised. See: https://urllib3.readthedocs.io/en/latest/advanced-usage.html#tls-warnings\n",
      "  warnings.warn(\n"
     ]
    },
    {
     "name": "stdout",
     "output_type": "stream",
     "text": [
      "link:\t https://www.ons.dz/spip.php?article1144\n",
      "file:\t ['IMG/pdf/Ipc0812.pdf'] added\n",
      "file:\t ['IMG/pdf/Ipc0812.pdf'] added\n"
     ]
    },
    {
     "name": "stderr",
     "output_type": "stream",
     "text": [
      "c:\\anaconda3\\envs\\TS_ENV\\Lib\\site-packages\\urllib3\\connectionpool.py:1097: InsecureRequestWarning: Unverified HTTPS request is being made to host 'www.ons.dz'. Adding certificate verification is strongly advised. See: https://urllib3.readthedocs.io/en/latest/advanced-usage.html#tls-warnings\n",
      "  warnings.warn(\n"
     ]
    },
    {
     "name": "stdout",
     "output_type": "stream",
     "text": [
      "link:\t https://www.ons.dz/spip.php?article834\n"
     ]
    },
    {
     "name": "stderr",
     "output_type": "stream",
     "text": [
      "c:\\anaconda3\\envs\\TS_ENV\\Lib\\site-packages\\urllib3\\connectionpool.py:1097: InsecureRequestWarning: Unverified HTTPS request is being made to host 'www.ons.dz'. Adding certificate verification is strongly advised. See: https://urllib3.readthedocs.io/en/latest/advanced-usage.html#tls-warnings\n",
      "  warnings.warn(\n"
     ]
    },
    {
     "name": "stdout",
     "output_type": "stream",
     "text": [
      "link:\t https://www.ons.dz/spip.php?article2345\n",
      "file:\t ['IMG/pdf/ipcjuillet2019.pdf'] added\n",
      "file:\t ['IMG/pdf/ipcjuillet2019.pdf'] added\n"
     ]
    },
    {
     "name": "stderr",
     "output_type": "stream",
     "text": [
      "c:\\anaconda3\\envs\\TS_ENV\\Lib\\site-packages\\urllib3\\connectionpool.py:1097: InsecureRequestWarning: Unverified HTTPS request is being made to host 'www.ons.dz'. Adding certificate verification is strongly advised. See: https://urllib3.readthedocs.io/en/latest/advanced-usage.html#tls-warnings\n",
      "  warnings.warn(\n"
     ]
    },
    {
     "name": "stdout",
     "output_type": "stream",
     "text": [
      "link:\t https://www.ons.dz/spip.php?article776\n"
     ]
    },
    {
     "name": "stderr",
     "output_type": "stream",
     "text": [
      "c:\\anaconda3\\envs\\TS_ENV\\Lib\\site-packages\\urllib3\\connectionpool.py:1097: InsecureRequestWarning: Unverified HTTPS request is being made to host 'www.ons.dz'. Adding certificate verification is strongly advised. See: https://urllib3.readthedocs.io/en/latest/advanced-usage.html#tls-warnings\n",
      "  warnings.warn(\n"
     ]
    },
    {
     "name": "stdout",
     "output_type": "stream",
     "text": [
      "link:\t https://www.ons.dz/spip.php?article832\n"
     ]
    },
    {
     "name": "stderr",
     "output_type": "stream",
     "text": [
      "c:\\anaconda3\\envs\\TS_ENV\\Lib\\site-packages\\urllib3\\connectionpool.py:1097: InsecureRequestWarning: Unverified HTTPS request is being made to host 'www.ons.dz'. Adding certificate verification is strongly advised. See: https://urllib3.readthedocs.io/en/latest/advanced-usage.html#tls-warnings\n",
      "  warnings.warn(\n"
     ]
    },
    {
     "name": "stdout",
     "output_type": "stream",
     "text": [
      "link:\t https://www.ons.dz/spip.php?article976\n",
      "file:\t ['IMG/pdf/IPC1210.pdf'] added\n",
      "file:\t ['IMG/pdf/IPC1210.pdf'] added\n"
     ]
    },
    {
     "name": "stderr",
     "output_type": "stream",
     "text": [
      "c:\\anaconda3\\envs\\TS_ENV\\Lib\\site-packages\\urllib3\\connectionpool.py:1097: InsecureRequestWarning: Unverified HTTPS request is being made to host 'www.ons.dz'. Adding certificate verification is strongly advised. See: https://urllib3.readthedocs.io/en/latest/advanced-usage.html#tls-warnings\n",
      "  warnings.warn(\n"
     ]
    },
    {
     "name": "stdout",
     "output_type": "stream",
     "text": [
      "link:\t https://www.ons.dz/spip.php?article954\n",
      "file:\t ['IMG/pdf/IPC1110.pdf'] added\n",
      "file:\t ['IMG/pdf/IPC1110.pdf'] added\n"
     ]
    },
    {
     "name": "stderr",
     "output_type": "stream",
     "text": [
      "c:\\anaconda3\\envs\\TS_ENV\\Lib\\site-packages\\urllib3\\connectionpool.py:1097: InsecureRequestWarning: Unverified HTTPS request is being made to host 'www.ons.dz'. Adding certificate verification is strongly advised. See: https://urllib3.readthedocs.io/en/latest/advanced-usage.html#tls-warnings\n",
      "  warnings.warn(\n"
     ]
    },
    {
     "name": "stdout",
     "output_type": "stream",
     "text": [
      "link:\t https://www.ons.dz/spip.php?article2199\n",
      "file:\t ['IMG/pdf/ipc092018.pdf'] added\n",
      "file:\t ['IMG/pdf/ipc092018.pdf'] added\n"
     ]
    },
    {
     "name": "stderr",
     "output_type": "stream",
     "text": [
      "c:\\anaconda3\\envs\\TS_ENV\\Lib\\site-packages\\urllib3\\connectionpool.py:1097: InsecureRequestWarning: Unverified HTTPS request is being made to host 'www.ons.dz'. Adding certificate verification is strongly advised. See: https://urllib3.readthedocs.io/en/latest/advanced-usage.html#tls-warnings\n",
      "  warnings.warn(\n"
     ]
    },
    {
     "name": "stdout",
     "output_type": "stream",
     "text": [
      "link:\t https://www.ons.dz/spip.php?article1199\n",
      "file:\t ['IMG/pdf/Ipc0413-2.pdf'] added\n",
      "file:\t ['IMG/pdf/Ipc0413-2.pdf'] added\n"
     ]
    },
    {
     "name": "stderr",
     "output_type": "stream",
     "text": [
      "c:\\anaconda3\\envs\\TS_ENV\\Lib\\site-packages\\urllib3\\connectionpool.py:1097: InsecureRequestWarning: Unverified HTTPS request is being made to host 'www.ons.dz'. Adding certificate verification is strongly advised. See: https://urllib3.readthedocs.io/en/latest/advanced-usage.html#tls-warnings\n",
      "  warnings.warn(\n"
     ]
    },
    {
     "name": "stdout",
     "output_type": "stream",
     "text": [
      "link:\t https://www.ons.dz/spip.php?article3012\n",
      "file:\t ['/IMG/pdf/I.IPC_Aout2024.pdf'] added\n",
      "file:\t ['/IMG/pdf/I.IPC_Aout2024.pdf'] added\n",
      "file:\t ['/IMG/pdf/I.IPC_Aout2024.pdf'] added\n",
      "file:\t ['/IMG/pdf/I.IPC_Aout2024.pdf'] added\n"
     ]
    },
    {
     "name": "stderr",
     "output_type": "stream",
     "text": [
      "c:\\anaconda3\\envs\\TS_ENV\\Lib\\site-packages\\urllib3\\connectionpool.py:1097: InsecureRequestWarning: Unverified HTTPS request is being made to host 'www.ons.dz'. Adding certificate verification is strongly advised. See: https://urllib3.readthedocs.io/en/latest/advanced-usage.html#tls-warnings\n",
      "  warnings.warn(\n"
     ]
    },
    {
     "name": "stdout",
     "output_type": "stream",
     "text": [
      "link:\t https://www.ons.dz/spip.php?article1631\n",
      "file:\t ['IMG/pdf/Ipc0315.pdf'] added\n",
      "file:\t ['IMG/pdf/Ipc0315.pdf'] added\n"
     ]
    },
    {
     "name": "stderr",
     "output_type": "stream",
     "text": [
      "c:\\anaconda3\\envs\\TS_ENV\\Lib\\site-packages\\urllib3\\connectionpool.py:1097: InsecureRequestWarning: Unverified HTTPS request is being made to host 'www.ons.dz'. Adding certificate verification is strongly advised. See: https://urllib3.readthedocs.io/en/latest/advanced-usage.html#tls-warnings\n",
      "  warnings.warn(\n"
     ]
    },
    {
     "name": "stdout",
     "output_type": "stream",
     "text": [
      "link:\t https://www.ons.dz/spip.php?article938\n",
      "file:\t ['IMG/pdf/IPC0410.pdf'] added\n",
      "file:\t ['IMG/pdf/IPC0410.pdf'] added\n"
     ]
    },
    {
     "name": "stderr",
     "output_type": "stream",
     "text": [
      "c:\\anaconda3\\envs\\TS_ENV\\Lib\\site-packages\\urllib3\\connectionpool.py:1097: InsecureRequestWarning: Unverified HTTPS request is being made to host 'www.ons.dz'. Adding certificate verification is strongly advised. See: https://urllib3.readthedocs.io/en/latest/advanced-usage.html#tls-warnings\n",
      "  warnings.warn(\n"
     ]
    },
    {
     "name": "stdout",
     "output_type": "stream",
     "text": [
      "link:\t https://www.ons.dz/spip.php?article865\n"
     ]
    },
    {
     "name": "stderr",
     "output_type": "stream",
     "text": [
      "c:\\anaconda3\\envs\\TS_ENV\\Lib\\site-packages\\urllib3\\connectionpool.py:1097: InsecureRequestWarning: Unverified HTTPS request is being made to host 'www.ons.dz'. Adding certificate verification is strongly advised. See: https://urllib3.readthedocs.io/en/latest/advanced-usage.html#tls-warnings\n",
      "  warnings.warn(\n"
     ]
    },
    {
     "name": "stdout",
     "output_type": "stream",
     "text": [
      "link:\t https://www.ons.dz/spip.php?article2007\n",
      "file:\t ['IMG/pdf/Ipc0417.pdf'] added\n",
      "file:\t ['IMG/pdf/Ipc0417.pdf'] added\n"
     ]
    },
    {
     "name": "stderr",
     "output_type": "stream",
     "text": [
      "c:\\anaconda3\\envs\\TS_ENV\\Lib\\site-packages\\urllib3\\connectionpool.py:1097: InsecureRequestWarning: Unverified HTTPS request is being made to host 'www.ons.dz'. Adding certificate verification is strongly advised. See: https://urllib3.readthedocs.io/en/latest/advanced-usage.html#tls-warnings\n",
      "  warnings.warn(\n"
     ]
    },
    {
     "name": "stdout",
     "output_type": "stream",
     "text": [
      "link:\t https://www.ons.dz/spip.php?article1579\n",
      "file:\t ['IMG/pdf/Ipc0115_-2.pdf'] added\n",
      "file:\t ['IMG/pdf/Ipc0115_-2.pdf'] added\n"
     ]
    },
    {
     "name": "stderr",
     "output_type": "stream",
     "text": [
      "c:\\anaconda3\\envs\\TS_ENV\\Lib\\site-packages\\urllib3\\connectionpool.py:1097: InsecureRequestWarning: Unverified HTTPS request is being made to host 'www.ons.dz'. Adding certificate verification is strongly advised. See: https://urllib3.readthedocs.io/en/latest/advanced-usage.html#tls-warnings\n",
      "  warnings.warn(\n"
     ]
    },
    {
     "name": "stdout",
     "output_type": "stream",
     "text": [
      "link:\t https://www.ons.dz/spip.php?article2895\n",
      "file:\t ['/IMG/pdf/I.IPC0123.pdf'] added\n",
      "file:\t ['/IMG/pdf/I.IPC0123.pdf'] added\n",
      "file:\t ['/IMG/pdf/I.IPC0123.pdf'] added\n",
      "file:\t ['/IMG/pdf/I.IPC0123.pdf'] added\n"
     ]
    },
    {
     "name": "stderr",
     "output_type": "stream",
     "text": [
      "c:\\anaconda3\\envs\\TS_ENV\\Lib\\site-packages\\urllib3\\connectionpool.py:1097: InsecureRequestWarning: Unverified HTTPS request is being made to host 'www.ons.dz'. Adding certificate verification is strongly advised. See: https://urllib3.readthedocs.io/en/latest/advanced-usage.html#tls-warnings\n",
      "  warnings.warn(\n"
     ]
    },
    {
     "name": "stdout",
     "output_type": "stream",
     "text": [
      "link:\t https://www.ons.dz/spip.php?article2121\n",
      "file:\t ['IMG/pdf/ipc032018.pdf'] added\n",
      "file:\t ['IMG/pdf/ipc032018.pdf'] added\n"
     ]
    },
    {
     "name": "stderr",
     "output_type": "stream",
     "text": [
      "c:\\anaconda3\\envs\\TS_ENV\\Lib\\site-packages\\urllib3\\connectionpool.py:1097: InsecureRequestWarning: Unverified HTTPS request is being made to host 'www.ons.dz'. Adding certificate verification is strongly advised. See: https://urllib3.readthedocs.io/en/latest/advanced-usage.html#tls-warnings\n",
      "  warnings.warn(\n"
     ]
    },
    {
     "name": "stdout",
     "output_type": "stream",
     "text": [
      "link:\t https://www.ons.dz/spip.php?article817\n"
     ]
    },
    {
     "name": "stderr",
     "output_type": "stream",
     "text": [
      "c:\\anaconda3\\envs\\TS_ENV\\Lib\\site-packages\\urllib3\\connectionpool.py:1097: InsecureRequestWarning: Unverified HTTPS request is being made to host 'www.ons.dz'. Adding certificate verification is strongly advised. See: https://urllib3.readthedocs.io/en/latest/advanced-usage.html#tls-warnings\n",
      "  warnings.warn(\n"
     ]
    },
    {
     "name": "stdout",
     "output_type": "stream",
     "text": [
      "link:\t https://www.ons.dz/spip.php?article722\n",
      "file:\t ['IMG/pdf/IPC0909nouvb-2.pdf'] added\n",
      "file:\t ['IMG/pdf/IPC0909nouvb-2.pdf'] added\n"
     ]
    },
    {
     "name": "stderr",
     "output_type": "stream",
     "text": [
      "c:\\anaconda3\\envs\\TS_ENV\\Lib\\site-packages\\urllib3\\connectionpool.py:1097: InsecureRequestWarning: Unverified HTTPS request is being made to host 'www.ons.dz'. Adding certificate verification is strongly advised. See: https://urllib3.readthedocs.io/en/latest/advanced-usage.html#tls-warnings\n",
      "  warnings.warn(\n"
     ]
    },
    {
     "name": "stdout",
     "output_type": "stream",
     "text": [
      "link:\t https://www.ons.dz/spip.php?article839\n",
      "file:\t ['IMG/pdf/ipc0504-2.pdf'] added\n",
      "file:\t ['IMG/pdf/ipc0504-2.pdf'] added\n"
     ]
    },
    {
     "name": "stderr",
     "output_type": "stream",
     "text": [
      "c:\\anaconda3\\envs\\TS_ENV\\Lib\\site-packages\\urllib3\\connectionpool.py:1097: InsecureRequestWarning: Unverified HTTPS request is being made to host 'www.ons.dz'. Adding certificate verification is strongly advised. See: https://urllib3.readthedocs.io/en/latest/advanced-usage.html#tls-warnings\n",
      "  warnings.warn(\n"
     ]
    },
    {
     "name": "stdout",
     "output_type": "stream",
     "text": [
      "link:\t https://www.ons.dz/spip.php?article3049\n",
      "file:\t ['/IMG/pdf/i.IPC_Decembre2024.pdf'] added\n",
      "file:\t ['/IMG/pdf/i.IPC_Decembre2024.pdf'] added\n",
      "file:\t ['/IMG/pdf/i.IPC_Decembre2024.pdf'] added\n",
      "file:\t ['/IMG/pdf/i.IPC_Decembre2024.pdf'] added\n"
     ]
    },
    {
     "name": "stderr",
     "output_type": "stream",
     "text": [
      "c:\\anaconda3\\envs\\TS_ENV\\Lib\\site-packages\\urllib3\\connectionpool.py:1097: InsecureRequestWarning: Unverified HTTPS request is being made to host 'www.ons.dz'. Adding certificate verification is strongly advised. See: https://urllib3.readthedocs.io/en/latest/advanced-usage.html#tls-warnings\n",
      "  warnings.warn(\n"
     ]
    },
    {
     "name": "stdout",
     "output_type": "stream",
     "text": [
      "link:\t https://www.ons.dz/spip.php?article1464\n",
      "file:\t ['IMG/pdf/Ipc0614_-2.pdf'] added\n",
      "file:\t ['IMG/pdf/Ipc0614_-2.pdf'] added\n"
     ]
    },
    {
     "name": "stderr",
     "output_type": "stream",
     "text": [
      "c:\\anaconda3\\envs\\TS_ENV\\Lib\\site-packages\\urllib3\\connectionpool.py:1097: InsecureRequestWarning: Unverified HTTPS request is being made to host 'www.ons.dz'. Adding certificate verification is strongly advised. See: https://urllib3.readthedocs.io/en/latest/advanced-usage.html#tls-warnings\n",
      "  warnings.warn(\n"
     ]
    },
    {
     "name": "stdout",
     "output_type": "stream",
     "text": [
      "link:\t https://www.ons.dz/spip.php?article2605\n",
      "file:\t ['IMG/pdf/i.ipc-juillet2020.pdf'] added\n",
      "file:\t ['IMG/pdf/i.ipc-juillet2020.pdf'] added\n"
     ]
    },
    {
     "name": "stderr",
     "output_type": "stream",
     "text": [
      "c:\\anaconda3\\envs\\TS_ENV\\Lib\\site-packages\\urllib3\\connectionpool.py:1097: InsecureRequestWarning: Unverified HTTPS request is being made to host 'www.ons.dz'. Adding certificate verification is strongly advised. See: https://urllib3.readthedocs.io/en/latest/advanced-usage.html#tls-warnings\n",
      "  warnings.warn(\n"
     ]
    },
    {
     "name": "stdout",
     "output_type": "stream",
     "text": [
      "link:\t https://www.ons.dz/spip.php?article763\n"
     ]
    },
    {
     "name": "stderr",
     "output_type": "stream",
     "text": [
      "c:\\anaconda3\\envs\\TS_ENV\\Lib\\site-packages\\urllib3\\connectionpool.py:1097: InsecureRequestWarning: Unverified HTTPS request is being made to host 'www.ons.dz'. Adding certificate verification is strongly advised. See: https://urllib3.readthedocs.io/en/latest/advanced-usage.html#tls-warnings\n",
      "  warnings.warn(\n"
     ]
    },
    {
     "name": "stdout",
     "output_type": "stream",
     "text": [
      "link:\t https://www.ons.dz/spip.php?article748\n"
     ]
    },
    {
     "name": "stderr",
     "output_type": "stream",
     "text": [
      "c:\\anaconda3\\envs\\TS_ENV\\Lib\\site-packages\\urllib3\\connectionpool.py:1097: InsecureRequestWarning: Unverified HTTPS request is being made to host 'www.ons.dz'. Adding certificate verification is strongly advised. See: https://urllib3.readthedocs.io/en/latest/advanced-usage.html#tls-warnings\n",
      "  warnings.warn(\n"
     ]
    },
    {
     "name": "stdout",
     "output_type": "stream",
     "text": [
      "link:\t https://www.ons.dz/spip.php?article2976\n",
      "file:\t ['/IMG/pdf/I.IPC_fevrier2024.pdf'] added\n",
      "file:\t ['/IMG/pdf/I.IPC_fevrier2024.pdf'] added\n",
      "file:\t ['/IMG/pdf/I.IPC_fevrier2024.pdf'] added\n",
      "file:\t ['/IMG/pdf/I.IPC_fevrier2024.pdf'] added\n"
     ]
    },
    {
     "name": "stderr",
     "output_type": "stream",
     "text": [
      "c:\\anaconda3\\envs\\TS_ENV\\Lib\\site-packages\\urllib3\\connectionpool.py:1097: InsecureRequestWarning: Unverified HTTPS request is being made to host 'www.ons.dz'. Adding certificate verification is strongly advised. See: https://urllib3.readthedocs.io/en/latest/advanced-usage.html#tls-warnings\n",
      "  warnings.warn(\n"
     ]
    },
    {
     "name": "stdout",
     "output_type": "stream",
     "text": [
      "link:\t https://www.ons.dz/spip.php?article2625\n",
      "file:\t ['IMG/pdf/i.ipc_novembre2020.pdf'] added\n",
      "file:\t ['IMG/pdf/i.ipc_novembre2020.pdf'] added\n"
     ]
    },
    {
     "name": "stderr",
     "output_type": "stream",
     "text": [
      "c:\\anaconda3\\envs\\TS_ENV\\Lib\\site-packages\\urllib3\\connectionpool.py:1097: InsecureRequestWarning: Unverified HTTPS request is being made to host 'www.ons.dz'. Adding certificate verification is strongly advised. See: https://urllib3.readthedocs.io/en/latest/advanced-usage.html#tls-warnings\n",
      "  warnings.warn(\n"
     ]
    },
    {
     "name": "stdout",
     "output_type": "stream",
     "text": [
      "link:\t https://www.ons.dz/spip.php?article2024\n",
      "file:\t ['IMG/pdf/ipc0617.pdf'] added\n",
      "file:\t ['IMG/pdf/ipc0617.pdf'] added\n"
     ]
    },
    {
     "name": "stderr",
     "output_type": "stream",
     "text": [
      "c:\\anaconda3\\envs\\TS_ENV\\Lib\\site-packages\\urllib3\\connectionpool.py:1097: InsecureRequestWarning: Unverified HTTPS request is being made to host 'www.ons.dz'. Adding certificate verification is strongly advised. See: https://urllib3.readthedocs.io/en/latest/advanced-usage.html#tls-warnings\n",
      "  warnings.warn(\n"
     ]
    },
    {
     "name": "stdout",
     "output_type": "stream",
     "text": [
      "link:\t https://www.ons.dz/spip.php?article799\n"
     ]
    },
    {
     "name": "stderr",
     "output_type": "stream",
     "text": [
      "c:\\anaconda3\\envs\\TS_ENV\\Lib\\site-packages\\urllib3\\connectionpool.py:1097: InsecureRequestWarning: Unverified HTTPS request is being made to host 'www.ons.dz'. Adding certificate verification is strongly advised. See: https://urllib3.readthedocs.io/en/latest/advanced-usage.html#tls-warnings\n",
      "  warnings.warn(\n"
     ]
    },
    {
     "name": "stdout",
     "output_type": "stream",
     "text": [
      "link:\t https://www.ons.dz/spip.php?article936\n",
      "file:\t ['IMG/pdf/IPC0210.pdf'] added\n",
      "file:\t ['IMG/pdf/IPC0210.pdf'] added\n"
     ]
    },
    {
     "name": "stderr",
     "output_type": "stream",
     "text": [
      "c:\\anaconda3\\envs\\TS_ENV\\Lib\\site-packages\\urllib3\\connectionpool.py:1097: InsecureRequestWarning: Unverified HTTPS request is being made to host 'www.ons.dz'. Adding certificate verification is strongly advised. See: https://urllib3.readthedocs.io/en/latest/advanced-usage.html#tls-warnings\n",
      "  warnings.warn(\n"
     ]
    },
    {
     "name": "stdout",
     "output_type": "stream",
     "text": [
      "link:\t https://www.ons.dz/spip.php?article746\n"
     ]
    },
    {
     "name": "stderr",
     "output_type": "stream",
     "text": [
      "c:\\anaconda3\\envs\\TS_ENV\\Lib\\site-packages\\urllib3\\connectionpool.py:1097: InsecureRequestWarning: Unverified HTTPS request is being made to host 'www.ons.dz'. Adding certificate verification is strongly advised. See: https://urllib3.readthedocs.io/en/latest/advanced-usage.html#tls-warnings\n",
      "  warnings.warn(\n"
     ]
    },
    {
     "name": "stdout",
     "output_type": "stream",
     "text": [
      "link:\t https://www.ons.dz/spip.php?article784\n"
     ]
    },
    {
     "name": "stderr",
     "output_type": "stream",
     "text": [
      "c:\\anaconda3\\envs\\TS_ENV\\Lib\\site-packages\\urllib3\\connectionpool.py:1097: InsecureRequestWarning: Unverified HTTPS request is being made to host 'www.ons.dz'. Adding certificate verification is strongly advised. See: https://urllib3.readthedocs.io/en/latest/advanced-usage.html#tls-warnings\n",
      "  warnings.warn(\n"
     ]
    },
    {
     "name": "stdout",
     "output_type": "stream",
     "text": [
      "link:\t https://www.ons.dz/spip.php?article733\n"
     ]
    },
    {
     "name": "stderr",
     "output_type": "stream",
     "text": [
      "c:\\anaconda3\\envs\\TS_ENV\\Lib\\site-packages\\urllib3\\connectionpool.py:1097: InsecureRequestWarning: Unverified HTTPS request is being made to host 'www.ons.dz'. Adding certificate verification is strongly advised. See: https://urllib3.readthedocs.io/en/latest/advanced-usage.html#tls-warnings\n",
      "  warnings.warn(\n"
     ]
    },
    {
     "name": "stdout",
     "output_type": "stream",
     "text": [
      "link:\t https://www.ons.dz/spip.php?article824\n"
     ]
    },
    {
     "name": "stderr",
     "output_type": "stream",
     "text": [
      "c:\\anaconda3\\envs\\TS_ENV\\Lib\\site-packages\\urllib3\\connectionpool.py:1097: InsecureRequestWarning: Unverified HTTPS request is being made to host 'www.ons.dz'. Adding certificate verification is strongly advised. See: https://urllib3.readthedocs.io/en/latest/advanced-usage.html#tls-warnings\n",
      "  warnings.warn(\n"
     ]
    },
    {
     "name": "stdout",
     "output_type": "stream",
     "text": [
      "link:\t https://www.ons.dz/spip.php?article2800\n",
      "file:\t ['IMG/pdf/i.ipc_avril2022.pdf'] added\n",
      "file:\t ['IMG/pdf/i.ipc_avril2022.pdf'] added\n"
     ]
    },
    {
     "name": "stderr",
     "output_type": "stream",
     "text": [
      "c:\\anaconda3\\envs\\TS_ENV\\Lib\\site-packages\\urllib3\\connectionpool.py:1097: InsecureRequestWarning: Unverified HTTPS request is being made to host 'www.ons.dz'. Adding certificate verification is strongly advised. See: https://urllib3.readthedocs.io/en/latest/advanced-usage.html#tls-warnings\n",
      "  warnings.warn(\n"
     ]
    },
    {
     "name": "stdout",
     "output_type": "stream",
     "text": [
      "link:\t https://www.ons.dz/spip.php?article727\n"
     ]
    },
    {
     "name": "stderr",
     "output_type": "stream",
     "text": [
      "c:\\anaconda3\\envs\\TS_ENV\\Lib\\site-packages\\urllib3\\connectionpool.py:1097: InsecureRequestWarning: Unverified HTTPS request is being made to host 'www.ons.dz'. Adding certificate verification is strongly advised. See: https://urllib3.readthedocs.io/en/latest/advanced-usage.html#tls-warnings\n",
      "  warnings.warn(\n"
     ]
    },
    {
     "name": "stdout",
     "output_type": "stream",
     "text": [
      "link:\t https://www.ons.dz/spip.php?article879\n"
     ]
    },
    {
     "name": "stderr",
     "output_type": "stream",
     "text": [
      "c:\\anaconda3\\envs\\TS_ENV\\Lib\\site-packages\\urllib3\\connectionpool.py:1097: InsecureRequestWarning: Unverified HTTPS request is being made to host 'www.ons.dz'. Adding certificate verification is strongly advised. See: https://urllib3.readthedocs.io/en/latest/advanced-usage.html#tls-warnings\n",
      "  warnings.warn(\n"
     ]
    },
    {
     "name": "stdout",
     "output_type": "stream",
     "text": [
      "link:\t https://www.ons.dz/spip.php?article847\n"
     ]
    },
    {
     "name": "stderr",
     "output_type": "stream",
     "text": [
      "c:\\anaconda3\\envs\\TS_ENV\\Lib\\site-packages\\urllib3\\connectionpool.py:1097: InsecureRequestWarning: Unverified HTTPS request is being made to host 'www.ons.dz'. Adding certificate verification is strongly advised. See: https://urllib3.readthedocs.io/en/latest/advanced-usage.html#tls-warnings\n",
      "  warnings.warn(\n"
     ]
    },
    {
     "name": "stdout",
     "output_type": "stream",
     "text": [
      "link:\t https://www.ons.dz/spip.php?article877\n"
     ]
    },
    {
     "name": "stderr",
     "output_type": "stream",
     "text": [
      "c:\\anaconda3\\envs\\TS_ENV\\Lib\\site-packages\\urllib3\\connectionpool.py:1097: InsecureRequestWarning: Unverified HTTPS request is being made to host 'www.ons.dz'. Adding certificate verification is strongly advised. See: https://urllib3.readthedocs.io/en/latest/advanced-usage.html#tls-warnings\n",
      "  warnings.warn(\n"
     ]
    },
    {
     "name": "stdout",
     "output_type": "stream",
     "text": [
      "link:\t https://www.ons.dz/spip.php?article2343\n",
      "file:\t ['IMG/pdf/ipcmai2019-2.pdf'] added\n",
      "file:\t ['IMG/pdf/ipcmai2019-2.pdf'] added\n"
     ]
    },
    {
     "name": "stderr",
     "output_type": "stream",
     "text": [
      "c:\\anaconda3\\envs\\TS_ENV\\Lib\\site-packages\\urllib3\\connectionpool.py:1097: InsecureRequestWarning: Unverified HTTPS request is being made to host 'www.ons.dz'. Adding certificate verification is strongly advised. See: https://urllib3.readthedocs.io/en/latest/advanced-usage.html#tls-warnings\n",
      "  warnings.warn(\n"
     ]
    },
    {
     "name": "stdout",
     "output_type": "stream",
     "text": [
      "link:\t https://www.ons.dz/spip.php?article1507\n",
      "file:\t ['IMG/pdf/Ipc0914_-2.pdf'] added\n",
      "file:\t ['IMG/pdf/Ipc0914_-2.pdf'] added\n"
     ]
    },
    {
     "name": "stderr",
     "output_type": "stream",
     "text": [
      "c:\\anaconda3\\envs\\TS_ENV\\Lib\\site-packages\\urllib3\\connectionpool.py:1097: InsecureRequestWarning: Unverified HTTPS request is being made to host 'www.ons.dz'. Adding certificate verification is strongly advised. See: https://urllib3.readthedocs.io/en/latest/advanced-usage.html#tls-warnings\n",
      "  warnings.warn(\n"
     ]
    },
    {
     "name": "stdout",
     "output_type": "stream",
     "text": [
      "link:\t https://www.ons.dz/spip.php?article802\n"
     ]
    },
    {
     "name": "stderr",
     "output_type": "stream",
     "text": [
      "c:\\anaconda3\\envs\\TS_ENV\\Lib\\site-packages\\urllib3\\connectionpool.py:1097: InsecureRequestWarning: Unverified HTTPS request is being made to host 'www.ons.dz'. Adding certificate verification is strongly advised. See: https://urllib3.readthedocs.io/en/latest/advanced-usage.html#tls-warnings\n",
      "  warnings.warn(\n"
     ]
    },
    {
     "name": "stdout",
     "output_type": "stream",
     "text": [
      "link:\t https://www.ons.dz/spip.php?article2112\n",
      "file:\t ['IMG/pdf/ipc022018.pdf'] added\n",
      "file:\t ['IMG/pdf/ipc022018.pdf'] added\n"
     ]
    },
    {
     "name": "stderr",
     "output_type": "stream",
     "text": [
      "c:\\anaconda3\\envs\\TS_ENV\\Lib\\site-packages\\urllib3\\connectionpool.py:1097: InsecureRequestWarning: Unverified HTTPS request is being made to host 'www.ons.dz'. Adding certificate verification is strongly advised. See: https://urllib3.readthedocs.io/en/latest/advanced-usage.html#tls-warnings\n",
      "  warnings.warn(\n"
     ]
    },
    {
     "name": "stdout",
     "output_type": "stream",
     "text": [
      "link:\t https://www.ons.dz/spip.php?article882\n"
     ]
    },
    {
     "name": "stderr",
     "output_type": "stream",
     "text": [
      "c:\\anaconda3\\envs\\TS_ENV\\Lib\\site-packages\\urllib3\\connectionpool.py:1097: InsecureRequestWarning: Unverified HTTPS request is being made to host 'www.ons.dz'. Adding certificate verification is strongly advised. See: https://urllib3.readthedocs.io/en/latest/advanced-usage.html#tls-warnings\n",
      "  warnings.warn(\n"
     ]
    },
    {
     "name": "stdout",
     "output_type": "stream",
     "text": [
      "link:\t https://www.ons.dz/spip.php?article716\n",
      "file:\t ['IMG/pdf/ipc0309.pdf'] added\n",
      "file:\t ['IMG/pdf/ipc0309.pdf'] added\n"
     ]
    },
    {
     "name": "stderr",
     "output_type": "stream",
     "text": [
      "c:\\anaconda3\\envs\\TS_ENV\\Lib\\site-packages\\urllib3\\connectionpool.py:1097: InsecureRequestWarning: Unverified HTTPS request is being made to host 'www.ons.dz'. Adding certificate verification is strongly advised. See: https://urllib3.readthedocs.io/en/latest/advanced-usage.html#tls-warnings\n",
      "  warnings.warn(\n"
     ]
    },
    {
     "name": "stdout",
     "output_type": "stream",
     "text": [
      "link:\t https://www.ons.dz/spip.php?article1914\n",
      "file:\t ['IMG/pdf/Ipc0916.pdf'] added\n",
      "file:\t ['IMG/pdf/Ipc0916.pdf'] added\n"
     ]
    },
    {
     "name": "stderr",
     "output_type": "stream",
     "text": [
      "c:\\anaconda3\\envs\\TS_ENV\\Lib\\site-packages\\urllib3\\connectionpool.py:1097: InsecureRequestWarning: Unverified HTTPS request is being made to host 'www.ons.dz'. Adding certificate verification is strongly advised. See: https://urllib3.readthedocs.io/en/latest/advanced-usage.html#tls-warnings\n",
      "  warnings.warn(\n"
     ]
    },
    {
     "name": "stdout",
     "output_type": "stream",
     "text": [
      "link:\t https://www.ons.dz/spip.php?article805\n"
     ]
    },
    {
     "name": "stderr",
     "output_type": "stream",
     "text": [
      "c:\\anaconda3\\envs\\TS_ENV\\Lib\\site-packages\\urllib3\\connectionpool.py:1097: InsecureRequestWarning: Unverified HTTPS request is being made to host 'www.ons.dz'. Adding certificate verification is strongly advised. See: https://urllib3.readthedocs.io/en/latest/advanced-usage.html#tls-warnings\n",
      "  warnings.warn(\n"
     ]
    },
    {
     "name": "stdout",
     "output_type": "stream",
     "text": [
      "link:\t https://www.ons.dz/spip.php?article760\n"
     ]
    },
    {
     "name": "stderr",
     "output_type": "stream",
     "text": [
      "c:\\anaconda3\\envs\\TS_ENV\\Lib\\site-packages\\urllib3\\connectionpool.py:1097: InsecureRequestWarning: Unverified HTTPS request is being made to host 'www.ons.dz'. Adding certificate verification is strongly advised. See: https://urllib3.readthedocs.io/en/latest/advanced-usage.html#tls-warnings\n",
      "  warnings.warn(\n"
     ]
    },
    {
     "name": "stdout",
     "output_type": "stream",
     "text": [
      "link:\t https://www.ons.dz/spip.php?article1804\n",
      "file:\t ['IMG/pdf/Ipc0116-2.pdf'] added\n",
      "file:\t ['IMG/pdf/Ipc0116-2.pdf'] added\n"
     ]
    },
    {
     "name": "stderr",
     "output_type": "stream",
     "text": [
      "c:\\anaconda3\\envs\\TS_ENV\\Lib\\site-packages\\urllib3\\connectionpool.py:1097: InsecureRequestWarning: Unverified HTTPS request is being made to host 'www.ons.dz'. Adding certificate verification is strongly advised. See: https://urllib3.readthedocs.io/en/latest/advanced-usage.html#tls-warnings\n",
      "  warnings.warn(\n"
     ]
    },
    {
     "name": "stdout",
     "output_type": "stream",
     "text": [
      "link:\t https://www.ons.dz/spip.php?article774\n"
     ]
    },
    {
     "name": "stderr",
     "output_type": "stream",
     "text": [
      "c:\\anaconda3\\envs\\TS_ENV\\Lib\\site-packages\\urllib3\\connectionpool.py:1097: InsecureRequestWarning: Unverified HTTPS request is being made to host 'www.ons.dz'. Adding certificate verification is strongly advised. See: https://urllib3.readthedocs.io/en/latest/advanced-usage.html#tls-warnings\n",
      "  warnings.warn(\n"
     ]
    },
    {
     "name": "stdout",
     "output_type": "stream",
     "text": [
      "link:\t https://www.ons.dz/spip.php?article765\n"
     ]
    },
    {
     "name": "stderr",
     "output_type": "stream",
     "text": [
      "c:\\anaconda3\\envs\\TS_ENV\\Lib\\site-packages\\urllib3\\connectionpool.py:1097: InsecureRequestWarning: Unverified HTTPS request is being made to host 'www.ons.dz'. Adding certificate verification is strongly advised. See: https://urllib3.readthedocs.io/en/latest/advanced-usage.html#tls-warnings\n",
      "  warnings.warn(\n"
     ]
    },
    {
     "name": "stdout",
     "output_type": "stream",
     "text": [
      "link:\t https://www.ons.dz/spip.php?article1445\n",
      "file:\t ['IMG/pdf/Ipc0414_2_-2.pdf'] added\n",
      "file:\t ['IMG/pdf/Ipc0414_2_-2.pdf'] added\n"
     ]
    },
    {
     "name": "stderr",
     "output_type": "stream",
     "text": [
      "c:\\anaconda3\\envs\\TS_ENV\\Lib\\site-packages\\urllib3\\connectionpool.py:1097: InsecureRequestWarning: Unverified HTTPS request is being made to host 'www.ons.dz'. Adding certificate verification is strongly advised. See: https://urllib3.readthedocs.io/en/latest/advanced-usage.html#tls-warnings\n",
      "  warnings.warn(\n"
     ]
    },
    {
     "name": "stdout",
     "output_type": "stream",
     "text": [
      "link:\t https://www.ons.dz/spip.php?article2802\n",
      "file:\t ['IMG/pdf/i.ipc_juin_2022.pdf'] added\n",
      "file:\t ['IMG/pdf/i.ipc_juin_2022.pdf'] added\n"
     ]
    },
    {
     "name": "stderr",
     "output_type": "stream",
     "text": [
      "c:\\anaconda3\\envs\\TS_ENV\\Lib\\site-packages\\urllib3\\connectionpool.py:1097: InsecureRequestWarning: Unverified HTTPS request is being made to host 'www.ons.dz'. Adding certificate verification is strongly advised. See: https://urllib3.readthedocs.io/en/latest/advanced-usage.html#tls-warnings\n",
      "  warnings.warn(\n"
     ]
    },
    {
     "name": "stdout",
     "output_type": "stream",
     "text": [
      "link:\t https://www.ons.dz/spip.php?article2212\n",
      "file:\t ['IMG/pdf/ipc112018.pdf'] added\n",
      "file:\t ['IMG/pdf/ipc112018.pdf'] added\n"
     ]
    },
    {
     "name": "stderr",
     "output_type": "stream",
     "text": [
      "c:\\anaconda3\\envs\\TS_ENV\\Lib\\site-packages\\urllib3\\connectionpool.py:1097: InsecureRequestWarning: Unverified HTTPS request is being made to host 'www.ons.dz'. Adding certificate verification is strongly advised. See: https://urllib3.readthedocs.io/en/latest/advanced-usage.html#tls-warnings\n",
      "  warnings.warn(\n"
     ]
    },
    {
     "name": "stdout",
     "output_type": "stream",
     "text": [
      "link:\t https://www.ons.dz/spip.php?article1097\n",
      "file:\t ['IMG/pdf/IPC0112.pdf'] added\n",
      "file:\t ['IMG/pdf/IPC0112.pdf'] added\n"
     ]
    },
    {
     "name": "stderr",
     "output_type": "stream",
     "text": [
      "c:\\anaconda3\\envs\\TS_ENV\\Lib\\site-packages\\urllib3\\connectionpool.py:1097: InsecureRequestWarning: Unverified HTTPS request is being made to host 'www.ons.dz'. Adding certificate verification is strongly advised. See: https://urllib3.readthedocs.io/en/latest/advanced-usage.html#tls-warnings\n",
      "  warnings.warn(\n"
     ]
    },
    {
     "name": "stdout",
     "output_type": "stream",
     "text": [
      "link:\t https://www.ons.dz/spip.php?article866\n",
      "file:\t ['IMG/pdf/ipc0803-2.pdf'] added\n",
      "file:\t ['IMG/pdf/ipc0803-2.pdf'] added\n"
     ]
    },
    {
     "name": "stderr",
     "output_type": "stream",
     "text": [
      "c:\\anaconda3\\envs\\TS_ENV\\Lib\\site-packages\\urllib3\\connectionpool.py:1097: InsecureRequestWarning: Unverified HTTPS request is being made to host 'www.ons.dz'. Adding certificate verification is strongly advised. See: https://urllib3.readthedocs.io/en/latest/advanced-usage.html#tls-warnings\n",
      "  warnings.warn(\n"
     ]
    },
    {
     "name": "stdout",
     "output_type": "stream",
     "text": [
      "link:\t https://www.ons.dz/spip.php?article835\n",
      "file:\t ['IMG/pdf/ipc0104-2.pdf'] added\n",
      "file:\t ['IMG/pdf/ipc0104-2.pdf'] added\n"
     ]
    },
    {
     "name": "stderr",
     "output_type": "stream",
     "text": [
      "c:\\anaconda3\\envs\\TS_ENV\\Lib\\site-packages\\urllib3\\connectionpool.py:1097: InsecureRequestWarning: Unverified HTTPS request is being made to host 'www.ons.dz'. Adding certificate verification is strongly advised. See: https://urllib3.readthedocs.io/en/latest/advanced-usage.html#tls-warnings\n",
      "  warnings.warn(\n"
     ]
    },
    {
     "name": "stdout",
     "output_type": "stream",
     "text": [
      "link:\t https://www.ons.dz/spip.php?article2610\n",
      "file:\t ['IMG/pdf/i.ipc-aout2020.pdf'] added\n",
      "file:\t ['IMG/pdf/i.ipc-aout2020.pdf'] added\n"
     ]
    },
    {
     "name": "stderr",
     "output_type": "stream",
     "text": [
      "c:\\anaconda3\\envs\\TS_ENV\\Lib\\site-packages\\urllib3\\connectionpool.py:1097: InsecureRequestWarning: Unverified HTTPS request is being made to host 'www.ons.dz'. Adding certificate verification is strongly advised. See: https://urllib3.readthedocs.io/en/latest/advanced-usage.html#tls-warnings\n",
      "  warnings.warn(\n"
     ]
    },
    {
     "name": "stdout",
     "output_type": "stream",
     "text": [
      "link:\t https://www.ons.dz/spip.php?article788\n"
     ]
    },
    {
     "name": "stderr",
     "output_type": "stream",
     "text": [
      "c:\\anaconda3\\envs\\TS_ENV\\Lib\\site-packages\\urllib3\\connectionpool.py:1097: InsecureRequestWarning: Unverified HTTPS request is being made to host 'www.ons.dz'. Adding certificate verification is strongly advised. See: https://urllib3.readthedocs.io/en/latest/advanced-usage.html#tls-warnings\n",
      "  warnings.warn(\n"
     ]
    },
    {
     "name": "stdout",
     "output_type": "stream",
     "text": [
      "link:\t https://www.ons.dz/spip.php?article794\n"
     ]
    },
    {
     "name": "stderr",
     "output_type": "stream",
     "text": [
      "c:\\anaconda3\\envs\\TS_ENV\\Lib\\site-packages\\urllib3\\connectionpool.py:1097: InsecureRequestWarning: Unverified HTTPS request is being made to host 'www.ons.dz'. Adding certificate verification is strongly advised. See: https://urllib3.readthedocs.io/en/latest/advanced-usage.html#tls-warnings\n",
      "  warnings.warn(\n"
     ]
    },
    {
     "name": "stdout",
     "output_type": "stream",
     "text": [
      "link:\t https://www.ons.dz/spip.php?article814\n"
     ]
    },
    {
     "name": "stderr",
     "output_type": "stream",
     "text": [
      "c:\\anaconda3\\envs\\TS_ENV\\Lib\\site-packages\\urllib3\\connectionpool.py:1097: InsecureRequestWarning: Unverified HTTPS request is being made to host 'www.ons.dz'. Adding certificate verification is strongly advised. See: https://urllib3.readthedocs.io/en/latest/advanced-usage.html#tls-warnings\n",
      "  warnings.warn(\n"
     ]
    },
    {
     "name": "stdout",
     "output_type": "stream",
     "text": [
      "link:\t https://www.ons.dz/spip.php?article2686\n",
      "file:\t ['IMG/pdf/i.ipc_juin_2021.pdf'] added\n",
      "file:\t ['IMG/pdf/i.ipc_juin_2021.pdf'] added\n"
     ]
    },
    {
     "name": "stderr",
     "output_type": "stream",
     "text": [
      "c:\\anaconda3\\envs\\TS_ENV\\Lib\\site-packages\\urllib3\\connectionpool.py:1097: InsecureRequestWarning: Unverified HTTPS request is being made to host 'www.ons.dz'. Adding certificate verification is strongly advised. See: https://urllib3.readthedocs.io/en/latest/advanced-usage.html#tls-warnings\n",
      "  warnings.warn(\n"
     ]
    },
    {
     "name": "stdout",
     "output_type": "stream",
     "text": [
      "link:\t https://www.ons.dz/spip.php?article726\n"
     ]
    },
    {
     "name": "stderr",
     "output_type": "stream",
     "text": [
      "c:\\anaconda3\\envs\\TS_ENV\\Lib\\site-packages\\urllib3\\connectionpool.py:1097: InsecureRequestWarning: Unverified HTTPS request is being made to host 'www.ons.dz'. Adding certificate verification is strongly advised. See: https://urllib3.readthedocs.io/en/latest/advanced-usage.html#tls-warnings\n",
      "  warnings.warn(\n"
     ]
    },
    {
     "name": "stdout",
     "output_type": "stream",
     "text": [
      "link:\t https://www.ons.dz/spip.php?article749\n"
     ]
    },
    {
     "name": "stderr",
     "output_type": "stream",
     "text": [
      "c:\\anaconda3\\envs\\TS_ENV\\Lib\\site-packages\\urllib3\\connectionpool.py:1097: InsecureRequestWarning: Unverified HTTPS request is being made to host 'www.ons.dz'. Adding certificate verification is strongly advised. See: https://urllib3.readthedocs.io/en/latest/advanced-usage.html#tls-warnings\n",
      "  warnings.warn(\n"
     ]
    },
    {
     "name": "stdout",
     "output_type": "stream",
     "text": [
      "link:\t https://www.ons.dz/spip.php?article1095\n",
      "file:\t ['IMG/pdf/Ipc1111-2.pdf'] added\n",
      "file:\t ['IMG/pdf/Ipc1111-2.pdf'] added\n"
     ]
    },
    {
     "name": "stderr",
     "output_type": "stream",
     "text": [
      "c:\\anaconda3\\envs\\TS_ENV\\Lib\\site-packages\\urllib3\\connectionpool.py:1097: InsecureRequestWarning: Unverified HTTPS request is being made to host 'www.ons.dz'. Adding certificate verification is strongly advised. See: https://urllib3.readthedocs.io/en/latest/advanced-usage.html#tls-warnings\n",
      "  warnings.warn(\n"
     ]
    },
    {
     "name": "stdout",
     "output_type": "stream",
     "text": [
      "link:\t https://www.ons.dz/spip.php?article852\n"
     ]
    },
    {
     "name": "stderr",
     "output_type": "stream",
     "text": [
      "c:\\anaconda3\\envs\\TS_ENV\\Lib\\site-packages\\urllib3\\connectionpool.py:1097: InsecureRequestWarning: Unverified HTTPS request is being made to host 'www.ons.dz'. Adding certificate verification is strongly advised. See: https://urllib3.readthedocs.io/en/latest/advanced-usage.html#tls-warnings\n",
      "  warnings.warn(\n"
     ]
    },
    {
     "name": "stdout",
     "output_type": "stream",
     "text": [
      "link:\t https://www.ons.dz/spip.php?article827\n"
     ]
    },
    {
     "name": "stderr",
     "output_type": "stream",
     "text": [
      "c:\\anaconda3\\envs\\TS_ENV\\Lib\\site-packages\\urllib3\\connectionpool.py:1097: InsecureRequestWarning: Unverified HTTPS request is being made to host 'www.ons.dz'. Adding certificate verification is strongly advised. See: https://urllib3.readthedocs.io/en/latest/advanced-usage.html#tls-warnings\n",
      "  warnings.warn(\n"
     ]
    },
    {
     "name": "stdout",
     "output_type": "stream",
     "text": [
      "link:\t https://www.ons.dz/spip.php?article2131\n",
      "file:\t ['IMG/pdf/ipc042018.pdf'] added\n",
      "file:\t ['IMG/pdf/ipc042018.pdf'] added\n"
     ]
    },
    {
     "name": "stderr",
     "output_type": "stream",
     "text": [
      "c:\\anaconda3\\envs\\TS_ENV\\Lib\\site-packages\\urllib3\\connectionpool.py:1097: InsecureRequestWarning: Unverified HTTPS request is being made to host 'www.ons.dz'. Adding certificate verification is strongly advised. See: https://urllib3.readthedocs.io/en/latest/advanced-usage.html#tls-warnings\n",
      "  warnings.warn(\n"
     ]
    },
    {
     "name": "stdout",
     "output_type": "stream",
     "text": [
      "link:\t https://www.ons.dz/spip.php?article1133\n",
      "file:\t ['IMG/pdf/Ipc0612.pdf'] added\n",
      "file:\t ['IMG/pdf/Ipc0612.pdf'] added\n"
     ]
    },
    {
     "name": "stderr",
     "output_type": "stream",
     "text": [
      "c:\\anaconda3\\envs\\TS_ENV\\Lib\\site-packages\\urllib3\\connectionpool.py:1097: InsecureRequestWarning: Unverified HTTPS request is being made to host 'www.ons.dz'. Adding certificate verification is strongly advised. See: https://urllib3.readthedocs.io/en/latest/advanced-usage.html#tls-warnings\n",
      "  warnings.warn(\n"
     ]
    },
    {
     "name": "stdout",
     "output_type": "stream",
     "text": [
      "link:\t https://www.ons.dz/spip.php?article831\n"
     ]
    },
    {
     "name": "stderr",
     "output_type": "stream",
     "text": [
      "c:\\anaconda3\\envs\\TS_ENV\\Lib\\site-packages\\urllib3\\connectionpool.py:1097: InsecureRequestWarning: Unverified HTTPS request is being made to host 'www.ons.dz'. Adding certificate verification is strongly advised. See: https://urllib3.readthedocs.io/en/latest/advanced-usage.html#tls-warnings\n",
      "  warnings.warn(\n"
     ]
    },
    {
     "name": "stdout",
     "output_type": "stream",
     "text": [
      "link:\t https://www.ons.dz/spip.php?article2803\n",
      "file:\t ['IMG/pdf/i.ipc_juillet_2022.pdf'] added\n",
      "file:\t ['IMG/pdf/i.ipc_juillet_2022.pdf'] added\n"
     ]
    },
    {
     "name": "stderr",
     "output_type": "stream",
     "text": [
      "c:\\anaconda3\\envs\\TS_ENV\\Lib\\site-packages\\urllib3\\connectionpool.py:1097: InsecureRequestWarning: Unverified HTTPS request is being made to host 'www.ons.dz'. Adding certificate verification is strongly advised. See: https://urllib3.readthedocs.io/en/latest/advanced-usage.html#tls-warnings\n",
      "  warnings.warn(\n"
     ]
    },
    {
     "name": "stdout",
     "output_type": "stream",
     "text": [
      "link:\t https://www.ons.dz/spip.php?article804\n"
     ]
    },
    {
     "name": "stderr",
     "output_type": "stream",
     "text": [
      "c:\\anaconda3\\envs\\TS_ENV\\Lib\\site-packages\\urllib3\\connectionpool.py:1097: InsecureRequestWarning: Unverified HTTPS request is being made to host 'www.ons.dz'. Adding certificate verification is strongly advised. See: https://urllib3.readthedocs.io/en/latest/advanced-usage.html#tls-warnings\n",
      "  warnings.warn(\n"
     ]
    },
    {
     "name": "stdout",
     "output_type": "stream",
     "text": [
      "link:\t https://www.ons.dz/spip.php?article1167\n",
      "file:\t ['IMG/pdf/Ipc1112-2.pdf'] added\n",
      "file:\t ['IMG/pdf/Ipc1112-2.pdf'] added\n"
     ]
    },
    {
     "name": "stderr",
     "output_type": "stream",
     "text": [
      "c:\\anaconda3\\envs\\TS_ENV\\Lib\\site-packages\\urllib3\\connectionpool.py:1097: InsecureRequestWarning: Unverified HTTPS request is being made to host 'www.ons.dz'. Adding certificate verification is strongly advised. See: https://urllib3.readthedocs.io/en/latest/advanced-usage.html#tls-warnings\n",
      "  warnings.warn(\n"
     ]
    },
    {
     "name": "stdout",
     "output_type": "stream",
     "text": [
      "link:\t https://www.ons.dz/spip.php?article2684\n",
      "file:\t ['IMG/pdf/i.ipc_avril2021.pdf'] added\n",
      "file:\t ['IMG/pdf/i.ipc_avril2021.pdf'] added\n"
     ]
    },
    {
     "name": "stderr",
     "output_type": "stream",
     "text": [
      "c:\\anaconda3\\envs\\TS_ENV\\Lib\\site-packages\\urllib3\\connectionpool.py:1097: InsecureRequestWarning: Unverified HTTPS request is being made to host 'www.ons.dz'. Adding certificate verification is strongly advised. See: https://urllib3.readthedocs.io/en/latest/advanced-usage.html#tls-warnings\n",
      "  warnings.warn(\n"
     ]
    },
    {
     "name": "stdout",
     "output_type": "stream",
     "text": [
      "link:\t https://www.ons.dz/spip.php?article718\n",
      "file:\t ['IMG/pdf/IPC0509.pdf'] added\n",
      "file:\t ['IMG/pdf/IPC0509.pdf'] added\n"
     ]
    },
    {
     "name": "stderr",
     "output_type": "stream",
     "text": [
      "c:\\anaconda3\\envs\\TS_ENV\\Lib\\site-packages\\urllib3\\connectionpool.py:1097: InsecureRequestWarning: Unverified HTTPS request is being made to host 'www.ons.dz'. Adding certificate verification is strongly advised. See: https://urllib3.readthedocs.io/en/latest/advanced-usage.html#tls-warnings\n",
      "  warnings.warn(\n"
     ]
    },
    {
     "name": "stdout",
     "output_type": "stream",
     "text": [
      "link:\t https://www.ons.dz/spip.php?article940\n",
      "file:\t ['IMG/pdf/IPC0610.pdf'] added\n",
      "file:\t ['IMG/pdf/IPC0610.pdf'] added\n"
     ]
    },
    {
     "name": "stderr",
     "output_type": "stream",
     "text": [
      "c:\\anaconda3\\envs\\TS_ENV\\Lib\\site-packages\\urllib3\\connectionpool.py:1097: InsecureRequestWarning: Unverified HTTPS request is being made to host 'www.ons.dz'. Adding certificate verification is strongly advised. See: https://urllib3.readthedocs.io/en/latest/advanced-usage.html#tls-warnings\n",
      "  warnings.warn(\n"
     ]
    },
    {
     "name": "stdout",
     "output_type": "stream",
     "text": [
      "link:\t https://www.ons.dz/spip.php?article3060\n",
      "file:\t ['/IMG/pdf/IPC_JANVIER2025.pdf'] added\n",
      "file:\t ['/IMG/pdf/IPC_JANVIER2025.pdf'] added\n",
      "file:\t ['/IMG/pdf/IPC_JANVIER2025.pdf'] added\n",
      "file:\t ['/IMG/pdf/IPC_JANVIER2025.pdf'] added\n"
     ]
    },
    {
     "name": "stderr",
     "output_type": "stream",
     "text": [
      "c:\\anaconda3\\envs\\TS_ENV\\Lib\\site-packages\\urllib3\\connectionpool.py:1097: InsecureRequestWarning: Unverified HTTPS request is being made to host 'www.ons.dz'. Adding certificate verification is strongly advised. See: https://urllib3.readthedocs.io/en/latest/advanced-usage.html#tls-warnings\n",
      "  warnings.warn(\n"
     ]
    },
    {
     "name": "stdout",
     "output_type": "stream",
     "text": [
      "link:\t https://www.ons.dz/spip.php?article859\n",
      "file:\t ['IMG/pdf/ipc0103-2.pdf'] added\n",
      "file:\t ['IMG/pdf/ipc0103-2.pdf'] added\n"
     ]
    },
    {
     "name": "stderr",
     "output_type": "stream",
     "text": [
      "c:\\anaconda3\\envs\\TS_ENV\\Lib\\site-packages\\urllib3\\connectionpool.py:1097: InsecureRequestWarning: Unverified HTTPS request is being made to host 'www.ons.dz'. Adding certificate verification is strongly advised. See: https://urllib3.readthedocs.io/en/latest/advanced-usage.html#tls-warnings\n",
      "  warnings.warn(\n"
     ]
    },
    {
     "name": "stdout",
     "output_type": "stream",
     "text": [
      "link:\t https://www.ons.dz/spip.php?article2826\n",
      "file:\t ['/IMG/pdf/ipc_septembre2022.pdf'] added\n",
      "file:\t ['/IMG/pdf/ipc_septembre2022.pdf'] added\n",
      "file:\t ['/IMG/pdf/ipc_septembre2022.pdf'] added\n",
      "file:\t ['/IMG/pdf/ipc_septembre2022.pdf'] added\n"
     ]
    },
    {
     "name": "stderr",
     "output_type": "stream",
     "text": [
      "c:\\anaconda3\\envs\\TS_ENV\\Lib\\site-packages\\urllib3\\connectionpool.py:1097: InsecureRequestWarning: Unverified HTTPS request is being made to host 'www.ons.dz'. Adding certificate verification is strongly advised. See: https://urllib3.readthedocs.io/en/latest/advanced-usage.html#tls-warnings\n",
      "  warnings.warn(\n"
     ]
    },
    {
     "name": "stdout",
     "output_type": "stream",
     "text": [
      "link:\t https://www.ons.dz/spip.php?article821\n"
     ]
    },
    {
     "name": "stderr",
     "output_type": "stream",
     "text": [
      "c:\\anaconda3\\envs\\TS_ENV\\Lib\\site-packages\\urllib3\\connectionpool.py:1097: InsecureRequestWarning: Unverified HTTPS request is being made to host 'www.ons.dz'. Adding certificate verification is strongly advised. See: https://urllib3.readthedocs.io/en/latest/advanced-usage.html#tls-warnings\n",
      "  warnings.warn(\n"
     ]
    },
    {
     "name": "stdout",
     "output_type": "stream",
     "text": [
      "link:\t https://www.ons.dz/spip.php?article858\n"
     ]
    },
    {
     "name": "stderr",
     "output_type": "stream",
     "text": [
      "c:\\anaconda3\\envs\\TS_ENV\\Lib\\site-packages\\urllib3\\connectionpool.py:1097: InsecureRequestWarning: Unverified HTTPS request is being made to host 'www.ons.dz'. Adding certificate verification is strongly advised. See: https://urllib3.readthedocs.io/en/latest/advanced-usage.html#tls-warnings\n",
      "  warnings.warn(\n"
     ]
    },
    {
     "name": "stdout",
     "output_type": "stream",
     "text": [
      "link:\t https://www.ons.dz/spip.php?article854\n"
     ]
    },
    {
     "name": "stderr",
     "output_type": "stream",
     "text": [
      "c:\\anaconda3\\envs\\TS_ENV\\Lib\\site-packages\\urllib3\\connectionpool.py:1097: InsecureRequestWarning: Unverified HTTPS request is being made to host 'www.ons.dz'. Adding certificate verification is strongly advised. See: https://urllib3.readthedocs.io/en/latest/advanced-usage.html#tls-warnings\n",
      "  warnings.warn(\n"
     ]
    },
    {
     "name": "stdout",
     "output_type": "stream",
     "text": [
      "link:\t https://www.ons.dz/spip.php?article1096\n",
      "file:\t ['IMG/pdf/Ipc1211.pdf'] added\n",
      "file:\t ['IMG/pdf/Ipc1211.pdf'] added\n"
     ]
    },
    {
     "name": "stderr",
     "output_type": "stream",
     "text": [
      "c:\\anaconda3\\envs\\TS_ENV\\Lib\\site-packages\\urllib3\\connectionpool.py:1097: InsecureRequestWarning: Unverified HTTPS request is being made to host 'www.ons.dz'. Adding certificate verification is strongly advised. See: https://urllib3.readthedocs.io/en/latest/advanced-usage.html#tls-warnings\n",
      "  warnings.warn(\n"
     ]
    },
    {
     "name": "stdout",
     "output_type": "stream",
     "text": [
      "link:\t https://www.ons.dz/spip.php?article830\n"
     ]
    },
    {
     "name": "stderr",
     "output_type": "stream",
     "text": [
      "c:\\anaconda3\\envs\\TS_ENV\\Lib\\site-packages\\urllib3\\connectionpool.py:1097: InsecureRequestWarning: Unverified HTTPS request is being made to host 'www.ons.dz'. Adding certificate verification is strongly advised. See: https://urllib3.readthedocs.io/en/latest/advanced-usage.html#tls-warnings\n",
      "  warnings.warn(\n"
     ]
    },
    {
     "name": "stdout",
     "output_type": "stream",
     "text": [
      "link:\t https://www.ons.dz/spip.php?article939\n",
      "file:\t ['IMG/pdf/IPC0510.pdf'] added\n",
      "file:\t ['IMG/pdf/IPC0510.pdf'] added\n"
     ]
    },
    {
     "name": "stderr",
     "output_type": "stream",
     "text": [
      "c:\\anaconda3\\envs\\TS_ENV\\Lib\\site-packages\\urllib3\\connectionpool.py:1097: InsecureRequestWarning: Unverified HTTPS request is being made to host 'www.ons.dz'. Adding certificate verification is strongly advised. See: https://urllib3.readthedocs.io/en/latest/advanced-usage.html#tls-warnings\n",
      "  warnings.warn(\n"
     ]
    },
    {
     "name": "stdout",
     "output_type": "stream",
     "text": [
      "link:\t https://www.ons.dz/spip.php?article1094\n",
      "file:\t ['IMG/pdf/Ipc1011-2.pdf'] added\n",
      "file:\t ['IMG/pdf/Ipc1011-2.pdf'] added\n"
     ]
    },
    {
     "name": "stderr",
     "output_type": "stream",
     "text": [
      "c:\\anaconda3\\envs\\TS_ENV\\Lib\\site-packages\\urllib3\\connectionpool.py:1097: InsecureRequestWarning: Unverified HTTPS request is being made to host 'www.ons.dz'. Adding certificate verification is strongly advised. See: https://urllib3.readthedocs.io/en/latest/advanced-usage.html#tls-warnings\n",
      "  warnings.warn(\n"
     ]
    },
    {
     "name": "stdout",
     "output_type": "stream",
     "text": [
      "link:\t https://www.ons.dz/spip.php?article762\n"
     ]
    },
    {
     "name": "stderr",
     "output_type": "stream",
     "text": [
      "c:\\anaconda3\\envs\\TS_ENV\\Lib\\site-packages\\urllib3\\connectionpool.py:1097: InsecureRequestWarning: Unverified HTTPS request is being made to host 'www.ons.dz'. Adding certificate verification is strongly advised. See: https://urllib3.readthedocs.io/en/latest/advanced-usage.html#tls-warnings\n",
      "  warnings.warn(\n"
     ]
    },
    {
     "name": "stdout",
     "output_type": "stream",
     "text": [
      "link:\t https://www.ons.dz/spip.php?article1278\n",
      "file:\t ['IMG/pdf/Ipc0913.pdf'] added\n",
      "file:\t ['IMG/pdf/Ipc0913.pdf'] added\n"
     ]
    },
    {
     "name": "stderr",
     "output_type": "stream",
     "text": [
      "c:\\anaconda3\\envs\\TS_ENV\\Lib\\site-packages\\urllib3\\connectionpool.py:1097: InsecureRequestWarning: Unverified HTTPS request is being made to host 'www.ons.dz'. Adding certificate verification is strongly advised. See: https://urllib3.readthedocs.io/en/latest/advanced-usage.html#tls-warnings\n",
      "  warnings.warn(\n"
     ]
    },
    {
     "name": "stdout",
     "output_type": "stream",
     "text": [
      "link:\t https://www.ons.dz/spip.php?article723\n",
      "file:\t ['IMG/pdf/IPC1009-2.pdf'] added\n",
      "file:\t ['IMG/pdf/IPC1009-2.pdf'] added\n"
     ]
    },
    {
     "name": "stderr",
     "output_type": "stream",
     "text": [
      "c:\\anaconda3\\envs\\TS_ENV\\Lib\\site-packages\\urllib3\\connectionpool.py:1097: InsecureRequestWarning: Unverified HTTPS request is being made to host 'www.ons.dz'. Adding certificate verification is strongly advised. See: https://urllib3.readthedocs.io/en/latest/advanced-usage.html#tls-warnings\n",
      "  warnings.warn(\n"
     ]
    },
    {
     "name": "stdout",
     "output_type": "stream",
     "text": [
      "link:\t https://www.ons.dz/spip.php?article941\n",
      "file:\t ['IMG/pdf/IPC0710-3.pdf'] added\n",
      "file:\t ['IMG/pdf/IPC0710-3.pdf'] added\n"
     ]
    }
   ],
   "source": [
    "all_pdf_files = set()\n",
    "\n",
    "for link in pdf_links:\n",
    "    link = \"https://www.ons.dz/\" + link\n",
    "    scrapped_pdf_link = scrap(link)\n",
    "    print(\"link:\\t\",link)\n",
    "    target_div_list = scrapped_pdf_link.find_all(\"div\")\n",
    "    if target_div_list:\n",
    "        for target_div in target_div_list:\n",
    "        \n",
    "            pdf_file = [a[\"href\"] for a in target_div.find_all(\"a\", href=True) if \"IMG/pdf/\"  in a[\"href\"]]\n",
    "            #print(pdf_file)\n",
    "            if pdf_file:\n",
    "                print(\"file:\\t\",pdf_file,\"added\")\n",
    "                all_pdf_files.update(pdf_file)\n",
    "        #print(len(all_pdf_files))\n",
    "        #print(all_pdf_files)\n",
    "    else:\n",
    "        print(\"no pdf links !\")"
   ]
  },
  {
   "cell_type": "code",
   "execution_count": 110,
   "metadata": {},
   "outputs": [
    {
     "name": "stdout",
     "output_type": "stream",
     "text": [
      "214\n"
     ]
    }
   ],
   "source": [
    "print(len(all_pdf_files))"
   ]
  },
  {
   "cell_type": "code",
   "execution_count": 115,
   "metadata": {},
   "outputs": [
    {
     "name": "stderr",
     "output_type": "stream",
     "text": [
      "c:\\anaconda3\\envs\\TS_ENV\\Lib\\site-packages\\urllib3\\connectionpool.py:1097: InsecureRequestWarning: Unverified HTTPS request is being made to host 'www.ons.dz'. Adding certificate verification is strongly advised. See: https://urllib3.readthedocs.io/en/latest/advanced-usage.html#tls-warnings\n",
      "  warnings.warn(\n"
     ]
    },
    {
     "name": "stdout",
     "output_type": "stream",
     "text": [
      "Document downloaded successfully as: pdf_files/0.pdf\n"
     ]
    },
    {
     "name": "stderr",
     "output_type": "stream",
     "text": [
      "c:\\anaconda3\\envs\\TS_ENV\\Lib\\site-packages\\urllib3\\connectionpool.py:1097: InsecureRequestWarning: Unverified HTTPS request is being made to host 'www.ons.dz'. Adding certificate verification is strongly advised. See: https://urllib3.readthedocs.io/en/latest/advanced-usage.html#tls-warnings\n",
      "  warnings.warn(\n"
     ]
    },
    {
     "name": "stdout",
     "output_type": "stream",
     "text": [
      "Document downloaded successfully as: pdf_files/1.pdf\n"
     ]
    },
    {
     "name": "stderr",
     "output_type": "stream",
     "text": [
      "c:\\anaconda3\\envs\\TS_ENV\\Lib\\site-packages\\urllib3\\connectionpool.py:1097: InsecureRequestWarning: Unverified HTTPS request is being made to host 'www.ons.dz'. Adding certificate verification is strongly advised. See: https://urllib3.readthedocs.io/en/latest/advanced-usage.html#tls-warnings\n",
      "  warnings.warn(\n"
     ]
    },
    {
     "name": "stdout",
     "output_type": "stream",
     "text": [
      "Document downloaded successfully as: pdf_files/2.pdf\n"
     ]
    },
    {
     "name": "stderr",
     "output_type": "stream",
     "text": [
      "c:\\anaconda3\\envs\\TS_ENV\\Lib\\site-packages\\urllib3\\connectionpool.py:1097: InsecureRequestWarning: Unverified HTTPS request is being made to host 'www.ons.dz'. Adding certificate verification is strongly advised. See: https://urllib3.readthedocs.io/en/latest/advanced-usage.html#tls-warnings\n",
      "  warnings.warn(\n"
     ]
    },
    {
     "name": "stdout",
     "output_type": "stream",
     "text": [
      "Document downloaded successfully as: pdf_files/3.pdf\n"
     ]
    },
    {
     "name": "stderr",
     "output_type": "stream",
     "text": [
      "c:\\anaconda3\\envs\\TS_ENV\\Lib\\site-packages\\urllib3\\connectionpool.py:1097: InsecureRequestWarning: Unverified HTTPS request is being made to host 'www.ons.dz'. Adding certificate verification is strongly advised. See: https://urllib3.readthedocs.io/en/latest/advanced-usage.html#tls-warnings\n",
      "  warnings.warn(\n"
     ]
    },
    {
     "name": "stdout",
     "output_type": "stream",
     "text": [
      "Document downloaded successfully as: pdf_files/4.pdf\n"
     ]
    },
    {
     "name": "stderr",
     "output_type": "stream",
     "text": [
      "c:\\anaconda3\\envs\\TS_ENV\\Lib\\site-packages\\urllib3\\connectionpool.py:1097: InsecureRequestWarning: Unverified HTTPS request is being made to host 'www.ons.dz'. Adding certificate verification is strongly advised. See: https://urllib3.readthedocs.io/en/latest/advanced-usage.html#tls-warnings\n",
      "  warnings.warn(\n"
     ]
    },
    {
     "name": "stdout",
     "output_type": "stream",
     "text": [
      "Document downloaded successfully as: pdf_files/5.pdf\n"
     ]
    },
    {
     "name": "stderr",
     "output_type": "stream",
     "text": [
      "c:\\anaconda3\\envs\\TS_ENV\\Lib\\site-packages\\urllib3\\connectionpool.py:1097: InsecureRequestWarning: Unverified HTTPS request is being made to host 'www.ons.dz'. Adding certificate verification is strongly advised. See: https://urllib3.readthedocs.io/en/latest/advanced-usage.html#tls-warnings\n",
      "  warnings.warn(\n"
     ]
    },
    {
     "name": "stdout",
     "output_type": "stream",
     "text": [
      "Document downloaded successfully as: pdf_files/6.pdf\n"
     ]
    },
    {
     "name": "stderr",
     "output_type": "stream",
     "text": [
      "c:\\anaconda3\\envs\\TS_ENV\\Lib\\site-packages\\urllib3\\connectionpool.py:1097: InsecureRequestWarning: Unverified HTTPS request is being made to host 'www.ons.dz'. Adding certificate verification is strongly advised. See: https://urllib3.readthedocs.io/en/latest/advanced-usage.html#tls-warnings\n",
      "  warnings.warn(\n"
     ]
    },
    {
     "name": "stdout",
     "output_type": "stream",
     "text": [
      "Document downloaded successfully as: pdf_files/7.pdf\n"
     ]
    },
    {
     "name": "stderr",
     "output_type": "stream",
     "text": [
      "c:\\anaconda3\\envs\\TS_ENV\\Lib\\site-packages\\urllib3\\connectionpool.py:1097: InsecureRequestWarning: Unverified HTTPS request is being made to host 'www.ons.dz'. Adding certificate verification is strongly advised. See: https://urllib3.readthedocs.io/en/latest/advanced-usage.html#tls-warnings\n",
      "  warnings.warn(\n"
     ]
    },
    {
     "name": "stdout",
     "output_type": "stream",
     "text": [
      "Document downloaded successfully as: pdf_files/8.pdf\n"
     ]
    },
    {
     "name": "stderr",
     "output_type": "stream",
     "text": [
      "c:\\anaconda3\\envs\\TS_ENV\\Lib\\site-packages\\urllib3\\connectionpool.py:1097: InsecureRequestWarning: Unverified HTTPS request is being made to host 'www.ons.dz'. Adding certificate verification is strongly advised. See: https://urllib3.readthedocs.io/en/latest/advanced-usage.html#tls-warnings\n",
      "  warnings.warn(\n"
     ]
    },
    {
     "name": "stdout",
     "output_type": "stream",
     "text": [
      "Document downloaded successfully as: pdf_files/9.pdf\n"
     ]
    },
    {
     "name": "stderr",
     "output_type": "stream",
     "text": [
      "c:\\anaconda3\\envs\\TS_ENV\\Lib\\site-packages\\urllib3\\connectionpool.py:1097: InsecureRequestWarning: Unverified HTTPS request is being made to host 'www.ons.dz'. Adding certificate verification is strongly advised. See: https://urllib3.readthedocs.io/en/latest/advanced-usage.html#tls-warnings\n",
      "  warnings.warn(\n"
     ]
    },
    {
     "name": "stdout",
     "output_type": "stream",
     "text": [
      "Document downloaded successfully as: pdf_files/10.pdf\n"
     ]
    },
    {
     "name": "stderr",
     "output_type": "stream",
     "text": [
      "c:\\anaconda3\\envs\\TS_ENV\\Lib\\site-packages\\urllib3\\connectionpool.py:1097: InsecureRequestWarning: Unverified HTTPS request is being made to host 'www.ons.dz'. Adding certificate verification is strongly advised. See: https://urllib3.readthedocs.io/en/latest/advanced-usage.html#tls-warnings\n",
      "  warnings.warn(\n"
     ]
    },
    {
     "name": "stdout",
     "output_type": "stream",
     "text": [
      "Document downloaded successfully as: pdf_files/11.pdf\n"
     ]
    },
    {
     "name": "stderr",
     "output_type": "stream",
     "text": [
      "c:\\anaconda3\\envs\\TS_ENV\\Lib\\site-packages\\urllib3\\connectionpool.py:1097: InsecureRequestWarning: Unverified HTTPS request is being made to host 'www.ons.dz'. Adding certificate verification is strongly advised. See: https://urllib3.readthedocs.io/en/latest/advanced-usage.html#tls-warnings\n",
      "  warnings.warn(\n"
     ]
    },
    {
     "name": "stdout",
     "output_type": "stream",
     "text": [
      "Document downloaded successfully as: pdf_files/12.pdf\n"
     ]
    },
    {
     "name": "stderr",
     "output_type": "stream",
     "text": [
      "c:\\anaconda3\\envs\\TS_ENV\\Lib\\site-packages\\urllib3\\connectionpool.py:1097: InsecureRequestWarning: Unverified HTTPS request is being made to host 'www.ons.dz'. Adding certificate verification is strongly advised. See: https://urllib3.readthedocs.io/en/latest/advanced-usage.html#tls-warnings\n",
      "  warnings.warn(\n"
     ]
    },
    {
     "name": "stdout",
     "output_type": "stream",
     "text": [
      "Document downloaded successfully as: pdf_files/13.pdf\n"
     ]
    },
    {
     "name": "stderr",
     "output_type": "stream",
     "text": [
      "c:\\anaconda3\\envs\\TS_ENV\\Lib\\site-packages\\urllib3\\connectionpool.py:1097: InsecureRequestWarning: Unverified HTTPS request is being made to host 'www.ons.dz'. Adding certificate verification is strongly advised. See: https://urllib3.readthedocs.io/en/latest/advanced-usage.html#tls-warnings\n",
      "  warnings.warn(\n"
     ]
    },
    {
     "name": "stdout",
     "output_type": "stream",
     "text": [
      "Document downloaded successfully as: pdf_files/14.pdf\n"
     ]
    },
    {
     "name": "stderr",
     "output_type": "stream",
     "text": [
      "c:\\anaconda3\\envs\\TS_ENV\\Lib\\site-packages\\urllib3\\connectionpool.py:1097: InsecureRequestWarning: Unverified HTTPS request is being made to host 'www.ons.dz'. Adding certificate verification is strongly advised. See: https://urllib3.readthedocs.io/en/latest/advanced-usage.html#tls-warnings\n",
      "  warnings.warn(\n"
     ]
    },
    {
     "name": "stdout",
     "output_type": "stream",
     "text": [
      "Document downloaded successfully as: pdf_files/15.pdf\n"
     ]
    },
    {
     "name": "stderr",
     "output_type": "stream",
     "text": [
      "c:\\anaconda3\\envs\\TS_ENV\\Lib\\site-packages\\urllib3\\connectionpool.py:1097: InsecureRequestWarning: Unverified HTTPS request is being made to host 'www.ons.dz'. Adding certificate verification is strongly advised. See: https://urllib3.readthedocs.io/en/latest/advanced-usage.html#tls-warnings\n",
      "  warnings.warn(\n"
     ]
    },
    {
     "name": "stdout",
     "output_type": "stream",
     "text": [
      "Document downloaded successfully as: pdf_files/16.pdf\n"
     ]
    },
    {
     "name": "stderr",
     "output_type": "stream",
     "text": [
      "c:\\anaconda3\\envs\\TS_ENV\\Lib\\site-packages\\urllib3\\connectionpool.py:1097: InsecureRequestWarning: Unverified HTTPS request is being made to host 'www.ons.dz'. Adding certificate verification is strongly advised. See: https://urllib3.readthedocs.io/en/latest/advanced-usage.html#tls-warnings\n",
      "  warnings.warn(\n"
     ]
    },
    {
     "name": "stdout",
     "output_type": "stream",
     "text": [
      "Document downloaded successfully as: pdf_files/17.pdf\n"
     ]
    },
    {
     "name": "stderr",
     "output_type": "stream",
     "text": [
      "c:\\anaconda3\\envs\\TS_ENV\\Lib\\site-packages\\urllib3\\connectionpool.py:1097: InsecureRequestWarning: Unverified HTTPS request is being made to host 'www.ons.dz'. Adding certificate verification is strongly advised. See: https://urllib3.readthedocs.io/en/latest/advanced-usage.html#tls-warnings\n",
      "  warnings.warn(\n"
     ]
    },
    {
     "name": "stdout",
     "output_type": "stream",
     "text": [
      "Document downloaded successfully as: pdf_files/18.pdf\n"
     ]
    },
    {
     "name": "stderr",
     "output_type": "stream",
     "text": [
      "c:\\anaconda3\\envs\\TS_ENV\\Lib\\site-packages\\urllib3\\connectionpool.py:1097: InsecureRequestWarning: Unverified HTTPS request is being made to host 'www.ons.dz'. Adding certificate verification is strongly advised. See: https://urllib3.readthedocs.io/en/latest/advanced-usage.html#tls-warnings\n",
      "  warnings.warn(\n"
     ]
    },
    {
     "name": "stdout",
     "output_type": "stream",
     "text": [
      "Document downloaded successfully as: pdf_files/19.pdf\n"
     ]
    },
    {
     "name": "stderr",
     "output_type": "stream",
     "text": [
      "c:\\anaconda3\\envs\\TS_ENV\\Lib\\site-packages\\urllib3\\connectionpool.py:1097: InsecureRequestWarning: Unverified HTTPS request is being made to host 'www.ons.dz'. Adding certificate verification is strongly advised. See: https://urllib3.readthedocs.io/en/latest/advanced-usage.html#tls-warnings\n",
      "  warnings.warn(\n"
     ]
    },
    {
     "name": "stdout",
     "output_type": "stream",
     "text": [
      "Document downloaded successfully as: pdf_files/20.pdf\n"
     ]
    },
    {
     "name": "stderr",
     "output_type": "stream",
     "text": [
      "c:\\anaconda3\\envs\\TS_ENV\\Lib\\site-packages\\urllib3\\connectionpool.py:1097: InsecureRequestWarning: Unverified HTTPS request is being made to host 'www.ons.dz'. Adding certificate verification is strongly advised. See: https://urllib3.readthedocs.io/en/latest/advanced-usage.html#tls-warnings\n",
      "  warnings.warn(\n"
     ]
    },
    {
     "name": "stdout",
     "output_type": "stream",
     "text": [
      "Document downloaded successfully as: pdf_files/21.pdf\n"
     ]
    },
    {
     "name": "stderr",
     "output_type": "stream",
     "text": [
      "c:\\anaconda3\\envs\\TS_ENV\\Lib\\site-packages\\urllib3\\connectionpool.py:1097: InsecureRequestWarning: Unverified HTTPS request is being made to host 'www.ons.dz'. Adding certificate verification is strongly advised. See: https://urllib3.readthedocs.io/en/latest/advanced-usage.html#tls-warnings\n",
      "  warnings.warn(\n"
     ]
    },
    {
     "name": "stdout",
     "output_type": "stream",
     "text": [
      "Document downloaded successfully as: pdf_files/22.pdf\n"
     ]
    },
    {
     "name": "stderr",
     "output_type": "stream",
     "text": [
      "c:\\anaconda3\\envs\\TS_ENV\\Lib\\site-packages\\urllib3\\connectionpool.py:1097: InsecureRequestWarning: Unverified HTTPS request is being made to host 'www.ons.dz'. Adding certificate verification is strongly advised. See: https://urllib3.readthedocs.io/en/latest/advanced-usage.html#tls-warnings\n",
      "  warnings.warn(\n"
     ]
    },
    {
     "name": "stdout",
     "output_type": "stream",
     "text": [
      "Document downloaded successfully as: pdf_files/23.pdf\n"
     ]
    },
    {
     "name": "stderr",
     "output_type": "stream",
     "text": [
      "c:\\anaconda3\\envs\\TS_ENV\\Lib\\site-packages\\urllib3\\connectionpool.py:1097: InsecureRequestWarning: Unverified HTTPS request is being made to host 'www.ons.dz'. Adding certificate verification is strongly advised. See: https://urllib3.readthedocs.io/en/latest/advanced-usage.html#tls-warnings\n",
      "  warnings.warn(\n"
     ]
    },
    {
     "name": "stdout",
     "output_type": "stream",
     "text": [
      "Document downloaded successfully as: pdf_files/24.pdf\n"
     ]
    },
    {
     "name": "stderr",
     "output_type": "stream",
     "text": [
      "c:\\anaconda3\\envs\\TS_ENV\\Lib\\site-packages\\urllib3\\connectionpool.py:1097: InsecureRequestWarning: Unverified HTTPS request is being made to host 'www.ons.dz'. Adding certificate verification is strongly advised. See: https://urllib3.readthedocs.io/en/latest/advanced-usage.html#tls-warnings\n",
      "  warnings.warn(\n"
     ]
    },
    {
     "name": "stdout",
     "output_type": "stream",
     "text": [
      "Document downloaded successfully as: pdf_files/25.pdf\n"
     ]
    },
    {
     "name": "stderr",
     "output_type": "stream",
     "text": [
      "c:\\anaconda3\\envs\\TS_ENV\\Lib\\site-packages\\urllib3\\connectionpool.py:1097: InsecureRequestWarning: Unverified HTTPS request is being made to host 'www.ons.dz'. Adding certificate verification is strongly advised. See: https://urllib3.readthedocs.io/en/latest/advanced-usage.html#tls-warnings\n",
      "  warnings.warn(\n"
     ]
    },
    {
     "name": "stdout",
     "output_type": "stream",
     "text": [
      "Document downloaded successfully as: pdf_files/26.pdf\n"
     ]
    },
    {
     "name": "stderr",
     "output_type": "stream",
     "text": [
      "c:\\anaconda3\\envs\\TS_ENV\\Lib\\site-packages\\urllib3\\connectionpool.py:1097: InsecureRequestWarning: Unverified HTTPS request is being made to host 'www.ons.dz'. Adding certificate verification is strongly advised. See: https://urllib3.readthedocs.io/en/latest/advanced-usage.html#tls-warnings\n",
      "  warnings.warn(\n"
     ]
    },
    {
     "name": "stdout",
     "output_type": "stream",
     "text": [
      "Document downloaded successfully as: pdf_files/27.pdf\n"
     ]
    },
    {
     "name": "stderr",
     "output_type": "stream",
     "text": [
      "c:\\anaconda3\\envs\\TS_ENV\\Lib\\site-packages\\urllib3\\connectionpool.py:1097: InsecureRequestWarning: Unverified HTTPS request is being made to host 'www.ons.dz'. Adding certificate verification is strongly advised. See: https://urllib3.readthedocs.io/en/latest/advanced-usage.html#tls-warnings\n",
      "  warnings.warn(\n"
     ]
    },
    {
     "name": "stdout",
     "output_type": "stream",
     "text": [
      "Document downloaded successfully as: pdf_files/28.pdf\n"
     ]
    },
    {
     "name": "stderr",
     "output_type": "stream",
     "text": [
      "c:\\anaconda3\\envs\\TS_ENV\\Lib\\site-packages\\urllib3\\connectionpool.py:1097: InsecureRequestWarning: Unverified HTTPS request is being made to host 'www.ons.dz'. Adding certificate verification is strongly advised. See: https://urllib3.readthedocs.io/en/latest/advanced-usage.html#tls-warnings\n",
      "  warnings.warn(\n"
     ]
    },
    {
     "name": "stdout",
     "output_type": "stream",
     "text": [
      "Document downloaded successfully as: pdf_files/29.pdf\n"
     ]
    },
    {
     "name": "stderr",
     "output_type": "stream",
     "text": [
      "c:\\anaconda3\\envs\\TS_ENV\\Lib\\site-packages\\urllib3\\connectionpool.py:1097: InsecureRequestWarning: Unverified HTTPS request is being made to host 'www.ons.dz'. Adding certificate verification is strongly advised. See: https://urllib3.readthedocs.io/en/latest/advanced-usage.html#tls-warnings\n",
      "  warnings.warn(\n"
     ]
    },
    {
     "name": "stdout",
     "output_type": "stream",
     "text": [
      "Document downloaded successfully as: pdf_files/30.pdf\n"
     ]
    },
    {
     "name": "stderr",
     "output_type": "stream",
     "text": [
      "c:\\anaconda3\\envs\\TS_ENV\\Lib\\site-packages\\urllib3\\connectionpool.py:1097: InsecureRequestWarning: Unverified HTTPS request is being made to host 'www.ons.dz'. Adding certificate verification is strongly advised. See: https://urllib3.readthedocs.io/en/latest/advanced-usage.html#tls-warnings\n",
      "  warnings.warn(\n"
     ]
    },
    {
     "name": "stdout",
     "output_type": "stream",
     "text": [
      "Document downloaded successfully as: pdf_files/31.pdf\n"
     ]
    },
    {
     "name": "stderr",
     "output_type": "stream",
     "text": [
      "c:\\anaconda3\\envs\\TS_ENV\\Lib\\site-packages\\urllib3\\connectionpool.py:1097: InsecureRequestWarning: Unverified HTTPS request is being made to host 'www.ons.dz'. Adding certificate verification is strongly advised. See: https://urllib3.readthedocs.io/en/latest/advanced-usage.html#tls-warnings\n",
      "  warnings.warn(\n"
     ]
    },
    {
     "name": "stdout",
     "output_type": "stream",
     "text": [
      "Document downloaded successfully as: pdf_files/32.pdf\n"
     ]
    },
    {
     "name": "stderr",
     "output_type": "stream",
     "text": [
      "c:\\anaconda3\\envs\\TS_ENV\\Lib\\site-packages\\urllib3\\connectionpool.py:1097: InsecureRequestWarning: Unverified HTTPS request is being made to host 'www.ons.dz'. Adding certificate verification is strongly advised. See: https://urllib3.readthedocs.io/en/latest/advanced-usage.html#tls-warnings\n",
      "  warnings.warn(\n"
     ]
    },
    {
     "name": "stdout",
     "output_type": "stream",
     "text": [
      "Document downloaded successfully as: pdf_files/33.pdf\n"
     ]
    },
    {
     "name": "stderr",
     "output_type": "stream",
     "text": [
      "c:\\anaconda3\\envs\\TS_ENV\\Lib\\site-packages\\urllib3\\connectionpool.py:1097: InsecureRequestWarning: Unverified HTTPS request is being made to host 'www.ons.dz'. Adding certificate verification is strongly advised. See: https://urllib3.readthedocs.io/en/latest/advanced-usage.html#tls-warnings\n",
      "  warnings.warn(\n"
     ]
    },
    {
     "name": "stdout",
     "output_type": "stream",
     "text": [
      "Document downloaded successfully as: pdf_files/34.pdf\n"
     ]
    },
    {
     "name": "stderr",
     "output_type": "stream",
     "text": [
      "c:\\anaconda3\\envs\\TS_ENV\\Lib\\site-packages\\urllib3\\connectionpool.py:1097: InsecureRequestWarning: Unverified HTTPS request is being made to host 'www.ons.dz'. Adding certificate verification is strongly advised. See: https://urllib3.readthedocs.io/en/latest/advanced-usage.html#tls-warnings\n",
      "  warnings.warn(\n"
     ]
    },
    {
     "name": "stdout",
     "output_type": "stream",
     "text": [
      "Document downloaded successfully as: pdf_files/35.pdf\n"
     ]
    },
    {
     "name": "stderr",
     "output_type": "stream",
     "text": [
      "c:\\anaconda3\\envs\\TS_ENV\\Lib\\site-packages\\urllib3\\connectionpool.py:1097: InsecureRequestWarning: Unverified HTTPS request is being made to host 'www.ons.dz'. Adding certificate verification is strongly advised. See: https://urllib3.readthedocs.io/en/latest/advanced-usage.html#tls-warnings\n",
      "  warnings.warn(\n"
     ]
    },
    {
     "name": "stdout",
     "output_type": "stream",
     "text": [
      "Document downloaded successfully as: pdf_files/36.pdf\n"
     ]
    },
    {
     "name": "stderr",
     "output_type": "stream",
     "text": [
      "c:\\anaconda3\\envs\\TS_ENV\\Lib\\site-packages\\urllib3\\connectionpool.py:1097: InsecureRequestWarning: Unverified HTTPS request is being made to host 'www.ons.dz'. Adding certificate verification is strongly advised. See: https://urllib3.readthedocs.io/en/latest/advanced-usage.html#tls-warnings\n",
      "  warnings.warn(\n"
     ]
    },
    {
     "name": "stdout",
     "output_type": "stream",
     "text": [
      "Document downloaded successfully as: pdf_files/37.pdf\n"
     ]
    },
    {
     "name": "stderr",
     "output_type": "stream",
     "text": [
      "c:\\anaconda3\\envs\\TS_ENV\\Lib\\site-packages\\urllib3\\connectionpool.py:1097: InsecureRequestWarning: Unverified HTTPS request is being made to host 'www.ons.dz'. Adding certificate verification is strongly advised. See: https://urllib3.readthedocs.io/en/latest/advanced-usage.html#tls-warnings\n",
      "  warnings.warn(\n"
     ]
    },
    {
     "name": "stdout",
     "output_type": "stream",
     "text": [
      "Document downloaded successfully as: pdf_files/38.pdf\n"
     ]
    },
    {
     "name": "stderr",
     "output_type": "stream",
     "text": [
      "c:\\anaconda3\\envs\\TS_ENV\\Lib\\site-packages\\urllib3\\connectionpool.py:1097: InsecureRequestWarning: Unverified HTTPS request is being made to host 'www.ons.dz'. Adding certificate verification is strongly advised. See: https://urllib3.readthedocs.io/en/latest/advanced-usage.html#tls-warnings\n",
      "  warnings.warn(\n"
     ]
    },
    {
     "name": "stdout",
     "output_type": "stream",
     "text": [
      "Document downloaded successfully as: pdf_files/39.pdf\n"
     ]
    },
    {
     "name": "stderr",
     "output_type": "stream",
     "text": [
      "c:\\anaconda3\\envs\\TS_ENV\\Lib\\site-packages\\urllib3\\connectionpool.py:1097: InsecureRequestWarning: Unverified HTTPS request is being made to host 'www.ons.dz'. Adding certificate verification is strongly advised. See: https://urllib3.readthedocs.io/en/latest/advanced-usage.html#tls-warnings\n",
      "  warnings.warn(\n"
     ]
    },
    {
     "name": "stdout",
     "output_type": "stream",
     "text": [
      "Document downloaded successfully as: pdf_files/40.pdf\n"
     ]
    },
    {
     "name": "stderr",
     "output_type": "stream",
     "text": [
      "c:\\anaconda3\\envs\\TS_ENV\\Lib\\site-packages\\urllib3\\connectionpool.py:1097: InsecureRequestWarning: Unverified HTTPS request is being made to host 'www.ons.dz'. Adding certificate verification is strongly advised. See: https://urllib3.readthedocs.io/en/latest/advanced-usage.html#tls-warnings\n",
      "  warnings.warn(\n"
     ]
    },
    {
     "name": "stdout",
     "output_type": "stream",
     "text": [
      "Document downloaded successfully as: pdf_files/41.pdf\n"
     ]
    },
    {
     "name": "stderr",
     "output_type": "stream",
     "text": [
      "c:\\anaconda3\\envs\\TS_ENV\\Lib\\site-packages\\urllib3\\connectionpool.py:1097: InsecureRequestWarning: Unverified HTTPS request is being made to host 'www.ons.dz'. Adding certificate verification is strongly advised. See: https://urllib3.readthedocs.io/en/latest/advanced-usage.html#tls-warnings\n",
      "  warnings.warn(\n"
     ]
    },
    {
     "name": "stdout",
     "output_type": "stream",
     "text": [
      "Document downloaded successfully as: pdf_files/42.pdf\n"
     ]
    },
    {
     "name": "stderr",
     "output_type": "stream",
     "text": [
      "c:\\anaconda3\\envs\\TS_ENV\\Lib\\site-packages\\urllib3\\connectionpool.py:1097: InsecureRequestWarning: Unverified HTTPS request is being made to host 'www.ons.dz'. Adding certificate verification is strongly advised. See: https://urllib3.readthedocs.io/en/latest/advanced-usage.html#tls-warnings\n",
      "  warnings.warn(\n"
     ]
    },
    {
     "name": "stdout",
     "output_type": "stream",
     "text": [
      "Document downloaded successfully as: pdf_files/43.pdf\n"
     ]
    },
    {
     "name": "stderr",
     "output_type": "stream",
     "text": [
      "c:\\anaconda3\\envs\\TS_ENV\\Lib\\site-packages\\urllib3\\connectionpool.py:1097: InsecureRequestWarning: Unverified HTTPS request is being made to host 'www.ons.dz'. Adding certificate verification is strongly advised. See: https://urllib3.readthedocs.io/en/latest/advanced-usage.html#tls-warnings\n",
      "  warnings.warn(\n"
     ]
    },
    {
     "name": "stdout",
     "output_type": "stream",
     "text": [
      "Document downloaded successfully as: pdf_files/44.pdf\n"
     ]
    },
    {
     "name": "stderr",
     "output_type": "stream",
     "text": [
      "c:\\anaconda3\\envs\\TS_ENV\\Lib\\site-packages\\urllib3\\connectionpool.py:1097: InsecureRequestWarning: Unverified HTTPS request is being made to host 'www.ons.dz'. Adding certificate verification is strongly advised. See: https://urllib3.readthedocs.io/en/latest/advanced-usage.html#tls-warnings\n",
      "  warnings.warn(\n"
     ]
    },
    {
     "name": "stdout",
     "output_type": "stream",
     "text": [
      "Document downloaded successfully as: pdf_files/45.pdf\n"
     ]
    },
    {
     "name": "stderr",
     "output_type": "stream",
     "text": [
      "c:\\anaconda3\\envs\\TS_ENV\\Lib\\site-packages\\urllib3\\connectionpool.py:1097: InsecureRequestWarning: Unverified HTTPS request is being made to host 'www.ons.dz'. Adding certificate verification is strongly advised. See: https://urllib3.readthedocs.io/en/latest/advanced-usage.html#tls-warnings\n",
      "  warnings.warn(\n"
     ]
    },
    {
     "name": "stdout",
     "output_type": "stream",
     "text": [
      "Document downloaded successfully as: pdf_files/46.pdf\n"
     ]
    },
    {
     "name": "stderr",
     "output_type": "stream",
     "text": [
      "c:\\anaconda3\\envs\\TS_ENV\\Lib\\site-packages\\urllib3\\connectionpool.py:1097: InsecureRequestWarning: Unverified HTTPS request is being made to host 'www.ons.dz'. Adding certificate verification is strongly advised. See: https://urllib3.readthedocs.io/en/latest/advanced-usage.html#tls-warnings\n",
      "  warnings.warn(\n"
     ]
    },
    {
     "name": "stdout",
     "output_type": "stream",
     "text": [
      "Document downloaded successfully as: pdf_files/47.pdf\n"
     ]
    },
    {
     "name": "stderr",
     "output_type": "stream",
     "text": [
      "c:\\anaconda3\\envs\\TS_ENV\\Lib\\site-packages\\urllib3\\connectionpool.py:1097: InsecureRequestWarning: Unverified HTTPS request is being made to host 'www.ons.dz'. Adding certificate verification is strongly advised. See: https://urllib3.readthedocs.io/en/latest/advanced-usage.html#tls-warnings\n",
      "  warnings.warn(\n"
     ]
    },
    {
     "name": "stdout",
     "output_type": "stream",
     "text": [
      "Document downloaded successfully as: pdf_files/48.pdf\n"
     ]
    },
    {
     "name": "stderr",
     "output_type": "stream",
     "text": [
      "c:\\anaconda3\\envs\\TS_ENV\\Lib\\site-packages\\urllib3\\connectionpool.py:1097: InsecureRequestWarning: Unverified HTTPS request is being made to host 'www.ons.dz'. Adding certificate verification is strongly advised. See: https://urllib3.readthedocs.io/en/latest/advanced-usage.html#tls-warnings\n",
      "  warnings.warn(\n"
     ]
    },
    {
     "name": "stdout",
     "output_type": "stream",
     "text": [
      "Document downloaded successfully as: pdf_files/49.pdf\n"
     ]
    },
    {
     "name": "stderr",
     "output_type": "stream",
     "text": [
      "c:\\anaconda3\\envs\\TS_ENV\\Lib\\site-packages\\urllib3\\connectionpool.py:1097: InsecureRequestWarning: Unverified HTTPS request is being made to host 'www.ons.dz'. Adding certificate verification is strongly advised. See: https://urllib3.readthedocs.io/en/latest/advanced-usage.html#tls-warnings\n",
      "  warnings.warn(\n"
     ]
    },
    {
     "name": "stdout",
     "output_type": "stream",
     "text": [
      "Document downloaded successfully as: pdf_files/50.pdf\n"
     ]
    },
    {
     "name": "stderr",
     "output_type": "stream",
     "text": [
      "c:\\anaconda3\\envs\\TS_ENV\\Lib\\site-packages\\urllib3\\connectionpool.py:1097: InsecureRequestWarning: Unverified HTTPS request is being made to host 'www.ons.dz'. Adding certificate verification is strongly advised. See: https://urllib3.readthedocs.io/en/latest/advanced-usage.html#tls-warnings\n",
      "  warnings.warn(\n"
     ]
    },
    {
     "name": "stdout",
     "output_type": "stream",
     "text": [
      "Document downloaded successfully as: pdf_files/51.pdf\n"
     ]
    },
    {
     "name": "stderr",
     "output_type": "stream",
     "text": [
      "c:\\anaconda3\\envs\\TS_ENV\\Lib\\site-packages\\urllib3\\connectionpool.py:1097: InsecureRequestWarning: Unverified HTTPS request is being made to host 'www.ons.dz'. Adding certificate verification is strongly advised. See: https://urllib3.readthedocs.io/en/latest/advanced-usage.html#tls-warnings\n",
      "  warnings.warn(\n"
     ]
    },
    {
     "name": "stdout",
     "output_type": "stream",
     "text": [
      "Document downloaded successfully as: pdf_files/52.pdf\n"
     ]
    },
    {
     "name": "stderr",
     "output_type": "stream",
     "text": [
      "c:\\anaconda3\\envs\\TS_ENV\\Lib\\site-packages\\urllib3\\connectionpool.py:1097: InsecureRequestWarning: Unverified HTTPS request is being made to host 'www.ons.dz'. Adding certificate verification is strongly advised. See: https://urllib3.readthedocs.io/en/latest/advanced-usage.html#tls-warnings\n",
      "  warnings.warn(\n"
     ]
    },
    {
     "name": "stdout",
     "output_type": "stream",
     "text": [
      "Document downloaded successfully as: pdf_files/53.pdf\n"
     ]
    },
    {
     "name": "stderr",
     "output_type": "stream",
     "text": [
      "c:\\anaconda3\\envs\\TS_ENV\\Lib\\site-packages\\urllib3\\connectionpool.py:1097: InsecureRequestWarning: Unverified HTTPS request is being made to host 'www.ons.dz'. Adding certificate verification is strongly advised. See: https://urllib3.readthedocs.io/en/latest/advanced-usage.html#tls-warnings\n",
      "  warnings.warn(\n"
     ]
    },
    {
     "name": "stdout",
     "output_type": "stream",
     "text": [
      "Document downloaded successfully as: pdf_files/54.pdf\n"
     ]
    },
    {
     "name": "stderr",
     "output_type": "stream",
     "text": [
      "c:\\anaconda3\\envs\\TS_ENV\\Lib\\site-packages\\urllib3\\connectionpool.py:1097: InsecureRequestWarning: Unverified HTTPS request is being made to host 'www.ons.dz'. Adding certificate verification is strongly advised. See: https://urllib3.readthedocs.io/en/latest/advanced-usage.html#tls-warnings\n",
      "  warnings.warn(\n"
     ]
    },
    {
     "name": "stdout",
     "output_type": "stream",
     "text": [
      "Document downloaded successfully as: pdf_files/55.pdf\n"
     ]
    },
    {
     "name": "stderr",
     "output_type": "stream",
     "text": [
      "c:\\anaconda3\\envs\\TS_ENV\\Lib\\site-packages\\urllib3\\connectionpool.py:1097: InsecureRequestWarning: Unverified HTTPS request is being made to host 'www.ons.dz'. Adding certificate verification is strongly advised. See: https://urllib3.readthedocs.io/en/latest/advanced-usage.html#tls-warnings\n",
      "  warnings.warn(\n"
     ]
    },
    {
     "name": "stdout",
     "output_type": "stream",
     "text": [
      "Document downloaded successfully as: pdf_files/56.pdf\n"
     ]
    },
    {
     "name": "stderr",
     "output_type": "stream",
     "text": [
      "c:\\anaconda3\\envs\\TS_ENV\\Lib\\site-packages\\urllib3\\connectionpool.py:1097: InsecureRequestWarning: Unverified HTTPS request is being made to host 'www.ons.dz'. Adding certificate verification is strongly advised. See: https://urllib3.readthedocs.io/en/latest/advanced-usage.html#tls-warnings\n",
      "  warnings.warn(\n"
     ]
    },
    {
     "name": "stdout",
     "output_type": "stream",
     "text": [
      "Document downloaded successfully as: pdf_files/57.pdf\n"
     ]
    },
    {
     "name": "stderr",
     "output_type": "stream",
     "text": [
      "c:\\anaconda3\\envs\\TS_ENV\\Lib\\site-packages\\urllib3\\connectionpool.py:1097: InsecureRequestWarning: Unverified HTTPS request is being made to host 'www.ons.dz'. Adding certificate verification is strongly advised. See: https://urllib3.readthedocs.io/en/latest/advanced-usage.html#tls-warnings\n",
      "  warnings.warn(\n"
     ]
    },
    {
     "name": "stdout",
     "output_type": "stream",
     "text": [
      "Document downloaded successfully as: pdf_files/58.pdf\n"
     ]
    },
    {
     "name": "stderr",
     "output_type": "stream",
     "text": [
      "c:\\anaconda3\\envs\\TS_ENV\\Lib\\site-packages\\urllib3\\connectionpool.py:1097: InsecureRequestWarning: Unverified HTTPS request is being made to host 'www.ons.dz'. Adding certificate verification is strongly advised. See: https://urllib3.readthedocs.io/en/latest/advanced-usage.html#tls-warnings\n",
      "  warnings.warn(\n"
     ]
    },
    {
     "name": "stdout",
     "output_type": "stream",
     "text": [
      "Document downloaded successfully as: pdf_files/59.pdf\n"
     ]
    },
    {
     "name": "stderr",
     "output_type": "stream",
     "text": [
      "c:\\anaconda3\\envs\\TS_ENV\\Lib\\site-packages\\urllib3\\connectionpool.py:1097: InsecureRequestWarning: Unverified HTTPS request is being made to host 'www.ons.dz'. Adding certificate verification is strongly advised. See: https://urllib3.readthedocs.io/en/latest/advanced-usage.html#tls-warnings\n",
      "  warnings.warn(\n"
     ]
    },
    {
     "name": "stdout",
     "output_type": "stream",
     "text": [
      "Document downloaded successfully as: pdf_files/60.pdf\n"
     ]
    },
    {
     "name": "stderr",
     "output_type": "stream",
     "text": [
      "c:\\anaconda3\\envs\\TS_ENV\\Lib\\site-packages\\urllib3\\connectionpool.py:1097: InsecureRequestWarning: Unverified HTTPS request is being made to host 'www.ons.dz'. Adding certificate verification is strongly advised. See: https://urllib3.readthedocs.io/en/latest/advanced-usage.html#tls-warnings\n",
      "  warnings.warn(\n"
     ]
    },
    {
     "name": "stdout",
     "output_type": "stream",
     "text": [
      "Document downloaded successfully as: pdf_files/61.pdf\n"
     ]
    },
    {
     "name": "stderr",
     "output_type": "stream",
     "text": [
      "c:\\anaconda3\\envs\\TS_ENV\\Lib\\site-packages\\urllib3\\connectionpool.py:1097: InsecureRequestWarning: Unverified HTTPS request is being made to host 'www.ons.dz'. Adding certificate verification is strongly advised. See: https://urllib3.readthedocs.io/en/latest/advanced-usage.html#tls-warnings\n",
      "  warnings.warn(\n"
     ]
    },
    {
     "name": "stdout",
     "output_type": "stream",
     "text": [
      "Document downloaded successfully as: pdf_files/62.pdf\n"
     ]
    },
    {
     "name": "stderr",
     "output_type": "stream",
     "text": [
      "c:\\anaconda3\\envs\\TS_ENV\\Lib\\site-packages\\urllib3\\connectionpool.py:1097: InsecureRequestWarning: Unverified HTTPS request is being made to host 'www.ons.dz'. Adding certificate verification is strongly advised. See: https://urllib3.readthedocs.io/en/latest/advanced-usage.html#tls-warnings\n",
      "  warnings.warn(\n"
     ]
    },
    {
     "name": "stdout",
     "output_type": "stream",
     "text": [
      "Document downloaded successfully as: pdf_files/63.pdf\n"
     ]
    },
    {
     "name": "stderr",
     "output_type": "stream",
     "text": [
      "c:\\anaconda3\\envs\\TS_ENV\\Lib\\site-packages\\urllib3\\connectionpool.py:1097: InsecureRequestWarning: Unverified HTTPS request is being made to host 'www.ons.dz'. Adding certificate verification is strongly advised. See: https://urllib3.readthedocs.io/en/latest/advanced-usage.html#tls-warnings\n",
      "  warnings.warn(\n"
     ]
    },
    {
     "name": "stdout",
     "output_type": "stream",
     "text": [
      "Document downloaded successfully as: pdf_files/64.pdf\n"
     ]
    },
    {
     "name": "stderr",
     "output_type": "stream",
     "text": [
      "c:\\anaconda3\\envs\\TS_ENV\\Lib\\site-packages\\urllib3\\connectionpool.py:1097: InsecureRequestWarning: Unverified HTTPS request is being made to host 'www.ons.dz'. Adding certificate verification is strongly advised. See: https://urllib3.readthedocs.io/en/latest/advanced-usage.html#tls-warnings\n",
      "  warnings.warn(\n"
     ]
    },
    {
     "name": "stdout",
     "output_type": "stream",
     "text": [
      "Document downloaded successfully as: pdf_files/65.pdf\n"
     ]
    },
    {
     "name": "stderr",
     "output_type": "stream",
     "text": [
      "c:\\anaconda3\\envs\\TS_ENV\\Lib\\site-packages\\urllib3\\connectionpool.py:1097: InsecureRequestWarning: Unverified HTTPS request is being made to host 'www.ons.dz'. Adding certificate verification is strongly advised. See: https://urllib3.readthedocs.io/en/latest/advanced-usage.html#tls-warnings\n",
      "  warnings.warn(\n"
     ]
    },
    {
     "name": "stdout",
     "output_type": "stream",
     "text": [
      "Document downloaded successfully as: pdf_files/66.pdf\n"
     ]
    },
    {
     "name": "stderr",
     "output_type": "stream",
     "text": [
      "c:\\anaconda3\\envs\\TS_ENV\\Lib\\site-packages\\urllib3\\connectionpool.py:1097: InsecureRequestWarning: Unverified HTTPS request is being made to host 'www.ons.dz'. Adding certificate verification is strongly advised. See: https://urllib3.readthedocs.io/en/latest/advanced-usage.html#tls-warnings\n",
      "  warnings.warn(\n"
     ]
    },
    {
     "name": "stdout",
     "output_type": "stream",
     "text": [
      "Document downloaded successfully as: pdf_files/67.pdf\n"
     ]
    },
    {
     "name": "stderr",
     "output_type": "stream",
     "text": [
      "c:\\anaconda3\\envs\\TS_ENV\\Lib\\site-packages\\urllib3\\connectionpool.py:1097: InsecureRequestWarning: Unverified HTTPS request is being made to host 'www.ons.dz'. Adding certificate verification is strongly advised. See: https://urllib3.readthedocs.io/en/latest/advanced-usage.html#tls-warnings\n",
      "  warnings.warn(\n"
     ]
    },
    {
     "name": "stdout",
     "output_type": "stream",
     "text": [
      "Document downloaded successfully as: pdf_files/68.pdf\n"
     ]
    },
    {
     "name": "stderr",
     "output_type": "stream",
     "text": [
      "c:\\anaconda3\\envs\\TS_ENV\\Lib\\site-packages\\urllib3\\connectionpool.py:1097: InsecureRequestWarning: Unverified HTTPS request is being made to host 'www.ons.dz'. Adding certificate verification is strongly advised. See: https://urllib3.readthedocs.io/en/latest/advanced-usage.html#tls-warnings\n",
      "  warnings.warn(\n"
     ]
    },
    {
     "name": "stdout",
     "output_type": "stream",
     "text": [
      "Document downloaded successfully as: pdf_files/69.pdf\n"
     ]
    },
    {
     "name": "stderr",
     "output_type": "stream",
     "text": [
      "c:\\anaconda3\\envs\\TS_ENV\\Lib\\site-packages\\urllib3\\connectionpool.py:1097: InsecureRequestWarning: Unverified HTTPS request is being made to host 'www.ons.dz'. Adding certificate verification is strongly advised. See: https://urllib3.readthedocs.io/en/latest/advanced-usage.html#tls-warnings\n",
      "  warnings.warn(\n"
     ]
    },
    {
     "name": "stdout",
     "output_type": "stream",
     "text": [
      "Document downloaded successfully as: pdf_files/70.pdf\n"
     ]
    },
    {
     "name": "stderr",
     "output_type": "stream",
     "text": [
      "c:\\anaconda3\\envs\\TS_ENV\\Lib\\site-packages\\urllib3\\connectionpool.py:1097: InsecureRequestWarning: Unverified HTTPS request is being made to host 'www.ons.dz'. Adding certificate verification is strongly advised. See: https://urllib3.readthedocs.io/en/latest/advanced-usage.html#tls-warnings\n",
      "  warnings.warn(\n"
     ]
    },
    {
     "name": "stdout",
     "output_type": "stream",
     "text": [
      "Document downloaded successfully as: pdf_files/71.pdf\n"
     ]
    },
    {
     "name": "stderr",
     "output_type": "stream",
     "text": [
      "c:\\anaconda3\\envs\\TS_ENV\\Lib\\site-packages\\urllib3\\connectionpool.py:1097: InsecureRequestWarning: Unverified HTTPS request is being made to host 'www.ons.dz'. Adding certificate verification is strongly advised. See: https://urllib3.readthedocs.io/en/latest/advanced-usage.html#tls-warnings\n",
      "  warnings.warn(\n"
     ]
    },
    {
     "name": "stdout",
     "output_type": "stream",
     "text": [
      "Document downloaded successfully as: pdf_files/72.pdf\n"
     ]
    },
    {
     "name": "stderr",
     "output_type": "stream",
     "text": [
      "c:\\anaconda3\\envs\\TS_ENV\\Lib\\site-packages\\urllib3\\connectionpool.py:1097: InsecureRequestWarning: Unverified HTTPS request is being made to host 'www.ons.dz'. Adding certificate verification is strongly advised. See: https://urllib3.readthedocs.io/en/latest/advanced-usage.html#tls-warnings\n",
      "  warnings.warn(\n"
     ]
    },
    {
     "name": "stdout",
     "output_type": "stream",
     "text": [
      "Document downloaded successfully as: pdf_files/73.pdf\n"
     ]
    },
    {
     "name": "stderr",
     "output_type": "stream",
     "text": [
      "c:\\anaconda3\\envs\\TS_ENV\\Lib\\site-packages\\urllib3\\connectionpool.py:1097: InsecureRequestWarning: Unverified HTTPS request is being made to host 'www.ons.dz'. Adding certificate verification is strongly advised. See: https://urllib3.readthedocs.io/en/latest/advanced-usage.html#tls-warnings\n",
      "  warnings.warn(\n"
     ]
    },
    {
     "name": "stdout",
     "output_type": "stream",
     "text": [
      "Document downloaded successfully as: pdf_files/74.pdf\n"
     ]
    },
    {
     "name": "stderr",
     "output_type": "stream",
     "text": [
      "c:\\anaconda3\\envs\\TS_ENV\\Lib\\site-packages\\urllib3\\connectionpool.py:1097: InsecureRequestWarning: Unverified HTTPS request is being made to host 'www.ons.dz'. Adding certificate verification is strongly advised. See: https://urllib3.readthedocs.io/en/latest/advanced-usage.html#tls-warnings\n",
      "  warnings.warn(\n"
     ]
    },
    {
     "name": "stdout",
     "output_type": "stream",
     "text": [
      "Document downloaded successfully as: pdf_files/75.pdf\n"
     ]
    },
    {
     "name": "stderr",
     "output_type": "stream",
     "text": [
      "c:\\anaconda3\\envs\\TS_ENV\\Lib\\site-packages\\urllib3\\connectionpool.py:1097: InsecureRequestWarning: Unverified HTTPS request is being made to host 'www.ons.dz'. Adding certificate verification is strongly advised. See: https://urllib3.readthedocs.io/en/latest/advanced-usage.html#tls-warnings\n",
      "  warnings.warn(\n"
     ]
    },
    {
     "name": "stdout",
     "output_type": "stream",
     "text": [
      "Document downloaded successfully as: pdf_files/76.pdf\n"
     ]
    },
    {
     "name": "stderr",
     "output_type": "stream",
     "text": [
      "c:\\anaconda3\\envs\\TS_ENV\\Lib\\site-packages\\urllib3\\connectionpool.py:1097: InsecureRequestWarning: Unverified HTTPS request is being made to host 'www.ons.dz'. Adding certificate verification is strongly advised. See: https://urllib3.readthedocs.io/en/latest/advanced-usage.html#tls-warnings\n",
      "  warnings.warn(\n"
     ]
    },
    {
     "name": "stdout",
     "output_type": "stream",
     "text": [
      "Document downloaded successfully as: pdf_files/77.pdf\n"
     ]
    },
    {
     "name": "stderr",
     "output_type": "stream",
     "text": [
      "c:\\anaconda3\\envs\\TS_ENV\\Lib\\site-packages\\urllib3\\connectionpool.py:1097: InsecureRequestWarning: Unverified HTTPS request is being made to host 'www.ons.dz'. Adding certificate verification is strongly advised. See: https://urllib3.readthedocs.io/en/latest/advanced-usage.html#tls-warnings\n",
      "  warnings.warn(\n"
     ]
    },
    {
     "name": "stdout",
     "output_type": "stream",
     "text": [
      "Document downloaded successfully as: pdf_files/78.pdf\n"
     ]
    },
    {
     "name": "stderr",
     "output_type": "stream",
     "text": [
      "c:\\anaconda3\\envs\\TS_ENV\\Lib\\site-packages\\urllib3\\connectionpool.py:1097: InsecureRequestWarning: Unverified HTTPS request is being made to host 'www.ons.dz'. Adding certificate verification is strongly advised. See: https://urllib3.readthedocs.io/en/latest/advanced-usage.html#tls-warnings\n",
      "  warnings.warn(\n"
     ]
    },
    {
     "name": "stdout",
     "output_type": "stream",
     "text": [
      "Document downloaded successfully as: pdf_files/79.pdf\n"
     ]
    },
    {
     "name": "stderr",
     "output_type": "stream",
     "text": [
      "c:\\anaconda3\\envs\\TS_ENV\\Lib\\site-packages\\urllib3\\connectionpool.py:1097: InsecureRequestWarning: Unverified HTTPS request is being made to host 'www.ons.dz'. Adding certificate verification is strongly advised. See: https://urllib3.readthedocs.io/en/latest/advanced-usage.html#tls-warnings\n",
      "  warnings.warn(\n"
     ]
    },
    {
     "name": "stdout",
     "output_type": "stream",
     "text": [
      "Document downloaded successfully as: pdf_files/80.pdf\n"
     ]
    },
    {
     "name": "stderr",
     "output_type": "stream",
     "text": [
      "c:\\anaconda3\\envs\\TS_ENV\\Lib\\site-packages\\urllib3\\connectionpool.py:1097: InsecureRequestWarning: Unverified HTTPS request is being made to host 'www.ons.dz'. Adding certificate verification is strongly advised. See: https://urllib3.readthedocs.io/en/latest/advanced-usage.html#tls-warnings\n",
      "  warnings.warn(\n"
     ]
    },
    {
     "name": "stdout",
     "output_type": "stream",
     "text": [
      "Document downloaded successfully as: pdf_files/81.pdf\n"
     ]
    },
    {
     "name": "stderr",
     "output_type": "stream",
     "text": [
      "c:\\anaconda3\\envs\\TS_ENV\\Lib\\site-packages\\urllib3\\connectionpool.py:1097: InsecureRequestWarning: Unverified HTTPS request is being made to host 'www.ons.dz'. Adding certificate verification is strongly advised. See: https://urllib3.readthedocs.io/en/latest/advanced-usage.html#tls-warnings\n",
      "  warnings.warn(\n"
     ]
    },
    {
     "name": "stdout",
     "output_type": "stream",
     "text": [
      "Document downloaded successfully as: pdf_files/82.pdf\n"
     ]
    },
    {
     "name": "stderr",
     "output_type": "stream",
     "text": [
      "c:\\anaconda3\\envs\\TS_ENV\\Lib\\site-packages\\urllib3\\connectionpool.py:1097: InsecureRequestWarning: Unverified HTTPS request is being made to host 'www.ons.dz'. Adding certificate verification is strongly advised. See: https://urllib3.readthedocs.io/en/latest/advanced-usage.html#tls-warnings\n",
      "  warnings.warn(\n"
     ]
    },
    {
     "name": "stdout",
     "output_type": "stream",
     "text": [
      "Document downloaded successfully as: pdf_files/83.pdf\n"
     ]
    },
    {
     "name": "stderr",
     "output_type": "stream",
     "text": [
      "c:\\anaconda3\\envs\\TS_ENV\\Lib\\site-packages\\urllib3\\connectionpool.py:1097: InsecureRequestWarning: Unverified HTTPS request is being made to host 'www.ons.dz'. Adding certificate verification is strongly advised. See: https://urllib3.readthedocs.io/en/latest/advanced-usage.html#tls-warnings\n",
      "  warnings.warn(\n"
     ]
    },
    {
     "name": "stdout",
     "output_type": "stream",
     "text": [
      "Document downloaded successfully as: pdf_files/84.pdf\n"
     ]
    },
    {
     "name": "stderr",
     "output_type": "stream",
     "text": [
      "c:\\anaconda3\\envs\\TS_ENV\\Lib\\site-packages\\urllib3\\connectionpool.py:1097: InsecureRequestWarning: Unverified HTTPS request is being made to host 'www.ons.dz'. Adding certificate verification is strongly advised. See: https://urllib3.readthedocs.io/en/latest/advanced-usage.html#tls-warnings\n",
      "  warnings.warn(\n"
     ]
    },
    {
     "name": "stdout",
     "output_type": "stream",
     "text": [
      "Document downloaded successfully as: pdf_files/85.pdf\n"
     ]
    },
    {
     "name": "stderr",
     "output_type": "stream",
     "text": [
      "c:\\anaconda3\\envs\\TS_ENV\\Lib\\site-packages\\urllib3\\connectionpool.py:1097: InsecureRequestWarning: Unverified HTTPS request is being made to host 'www.ons.dz'. Adding certificate verification is strongly advised. See: https://urllib3.readthedocs.io/en/latest/advanced-usage.html#tls-warnings\n",
      "  warnings.warn(\n"
     ]
    },
    {
     "name": "stdout",
     "output_type": "stream",
     "text": [
      "Document downloaded successfully as: pdf_files/86.pdf\n"
     ]
    },
    {
     "name": "stderr",
     "output_type": "stream",
     "text": [
      "c:\\anaconda3\\envs\\TS_ENV\\Lib\\site-packages\\urllib3\\connectionpool.py:1097: InsecureRequestWarning: Unverified HTTPS request is being made to host 'www.ons.dz'. Adding certificate verification is strongly advised. See: https://urllib3.readthedocs.io/en/latest/advanced-usage.html#tls-warnings\n",
      "  warnings.warn(\n"
     ]
    },
    {
     "name": "stdout",
     "output_type": "stream",
     "text": [
      "Document downloaded successfully as: pdf_files/87.pdf\n"
     ]
    },
    {
     "name": "stderr",
     "output_type": "stream",
     "text": [
      "c:\\anaconda3\\envs\\TS_ENV\\Lib\\site-packages\\urllib3\\connectionpool.py:1097: InsecureRequestWarning: Unverified HTTPS request is being made to host 'www.ons.dz'. Adding certificate verification is strongly advised. See: https://urllib3.readthedocs.io/en/latest/advanced-usage.html#tls-warnings\n",
      "  warnings.warn(\n"
     ]
    },
    {
     "name": "stdout",
     "output_type": "stream",
     "text": [
      "Document downloaded successfully as: pdf_files/88.pdf\n"
     ]
    },
    {
     "name": "stderr",
     "output_type": "stream",
     "text": [
      "c:\\anaconda3\\envs\\TS_ENV\\Lib\\site-packages\\urllib3\\connectionpool.py:1097: InsecureRequestWarning: Unverified HTTPS request is being made to host 'www.ons.dz'. Adding certificate verification is strongly advised. See: https://urllib3.readthedocs.io/en/latest/advanced-usage.html#tls-warnings\n",
      "  warnings.warn(\n"
     ]
    },
    {
     "name": "stdout",
     "output_type": "stream",
     "text": [
      "Document downloaded successfully as: pdf_files/89.pdf\n"
     ]
    },
    {
     "name": "stderr",
     "output_type": "stream",
     "text": [
      "c:\\anaconda3\\envs\\TS_ENV\\Lib\\site-packages\\urllib3\\connectionpool.py:1097: InsecureRequestWarning: Unverified HTTPS request is being made to host 'www.ons.dz'. Adding certificate verification is strongly advised. See: https://urllib3.readthedocs.io/en/latest/advanced-usage.html#tls-warnings\n",
      "  warnings.warn(\n"
     ]
    },
    {
     "name": "stdout",
     "output_type": "stream",
     "text": [
      "Document downloaded successfully as: pdf_files/90.pdf\n"
     ]
    },
    {
     "name": "stderr",
     "output_type": "stream",
     "text": [
      "c:\\anaconda3\\envs\\TS_ENV\\Lib\\site-packages\\urllib3\\connectionpool.py:1097: InsecureRequestWarning: Unverified HTTPS request is being made to host 'www.ons.dz'. Adding certificate verification is strongly advised. See: https://urllib3.readthedocs.io/en/latest/advanced-usage.html#tls-warnings\n",
      "  warnings.warn(\n"
     ]
    },
    {
     "name": "stdout",
     "output_type": "stream",
     "text": [
      "Document downloaded successfully as: pdf_files/91.pdf\n"
     ]
    },
    {
     "name": "stderr",
     "output_type": "stream",
     "text": [
      "c:\\anaconda3\\envs\\TS_ENV\\Lib\\site-packages\\urllib3\\connectionpool.py:1097: InsecureRequestWarning: Unverified HTTPS request is being made to host 'www.ons.dz'. Adding certificate verification is strongly advised. See: https://urllib3.readthedocs.io/en/latest/advanced-usage.html#tls-warnings\n",
      "  warnings.warn(\n"
     ]
    },
    {
     "name": "stdout",
     "output_type": "stream",
     "text": [
      "Document downloaded successfully as: pdf_files/92.pdf\n"
     ]
    },
    {
     "name": "stderr",
     "output_type": "stream",
     "text": [
      "c:\\anaconda3\\envs\\TS_ENV\\Lib\\site-packages\\urllib3\\connectionpool.py:1097: InsecureRequestWarning: Unverified HTTPS request is being made to host 'www.ons.dz'. Adding certificate verification is strongly advised. See: https://urllib3.readthedocs.io/en/latest/advanced-usage.html#tls-warnings\n",
      "  warnings.warn(\n"
     ]
    },
    {
     "name": "stdout",
     "output_type": "stream",
     "text": [
      "Document downloaded successfully as: pdf_files/93.pdf\n"
     ]
    },
    {
     "name": "stderr",
     "output_type": "stream",
     "text": [
      "c:\\anaconda3\\envs\\TS_ENV\\Lib\\site-packages\\urllib3\\connectionpool.py:1097: InsecureRequestWarning: Unverified HTTPS request is being made to host 'www.ons.dz'. Adding certificate verification is strongly advised. See: https://urllib3.readthedocs.io/en/latest/advanced-usage.html#tls-warnings\n",
      "  warnings.warn(\n"
     ]
    },
    {
     "name": "stdout",
     "output_type": "stream",
     "text": [
      "Document downloaded successfully as: pdf_files/94.pdf\n"
     ]
    },
    {
     "name": "stderr",
     "output_type": "stream",
     "text": [
      "c:\\anaconda3\\envs\\TS_ENV\\Lib\\site-packages\\urllib3\\connectionpool.py:1097: InsecureRequestWarning: Unverified HTTPS request is being made to host 'www.ons.dz'. Adding certificate verification is strongly advised. See: https://urllib3.readthedocs.io/en/latest/advanced-usage.html#tls-warnings\n",
      "  warnings.warn(\n"
     ]
    },
    {
     "name": "stdout",
     "output_type": "stream",
     "text": [
      "Document downloaded successfully as: pdf_files/95.pdf\n"
     ]
    },
    {
     "name": "stderr",
     "output_type": "stream",
     "text": [
      "c:\\anaconda3\\envs\\TS_ENV\\Lib\\site-packages\\urllib3\\connectionpool.py:1097: InsecureRequestWarning: Unverified HTTPS request is being made to host 'www.ons.dz'. Adding certificate verification is strongly advised. See: https://urllib3.readthedocs.io/en/latest/advanced-usage.html#tls-warnings\n",
      "  warnings.warn(\n"
     ]
    },
    {
     "name": "stdout",
     "output_type": "stream",
     "text": [
      "Document downloaded successfully as: pdf_files/96.pdf\n"
     ]
    },
    {
     "name": "stderr",
     "output_type": "stream",
     "text": [
      "c:\\anaconda3\\envs\\TS_ENV\\Lib\\site-packages\\urllib3\\connectionpool.py:1097: InsecureRequestWarning: Unverified HTTPS request is being made to host 'www.ons.dz'. Adding certificate verification is strongly advised. See: https://urllib3.readthedocs.io/en/latest/advanced-usage.html#tls-warnings\n",
      "  warnings.warn(\n"
     ]
    },
    {
     "name": "stdout",
     "output_type": "stream",
     "text": [
      "Document downloaded successfully as: pdf_files/97.pdf\n"
     ]
    },
    {
     "name": "stderr",
     "output_type": "stream",
     "text": [
      "c:\\anaconda3\\envs\\TS_ENV\\Lib\\site-packages\\urllib3\\connectionpool.py:1097: InsecureRequestWarning: Unverified HTTPS request is being made to host 'www.ons.dz'. Adding certificate verification is strongly advised. See: https://urllib3.readthedocs.io/en/latest/advanced-usage.html#tls-warnings\n",
      "  warnings.warn(\n"
     ]
    },
    {
     "name": "stdout",
     "output_type": "stream",
     "text": [
      "Document downloaded successfully as: pdf_files/98.pdf\n"
     ]
    },
    {
     "name": "stderr",
     "output_type": "stream",
     "text": [
      "c:\\anaconda3\\envs\\TS_ENV\\Lib\\site-packages\\urllib3\\connectionpool.py:1097: InsecureRequestWarning: Unverified HTTPS request is being made to host 'www.ons.dz'. Adding certificate verification is strongly advised. See: https://urllib3.readthedocs.io/en/latest/advanced-usage.html#tls-warnings\n",
      "  warnings.warn(\n"
     ]
    },
    {
     "name": "stdout",
     "output_type": "stream",
     "text": [
      "Document downloaded successfully as: pdf_files/99.pdf\n"
     ]
    },
    {
     "name": "stderr",
     "output_type": "stream",
     "text": [
      "c:\\anaconda3\\envs\\TS_ENV\\Lib\\site-packages\\urllib3\\connectionpool.py:1097: InsecureRequestWarning: Unverified HTTPS request is being made to host 'www.ons.dz'. Adding certificate verification is strongly advised. See: https://urllib3.readthedocs.io/en/latest/advanced-usage.html#tls-warnings\n",
      "  warnings.warn(\n"
     ]
    },
    {
     "name": "stdout",
     "output_type": "stream",
     "text": [
      "Document downloaded successfully as: pdf_files/100.pdf\n"
     ]
    },
    {
     "name": "stderr",
     "output_type": "stream",
     "text": [
      "c:\\anaconda3\\envs\\TS_ENV\\Lib\\site-packages\\urllib3\\connectionpool.py:1097: InsecureRequestWarning: Unverified HTTPS request is being made to host 'www.ons.dz'. Adding certificate verification is strongly advised. See: https://urllib3.readthedocs.io/en/latest/advanced-usage.html#tls-warnings\n",
      "  warnings.warn(\n"
     ]
    },
    {
     "name": "stdout",
     "output_type": "stream",
     "text": [
      "Document downloaded successfully as: pdf_files/101.pdf\n"
     ]
    },
    {
     "name": "stderr",
     "output_type": "stream",
     "text": [
      "c:\\anaconda3\\envs\\TS_ENV\\Lib\\site-packages\\urllib3\\connectionpool.py:1097: InsecureRequestWarning: Unverified HTTPS request is being made to host 'www.ons.dz'. Adding certificate verification is strongly advised. See: https://urllib3.readthedocs.io/en/latest/advanced-usage.html#tls-warnings\n",
      "  warnings.warn(\n"
     ]
    },
    {
     "name": "stdout",
     "output_type": "stream",
     "text": [
      "Document downloaded successfully as: pdf_files/102.pdf\n"
     ]
    },
    {
     "name": "stderr",
     "output_type": "stream",
     "text": [
      "c:\\anaconda3\\envs\\TS_ENV\\Lib\\site-packages\\urllib3\\connectionpool.py:1097: InsecureRequestWarning: Unverified HTTPS request is being made to host 'www.ons.dz'. Adding certificate verification is strongly advised. See: https://urllib3.readthedocs.io/en/latest/advanced-usage.html#tls-warnings\n",
      "  warnings.warn(\n"
     ]
    },
    {
     "name": "stdout",
     "output_type": "stream",
     "text": [
      "Document downloaded successfully as: pdf_files/103.pdf\n"
     ]
    },
    {
     "name": "stderr",
     "output_type": "stream",
     "text": [
      "c:\\anaconda3\\envs\\TS_ENV\\Lib\\site-packages\\urllib3\\connectionpool.py:1097: InsecureRequestWarning: Unverified HTTPS request is being made to host 'www.ons.dz'. Adding certificate verification is strongly advised. See: https://urllib3.readthedocs.io/en/latest/advanced-usage.html#tls-warnings\n",
      "  warnings.warn(\n"
     ]
    },
    {
     "name": "stdout",
     "output_type": "stream",
     "text": [
      "Document downloaded successfully as: pdf_files/104.pdf\n"
     ]
    },
    {
     "name": "stderr",
     "output_type": "stream",
     "text": [
      "c:\\anaconda3\\envs\\TS_ENV\\Lib\\site-packages\\urllib3\\connectionpool.py:1097: InsecureRequestWarning: Unverified HTTPS request is being made to host 'www.ons.dz'. Adding certificate verification is strongly advised. See: https://urllib3.readthedocs.io/en/latest/advanced-usage.html#tls-warnings\n",
      "  warnings.warn(\n"
     ]
    },
    {
     "name": "stdout",
     "output_type": "stream",
     "text": [
      "Document downloaded successfully as: pdf_files/105.pdf\n"
     ]
    },
    {
     "name": "stderr",
     "output_type": "stream",
     "text": [
      "c:\\anaconda3\\envs\\TS_ENV\\Lib\\site-packages\\urllib3\\connectionpool.py:1097: InsecureRequestWarning: Unverified HTTPS request is being made to host 'www.ons.dz'. Adding certificate verification is strongly advised. See: https://urllib3.readthedocs.io/en/latest/advanced-usage.html#tls-warnings\n",
      "  warnings.warn(\n"
     ]
    },
    {
     "name": "stdout",
     "output_type": "stream",
     "text": [
      "Document downloaded successfully as: pdf_files/106.pdf\n"
     ]
    },
    {
     "name": "stderr",
     "output_type": "stream",
     "text": [
      "c:\\anaconda3\\envs\\TS_ENV\\Lib\\site-packages\\urllib3\\connectionpool.py:1097: InsecureRequestWarning: Unverified HTTPS request is being made to host 'www.ons.dz'. Adding certificate verification is strongly advised. See: https://urllib3.readthedocs.io/en/latest/advanced-usage.html#tls-warnings\n",
      "  warnings.warn(\n"
     ]
    },
    {
     "name": "stdout",
     "output_type": "stream",
     "text": [
      "Document downloaded successfully as: pdf_files/107.pdf\n"
     ]
    },
    {
     "name": "stderr",
     "output_type": "stream",
     "text": [
      "c:\\anaconda3\\envs\\TS_ENV\\Lib\\site-packages\\urllib3\\connectionpool.py:1097: InsecureRequestWarning: Unverified HTTPS request is being made to host 'www.ons.dz'. Adding certificate verification is strongly advised. See: https://urllib3.readthedocs.io/en/latest/advanced-usage.html#tls-warnings\n",
      "  warnings.warn(\n"
     ]
    },
    {
     "name": "stdout",
     "output_type": "stream",
     "text": [
      "Document downloaded successfully as: pdf_files/108.pdf\n"
     ]
    },
    {
     "name": "stderr",
     "output_type": "stream",
     "text": [
      "c:\\anaconda3\\envs\\TS_ENV\\Lib\\site-packages\\urllib3\\connectionpool.py:1097: InsecureRequestWarning: Unverified HTTPS request is being made to host 'www.ons.dz'. Adding certificate verification is strongly advised. See: https://urllib3.readthedocs.io/en/latest/advanced-usage.html#tls-warnings\n",
      "  warnings.warn(\n"
     ]
    },
    {
     "name": "stdout",
     "output_type": "stream",
     "text": [
      "Document downloaded successfully as: pdf_files/109.pdf\n"
     ]
    },
    {
     "name": "stderr",
     "output_type": "stream",
     "text": [
      "c:\\anaconda3\\envs\\TS_ENV\\Lib\\site-packages\\urllib3\\connectionpool.py:1097: InsecureRequestWarning: Unverified HTTPS request is being made to host 'www.ons.dz'. Adding certificate verification is strongly advised. See: https://urllib3.readthedocs.io/en/latest/advanced-usage.html#tls-warnings\n",
      "  warnings.warn(\n"
     ]
    },
    {
     "name": "stdout",
     "output_type": "stream",
     "text": [
      "Document downloaded successfully as: pdf_files/110.pdf\n"
     ]
    },
    {
     "name": "stderr",
     "output_type": "stream",
     "text": [
      "c:\\anaconda3\\envs\\TS_ENV\\Lib\\site-packages\\urllib3\\connectionpool.py:1097: InsecureRequestWarning: Unverified HTTPS request is being made to host 'www.ons.dz'. Adding certificate verification is strongly advised. See: https://urllib3.readthedocs.io/en/latest/advanced-usage.html#tls-warnings\n",
      "  warnings.warn(\n"
     ]
    },
    {
     "name": "stdout",
     "output_type": "stream",
     "text": [
      "Document downloaded successfully as: pdf_files/111.pdf\n"
     ]
    },
    {
     "name": "stderr",
     "output_type": "stream",
     "text": [
      "c:\\anaconda3\\envs\\TS_ENV\\Lib\\site-packages\\urllib3\\connectionpool.py:1097: InsecureRequestWarning: Unverified HTTPS request is being made to host 'www.ons.dz'. Adding certificate verification is strongly advised. See: https://urllib3.readthedocs.io/en/latest/advanced-usage.html#tls-warnings\n",
      "  warnings.warn(\n"
     ]
    },
    {
     "name": "stdout",
     "output_type": "stream",
     "text": [
      "Document downloaded successfully as: pdf_files/112.pdf\n"
     ]
    },
    {
     "name": "stderr",
     "output_type": "stream",
     "text": [
      "c:\\anaconda3\\envs\\TS_ENV\\Lib\\site-packages\\urllib3\\connectionpool.py:1097: InsecureRequestWarning: Unverified HTTPS request is being made to host 'www.ons.dz'. Adding certificate verification is strongly advised. See: https://urllib3.readthedocs.io/en/latest/advanced-usage.html#tls-warnings\n",
      "  warnings.warn(\n"
     ]
    },
    {
     "name": "stdout",
     "output_type": "stream",
     "text": [
      "Document downloaded successfully as: pdf_files/113.pdf\n"
     ]
    },
    {
     "name": "stderr",
     "output_type": "stream",
     "text": [
      "c:\\anaconda3\\envs\\TS_ENV\\Lib\\site-packages\\urllib3\\connectionpool.py:1097: InsecureRequestWarning: Unverified HTTPS request is being made to host 'www.ons.dz'. Adding certificate verification is strongly advised. See: https://urllib3.readthedocs.io/en/latest/advanced-usage.html#tls-warnings\n",
      "  warnings.warn(\n"
     ]
    },
    {
     "name": "stdout",
     "output_type": "stream",
     "text": [
      "Document downloaded successfully as: pdf_files/114.pdf\n"
     ]
    },
    {
     "name": "stderr",
     "output_type": "stream",
     "text": [
      "c:\\anaconda3\\envs\\TS_ENV\\Lib\\site-packages\\urllib3\\connectionpool.py:1097: InsecureRequestWarning: Unverified HTTPS request is being made to host 'www.ons.dz'. Adding certificate verification is strongly advised. See: https://urllib3.readthedocs.io/en/latest/advanced-usage.html#tls-warnings\n",
      "  warnings.warn(\n"
     ]
    },
    {
     "name": "stdout",
     "output_type": "stream",
     "text": [
      "Document downloaded successfully as: pdf_files/115.pdf\n"
     ]
    },
    {
     "name": "stderr",
     "output_type": "stream",
     "text": [
      "c:\\anaconda3\\envs\\TS_ENV\\Lib\\site-packages\\urllib3\\connectionpool.py:1097: InsecureRequestWarning: Unverified HTTPS request is being made to host 'www.ons.dz'. Adding certificate verification is strongly advised. See: https://urllib3.readthedocs.io/en/latest/advanced-usage.html#tls-warnings\n",
      "  warnings.warn(\n"
     ]
    },
    {
     "name": "stdout",
     "output_type": "stream",
     "text": [
      "Document downloaded successfully as: pdf_files/116.pdf\n"
     ]
    },
    {
     "name": "stderr",
     "output_type": "stream",
     "text": [
      "c:\\anaconda3\\envs\\TS_ENV\\Lib\\site-packages\\urllib3\\connectionpool.py:1097: InsecureRequestWarning: Unverified HTTPS request is being made to host 'www.ons.dz'. Adding certificate verification is strongly advised. See: https://urllib3.readthedocs.io/en/latest/advanced-usage.html#tls-warnings\n",
      "  warnings.warn(\n"
     ]
    },
    {
     "name": "stdout",
     "output_type": "stream",
     "text": [
      "Document downloaded successfully as: pdf_files/117.pdf\n"
     ]
    },
    {
     "name": "stderr",
     "output_type": "stream",
     "text": [
      "c:\\anaconda3\\envs\\TS_ENV\\Lib\\site-packages\\urllib3\\connectionpool.py:1097: InsecureRequestWarning: Unverified HTTPS request is being made to host 'www.ons.dz'. Adding certificate verification is strongly advised. See: https://urllib3.readthedocs.io/en/latest/advanced-usage.html#tls-warnings\n",
      "  warnings.warn(\n"
     ]
    },
    {
     "name": "stdout",
     "output_type": "stream",
     "text": [
      "Document downloaded successfully as: pdf_files/118.pdf\n"
     ]
    },
    {
     "name": "stderr",
     "output_type": "stream",
     "text": [
      "c:\\anaconda3\\envs\\TS_ENV\\Lib\\site-packages\\urllib3\\connectionpool.py:1097: InsecureRequestWarning: Unverified HTTPS request is being made to host 'www.ons.dz'. Adding certificate verification is strongly advised. See: https://urllib3.readthedocs.io/en/latest/advanced-usage.html#tls-warnings\n",
      "  warnings.warn(\n"
     ]
    },
    {
     "name": "stdout",
     "output_type": "stream",
     "text": [
      "Document downloaded successfully as: pdf_files/119.pdf\n"
     ]
    },
    {
     "name": "stderr",
     "output_type": "stream",
     "text": [
      "c:\\anaconda3\\envs\\TS_ENV\\Lib\\site-packages\\urllib3\\connectionpool.py:1097: InsecureRequestWarning: Unverified HTTPS request is being made to host 'www.ons.dz'. Adding certificate verification is strongly advised. See: https://urllib3.readthedocs.io/en/latest/advanced-usage.html#tls-warnings\n",
      "  warnings.warn(\n"
     ]
    },
    {
     "name": "stdout",
     "output_type": "stream",
     "text": [
      "Document downloaded successfully as: pdf_files/120.pdf\n"
     ]
    },
    {
     "name": "stderr",
     "output_type": "stream",
     "text": [
      "c:\\anaconda3\\envs\\TS_ENV\\Lib\\site-packages\\urllib3\\connectionpool.py:1097: InsecureRequestWarning: Unverified HTTPS request is being made to host 'www.ons.dz'. Adding certificate verification is strongly advised. See: https://urllib3.readthedocs.io/en/latest/advanced-usage.html#tls-warnings\n",
      "  warnings.warn(\n"
     ]
    },
    {
     "name": "stdout",
     "output_type": "stream",
     "text": [
      "Document downloaded successfully as: pdf_files/121.pdf\n"
     ]
    },
    {
     "name": "stderr",
     "output_type": "stream",
     "text": [
      "c:\\anaconda3\\envs\\TS_ENV\\Lib\\site-packages\\urllib3\\connectionpool.py:1097: InsecureRequestWarning: Unverified HTTPS request is being made to host 'www.ons.dz'. Adding certificate verification is strongly advised. See: https://urllib3.readthedocs.io/en/latest/advanced-usage.html#tls-warnings\n",
      "  warnings.warn(\n"
     ]
    },
    {
     "name": "stdout",
     "output_type": "stream",
     "text": [
      "Document downloaded successfully as: pdf_files/122.pdf\n"
     ]
    },
    {
     "name": "stderr",
     "output_type": "stream",
     "text": [
      "c:\\anaconda3\\envs\\TS_ENV\\Lib\\site-packages\\urllib3\\connectionpool.py:1097: InsecureRequestWarning: Unverified HTTPS request is being made to host 'www.ons.dz'. Adding certificate verification is strongly advised. See: https://urllib3.readthedocs.io/en/latest/advanced-usage.html#tls-warnings\n",
      "  warnings.warn(\n"
     ]
    },
    {
     "name": "stdout",
     "output_type": "stream",
     "text": [
      "Document downloaded successfully as: pdf_files/123.pdf\n"
     ]
    },
    {
     "name": "stderr",
     "output_type": "stream",
     "text": [
      "c:\\anaconda3\\envs\\TS_ENV\\Lib\\site-packages\\urllib3\\connectionpool.py:1097: InsecureRequestWarning: Unverified HTTPS request is being made to host 'www.ons.dz'. Adding certificate verification is strongly advised. See: https://urllib3.readthedocs.io/en/latest/advanced-usage.html#tls-warnings\n",
      "  warnings.warn(\n"
     ]
    },
    {
     "name": "stdout",
     "output_type": "stream",
     "text": [
      "Document downloaded successfully as: pdf_files/124.pdf\n"
     ]
    },
    {
     "name": "stderr",
     "output_type": "stream",
     "text": [
      "c:\\anaconda3\\envs\\TS_ENV\\Lib\\site-packages\\urllib3\\connectionpool.py:1097: InsecureRequestWarning: Unverified HTTPS request is being made to host 'www.ons.dz'. Adding certificate verification is strongly advised. See: https://urllib3.readthedocs.io/en/latest/advanced-usage.html#tls-warnings\n",
      "  warnings.warn(\n"
     ]
    },
    {
     "name": "stdout",
     "output_type": "stream",
     "text": [
      "Document downloaded successfully as: pdf_files/125.pdf\n"
     ]
    },
    {
     "name": "stderr",
     "output_type": "stream",
     "text": [
      "c:\\anaconda3\\envs\\TS_ENV\\Lib\\site-packages\\urllib3\\connectionpool.py:1097: InsecureRequestWarning: Unverified HTTPS request is being made to host 'www.ons.dz'. Adding certificate verification is strongly advised. See: https://urllib3.readthedocs.io/en/latest/advanced-usage.html#tls-warnings\n",
      "  warnings.warn(\n"
     ]
    },
    {
     "name": "stdout",
     "output_type": "stream",
     "text": [
      "Document downloaded successfully as: pdf_files/126.pdf\n"
     ]
    },
    {
     "name": "stderr",
     "output_type": "stream",
     "text": [
      "c:\\anaconda3\\envs\\TS_ENV\\Lib\\site-packages\\urllib3\\connectionpool.py:1097: InsecureRequestWarning: Unverified HTTPS request is being made to host 'www.ons.dz'. Adding certificate verification is strongly advised. See: https://urllib3.readthedocs.io/en/latest/advanced-usage.html#tls-warnings\n",
      "  warnings.warn(\n"
     ]
    },
    {
     "name": "stdout",
     "output_type": "stream",
     "text": [
      "Document downloaded successfully as: pdf_files/127.pdf\n"
     ]
    },
    {
     "name": "stderr",
     "output_type": "stream",
     "text": [
      "c:\\anaconda3\\envs\\TS_ENV\\Lib\\site-packages\\urllib3\\connectionpool.py:1097: InsecureRequestWarning: Unverified HTTPS request is being made to host 'www.ons.dz'. Adding certificate verification is strongly advised. See: https://urllib3.readthedocs.io/en/latest/advanced-usage.html#tls-warnings\n",
      "  warnings.warn(\n"
     ]
    },
    {
     "name": "stdout",
     "output_type": "stream",
     "text": [
      "Document downloaded successfully as: pdf_files/128.pdf\n"
     ]
    },
    {
     "name": "stderr",
     "output_type": "stream",
     "text": [
      "c:\\anaconda3\\envs\\TS_ENV\\Lib\\site-packages\\urllib3\\connectionpool.py:1097: InsecureRequestWarning: Unverified HTTPS request is being made to host 'www.ons.dz'. Adding certificate verification is strongly advised. See: https://urllib3.readthedocs.io/en/latest/advanced-usage.html#tls-warnings\n",
      "  warnings.warn(\n"
     ]
    },
    {
     "name": "stdout",
     "output_type": "stream",
     "text": [
      "Document downloaded successfully as: pdf_files/129.pdf\n"
     ]
    },
    {
     "name": "stderr",
     "output_type": "stream",
     "text": [
      "c:\\anaconda3\\envs\\TS_ENV\\Lib\\site-packages\\urllib3\\connectionpool.py:1097: InsecureRequestWarning: Unverified HTTPS request is being made to host 'www.ons.dz'. Adding certificate verification is strongly advised. See: https://urllib3.readthedocs.io/en/latest/advanced-usage.html#tls-warnings\n",
      "  warnings.warn(\n"
     ]
    },
    {
     "name": "stdout",
     "output_type": "stream",
     "text": [
      "Document downloaded successfully as: pdf_files/130.pdf\n"
     ]
    },
    {
     "name": "stderr",
     "output_type": "stream",
     "text": [
      "c:\\anaconda3\\envs\\TS_ENV\\Lib\\site-packages\\urllib3\\connectionpool.py:1097: InsecureRequestWarning: Unverified HTTPS request is being made to host 'www.ons.dz'. Adding certificate verification is strongly advised. See: https://urllib3.readthedocs.io/en/latest/advanced-usage.html#tls-warnings\n",
      "  warnings.warn(\n"
     ]
    },
    {
     "name": "stdout",
     "output_type": "stream",
     "text": [
      "Document downloaded successfully as: pdf_files/131.pdf\n"
     ]
    },
    {
     "name": "stderr",
     "output_type": "stream",
     "text": [
      "c:\\anaconda3\\envs\\TS_ENV\\Lib\\site-packages\\urllib3\\connectionpool.py:1097: InsecureRequestWarning: Unverified HTTPS request is being made to host 'www.ons.dz'. Adding certificate verification is strongly advised. See: https://urllib3.readthedocs.io/en/latest/advanced-usage.html#tls-warnings\n",
      "  warnings.warn(\n"
     ]
    },
    {
     "name": "stdout",
     "output_type": "stream",
     "text": [
      "Document downloaded successfully as: pdf_files/132.pdf\n"
     ]
    },
    {
     "name": "stderr",
     "output_type": "stream",
     "text": [
      "c:\\anaconda3\\envs\\TS_ENV\\Lib\\site-packages\\urllib3\\connectionpool.py:1097: InsecureRequestWarning: Unverified HTTPS request is being made to host 'www.ons.dz'. Adding certificate verification is strongly advised. See: https://urllib3.readthedocs.io/en/latest/advanced-usage.html#tls-warnings\n",
      "  warnings.warn(\n"
     ]
    },
    {
     "name": "stdout",
     "output_type": "stream",
     "text": [
      "Document downloaded successfully as: pdf_files/133.pdf\n"
     ]
    },
    {
     "name": "stderr",
     "output_type": "stream",
     "text": [
      "c:\\anaconda3\\envs\\TS_ENV\\Lib\\site-packages\\urllib3\\connectionpool.py:1097: InsecureRequestWarning: Unverified HTTPS request is being made to host 'www.ons.dz'. Adding certificate verification is strongly advised. See: https://urllib3.readthedocs.io/en/latest/advanced-usage.html#tls-warnings\n",
      "  warnings.warn(\n"
     ]
    },
    {
     "name": "stdout",
     "output_type": "stream",
     "text": [
      "Document downloaded successfully as: pdf_files/134.pdf\n"
     ]
    },
    {
     "name": "stderr",
     "output_type": "stream",
     "text": [
      "c:\\anaconda3\\envs\\TS_ENV\\Lib\\site-packages\\urllib3\\connectionpool.py:1097: InsecureRequestWarning: Unverified HTTPS request is being made to host 'www.ons.dz'. Adding certificate verification is strongly advised. See: https://urllib3.readthedocs.io/en/latest/advanced-usage.html#tls-warnings\n",
      "  warnings.warn(\n"
     ]
    },
    {
     "name": "stdout",
     "output_type": "stream",
     "text": [
      "Document downloaded successfully as: pdf_files/135.pdf\n"
     ]
    },
    {
     "name": "stderr",
     "output_type": "stream",
     "text": [
      "c:\\anaconda3\\envs\\TS_ENV\\Lib\\site-packages\\urllib3\\connectionpool.py:1097: InsecureRequestWarning: Unverified HTTPS request is being made to host 'www.ons.dz'. Adding certificate verification is strongly advised. See: https://urllib3.readthedocs.io/en/latest/advanced-usage.html#tls-warnings\n",
      "  warnings.warn(\n"
     ]
    },
    {
     "name": "stdout",
     "output_type": "stream",
     "text": [
      "Document downloaded successfully as: pdf_files/136.pdf\n"
     ]
    },
    {
     "name": "stderr",
     "output_type": "stream",
     "text": [
      "c:\\anaconda3\\envs\\TS_ENV\\Lib\\site-packages\\urllib3\\connectionpool.py:1097: InsecureRequestWarning: Unverified HTTPS request is being made to host 'www.ons.dz'. Adding certificate verification is strongly advised. See: https://urllib3.readthedocs.io/en/latest/advanced-usage.html#tls-warnings\n",
      "  warnings.warn(\n"
     ]
    },
    {
     "name": "stdout",
     "output_type": "stream",
     "text": [
      "Document downloaded successfully as: pdf_files/137.pdf\n"
     ]
    },
    {
     "name": "stderr",
     "output_type": "stream",
     "text": [
      "c:\\anaconda3\\envs\\TS_ENV\\Lib\\site-packages\\urllib3\\connectionpool.py:1097: InsecureRequestWarning: Unverified HTTPS request is being made to host 'www.ons.dz'. Adding certificate verification is strongly advised. See: https://urllib3.readthedocs.io/en/latest/advanced-usage.html#tls-warnings\n",
      "  warnings.warn(\n"
     ]
    },
    {
     "name": "stdout",
     "output_type": "stream",
     "text": [
      "Document downloaded successfully as: pdf_files/138.pdf\n"
     ]
    },
    {
     "name": "stderr",
     "output_type": "stream",
     "text": [
      "c:\\anaconda3\\envs\\TS_ENV\\Lib\\site-packages\\urllib3\\connectionpool.py:1097: InsecureRequestWarning: Unverified HTTPS request is being made to host 'www.ons.dz'. Adding certificate verification is strongly advised. See: https://urllib3.readthedocs.io/en/latest/advanced-usage.html#tls-warnings\n",
      "  warnings.warn(\n"
     ]
    },
    {
     "name": "stdout",
     "output_type": "stream",
     "text": [
      "Document downloaded successfully as: pdf_files/139.pdf\n"
     ]
    },
    {
     "name": "stderr",
     "output_type": "stream",
     "text": [
      "c:\\anaconda3\\envs\\TS_ENV\\Lib\\site-packages\\urllib3\\connectionpool.py:1097: InsecureRequestWarning: Unverified HTTPS request is being made to host 'www.ons.dz'. Adding certificate verification is strongly advised. See: https://urllib3.readthedocs.io/en/latest/advanced-usage.html#tls-warnings\n",
      "  warnings.warn(\n"
     ]
    },
    {
     "name": "stdout",
     "output_type": "stream",
     "text": [
      "Document downloaded successfully as: pdf_files/140.pdf\n"
     ]
    },
    {
     "name": "stderr",
     "output_type": "stream",
     "text": [
      "c:\\anaconda3\\envs\\TS_ENV\\Lib\\site-packages\\urllib3\\connectionpool.py:1097: InsecureRequestWarning: Unverified HTTPS request is being made to host 'www.ons.dz'. Adding certificate verification is strongly advised. See: https://urllib3.readthedocs.io/en/latest/advanced-usage.html#tls-warnings\n",
      "  warnings.warn(\n"
     ]
    },
    {
     "name": "stdout",
     "output_type": "stream",
     "text": [
      "Document downloaded successfully as: pdf_files/141.pdf\n"
     ]
    },
    {
     "name": "stderr",
     "output_type": "stream",
     "text": [
      "c:\\anaconda3\\envs\\TS_ENV\\Lib\\site-packages\\urllib3\\connectionpool.py:1097: InsecureRequestWarning: Unverified HTTPS request is being made to host 'www.ons.dz'. Adding certificate verification is strongly advised. See: https://urllib3.readthedocs.io/en/latest/advanced-usage.html#tls-warnings\n",
      "  warnings.warn(\n"
     ]
    },
    {
     "name": "stdout",
     "output_type": "stream",
     "text": [
      "Document downloaded successfully as: pdf_files/142.pdf\n"
     ]
    },
    {
     "name": "stderr",
     "output_type": "stream",
     "text": [
      "c:\\anaconda3\\envs\\TS_ENV\\Lib\\site-packages\\urllib3\\connectionpool.py:1097: InsecureRequestWarning: Unverified HTTPS request is being made to host 'www.ons.dz'. Adding certificate verification is strongly advised. See: https://urllib3.readthedocs.io/en/latest/advanced-usage.html#tls-warnings\n",
      "  warnings.warn(\n"
     ]
    },
    {
     "name": "stdout",
     "output_type": "stream",
     "text": [
      "Document downloaded successfully as: pdf_files/143.pdf\n"
     ]
    },
    {
     "name": "stderr",
     "output_type": "stream",
     "text": [
      "c:\\anaconda3\\envs\\TS_ENV\\Lib\\site-packages\\urllib3\\connectionpool.py:1097: InsecureRequestWarning: Unverified HTTPS request is being made to host 'www.ons.dz'. Adding certificate verification is strongly advised. See: https://urllib3.readthedocs.io/en/latest/advanced-usage.html#tls-warnings\n",
      "  warnings.warn(\n"
     ]
    },
    {
     "name": "stdout",
     "output_type": "stream",
     "text": [
      "Document downloaded successfully as: pdf_files/144.pdf\n"
     ]
    },
    {
     "name": "stderr",
     "output_type": "stream",
     "text": [
      "c:\\anaconda3\\envs\\TS_ENV\\Lib\\site-packages\\urllib3\\connectionpool.py:1097: InsecureRequestWarning: Unverified HTTPS request is being made to host 'www.ons.dz'. Adding certificate verification is strongly advised. See: https://urllib3.readthedocs.io/en/latest/advanced-usage.html#tls-warnings\n",
      "  warnings.warn(\n"
     ]
    },
    {
     "name": "stdout",
     "output_type": "stream",
     "text": [
      "Document downloaded successfully as: pdf_files/145.pdf\n"
     ]
    },
    {
     "name": "stderr",
     "output_type": "stream",
     "text": [
      "c:\\anaconda3\\envs\\TS_ENV\\Lib\\site-packages\\urllib3\\connectionpool.py:1097: InsecureRequestWarning: Unverified HTTPS request is being made to host 'www.ons.dz'. Adding certificate verification is strongly advised. See: https://urllib3.readthedocs.io/en/latest/advanced-usage.html#tls-warnings\n",
      "  warnings.warn(\n"
     ]
    },
    {
     "name": "stdout",
     "output_type": "stream",
     "text": [
      "Document downloaded successfully as: pdf_files/146.pdf\n"
     ]
    },
    {
     "name": "stderr",
     "output_type": "stream",
     "text": [
      "c:\\anaconda3\\envs\\TS_ENV\\Lib\\site-packages\\urllib3\\connectionpool.py:1097: InsecureRequestWarning: Unverified HTTPS request is being made to host 'www.ons.dz'. Adding certificate verification is strongly advised. See: https://urllib3.readthedocs.io/en/latest/advanced-usage.html#tls-warnings\n",
      "  warnings.warn(\n"
     ]
    },
    {
     "name": "stdout",
     "output_type": "stream",
     "text": [
      "Document downloaded successfully as: pdf_files/147.pdf\n"
     ]
    },
    {
     "name": "stderr",
     "output_type": "stream",
     "text": [
      "c:\\anaconda3\\envs\\TS_ENV\\Lib\\site-packages\\urllib3\\connectionpool.py:1097: InsecureRequestWarning: Unverified HTTPS request is being made to host 'www.ons.dz'. Adding certificate verification is strongly advised. See: https://urllib3.readthedocs.io/en/latest/advanced-usage.html#tls-warnings\n",
      "  warnings.warn(\n"
     ]
    },
    {
     "name": "stdout",
     "output_type": "stream",
     "text": [
      "Document downloaded successfully as: pdf_files/148.pdf\n"
     ]
    },
    {
     "name": "stderr",
     "output_type": "stream",
     "text": [
      "c:\\anaconda3\\envs\\TS_ENV\\Lib\\site-packages\\urllib3\\connectionpool.py:1097: InsecureRequestWarning: Unverified HTTPS request is being made to host 'www.ons.dz'. Adding certificate verification is strongly advised. See: https://urllib3.readthedocs.io/en/latest/advanced-usage.html#tls-warnings\n",
      "  warnings.warn(\n"
     ]
    },
    {
     "name": "stdout",
     "output_type": "stream",
     "text": [
      "Document downloaded successfully as: pdf_files/149.pdf\n"
     ]
    },
    {
     "name": "stderr",
     "output_type": "stream",
     "text": [
      "c:\\anaconda3\\envs\\TS_ENV\\Lib\\site-packages\\urllib3\\connectionpool.py:1097: InsecureRequestWarning: Unverified HTTPS request is being made to host 'www.ons.dz'. Adding certificate verification is strongly advised. See: https://urllib3.readthedocs.io/en/latest/advanced-usage.html#tls-warnings\n",
      "  warnings.warn(\n"
     ]
    },
    {
     "name": "stdout",
     "output_type": "stream",
     "text": [
      "Document downloaded successfully as: pdf_files/150.pdf\n"
     ]
    },
    {
     "name": "stderr",
     "output_type": "stream",
     "text": [
      "c:\\anaconda3\\envs\\TS_ENV\\Lib\\site-packages\\urllib3\\connectionpool.py:1097: InsecureRequestWarning: Unverified HTTPS request is being made to host 'www.ons.dz'. Adding certificate verification is strongly advised. See: https://urllib3.readthedocs.io/en/latest/advanced-usage.html#tls-warnings\n",
      "  warnings.warn(\n"
     ]
    },
    {
     "name": "stdout",
     "output_type": "stream",
     "text": [
      "Document downloaded successfully as: pdf_files/151.pdf\n"
     ]
    },
    {
     "name": "stderr",
     "output_type": "stream",
     "text": [
      "c:\\anaconda3\\envs\\TS_ENV\\Lib\\site-packages\\urllib3\\connectionpool.py:1097: InsecureRequestWarning: Unverified HTTPS request is being made to host 'www.ons.dz'. Adding certificate verification is strongly advised. See: https://urllib3.readthedocs.io/en/latest/advanced-usage.html#tls-warnings\n",
      "  warnings.warn(\n"
     ]
    },
    {
     "name": "stdout",
     "output_type": "stream",
     "text": [
      "Document downloaded successfully as: pdf_files/152.pdf\n"
     ]
    },
    {
     "name": "stderr",
     "output_type": "stream",
     "text": [
      "c:\\anaconda3\\envs\\TS_ENV\\Lib\\site-packages\\urllib3\\connectionpool.py:1097: InsecureRequestWarning: Unverified HTTPS request is being made to host 'www.ons.dz'. Adding certificate verification is strongly advised. See: https://urllib3.readthedocs.io/en/latest/advanced-usage.html#tls-warnings\n",
      "  warnings.warn(\n"
     ]
    },
    {
     "name": "stdout",
     "output_type": "stream",
     "text": [
      "Document downloaded successfully as: pdf_files/153.pdf\n"
     ]
    },
    {
     "name": "stderr",
     "output_type": "stream",
     "text": [
      "c:\\anaconda3\\envs\\TS_ENV\\Lib\\site-packages\\urllib3\\connectionpool.py:1097: InsecureRequestWarning: Unverified HTTPS request is being made to host 'www.ons.dz'. Adding certificate verification is strongly advised. See: https://urllib3.readthedocs.io/en/latest/advanced-usage.html#tls-warnings\n",
      "  warnings.warn(\n"
     ]
    },
    {
     "name": "stdout",
     "output_type": "stream",
     "text": [
      "Document downloaded successfully as: pdf_files/154.pdf\n"
     ]
    },
    {
     "name": "stderr",
     "output_type": "stream",
     "text": [
      "c:\\anaconda3\\envs\\TS_ENV\\Lib\\site-packages\\urllib3\\connectionpool.py:1097: InsecureRequestWarning: Unverified HTTPS request is being made to host 'www.ons.dz'. Adding certificate verification is strongly advised. See: https://urllib3.readthedocs.io/en/latest/advanced-usage.html#tls-warnings\n",
      "  warnings.warn(\n"
     ]
    },
    {
     "name": "stdout",
     "output_type": "stream",
     "text": [
      "Document downloaded successfully as: pdf_files/155.pdf\n"
     ]
    },
    {
     "name": "stderr",
     "output_type": "stream",
     "text": [
      "c:\\anaconda3\\envs\\TS_ENV\\Lib\\site-packages\\urllib3\\connectionpool.py:1097: InsecureRequestWarning: Unverified HTTPS request is being made to host 'www.ons.dz'. Adding certificate verification is strongly advised. See: https://urllib3.readthedocs.io/en/latest/advanced-usage.html#tls-warnings\n",
      "  warnings.warn(\n"
     ]
    },
    {
     "name": "stdout",
     "output_type": "stream",
     "text": [
      "Document downloaded successfully as: pdf_files/156.pdf\n"
     ]
    },
    {
     "name": "stderr",
     "output_type": "stream",
     "text": [
      "c:\\anaconda3\\envs\\TS_ENV\\Lib\\site-packages\\urllib3\\connectionpool.py:1097: InsecureRequestWarning: Unverified HTTPS request is being made to host 'www.ons.dz'. Adding certificate verification is strongly advised. See: https://urllib3.readthedocs.io/en/latest/advanced-usage.html#tls-warnings\n",
      "  warnings.warn(\n"
     ]
    },
    {
     "name": "stdout",
     "output_type": "stream",
     "text": [
      "Document downloaded successfully as: pdf_files/157.pdf\n"
     ]
    },
    {
     "name": "stderr",
     "output_type": "stream",
     "text": [
      "c:\\anaconda3\\envs\\TS_ENV\\Lib\\site-packages\\urllib3\\connectionpool.py:1097: InsecureRequestWarning: Unverified HTTPS request is being made to host 'www.ons.dz'. Adding certificate verification is strongly advised. See: https://urllib3.readthedocs.io/en/latest/advanced-usage.html#tls-warnings\n",
      "  warnings.warn(\n"
     ]
    },
    {
     "name": "stdout",
     "output_type": "stream",
     "text": [
      "Document downloaded successfully as: pdf_files/158.pdf\n"
     ]
    },
    {
     "name": "stderr",
     "output_type": "stream",
     "text": [
      "c:\\anaconda3\\envs\\TS_ENV\\Lib\\site-packages\\urllib3\\connectionpool.py:1097: InsecureRequestWarning: Unverified HTTPS request is being made to host 'www.ons.dz'. Adding certificate verification is strongly advised. See: https://urllib3.readthedocs.io/en/latest/advanced-usage.html#tls-warnings\n",
      "  warnings.warn(\n"
     ]
    },
    {
     "name": "stdout",
     "output_type": "stream",
     "text": [
      "Document downloaded successfully as: pdf_files/159.pdf\n"
     ]
    },
    {
     "name": "stderr",
     "output_type": "stream",
     "text": [
      "c:\\anaconda3\\envs\\TS_ENV\\Lib\\site-packages\\urllib3\\connectionpool.py:1097: InsecureRequestWarning: Unverified HTTPS request is being made to host 'www.ons.dz'. Adding certificate verification is strongly advised. See: https://urllib3.readthedocs.io/en/latest/advanced-usage.html#tls-warnings\n",
      "  warnings.warn(\n"
     ]
    },
    {
     "name": "stdout",
     "output_type": "stream",
     "text": [
      "Document downloaded successfully as: pdf_files/160.pdf\n"
     ]
    },
    {
     "name": "stderr",
     "output_type": "stream",
     "text": [
      "c:\\anaconda3\\envs\\TS_ENV\\Lib\\site-packages\\urllib3\\connectionpool.py:1097: InsecureRequestWarning: Unverified HTTPS request is being made to host 'www.ons.dz'. Adding certificate verification is strongly advised. See: https://urllib3.readthedocs.io/en/latest/advanced-usage.html#tls-warnings\n",
      "  warnings.warn(\n"
     ]
    },
    {
     "name": "stdout",
     "output_type": "stream",
     "text": [
      "Document downloaded successfully as: pdf_files/161.pdf\n"
     ]
    },
    {
     "name": "stderr",
     "output_type": "stream",
     "text": [
      "c:\\anaconda3\\envs\\TS_ENV\\Lib\\site-packages\\urllib3\\connectionpool.py:1097: InsecureRequestWarning: Unverified HTTPS request is being made to host 'www.ons.dz'. Adding certificate verification is strongly advised. See: https://urllib3.readthedocs.io/en/latest/advanced-usage.html#tls-warnings\n",
      "  warnings.warn(\n"
     ]
    },
    {
     "name": "stdout",
     "output_type": "stream",
     "text": [
      "Document downloaded successfully as: pdf_files/162.pdf\n"
     ]
    },
    {
     "name": "stderr",
     "output_type": "stream",
     "text": [
      "c:\\anaconda3\\envs\\TS_ENV\\Lib\\site-packages\\urllib3\\connectionpool.py:1097: InsecureRequestWarning: Unverified HTTPS request is being made to host 'www.ons.dz'. Adding certificate verification is strongly advised. See: https://urllib3.readthedocs.io/en/latest/advanced-usage.html#tls-warnings\n",
      "  warnings.warn(\n"
     ]
    },
    {
     "name": "stdout",
     "output_type": "stream",
     "text": [
      "Document downloaded successfully as: pdf_files/163.pdf\n"
     ]
    },
    {
     "name": "stderr",
     "output_type": "stream",
     "text": [
      "c:\\anaconda3\\envs\\TS_ENV\\Lib\\site-packages\\urllib3\\connectionpool.py:1097: InsecureRequestWarning: Unverified HTTPS request is being made to host 'www.ons.dz'. Adding certificate verification is strongly advised. See: https://urllib3.readthedocs.io/en/latest/advanced-usage.html#tls-warnings\n",
      "  warnings.warn(\n"
     ]
    },
    {
     "name": "stdout",
     "output_type": "stream",
     "text": [
      "Document downloaded successfully as: pdf_files/164.pdf\n"
     ]
    },
    {
     "name": "stderr",
     "output_type": "stream",
     "text": [
      "c:\\anaconda3\\envs\\TS_ENV\\Lib\\site-packages\\urllib3\\connectionpool.py:1097: InsecureRequestWarning: Unverified HTTPS request is being made to host 'www.ons.dz'. Adding certificate verification is strongly advised. See: https://urllib3.readthedocs.io/en/latest/advanced-usage.html#tls-warnings\n",
      "  warnings.warn(\n"
     ]
    },
    {
     "name": "stdout",
     "output_type": "stream",
     "text": [
      "Document downloaded successfully as: pdf_files/165.pdf\n"
     ]
    },
    {
     "name": "stderr",
     "output_type": "stream",
     "text": [
      "c:\\anaconda3\\envs\\TS_ENV\\Lib\\site-packages\\urllib3\\connectionpool.py:1097: InsecureRequestWarning: Unverified HTTPS request is being made to host 'www.ons.dz'. Adding certificate verification is strongly advised. See: https://urllib3.readthedocs.io/en/latest/advanced-usage.html#tls-warnings\n",
      "  warnings.warn(\n"
     ]
    },
    {
     "name": "stdout",
     "output_type": "stream",
     "text": [
      "Document downloaded successfully as: pdf_files/166.pdf\n"
     ]
    },
    {
     "name": "stderr",
     "output_type": "stream",
     "text": [
      "c:\\anaconda3\\envs\\TS_ENV\\Lib\\site-packages\\urllib3\\connectionpool.py:1097: InsecureRequestWarning: Unverified HTTPS request is being made to host 'www.ons.dz'. Adding certificate verification is strongly advised. See: https://urllib3.readthedocs.io/en/latest/advanced-usage.html#tls-warnings\n",
      "  warnings.warn(\n"
     ]
    },
    {
     "name": "stdout",
     "output_type": "stream",
     "text": [
      "Document downloaded successfully as: pdf_files/167.pdf\n"
     ]
    },
    {
     "name": "stderr",
     "output_type": "stream",
     "text": [
      "c:\\anaconda3\\envs\\TS_ENV\\Lib\\site-packages\\urllib3\\connectionpool.py:1097: InsecureRequestWarning: Unverified HTTPS request is being made to host 'www.ons.dz'. Adding certificate verification is strongly advised. See: https://urllib3.readthedocs.io/en/latest/advanced-usage.html#tls-warnings\n",
      "  warnings.warn(\n"
     ]
    },
    {
     "name": "stdout",
     "output_type": "stream",
     "text": [
      "Document downloaded successfully as: pdf_files/168.pdf\n"
     ]
    },
    {
     "name": "stderr",
     "output_type": "stream",
     "text": [
      "c:\\anaconda3\\envs\\TS_ENV\\Lib\\site-packages\\urllib3\\connectionpool.py:1097: InsecureRequestWarning: Unverified HTTPS request is being made to host 'www.ons.dz'. Adding certificate verification is strongly advised. See: https://urllib3.readthedocs.io/en/latest/advanced-usage.html#tls-warnings\n",
      "  warnings.warn(\n"
     ]
    },
    {
     "name": "stdout",
     "output_type": "stream",
     "text": [
      "Document downloaded successfully as: pdf_files/169.pdf\n"
     ]
    },
    {
     "name": "stderr",
     "output_type": "stream",
     "text": [
      "c:\\anaconda3\\envs\\TS_ENV\\Lib\\site-packages\\urllib3\\connectionpool.py:1097: InsecureRequestWarning: Unverified HTTPS request is being made to host 'www.ons.dz'. Adding certificate verification is strongly advised. See: https://urllib3.readthedocs.io/en/latest/advanced-usage.html#tls-warnings\n",
      "  warnings.warn(\n"
     ]
    },
    {
     "name": "stdout",
     "output_type": "stream",
     "text": [
      "Document downloaded successfully as: pdf_files/170.pdf\n"
     ]
    },
    {
     "name": "stderr",
     "output_type": "stream",
     "text": [
      "c:\\anaconda3\\envs\\TS_ENV\\Lib\\site-packages\\urllib3\\connectionpool.py:1097: InsecureRequestWarning: Unverified HTTPS request is being made to host 'www.ons.dz'. Adding certificate verification is strongly advised. See: https://urllib3.readthedocs.io/en/latest/advanced-usage.html#tls-warnings\n",
      "  warnings.warn(\n"
     ]
    },
    {
     "name": "stdout",
     "output_type": "stream",
     "text": [
      "Document downloaded successfully as: pdf_files/171.pdf\n"
     ]
    },
    {
     "name": "stderr",
     "output_type": "stream",
     "text": [
      "c:\\anaconda3\\envs\\TS_ENV\\Lib\\site-packages\\urllib3\\connectionpool.py:1097: InsecureRequestWarning: Unverified HTTPS request is being made to host 'www.ons.dz'. Adding certificate verification is strongly advised. See: https://urllib3.readthedocs.io/en/latest/advanced-usage.html#tls-warnings\n",
      "  warnings.warn(\n"
     ]
    },
    {
     "name": "stdout",
     "output_type": "stream",
     "text": [
      "Document downloaded successfully as: pdf_files/172.pdf\n"
     ]
    },
    {
     "name": "stderr",
     "output_type": "stream",
     "text": [
      "c:\\anaconda3\\envs\\TS_ENV\\Lib\\site-packages\\urllib3\\connectionpool.py:1097: InsecureRequestWarning: Unverified HTTPS request is being made to host 'www.ons.dz'. Adding certificate verification is strongly advised. See: https://urllib3.readthedocs.io/en/latest/advanced-usage.html#tls-warnings\n",
      "  warnings.warn(\n"
     ]
    },
    {
     "name": "stdout",
     "output_type": "stream",
     "text": [
      "Document downloaded successfully as: pdf_files/173.pdf\n"
     ]
    },
    {
     "name": "stderr",
     "output_type": "stream",
     "text": [
      "c:\\anaconda3\\envs\\TS_ENV\\Lib\\site-packages\\urllib3\\connectionpool.py:1097: InsecureRequestWarning: Unverified HTTPS request is being made to host 'www.ons.dz'. Adding certificate verification is strongly advised. See: https://urllib3.readthedocs.io/en/latest/advanced-usage.html#tls-warnings\n",
      "  warnings.warn(\n"
     ]
    },
    {
     "name": "stdout",
     "output_type": "stream",
     "text": [
      "Document downloaded successfully as: pdf_files/174.pdf\n"
     ]
    },
    {
     "name": "stderr",
     "output_type": "stream",
     "text": [
      "c:\\anaconda3\\envs\\TS_ENV\\Lib\\site-packages\\urllib3\\connectionpool.py:1097: InsecureRequestWarning: Unverified HTTPS request is being made to host 'www.ons.dz'. Adding certificate verification is strongly advised. See: https://urllib3.readthedocs.io/en/latest/advanced-usage.html#tls-warnings\n",
      "  warnings.warn(\n"
     ]
    },
    {
     "name": "stdout",
     "output_type": "stream",
     "text": [
      "Document downloaded successfully as: pdf_files/175.pdf\n"
     ]
    },
    {
     "name": "stderr",
     "output_type": "stream",
     "text": [
      "c:\\anaconda3\\envs\\TS_ENV\\Lib\\site-packages\\urllib3\\connectionpool.py:1097: InsecureRequestWarning: Unverified HTTPS request is being made to host 'www.ons.dz'. Adding certificate verification is strongly advised. See: https://urllib3.readthedocs.io/en/latest/advanced-usage.html#tls-warnings\n",
      "  warnings.warn(\n"
     ]
    },
    {
     "name": "stdout",
     "output_type": "stream",
     "text": [
      "Document downloaded successfully as: pdf_files/176.pdf\n"
     ]
    },
    {
     "name": "stderr",
     "output_type": "stream",
     "text": [
      "c:\\anaconda3\\envs\\TS_ENV\\Lib\\site-packages\\urllib3\\connectionpool.py:1097: InsecureRequestWarning: Unverified HTTPS request is being made to host 'www.ons.dz'. Adding certificate verification is strongly advised. See: https://urllib3.readthedocs.io/en/latest/advanced-usage.html#tls-warnings\n",
      "  warnings.warn(\n"
     ]
    },
    {
     "name": "stdout",
     "output_type": "stream",
     "text": [
      "Document downloaded successfully as: pdf_files/177.pdf\n"
     ]
    },
    {
     "name": "stderr",
     "output_type": "stream",
     "text": [
      "c:\\anaconda3\\envs\\TS_ENV\\Lib\\site-packages\\urllib3\\connectionpool.py:1097: InsecureRequestWarning: Unverified HTTPS request is being made to host 'www.ons.dz'. Adding certificate verification is strongly advised. See: https://urllib3.readthedocs.io/en/latest/advanced-usage.html#tls-warnings\n",
      "  warnings.warn(\n"
     ]
    },
    {
     "name": "stdout",
     "output_type": "stream",
     "text": [
      "Document downloaded successfully as: pdf_files/178.pdf\n"
     ]
    },
    {
     "name": "stderr",
     "output_type": "stream",
     "text": [
      "c:\\anaconda3\\envs\\TS_ENV\\Lib\\site-packages\\urllib3\\connectionpool.py:1097: InsecureRequestWarning: Unverified HTTPS request is being made to host 'www.ons.dz'. Adding certificate verification is strongly advised. See: https://urllib3.readthedocs.io/en/latest/advanced-usage.html#tls-warnings\n",
      "  warnings.warn(\n"
     ]
    },
    {
     "name": "stdout",
     "output_type": "stream",
     "text": [
      "Document downloaded successfully as: pdf_files/179.pdf\n"
     ]
    },
    {
     "name": "stderr",
     "output_type": "stream",
     "text": [
      "c:\\anaconda3\\envs\\TS_ENV\\Lib\\site-packages\\urllib3\\connectionpool.py:1097: InsecureRequestWarning: Unverified HTTPS request is being made to host 'www.ons.dz'. Adding certificate verification is strongly advised. See: https://urllib3.readthedocs.io/en/latest/advanced-usage.html#tls-warnings\n",
      "  warnings.warn(\n"
     ]
    },
    {
     "name": "stdout",
     "output_type": "stream",
     "text": [
      "Document downloaded successfully as: pdf_files/180.pdf\n"
     ]
    },
    {
     "name": "stderr",
     "output_type": "stream",
     "text": [
      "c:\\anaconda3\\envs\\TS_ENV\\Lib\\site-packages\\urllib3\\connectionpool.py:1097: InsecureRequestWarning: Unverified HTTPS request is being made to host 'www.ons.dz'. Adding certificate verification is strongly advised. See: https://urllib3.readthedocs.io/en/latest/advanced-usage.html#tls-warnings\n",
      "  warnings.warn(\n"
     ]
    },
    {
     "name": "stdout",
     "output_type": "stream",
     "text": [
      "Document downloaded successfully as: pdf_files/181.pdf\n"
     ]
    },
    {
     "name": "stderr",
     "output_type": "stream",
     "text": [
      "c:\\anaconda3\\envs\\TS_ENV\\Lib\\site-packages\\urllib3\\connectionpool.py:1097: InsecureRequestWarning: Unverified HTTPS request is being made to host 'www.ons.dz'. Adding certificate verification is strongly advised. See: https://urllib3.readthedocs.io/en/latest/advanced-usage.html#tls-warnings\n",
      "  warnings.warn(\n"
     ]
    },
    {
     "name": "stdout",
     "output_type": "stream",
     "text": [
      "Document downloaded successfully as: pdf_files/182.pdf\n"
     ]
    },
    {
     "name": "stderr",
     "output_type": "stream",
     "text": [
      "c:\\anaconda3\\envs\\TS_ENV\\Lib\\site-packages\\urllib3\\connectionpool.py:1097: InsecureRequestWarning: Unverified HTTPS request is being made to host 'www.ons.dz'. Adding certificate verification is strongly advised. See: https://urllib3.readthedocs.io/en/latest/advanced-usage.html#tls-warnings\n",
      "  warnings.warn(\n"
     ]
    },
    {
     "name": "stdout",
     "output_type": "stream",
     "text": [
      "Document downloaded successfully as: pdf_files/183.pdf\n"
     ]
    },
    {
     "name": "stderr",
     "output_type": "stream",
     "text": [
      "c:\\anaconda3\\envs\\TS_ENV\\Lib\\site-packages\\urllib3\\connectionpool.py:1097: InsecureRequestWarning: Unverified HTTPS request is being made to host 'www.ons.dz'. Adding certificate verification is strongly advised. See: https://urllib3.readthedocs.io/en/latest/advanced-usage.html#tls-warnings\n",
      "  warnings.warn(\n"
     ]
    },
    {
     "name": "stdout",
     "output_type": "stream",
     "text": [
      "Document downloaded successfully as: pdf_files/184.pdf\n"
     ]
    },
    {
     "name": "stderr",
     "output_type": "stream",
     "text": [
      "c:\\anaconda3\\envs\\TS_ENV\\Lib\\site-packages\\urllib3\\connectionpool.py:1097: InsecureRequestWarning: Unverified HTTPS request is being made to host 'www.ons.dz'. Adding certificate verification is strongly advised. See: https://urllib3.readthedocs.io/en/latest/advanced-usage.html#tls-warnings\n",
      "  warnings.warn(\n"
     ]
    },
    {
     "name": "stdout",
     "output_type": "stream",
     "text": [
      "Document downloaded successfully as: pdf_files/185.pdf\n"
     ]
    },
    {
     "name": "stderr",
     "output_type": "stream",
     "text": [
      "c:\\anaconda3\\envs\\TS_ENV\\Lib\\site-packages\\urllib3\\connectionpool.py:1097: InsecureRequestWarning: Unverified HTTPS request is being made to host 'www.ons.dz'. Adding certificate verification is strongly advised. See: https://urllib3.readthedocs.io/en/latest/advanced-usage.html#tls-warnings\n",
      "  warnings.warn(\n"
     ]
    },
    {
     "name": "stdout",
     "output_type": "stream",
     "text": [
      "Document downloaded successfully as: pdf_files/186.pdf\n"
     ]
    },
    {
     "name": "stderr",
     "output_type": "stream",
     "text": [
      "c:\\anaconda3\\envs\\TS_ENV\\Lib\\site-packages\\urllib3\\connectionpool.py:1097: InsecureRequestWarning: Unverified HTTPS request is being made to host 'www.ons.dz'. Adding certificate verification is strongly advised. See: https://urllib3.readthedocs.io/en/latest/advanced-usage.html#tls-warnings\n",
      "  warnings.warn(\n"
     ]
    },
    {
     "name": "stdout",
     "output_type": "stream",
     "text": [
      "Document downloaded successfully as: pdf_files/187.pdf\n"
     ]
    },
    {
     "name": "stderr",
     "output_type": "stream",
     "text": [
      "c:\\anaconda3\\envs\\TS_ENV\\Lib\\site-packages\\urllib3\\connectionpool.py:1097: InsecureRequestWarning: Unverified HTTPS request is being made to host 'www.ons.dz'. Adding certificate verification is strongly advised. See: https://urllib3.readthedocs.io/en/latest/advanced-usage.html#tls-warnings\n",
      "  warnings.warn(\n"
     ]
    },
    {
     "name": "stdout",
     "output_type": "stream",
     "text": [
      "Document downloaded successfully as: pdf_files/188.pdf\n"
     ]
    },
    {
     "name": "stderr",
     "output_type": "stream",
     "text": [
      "c:\\anaconda3\\envs\\TS_ENV\\Lib\\site-packages\\urllib3\\connectionpool.py:1097: InsecureRequestWarning: Unverified HTTPS request is being made to host 'www.ons.dz'. Adding certificate verification is strongly advised. See: https://urllib3.readthedocs.io/en/latest/advanced-usage.html#tls-warnings\n",
      "  warnings.warn(\n"
     ]
    },
    {
     "name": "stdout",
     "output_type": "stream",
     "text": [
      "Document downloaded successfully as: pdf_files/189.pdf\n"
     ]
    },
    {
     "name": "stderr",
     "output_type": "stream",
     "text": [
      "c:\\anaconda3\\envs\\TS_ENV\\Lib\\site-packages\\urllib3\\connectionpool.py:1097: InsecureRequestWarning: Unverified HTTPS request is being made to host 'www.ons.dz'. Adding certificate verification is strongly advised. See: https://urllib3.readthedocs.io/en/latest/advanced-usage.html#tls-warnings\n",
      "  warnings.warn(\n"
     ]
    },
    {
     "name": "stdout",
     "output_type": "stream",
     "text": [
      "Document downloaded successfully as: pdf_files/190.pdf\n"
     ]
    },
    {
     "name": "stderr",
     "output_type": "stream",
     "text": [
      "c:\\anaconda3\\envs\\TS_ENV\\Lib\\site-packages\\urllib3\\connectionpool.py:1097: InsecureRequestWarning: Unverified HTTPS request is being made to host 'www.ons.dz'. Adding certificate verification is strongly advised. See: https://urllib3.readthedocs.io/en/latest/advanced-usage.html#tls-warnings\n",
      "  warnings.warn(\n"
     ]
    },
    {
     "name": "stdout",
     "output_type": "stream",
     "text": [
      "Document downloaded successfully as: pdf_files/191.pdf\n"
     ]
    },
    {
     "name": "stderr",
     "output_type": "stream",
     "text": [
      "c:\\anaconda3\\envs\\TS_ENV\\Lib\\site-packages\\urllib3\\connectionpool.py:1097: InsecureRequestWarning: Unverified HTTPS request is being made to host 'www.ons.dz'. Adding certificate verification is strongly advised. See: https://urllib3.readthedocs.io/en/latest/advanced-usage.html#tls-warnings\n",
      "  warnings.warn(\n"
     ]
    },
    {
     "name": "stdout",
     "output_type": "stream",
     "text": [
      "Document downloaded successfully as: pdf_files/192.pdf\n"
     ]
    },
    {
     "name": "stderr",
     "output_type": "stream",
     "text": [
      "c:\\anaconda3\\envs\\TS_ENV\\Lib\\site-packages\\urllib3\\connectionpool.py:1097: InsecureRequestWarning: Unverified HTTPS request is being made to host 'www.ons.dz'. Adding certificate verification is strongly advised. See: https://urllib3.readthedocs.io/en/latest/advanced-usage.html#tls-warnings\n",
      "  warnings.warn(\n"
     ]
    },
    {
     "name": "stdout",
     "output_type": "stream",
     "text": [
      "Document downloaded successfully as: pdf_files/193.pdf\n"
     ]
    },
    {
     "name": "stderr",
     "output_type": "stream",
     "text": [
      "c:\\anaconda3\\envs\\TS_ENV\\Lib\\site-packages\\urllib3\\connectionpool.py:1097: InsecureRequestWarning: Unverified HTTPS request is being made to host 'www.ons.dz'. Adding certificate verification is strongly advised. See: https://urllib3.readthedocs.io/en/latest/advanced-usage.html#tls-warnings\n",
      "  warnings.warn(\n"
     ]
    },
    {
     "name": "stdout",
     "output_type": "stream",
     "text": [
      "Document downloaded successfully as: pdf_files/194.pdf\n"
     ]
    },
    {
     "name": "stderr",
     "output_type": "stream",
     "text": [
      "c:\\anaconda3\\envs\\TS_ENV\\Lib\\site-packages\\urllib3\\connectionpool.py:1097: InsecureRequestWarning: Unverified HTTPS request is being made to host 'www.ons.dz'. Adding certificate verification is strongly advised. See: https://urllib3.readthedocs.io/en/latest/advanced-usage.html#tls-warnings\n",
      "  warnings.warn(\n"
     ]
    },
    {
     "name": "stdout",
     "output_type": "stream",
     "text": [
      "Document downloaded successfully as: pdf_files/195.pdf\n"
     ]
    },
    {
     "name": "stderr",
     "output_type": "stream",
     "text": [
      "c:\\anaconda3\\envs\\TS_ENV\\Lib\\site-packages\\urllib3\\connectionpool.py:1097: InsecureRequestWarning: Unverified HTTPS request is being made to host 'www.ons.dz'. Adding certificate verification is strongly advised. See: https://urllib3.readthedocs.io/en/latest/advanced-usage.html#tls-warnings\n",
      "  warnings.warn(\n"
     ]
    },
    {
     "name": "stdout",
     "output_type": "stream",
     "text": [
      "Document downloaded successfully as: pdf_files/196.pdf\n"
     ]
    },
    {
     "name": "stderr",
     "output_type": "stream",
     "text": [
      "c:\\anaconda3\\envs\\TS_ENV\\Lib\\site-packages\\urllib3\\connectionpool.py:1097: InsecureRequestWarning: Unverified HTTPS request is being made to host 'www.ons.dz'. Adding certificate verification is strongly advised. See: https://urllib3.readthedocs.io/en/latest/advanced-usage.html#tls-warnings\n",
      "  warnings.warn(\n"
     ]
    },
    {
     "name": "stdout",
     "output_type": "stream",
     "text": [
      "Document downloaded successfully as: pdf_files/197.pdf\n"
     ]
    },
    {
     "name": "stderr",
     "output_type": "stream",
     "text": [
      "c:\\anaconda3\\envs\\TS_ENV\\Lib\\site-packages\\urllib3\\connectionpool.py:1097: InsecureRequestWarning: Unverified HTTPS request is being made to host 'www.ons.dz'. Adding certificate verification is strongly advised. See: https://urllib3.readthedocs.io/en/latest/advanced-usage.html#tls-warnings\n",
      "  warnings.warn(\n"
     ]
    },
    {
     "name": "stdout",
     "output_type": "stream",
     "text": [
      "Document downloaded successfully as: pdf_files/198.pdf\n"
     ]
    },
    {
     "name": "stderr",
     "output_type": "stream",
     "text": [
      "c:\\anaconda3\\envs\\TS_ENV\\Lib\\site-packages\\urllib3\\connectionpool.py:1097: InsecureRequestWarning: Unverified HTTPS request is being made to host 'www.ons.dz'. Adding certificate verification is strongly advised. See: https://urllib3.readthedocs.io/en/latest/advanced-usage.html#tls-warnings\n",
      "  warnings.warn(\n"
     ]
    },
    {
     "name": "stdout",
     "output_type": "stream",
     "text": [
      "Document downloaded successfully as: pdf_files/199.pdf\n"
     ]
    },
    {
     "name": "stderr",
     "output_type": "stream",
     "text": [
      "c:\\anaconda3\\envs\\TS_ENV\\Lib\\site-packages\\urllib3\\connectionpool.py:1097: InsecureRequestWarning: Unverified HTTPS request is being made to host 'www.ons.dz'. Adding certificate verification is strongly advised. See: https://urllib3.readthedocs.io/en/latest/advanced-usage.html#tls-warnings\n",
      "  warnings.warn(\n"
     ]
    },
    {
     "name": "stdout",
     "output_type": "stream",
     "text": [
      "Document downloaded successfully as: pdf_files/200.pdf\n"
     ]
    },
    {
     "name": "stderr",
     "output_type": "stream",
     "text": [
      "c:\\anaconda3\\envs\\TS_ENV\\Lib\\site-packages\\urllib3\\connectionpool.py:1097: InsecureRequestWarning: Unverified HTTPS request is being made to host 'www.ons.dz'. Adding certificate verification is strongly advised. See: https://urllib3.readthedocs.io/en/latest/advanced-usage.html#tls-warnings\n",
      "  warnings.warn(\n"
     ]
    },
    {
     "name": "stdout",
     "output_type": "stream",
     "text": [
      "Document downloaded successfully as: pdf_files/201.pdf\n"
     ]
    },
    {
     "name": "stderr",
     "output_type": "stream",
     "text": [
      "c:\\anaconda3\\envs\\TS_ENV\\Lib\\site-packages\\urllib3\\connectionpool.py:1097: InsecureRequestWarning: Unverified HTTPS request is being made to host 'www.ons.dz'. Adding certificate verification is strongly advised. See: https://urllib3.readthedocs.io/en/latest/advanced-usage.html#tls-warnings\n",
      "  warnings.warn(\n"
     ]
    },
    {
     "name": "stdout",
     "output_type": "stream",
     "text": [
      "Document downloaded successfully as: pdf_files/202.pdf\n"
     ]
    },
    {
     "name": "stderr",
     "output_type": "stream",
     "text": [
      "c:\\anaconda3\\envs\\TS_ENV\\Lib\\site-packages\\urllib3\\connectionpool.py:1097: InsecureRequestWarning: Unverified HTTPS request is being made to host 'www.ons.dz'. Adding certificate verification is strongly advised. See: https://urllib3.readthedocs.io/en/latest/advanced-usage.html#tls-warnings\n",
      "  warnings.warn(\n"
     ]
    },
    {
     "name": "stdout",
     "output_type": "stream",
     "text": [
      "Document downloaded successfully as: pdf_files/203.pdf\n"
     ]
    },
    {
     "name": "stderr",
     "output_type": "stream",
     "text": [
      "c:\\anaconda3\\envs\\TS_ENV\\Lib\\site-packages\\urllib3\\connectionpool.py:1097: InsecureRequestWarning: Unverified HTTPS request is being made to host 'www.ons.dz'. Adding certificate verification is strongly advised. See: https://urllib3.readthedocs.io/en/latest/advanced-usage.html#tls-warnings\n",
      "  warnings.warn(\n"
     ]
    },
    {
     "name": "stdout",
     "output_type": "stream",
     "text": [
      "Document downloaded successfully as: pdf_files/204.pdf\n"
     ]
    },
    {
     "name": "stderr",
     "output_type": "stream",
     "text": [
      "c:\\anaconda3\\envs\\TS_ENV\\Lib\\site-packages\\urllib3\\connectionpool.py:1097: InsecureRequestWarning: Unverified HTTPS request is being made to host 'www.ons.dz'. Adding certificate verification is strongly advised. See: https://urllib3.readthedocs.io/en/latest/advanced-usage.html#tls-warnings\n",
      "  warnings.warn(\n"
     ]
    },
    {
     "name": "stdout",
     "output_type": "stream",
     "text": [
      "Document downloaded successfully as: pdf_files/205.pdf\n"
     ]
    },
    {
     "name": "stderr",
     "output_type": "stream",
     "text": [
      "c:\\anaconda3\\envs\\TS_ENV\\Lib\\site-packages\\urllib3\\connectionpool.py:1097: InsecureRequestWarning: Unverified HTTPS request is being made to host 'www.ons.dz'. Adding certificate verification is strongly advised. See: https://urllib3.readthedocs.io/en/latest/advanced-usage.html#tls-warnings\n",
      "  warnings.warn(\n"
     ]
    },
    {
     "name": "stdout",
     "output_type": "stream",
     "text": [
      "Document downloaded successfully as: pdf_files/206.pdf\n"
     ]
    },
    {
     "name": "stderr",
     "output_type": "stream",
     "text": [
      "c:\\anaconda3\\envs\\TS_ENV\\Lib\\site-packages\\urllib3\\connectionpool.py:1097: InsecureRequestWarning: Unverified HTTPS request is being made to host 'www.ons.dz'. Adding certificate verification is strongly advised. See: https://urllib3.readthedocs.io/en/latest/advanced-usage.html#tls-warnings\n",
      "  warnings.warn(\n"
     ]
    },
    {
     "name": "stdout",
     "output_type": "stream",
     "text": [
      "Document downloaded successfully as: pdf_files/207.pdf\n"
     ]
    },
    {
     "name": "stderr",
     "output_type": "stream",
     "text": [
      "c:\\anaconda3\\envs\\TS_ENV\\Lib\\site-packages\\urllib3\\connectionpool.py:1097: InsecureRequestWarning: Unverified HTTPS request is being made to host 'www.ons.dz'. Adding certificate verification is strongly advised. See: https://urllib3.readthedocs.io/en/latest/advanced-usage.html#tls-warnings\n",
      "  warnings.warn(\n"
     ]
    },
    {
     "name": "stdout",
     "output_type": "stream",
     "text": [
      "Document downloaded successfully as: pdf_files/208.pdf\n"
     ]
    },
    {
     "name": "stderr",
     "output_type": "stream",
     "text": [
      "c:\\anaconda3\\envs\\TS_ENV\\Lib\\site-packages\\urllib3\\connectionpool.py:1097: InsecureRequestWarning: Unverified HTTPS request is being made to host 'www.ons.dz'. Adding certificate verification is strongly advised. See: https://urllib3.readthedocs.io/en/latest/advanced-usage.html#tls-warnings\n",
      "  warnings.warn(\n"
     ]
    },
    {
     "name": "stdout",
     "output_type": "stream",
     "text": [
      "Document downloaded successfully as: pdf_files/209.pdf\n"
     ]
    },
    {
     "name": "stderr",
     "output_type": "stream",
     "text": [
      "c:\\anaconda3\\envs\\TS_ENV\\Lib\\site-packages\\urllib3\\connectionpool.py:1097: InsecureRequestWarning: Unverified HTTPS request is being made to host 'www.ons.dz'. Adding certificate verification is strongly advised. See: https://urllib3.readthedocs.io/en/latest/advanced-usage.html#tls-warnings\n",
      "  warnings.warn(\n"
     ]
    },
    {
     "name": "stdout",
     "output_type": "stream",
     "text": [
      "Document downloaded successfully as: pdf_files/210.pdf\n"
     ]
    },
    {
     "name": "stderr",
     "output_type": "stream",
     "text": [
      "c:\\anaconda3\\envs\\TS_ENV\\Lib\\site-packages\\urllib3\\connectionpool.py:1097: InsecureRequestWarning: Unverified HTTPS request is being made to host 'www.ons.dz'. Adding certificate verification is strongly advised. See: https://urllib3.readthedocs.io/en/latest/advanced-usage.html#tls-warnings\n",
      "  warnings.warn(\n"
     ]
    },
    {
     "name": "stdout",
     "output_type": "stream",
     "text": [
      "Document downloaded successfully as: pdf_files/211.pdf\n"
     ]
    },
    {
     "name": "stderr",
     "output_type": "stream",
     "text": [
      "c:\\anaconda3\\envs\\TS_ENV\\Lib\\site-packages\\urllib3\\connectionpool.py:1097: InsecureRequestWarning: Unverified HTTPS request is being made to host 'www.ons.dz'. Adding certificate verification is strongly advised. See: https://urllib3.readthedocs.io/en/latest/advanced-usage.html#tls-warnings\n",
      "  warnings.warn(\n"
     ]
    },
    {
     "name": "stdout",
     "output_type": "stream",
     "text": [
      "Document downloaded successfully as: pdf_files/212.pdf\n"
     ]
    },
    {
     "name": "stderr",
     "output_type": "stream",
     "text": [
      "c:\\anaconda3\\envs\\TS_ENV\\Lib\\site-packages\\urllib3\\connectionpool.py:1097: InsecureRequestWarning: Unverified HTTPS request is being made to host 'www.ons.dz'. Adding certificate verification is strongly advised. See: https://urllib3.readthedocs.io/en/latest/advanced-usage.html#tls-warnings\n",
      "  warnings.warn(\n"
     ]
    },
    {
     "name": "stdout",
     "output_type": "stream",
     "text": [
      "Document downloaded successfully as: pdf_files/213.pdf\n"
     ]
    }
   ],
   "source": [
    "\n",
    "i = 0\n",
    "\n",
    "for url in all_pdf_files:\n",
    "    # URL of the PDF file\n",
    "    full_url = 'https://www.ons.dz/' + url \n",
    "\n",
    "    # Path to save the downloaded file\n",
    "    output_path = 'pdf_files/' + str(i) + '.pdf'\n",
    "\n",
    "    try:\n",
    "        # Send a GET request to the URL\n",
    "        response = requests.get(full_url, verify=False)\n",
    "\n",
    "        # Check if the request was successful (status code 200)\n",
    "        if response.status_code == 200:\n",
    "            # Open the output file in binary write mode and save the content\n",
    "            with open(output_path, 'wb') as file:\n",
    "                file.write(response.content)\n",
    "            print(f'Document downloaded successfully as: {output_path}')\n",
    "            i = i + 1\n",
    "        else:\n",
    "            print(f'Failed to download. Status code: {response.status_code}')\n",
    "\n",
    "    except requests.exceptions.RequestException as e:\n",
    "        print(f'An error occurred: {e}')\n"
   ]
  },
  {
   "cell_type": "markdown",
   "metadata": {},
   "source": [
    "# PART II: Extracting data from the pdf file"
   ]
  },
  {
   "cell_type": "code",
   "execution_count": 9,
   "metadata": {},
   "outputs": [],
   "source": [
    "from PIL import Image\n",
    "import pytesseract\n",
    "import pdf2image\n",
    "import csv\n",
    "import re"
   ]
  },
  {
   "cell_type": "code",
   "execution_count": 18,
   "metadata": {},
   "outputs": [
    {
     "name": "stdout",
     "output_type": "stream",
     "text": [
      "Page 1:\n",
      "INDICE DES PRIX\n",
      "\n",
      "A LA CONSOMMATION\n",
      "\n",
      "Décembre 2018 ISSN 1111 - 4940\n",
      "\n",
      "N° 276\n",
      "Mois de Novembre 2018\n",
      "\n",
      "A/ Ville d'Alger\n",
      "1) EVOLUTION GLOBALE DE L’? INDICE\n",
      "\n",
      "L’indice brut des prix a la consommation de la ville d’Alger enregistre une variation de\n",
      "-0,5% en novembre 2018 par rapport au mois écoulé, soit une baisse plus importante que\n",
      "celle observée au méme mois de l’année 2017 (-0,04%).\n",
      "\n",
      "Cette tendance négative, qui intervient aprés une hausse de 1,2% relevée au mois précédent\n",
      "est le fait, particuliérement, de la baisse des prix des biens alimentaires. Ces derniers se\n",
      "caractérisent par une variation de -1,4%, résultat d’une décroissance des prix des produits\n",
      "agricoles frais, soit -2,9%.\n",
      "\n",
      "L’évolution des prix des produits agricoles frais est induite, principalement, par la chute des\n",
      "prix des fruits et légumes (respectivement -11,0% et -10,8%) et ceux de la pomme de terre\n",
      "(-4,6%). En revanche des hausses caractérisent les autres produits, notamment la viande de\n",
      "poulet et les ceufs (respectivement +5,3% et +10,7%).\n",
      "\n",
      "Les prix des biens alimentaires industriels enregistrent une variation de +0,2% due,\n",
      "particuli¢rement, a l’augmentation des prix du café (+1,4%).\n",
      "\n",
      "Les prix des produits manufacturés inscrivent un taux de +0,3%, ceux des services, une\n",
      "évolution de +0,6%.\n",
      "\n",
      "Corrigé des variations saisonniéres, l'indice des prix a la consommation accuse, pour ce mois\n",
      "de novembre 2018, une baisse de pres de 0,1% par rapport au mois écoulé.\n",
      "\n",
      "Au mois de novembre 2018 et par rapport au méme mois de l’année 2017, la croissance des\n",
      "prix a la consommation est de 4,0%. Le rythme d’inflation annuel (décembre 2017 a\n",
      "novembre 2018/ décembre 2016 a novembre 2017) se situe 4 +4,5%.\n",
      "\n",
      "2) EVOLUTION PAR CATEGORIE DE PRODUITS\n",
      "2.1) Evolution des prix des produits alimentaires:\n",
      "\n",
      "Une baisse caractérise les biens alimentaires dont les prix enregistrent une variation de -1,4%\n",
      "en novembre 2018 par rapport au mois écoulé qui avait marqué une croissance de 2,4%.\n",
      "\n",
      "Les prix des produits agricoles frais observent une baisse de 2,9%. Les principaux facteurs de\n",
      "cette tendance sont les fruits (-11,0%), les legumes (-10,8%), et la pomme de terre dont les\n",
      "prix marquent une chute de 4,6% par rapport au mois d’ octobre et, de 7,7% par rapport au\n",
      "\n",
      "Page 2:\n",
      "méme mois de l’année écoulée. Le reste des produits affiche des augmentations plus ou\n",
      "moins importantes, notamment la viande de poulet (+5,3%), les ceufs (+10,7%) et le poisson\n",
      "(+11,4%).\n",
      "\n",
      "Par ailleurs, les prix des produits alimentaires industriels enregistrent une augmentation,\n",
      "quoique modérée, de 0,2% par rapport a octobre 2018.\n",
      "\n",
      "En novembre 2018 et par rapport 4 novembre 2017, l’évolution des prix des biens\n",
      "alimentaires est de +2,8%, avec +3,1% pour les produits agricoles frais et +2,5% pour les\n",
      "produits alimentaires industriels.\n",
      "\n",
      "2.2) Produits manufacturés non alimentaires et_services:\n",
      "\n",
      "Les prix des produits manufacturés enregistrent une variation de +0,3% en novembre 2018\n",
      "par rapport au mois précédent. Ceux des services, une évolution de +0,6%.\n",
      "\n",
      "En novembre 2018 et par rapport au méme mois de l’année précédente, les prix des produits\n",
      "manufacturés et ceux des services affichent des variations similaires, soit +5,1%.\n",
      "\n",
      "EVOLUTION PAR GROUPE\n",
      "EN NOVEMBRE 2018\n",
      "\n",
      "2001 = 100\n",
      "\n",
      "Indice Variation Variation Variation\n",
      "Nov. Nov. 18/ Nov. 18/ 11 Mois 18/\n",
      "2018 Oct.18 Nov. 17 11 Mois 17\n",
      "\n",
      "Alimentation — Boissons non alcoolisées\n",
      "\n",
      "Habillement — Chaussures\n",
      "\n",
      "Logement — Charges 0,93 0,88\n",
      "Meubles et Articles d'Ameublement 5,67 5,41\n",
      "Santé — Hygiéne Corporelle 3,79 4,09\n",
      "Transports et Communication 4,95 5,55\n",
      "Education — Culture - Loisirs 7,29 4,38\n",
      "\n",
      "Divers (N.D.A.) 7,33 7,33\n",
      "\n",
      "EVOLUTION PAR CATEGORIE DE PRODUITS\n",
      "EN NOVEMBRE 2018\n",
      "\n",
      "2001 = 100\n",
      "\n",
      "ras Indice Variation Variation Variation\n",
      "Nov. Nov. 18/ Nov. 18/ 11 Mois 18/\n",
      "2018 Oct.18 Nov. 17 11 Mois 17\n",
      "\n",
      "5\n",
      "\n",
      "51\n",
      "5,09\n",
      "05\n",
      "\n",
      "\n",
      "Page 3:\n",
      "EVOLUTION DE L'INDICE GENERAL BRUT ET DE L'INDICE\n",
      "GENERAL AVEC PRODUITS FRAIS DESAISONNALISES\n",
      "NOVEMBRE 2017 — NOVEMBRE 2018\n",
      "2001 = 100\n",
      "\n",
      "EC a\n",
      "\n",
      "| Nov. | Déc_ |\n",
      "\n",
      "pndice general 197,11 | 197,62 ff 198,59 | 197,44 | 198,92 | 200,07 | 203,71 | 205,92 | 201,97 | 202,89 | 203,54 | 205,97 | 205,05\n",
      "Indice 197,29 | 197,67 ff] 199,00 | 197,40 | 197,92 | 199,09 | 203,61 | 206,17 | 203,53 | 203,31 | 203,59 | 205,35 | 205,24\n",
      "\n",
      "désaisonnalisé\n",
      "\n",
      "Var. Indice Brut\n",
      "\n",
      "Var. Indice\n",
      "désaisonnalisé\n",
      "\n",
      "Evolution mensuelle de I'indice des prix 4 la consommation\n",
      "de la ville d'Alger de Novembre 2017 a Novembre 2018\n",
      "\n",
      "Glissements annuels de l'indice des prix 4 la consommation\n",
      "de la Ville d'Alger de Novembre 2017 4 Novembre 2018\n",
      "\n",
      "(%) NOLLVINWA\n",
      "\n",
      "BS\n",
      "\n",
      "\n",
      "Page 4:\n",
      "4\n",
      "\n",
      "EVOLUTION PAR SOUS-GROUPE\n",
      "GROUPE ALIMENTATION BOISSONS NON-ALCOOLISEES\n",
      "EN NOVEMBRE 2018\n",
      "\n",
      "2001 = 100\n",
      "Indice Variation Variation Variation\n",
      "Poids Nov. Nov. 18/ Nov. 18/ 11 Mois 18/\n",
      "\n",
      "Oct.18 Nov. 17 11 Mois 17\n",
      "Viandes et abats de boeuf 5,1 263,62\n",
      "ille - Lapin — Euf 73,8 193,37 6,53\n",
      "\n",
      "59,3 196,70 0,00\n",
      "\n",
      "ENSEMBLE\n",
      "\n",
      "1000,0\n",
      "\n",
      "Alimentation- Boissons non Alcoolisées J 430,9\n",
      "271,6\n",
      "\n",
      "Viandes et abats de mouton 132,8\n",
      "\n",
      "Viandes et Poissons en conserve 1,0\n",
      "\n",
      "I Mes! i) eS)\n",
      "|el/FI/EIS| S/S AY\n",
      "B/e/)% a) > =\n",
      "B/?]8 6/5 °\n",
      "— eo\n",
      "\n",
      "o oO 5 oO\n",
      "a a a Q\n",
      "oO igs] g\n",
      "4 3 is\n",
      "4 ° g\n",
      "oO Nn\n",
      "\n",
      "iw\n",
      "ior)\n",
      "o\n",
      "Lay]\n",
      "5\n",
      "le}\n",
      "8\n",
      "i)\n",
      "ga\n",
      "fa)\n",
      "oO\n",
      "Q\n",
      "em;\n",
      "<\n",
      "fq)\n",
      "a\n",
      "\n",
      "Sucre et produits sucrés 34,7 206,97 0,00\n",
      "\n",
      "fo}\n",
      "5.\n",
      "i\n",
      "io)\n",
      "a\n",
      "fo)\n",
      "oo\n",
      "gg\n",
      "i\n",
      "i]\n",
      "e.\n",
      "a\n",
      "a\n",
      "Q\n",
      "a\n",
      "\n",
      "Café — Thé — Infusion 35,5 206,55 1,36\n",
      "\n",
      "Boissons non alcoolisées 39,2 215,79\n",
      "\n",
      "N\n",
      "—)\n",
      "—_\n",
      "loo)\n",
      "\n",
      "Autres produits alimentaires 10,5 202,82\n",
      "\n",
      "EVOLUTION DES PRODUITS FRAIS (ALIMENTATION)\n",
      "EN NOVEMBRE 2018\n",
      "\n",
      "2001 = 100\n",
      "\n",
      "Indice Variation Variation Variation\n",
      "Nov. Nov. 18/ Nov. 18/ 11 Mois 18/\n",
      "2018 Oct.18 Nov. 17 11 Mois 17\n",
      "\n",
      "ENSEMBLE\n",
      "\n",
      "Viandes et abats de mouton\n",
      "Viandes et abats de boeuf\n",
      "\n",
      "Viande de poulet\n",
      "\n",
      "169,18\n",
      "\n",
      "Poissons frais\n",
      "Légumes frais\n",
      "Fruits frais\n",
      "Pomme de terre\n",
      "\n",
      "ea\n",
      "=|\n",
      "zu\n",
      "\n",
      "\n",
      "Page 5:\n",
      "EVOLUTION DES PRIX DE QUELQUES\n",
      "PRODUITS ENQUETES DURANT LE MOIS DE NOVEMBRE 2018\n",
      "\n",
      "Prix Moyens (en DA) Variations (en %)\n",
      "Intitulé du produit 2001 | Nov. Oct. Nov. Nov. 18/ | Nov. 18/\n",
      "nmarate du produr (*) 2017 2018 2018 Nov. 17 2001\n",
      "\n",
      "VIANDES\n",
      "\n",
      "190,37\n",
      "Cut\n",
      "POISSONS\n",
      "\n",
      "Sardine fraiche Kg 486,30 405,58\n",
      "\n",
      "Rouget 1523,53 | 1501,90\n",
      "Pageot 1436,54 | 1412,16\n",
      "Merlan 1414,79 | 1402,15\n",
      "Crevette Rouge 2769,84 | 2711,61\n",
      "\n",
      "LEGUMES FRAIS\n",
      "\n",
      "Ail sec\n",
      "\n",
      "Oignon sec\n",
      "\n",
      "Carotte\n",
      "Navet\n",
      "Fenouil\n",
      "\n",
      "Choux fleurs\n",
      "\n",
      "Choux verts\n",
      "\n",
      "Carde normale\n",
      "\n",
      "Tomate normale\n",
      "\n",
      "Salade laitue\n",
      "\n",
      "Persil\n",
      "\n",
      "Courgette petite verte claire\n",
      "\n",
      "Haricot vert rond\n",
      "\n",
      "Haricot vert plat “mange tout”’\n",
      "\n",
      "Poivron vert long\n",
      "\n",
      "Poivron vert gros court\n",
      "\n",
      "FRUITS FRAIS\n",
      "Citron\n",
      "\n",
      "Orange Thomson\n",
      "\n",
      "Clémentine\n",
      "\n",
      "Pomme verte golden\n",
      "\n",
      "Poire muscade\n",
      "\n",
      "Poire fondante\n",
      "\n",
      "*Dans cette colonne, les prix sont annuels moyens sauf pour les légumes et fruits frais,\n",
      "pour lesquels ils sont mensuels moyens, (mois de calcul).\n",
      "\n",
      "Page 6:\n",
      "EVOLUTION DES PRIX DE QUELQUES PRODUITS\n",
      "ENQUETES DURANT LE MOIS DE NOVEMBRE 2018\n",
      "\n",
      "Prix Moyens (en DA) Variations (en %)\n",
      "\n",
      "Intitulé du produit me 2001 Nov. Oct. Nov. Nov. 18/ | Nov. 18/ | Nov. 18/\n",
      "nutule eu produr Mesure (*) 2017 2018 2018 Oct. 18 Nov. 17 2001\n",
      "\n",
      "FRUITS SECS\n",
      "\n",
      "171,40 [546,56 | 629,04 J 658,51\n",
      "\n",
      "Dattes grappe deglet — nour\n",
      "Dattes Muscades Branche\n",
      "Dattes Muscades s/branche\n",
      "\n",
      "4,54\n",
      "\n",
      "POMME DE TERRE\n",
      "\n",
      "Pomme de terre blanche Kg 31,18 83,48 80,21 74,06 -7,67 -11,28 137,52\n",
      "AUTRES PRODUITS\n",
      "\n",
      "Haricots secs blancs vrac/ sachet lkg 87,13 187,73 224,09 254,77\n",
      "\n",
      "Petits pois en BM de 500 gr 1 80,00 96,14 142,50 154,77\n",
      "\n",
      "Pardessus en flanelle ité 4800,00 7968,18 7540,91 7990,91\n",
      "\n",
      "Jupe en laine longue ité 1354,34 2441,67 2179,17 2295,83\n",
      "\n",
      "Pull-over en cotton local ité 1075,41 1664,58 1531,25 1618,75\n",
      "\n",
      "Bas-culotte 1 95,33 277,50 252,50 267,08\n",
      "\n",
      "Demi-bas local 1 52,85 52,92 50,00 54,38\n",
      "\n",
      "Confect. pant. tiss. n/compris en tissu ord. ité 825,00 1208,33 1266,67 1336,11\n",
      "Aiguille a tricoter n°7 une paire 1 42,14 61,67 67,92 72,50\n",
      "\n",
      "Tapis synthétique multicolore 2x3 M ité 3500,00 3066,67 3229,17 3391,67\n",
      "Seringue jetable 10 MC ité 12,00 18,64 19,55 20,91\n",
      "\n",
      "Consultation générale (extraction dent) ité 416,66 1118,18 111818 1209,09\n",
      "Dégraissage chemise manche homme ité 55,00 103,57 103,57 111,33\n",
      "Parapluie pliant automatique ité 424,73 707,14 750,95 792,86\n",
      "\n",
      "*Dans cette colonne, les prix sont annuels moyens sauf pour les légumes et fruits frais, pour\n",
      "lesquels ils sont mensuels moyens, (mois de calcul).\n",
      "\n",
      "B/ Indice national\n",
      "\n",
      "L'indice national des prix a la consommation est établi sur la base d'observation des prix\n",
      "effectuée auprés d'un échantillon de 17 villes et villages représentatifs des différentes régions\n",
      "du pays.\n",
      "\n",
      "Cet indice permet essentiellement de disposer d'indicateurs d'évolution des prix de détail sur\n",
      "l'ensemble du territoire national, permettant ainsi une analyse comparative de l'évolution des\n",
      "prix entre Alger et les autres régions du pays.\n",
      "\n",
      "Au mois de novembre 2018, l’indice général des prix a la consommation, au niveau national,\n",
      "enregistre une variation négative de -0,4% par rapport au mois écoulé.\n",
      "\n",
      "Les prix des biens alimentaires accusent une baisse de 1,1%.\n",
      "\n",
      "Page 7:\n",
      "EVOLUTION PAR GROUPE\n",
      "\n",
      "EN NOVEMBRE 2018\n",
      "2001 = 100\n",
      "\n",
      "Indice Variation Variation Variation\n",
      "Nov. Nov. 18/ Nov. 18/ 11 Mois 18/\n",
      "2018 Oct.18 Nov. 17 11 Mois 17\n",
      "\n",
      "ENSEMBLE\n",
      "\n",
      "Alimentation - Boissons non alcoolisées 225,00 1,97\n",
      "Habillement — Chaussures 231,33 4,05\n",
      "\n",
      "Education - Culture — Loisirs 141,57 0,70 5,47 3,79\n",
      "Divers (N.D.A.) 274,73 1,04 7,55 6,83\n",
      "\n",
      "EVOLUTION COMPAREE ENTRE LES INDICES DES PRIX A LA CONSOMMATION\n",
      "ALGER ET NATIONAL\n",
      "\n",
      "NOVEMBRE 2017 — NOVEMBRE 2018\n",
      "\n",
      "2017\n",
      "\n",
      "Nov. | Déc.\n",
      "\n",
      "tare ALGER f 197,1 | 197,6\n",
      "Général F NATIONAL § 209,3 | 208,6 ff] 210,6\n",
      "0,0 | 03\n",
      "\n",
      "2001 = 100\n",
      "\n",
      "Variation ALGER\n",
      "\n",
      "Mensuelle\n",
      "(en %) | NATIONAL\n",
      "\n",
      "Indice ALGER 210,5 | 211,1 ff] 209,2\n",
      "Alimentation J NATIONAL | 219,3 | 217,3\n",
      "-0,6 0,3\n",
      "\n",
      "Variation ALGER\n",
      "Mensuelle\n",
      "\n",
      "(en %) | NATIONAL 0,9\n",
      "\n",
      "Evolution mensuelle de I'indice général des prix == Alger\n",
      "a la consommation de Novembre 2017 a Novembre 2018 mi National\n",
      "\n",
      "\n",
      "Page 8:\n",
      "La ville d'Alger, Le champ d'observation est constitué de 11 secteurs géographiques : Bab-El-Oued, Alger-Centrel, Alger-\n",
      "Centre2, El-Biar, Belcourt, El-Harrach, Bir-Mourad-Rais, El Madania, Kouba, Hussein-Dey, Ain Benian.\n",
      "\n",
      "* L'Enquéte sur les Dépenses de Consommation des Ménages, Elle a consisté en un sondage auprés d'un échantillon de\n",
      "12150 ménages répartis sur l'ensemble du territoire National selon 7 strates, La stratification adoptée repose sur des critéres\n",
      "de niveau d'urbanisation et de la zone géographique.\n",
      "\n",
      "LES PRINCIPALES\n",
      "CARACTERISTIQUES DE L'INDICE\n",
      "\n",
      "* La population de référence est constituée de l'ensemble des ménages d'Alger, de toutes tailles et toutes catégories socio —\n",
      "professionnelles.\n",
      "\n",
      "* L'indice se compose de 261 articles représentés par 791 variétés sélectionnées sur la base de critéres tels que la dépense\n",
      "annuelle, la fréquence de la dépense, I'utilité,...\n",
      "\n",
      "* Les pondérations des variétés sont calculées a partir des dépenses annuelles en 2000, données par l'enquéte nationale sur\n",
      "la consommation des ménages, Le taux de couverture de I'indice (en termes de dépenses de consommation) est de 95 %.\n",
      "\n",
      "* La classification des biens et services consommeés en groupes, sous-groupes, articles est proche de celle recommandée\n",
      "(par l'ONU) dans le systeme de comptabilité nationale de 1970.\n",
      "\n",
      "* L'année de base est 2000 et l'année de référence (100 pour les calculs) est 2001.\n",
      "* La périodicité de l'indice est mensuelle, Un indice annuel est aussi calcule.\n",
      "* Formule de calcul de I’indice: IT myo =i (Wi /XGWi) (p™; (pr; )\n",
      "\n",
      "wi; =poids de la variété i,\n",
      "\n",
      "™, = prix courant moyen au mois m de la variété i,\n",
      "p °\"', = prix de base (moyen en 2001) de la variété i,\n",
      "*L'indice national est élaboré selon la méme démarche a partir de l'observation des prix auprés d'un échantillon de 17 villes\n",
      "et villages représentatifs du territoire national et répartis selon les strates géographiques de l'enquéte sur les dépenses de\n",
      "consommation.\n",
      "* Les fruits et legumes frais, en raison du caractére saisonnier de leur commercialisation, subissent un traitement particulier\n",
      ": a partir d'un panier mensuel de pleine saison, il est calculé un indice brut, lequel indice compare les coits du méme\n",
      "\n",
      "panier (mensuel) du mois courant et du mois de méme nom de l'année de référence (2001). Les prix de base des variétés du\n",
      "panier, ainsi que les pondérations, sont mensuels, La comparaison d'indices bruts de mois de noms différents indique, non\n",
      "pas une variation (relative) pure des prix, mais le rapport des variations de prix pour chacun des mois.\n",
      "\n",
      "* Les relevés de prix sont effectués périodiquement auprés d’un échantillon de points de vente selon un programme\n",
      "d’enquétes fixé pour chaque groupe de produits\n",
      "\n",
      "Indice des prix a la consommation /Office National des Statistiques,\n",
      "Dir. Mounir Khaled BERRAH, - N° 1 (1996) - x Alger: ONS, 2018 -\n",
      "-tabl, graph, >; 29,7cm, Mensuel\n",
      "\n",
      "Notice établie d’aprés le N° 275 (2018),\n",
      "\n",
      "ISSN : 1111 - 4940 = indice des prix a la consommation\n",
      "\n",
      "Succéde aprés scission a : “données statistiques ” =ISSN 1111 - 5939\n",
      "Prix/indice de prix/Alger/ Algérie/2018/\n",
      "\n",
      "Directeur de la publication : Mounir Khaled BERRAH\n",
      "Administration : DPDDI/ONS 8 & 10, rue des Moussebiline - Alger\n",
      "Montage et Impression : Les ateliers de ’imprimerie de PONS\n",
      "\n",
      "8 & 10, rue des Moussebiline - Alger\n",
      "\n",
      "E-MAIL: ons@ons.dz stat@ons,dz Site Web- http://www.ons.dz\n",
      "B&B : (021) 63-98-06\n",
      "\n",
      "Diffusion : DPDDI/ONS ISSN 1111 — 4940\n",
      "\n",
      "\n"
     ]
    }
   ],
   "source": [
    "# Convert PDF pages to images\n",
    "pages = pdf2image.convert_from_path('pdf_files/0.pdf', 300)\n",
    "\n",
    "# Use OCR on each page\n",
    "for page_num, page in enumerate(pages):\n",
    "    text = pytesseract.image_to_string(page)\n",
    "    print(f\"Page {page_num + 1}:\")\n",
    "    print(text)"
   ]
  },
  {
   "attachments": {
    "image-2.png": {
     "image/png": "[encoded data removed]"
    },
    "image-4.png": {
     "image/png": "[encoded data removed]"
    }
   },
   "cell_type": "markdown",
   "metadata": {},
   "source": [
    "We are interested in the month, the year and the price of the product\n",
    "\n",
    "![image-2.png](attachment:image-2.png)\n",
    "\n",
    "the potatoes price \n",
    "\n",
    "![image-4.png](attachment:image-4.png)\n",
    "\n"
   ]
  },
  {
   "cell_type": "code",
   "execution_count": 21,
   "metadata": {},
   "outputs": [
    {
     "name": "stdout",
     "output_type": "stream",
     "text": [
      "selected_lines:\t [['Mois de Juillet 2012'], [], [], [], [], ['Pomme de terre blanche Kg 24,10 36,55 39,62 40,77 2,90 11,55 69,17'], [], []]\n",
      "date extracted successfully:\t ['Mois de Juillet 2012']\n",
      "price extracted successfully!\t ['Pomme de terre blanche Kg 24,10 36,55 39,62 40,77 2,90 11,55 69,17']\n",
      "selected_lines:\t [['Mois de Juin 2023'], [], [], [], [], ['Pomme de terre blanche Kg 21,09 77,19 65,90'], [], []]\n",
      "date extracted successfully:\t ['Mois de Juin 2023']\n",
      "price extracted successfully!\t ['Pomme de terre blanche Kg 21,09 77,19 65,90']\n",
      "selected_lines:\t [['Mois de Février 2016'], [], [], [], [], ['Pomme de terre blanche Kg 27,24 80,81 45,03 42,11 -6,48 -47,89 54,59'], [], []]\n",
      "date extracted successfully:\t ['Mois de Février 2016']\n",
      "price extracted successfully!\t ['Pomme de terre blanche Kg 27,24 80,81 45,03 42,11 -6,48 -47,89 54,59']\n",
      "selected_lines:\t [['Mois de Janvier 2022'], [], [], [], [], ['Pomme de terre blanche Kg 25,60 50,11 75,34 71,91 -4,55 43,50 180,90'], [], []]\n",
      "date extracted successfully:\t ['Mois de Janvier 2022']\n",
      "price extracted successfully!\t ['Pomme de terre blanche Kg 25,60 50,11 75,34 71,91 -4,55 43,50 180,90']\n",
      "selected_lines:\t [['Mois de Février 2019'], [], [], [], [], ['Pomme de terre blanche Kg 27,24 63,09 56,05 53,94 -3,76 -14,50 98,02'], [], []]\n",
      "date extracted successfully:\t ['Mois de Février 2019']\n",
      "price extracted successfully!\t ['Pomme de terre blanche Kg 27,24 63,09 56,05 53,94 -3,76 -14,50 98,02']\n",
      "selected_lines:\t [['Mois de Février 2015'], [], [], [], [], [], [], []]\n",
      "date extracted successfully:\t ['Mois de Février 2015']\n",
      "none\n",
      "selected_lines:\t [['Mois de Juillet 2023'], [], [], [], [], ['Pomme de terre blanche'], [], []]\n",
      "date extracted successfully:\t ['Mois de Juillet 2023']\n",
      "price extracted successfully!\t ['Pomme de terre blanche']\n",
      "selected_lines:\t [['Mois de Mars 2019'], [], [], [], [], ['Pomme de terre blanche Kg 27,85 62,61 53,94 58,87 9,14 -5,97 111,38'], [], []]\n",
      "date extracted successfully:\t ['Mois de Mars 2019']\n",
      "price extracted successfully!\t ['Pomme de terre blanche Kg 27,85 62,61 53,94 58,87 9,14 -5,97 111,38']\n",
      "selected_lines:\t [['Mois de Janvier 2013'], [], [], [], [], ['Pomme de terre blanche Kg 25,60 47,14 51,93 51,46 -0,91 9,16 101,02'], [], []]\n",
      "date extracted successfully:\t ['Mois de Janvier 2013']\n",
      "price extracted successfully!\t ['Pomme de terre blanche Kg 25,60 47,14 51,93 51,46 -0,91 9,16 101,02']\n",
      "selected_lines:\t [['Mois d’Aoiut 2010'], [], [], [], [], ['Pomme de terre blanche Kg 27,36 42,69 34,65 40,66 17,34 -4,76 48,61'], [], []]\n",
      "date extracted successfully:\t ['Mois d’Aoiut 2010']\n",
      "price extracted successfully!\t ['Pomme de terre blanche Kg 27,36 42,69 34,65 40,66 17,34 -4,76 48,61']\n",
      "selected_lines:\t [['Mois d’Aoiut 2018'], [], [], [], [], ['Pomme de terre blanche Kg 27,36 58,19 65,15 76,46 17,36 31,40 179,46'], [], []]\n",
      "date extracted successfully:\t ['Mois d’Aoiut 2018']\n",
      "price extracted successfully!\t ['Pomme de terre blanche Kg 27,36 58,19 65,15 76,46 17,36 31,40 179,46']\n",
      "selected_lines:\t [['Mois de Septembre 2012'], [], [], [], [], ['Pomme de terre blanche Kg 30,35'], [], []]\n",
      "date extracted successfully:\t ['Mois de Septembre 2012']\n",
      "price extracted successfully!\t ['Pomme de terre blanche Kg 30,35']\n",
      "selected_lines:\t [['Mois de Mars 2013'], [], [], [], [], ['Pomme de terre blanche Kg 27,85 78,81 56,08 56,37 0,52 -28,47 102,41'], [], []]\n",
      "date extracted successfully:\t ['Mois de Mars 2013']\n",
      "price extracted successfully!\t ['Pomme de terre blanche Kg 27,85 78,81 56,08 56,37 0,52 -28,47 102,41']\n",
      "selected_lines:\t [['Mois de Février 2022'], [], [], [], [], [], [], []]\n",
      "date extracted successfully:\t ['Mois de Février 2022']\n",
      "none\n",
      "selected_lines:\t [['Mois d’Octobre 2014'], [], [], [], [], ['Pomme de terre blanche Kg 31,81 34,27 63,09 80,23 27,17 134,11 152,22'], [], []]\n",
      "date extracted successfully:\t ['Mois d’Octobre 2014']\n",
      "price extracted successfully!\t ['Pomme de terre blanche Kg 31,81 34,27 63,09 80,23 27,17 134,11 152,22']\n",
      "selected_lines:\t [['Mois de Novembre 2020'], [], [], [], [], ['Pomme de terre blanche Kg 31,18 57,06 52,73 56,04 6,28 -1,79 79,73'], [], []]\n",
      "date extracted successfully:\t ['Mois de Novembre 2020']\n",
      "price extracted successfully!\t ['Pomme de terre blanche Kg 31,18 57,06 52,73 56,04 6,28 -1,79 79,73']\n",
      "selected_lines:\t [['Mois de Feévrier 2017'], [], [], [], [], ['Pomme de terre blanche Kg 27,24 42,11 63,17 11,19 66,80 157,86'], [], []]\n",
      "date extracted successfully:\t ['Mois de Feévrier 2017']\n",
      "price extracted successfully!\t ['Pomme de terre blanche Kg 27,24 42,11 63,17 11,19 66,80 157,86']\n",
      "selected_lines:\t [['Mois de Décembre 2014'], [], [], [], [], ['Pomme de terre blanche Kg 25,96 43,85 82,96 68,04 -17,98 55,17 162,10'], [], []]\n",
      "date extracted successfully:\t ['Mois de Décembre 2014']\n",
      "price extracted successfully!\t ['Pomme de terre blanche Kg 25,96 43,85 82,96 68,04 -17,98 55,17 162,10']\n",
      "selected_lines:\t [['ysh® Mois de Septembre 2009'], [], [], [], [], ['Pomme de terre blanche Kg 30,35 35,47 42,69 53,02 24,20 49,48 74,70'], [], []]\n",
      "date extracted successfully:\t ['ysh® Mois de Septembre 2009']\n",
      "price extracted successfully!\t ['Pomme de terre blanche Kg 30,35 35,47 42,69 53,02 24,20 49,48 74,70']\n",
      "selected_lines:\t [['Mois de Février 2011'], [], [], [], [], ['Pomme de terre blanche Kg 27,24 42,91 36,75 38,29 4,19 -10,77 40,57'], [], [], []]\n",
      "date extracted successfully:\t ['Mois de Février 2011']\n",
      "price extracted successfully!\t ['Pomme de terre blanche Kg 27,24 42,91 36,75 38,29 4,19 -10,77 40,57']\n",
      "selected_lines:\t [['Mois de Janvier 2017'], [], [], [], [], ['Pomme de terre blanche Kg 25,60 45,03 53,18 63,17 18,79 40,28 146,76'], [], []]\n",
      "date extracted successfully:\t ['Mois de Janvier 2017']\n",
      "price extracted successfully!\t ['Pomme de terre blanche Kg 25,60 45,03 53,18 63,17 18,79 40,28 146,76']\n",
      "selected_lines:\t [['Mois de Janvier 2025'], [], [], [], [], ['Pomme de terre blanche Kg 25,60 73,08 93,49 94,30'], [], []]\n",
      "date extracted successfully:\t ['Mois de Janvier 2025']\n",
      "price extracted successfully!\t ['Pomme de terre blanche Kg 25,60 73,08 93,49 94,30']\n",
      "selected_lines:\t [['Mois de Décembre 2019'], [], [], [], [], ['Pomme de terre blanche Kg 25,96 59,46'], [], []]\n",
      "date extracted successfully:\t ['Mois de Décembre 2019']\n",
      "price extracted successfully!\t ['Pomme de terre blanche Kg 25,96 59,46']\n",
      "selected_lines:\t [['Mois d’Octobre 2022'], [], [], [], [], ['Pomme de terre blanche Kg 31,81 99,25 84,99 83,12 -2,20 -16,25 161,30'], [], []]\n",
      "date extracted successfully:\t ['Mois d’Octobre 2022']\n",
      "price extracted successfully!\t ['Pomme de terre blanche Kg 31,81 99,25 84,99 83,12 -2,20 -16,25 161,30']\n",
      "selected_lines:\t [['Mois de Novembre 2009'], [], [], [], [], ['Pomme de terre blanche'], [], [], []]\n",
      "date extracted successfully:\t ['Mois de Novembre 2009']\n",
      "price extracted successfully!\t ['Pomme de terre blanche']\n",
      "selected_lines:\t [['Mois de Septembre 2023'], [], [], [], [], ['Pomme de terre blanche Kg 30,35 84,99 66,04 71,25'], [], []]\n",
      "date extracted successfully:\t ['Mois de Septembre 2023']\n",
      "price extracted successfully!\t ['Pomme de terre blanche Kg 30,35 84,99 66,04 71,25']\n",
      "selected_lines:\t [['Mois de Janvier 2011'], [], [], [], [], ['Pomme de terre blanche Kg 25,60 43,62 38,05 36,75 -3,42 -15,75 43,55'], [], []]\n",
      "date extracted successfully:\t ['Mois de Janvier 2011']\n",
      "price extracted successfully!\t ['Pomme de terre blanche Kg 25,60 43,62 38,05 36,75 -3,42 -15,75 43,55']\n",
      "selected_lines:\t [['Mois de Septembre 2010'], [], [], [], [], ['Pomme de terre blanche Kg 30,35 53,02 40,66 43,57 7,16 -17,82 43,56'], [], []]\n",
      "date extracted successfully:\t ['Mois de Septembre 2010']\n",
      "price extracted successfully!\t ['Pomme de terre blanche Kg 30,35 53,02 40,66 43,57 7,16 -17,82 43,56']\n",
      "selected_lines:\t [['Mois de Decembre 2004'], [], [], [], [], [], [], [], []]\n",
      "date extracted successfully:\t ['Mois de Decembre 2004']\n",
      "none\n",
      "selected_lines:\t [['Mois de Juin 2013'], [], [], [], [], ['Pomme de terre blanche Kg 21,09 39,62 29,78 29,46 -1,07 -25,64 39,69'], [], []]\n",
      "date extracted successfully:\t ['Mois de Juin 2013']\n",
      "price extracted successfully!\t ['Pomme de terre blanche Kg 21,09 39,62 29,78 29,46 -1,07 -25,64 39,69']\n",
      "selected_lines:\t [['Mois de Décembre 2018'], [], [], [], [], [], [], []]\n",
      "date extracted successfully:\t ['Mois de Décembre 2018']\n",
      "none\n",
      "selected_lines:\t [['Mois de janvier 2004'], [], [], [], [], ['Pomme de terre blanche Kg 5,80 18,95 24,54 25,44 3,70 34,20 342,40'], [], []]\n",
      "date extracted successfully:\t ['Mois de janvier 2004']\n",
      "price extracted successfully!\t ['Pomme de terre blanche Kg 5,80 18,95 24,54 25,44 3,70 34,20 342,40']\n",
      "selected_lines:\t [['Mois de Juin 2021'], [], [], [], [], ['Pomme de terre blanche Kg 21,09 51,14 82,88 68,35 -17,53'], [], []]\n",
      "date extracted successfully:\t ['Mois de Juin 2021']\n",
      "price extracted successfully!\t ['Pomme de terre blanche Kg 21,09 51,14 82,88 68,35 -17,53']\n",
      "selected_lines:\t [['Mois de Décembre 2015'], [], [], [], [], [], [], []]\n",
      "date extracted successfully:\t ['Mois de Décembre 2015']\n",
      "none\n",
      "selected_lines:\t [['Mois de Juillet 2009'], [], [], [], [], ['Pomme de terre blanche K, 5,00 23,09 27,67 37,07 34,00 60,50 641,40'], [], []]\n",
      "date extracted successfully:\t ['Mois de Juillet 2009']\n",
      "price extracted successfully!\t ['Pomme de terre blanche K, 5,00 23,09 27,67 37,07 34,00 60,50 641,40']\n",
      "selected_lines:\t [['Mois de Janvier 2019'], [], [], [], [], ['Pomme de terre blanche Kg 25,60 67,87 59,46 56,05 -5,73'], [], []]\n",
      "date extracted successfully:\t ['Mois de Janvier 2019']\n",
      "price extracted successfully!\t ['Pomme de terre blanche Kg 25,60 67,87 59,46 56,05 -5,73']\n",
      "selected_lines:\t [['Mois de Septembre 2015'], [], [], [], [], ['Pomme de terre blanche Kg 30,35 63,09 47,38 56,48 19,21 -10,48 86,10'], [], []]\n",
      "date extracted successfully:\t ['Mois de Septembre 2015']\n",
      "price extracted successfully!\t ['Pomme de terre blanche Kg 30,35 63,09 47,38 56,48 19,21 -10,48 86,10']\n",
      "selected_lines:\t [[\"Mois d'Octobre 2004\"], [], [], [], [], [], [], []]\n",
      "date extracted successfully:\t [\"Mois d'Octobre 2004\"]\n",
      "none\n",
      "selected_lines:\t [['Mois de Novembre 2004'], [], [], [], [], ['Pomme de terre blanche'], [], []]\n",
      "date extracted successfully:\t ['Mois de Novembre 2004']\n",
      "price extracted successfully!\t ['Pomme de terre blanche']\n",
      "selected_lines:\t [['Mois de Février 2020'], [], [], [], [], ['Pomme de terre blanche Kg 27,24 53,94 53,26 49,04 -7,92 -9,08 80,03'], [], []]\n",
      "date extracted successfully:\t ['Mois de Février 2020']\n",
      "price extracted successfully!\t ['Pomme de terre blanche Kg 27,24 53,94 53,26 49,04 -7,92 -9,08 80,03']\n",
      "selected_lines:\t [['Mois d’Aout 2023'], [], [], [], [], ['Pomme de terre blanche'], [], []]\n",
      "date extracted successfully:\t ['Mois d’Aout 2023']\n",
      "price extracted successfully!\t ['Pomme de terre blanche']\n",
      "selected_lines:\t [['Mois de Mai 2022'], [], [], [], [], ['Pomme de terre blanche Kg 22,29 82,88 125,29 91,67 -26,83 10,61 311,26'], [], []]\n",
      "date extracted successfully:\t ['Mois de Mai 2022']\n",
      "price extracted successfully!\t ['Pomme de terre blanche Kg 22,29 82,88 125,29 91,67 -26,83 10,61 311,26']\n",
      "selected_lines:\t [['Mois d’Avril 2015'], [], [], [], [], [], [], []]\n",
      "date extracted successfully:\t ['Mois d’Avril 2015']\n",
      "none\n",
      "selected_lines:\t [['Mois de Juillet 2022'], [], [], [], [], ['Pomme de terre blanche Kg 24,10 73,05 77,19 75,92 -1,65 3,93 215,02'], [], []]\n",
      "date extracted successfully:\t ['Mois de Juillet 2022']\n",
      "price extracted successfully!\t ['Pomme de terre blanche Kg 24,10 73,05 77,19 75,92 -1,65 3,93 215,02']\n",
      "selected_lines:\t [['Mois de Janvier 2009'], [], [], [], [], ['Pomme de terre blanche Kg 35,9 41,13 43,53 40,96 -5,90 -0,40'], [], []]\n",
      "date extracted successfully:\t ['Mois de Janvier 2009']\n",
      "price extracted successfully!\t ['Pomme de terre blanche Kg 35,9 41,13 43,53 40,96 -5,90 -0,40']\n",
      "selected_lines:\t [['Mois de Septembre 2020'], [], [], [], [], ['Pomme de terre blanche Kg 30,35 62,09 44,84 45,76 2,05 -26,30 50,77'], [], []]\n",
      "date extracted successfully:\t ['Mois de Septembre 2020']\n",
      "price extracted successfully!\t ['Pomme de terre blanche Kg 30,35 62,09 44,84 45,76 2,05 -26,30 50,77']\n",
      "selected_lines:\t [['Mois d’Avril 2003'], [], [], [], [], ['Pomme de terre blanche Kg 6,80 42,39 20,78 21,81 5,00 -48,50 222,60'], [], []]\n",
      "date extracted successfully:\t ['Mois d’Avril 2003']\n",
      "price extracted successfully!\t ['Pomme de terre blanche Kg 6,80 42,39 20,78 21,81 5,00 -48,50 222,60']\n",
      "selected_lines:\t [['Mois de Mai 2010'], [], [], [], [], ['Pomme de terre blanche Kg 22,29 31,39 28,80 31,57 9,62 0,57 41,63'], [], []]\n",
      "date extracted successfully:\t ['Mois de Mai 2010']\n",
      "price extracted successfully!\t ['Pomme de terre blanche Kg 22,29 31,39 28,80 31,57 9,62 0,57 41,63']\n",
      "selected_lines:\t [['Mois d’Octobre 2018'], [], [], [], [], ['Pomme de terre blanche Kg 31,81 78,25 79,02 80,21 1,51 2,50 152,15'], [], []]\n",
      "date extracted successfully:\t ['Mois d’Octobre 2018']\n",
      "price extracted successfully!\t ['Pomme de terre blanche Kg 31,81 78,25 79,02 80,21 1,51 2,50 152,15']\n",
      "selected_lines:\t [['Mois de juillet 2004'], [], [], [], [], ['Pomme de terre blanche 24,16 24,54 23,82 -2,90 -1,40 376,40'], [], []]\n",
      "date extracted successfully:\t ['Mois de juillet 2004']\n",
      "price extracted successfully!\t ['Pomme de terre blanche 24,16 24,54 23,82 -2,90 -1,40 376,40']\n",
      "selected_lines:\t [['Mois de Février 2014'], [], [], [], [], ['Pomme de terre blanche Kg 27,24 56,08 45,10 43,44 -3,68 -22,54 59,47'], [], []]\n",
      "date extracted successfully:\t ['Mois de Février 2014']\n",
      "price extracted successfully!\t ['Pomme de terre blanche Kg 27,24 56,08 45,10 43,44 -3,68 -22,54 59,47']\n",
      "selected_lines:\t [['Mois de Janvier 2024'], [], [], [], [], ['Pomme de terre blanche Kg 25,60 69,76 76,68 73,08 -4,69'], [], []]\n",
      "date extracted successfully:\t ['Mois de Janvier 2024']\n",
      "price extracted successfully!\t ['Pomme de terre blanche Kg 25,60 69,76 76,68 73,08 -4,69']\n",
      "selected_lines:\t [['Mois de Septembre 2019'], [], [], [], [], ['Pomme de terre blanche Kg 30,35 79,02 60,97 62,09 1,84 -21,42 104,58'], [], []]\n",
      "date extracted successfully:\t ['Mois de Septembre 2019']\n",
      "price extracted successfully!\t ['Pomme de terre blanche Kg 30,35 79,02 60,97 62,09 1,84 -21,42 104,58']\n",
      "selected_lines:\t [['Mois de Mai 2011'], [], [], [], [], ['Pomme de terre blanche Kg 22,29 31,57 40,92 35,37 -13,56 12,04 58,68'], [], []]\n",
      "date extracted successfully:\t ['Mois de Mai 2011']\n",
      "price extracted successfully!\t ['Pomme de terre blanche Kg 22,29 31,57 40,92 35,37 -13,56 12,04 58,68']\n",
      "selected_lines:\t [['Mois de mars 2010'], [], [], [], [], ['Pomme de terre blanche Kg 27,85 59,02 42,91 38,29 -10,77'], [], [], []]\n",
      "date extracted successfully:\t ['Mois de mars 2010']\n",
      "price extracted successfully!\t ['Pomme de terre blanche Kg 27,85 59,02 42,91 38,29 -10,77']\n",
      "selected_lines:\t [['Mois de Feévrier 2009'], [], [], [], [], ['Pomme de terre blanche Kg 6,20 42,91 40,96 45,06 10,00 5,00 626,80'], [], []]\n",
      "date extracted successfully:\t ['Mois de Feévrier 2009']\n",
      "price extracted successfully!\t ['Pomme de terre blanche Kg 6,20 42,91 40,96 45,06 10,00 5,00 626,80']\n",
      "selected_lines:\t [['Mois de Décembre 2012'], [], [], [], [], ['Pomme de terre blanche Kg 25,96 43,39 60,72 51,93 -14,48 19,68 100,04'], [], []]\n",
      "date extracted successfully:\t ['Mois de Décembre 2012']\n",
      "price extracted successfully!\t ['Pomme de terre blanche Kg 25,96 43,39 60,72 51,93 -14,48 19,68 100,04']\n",
      "selected_lines:\t [['Mois de Novembre 2012'], [], [], [], [], ['Pomme de terre blanche Kg 31,18'], [], []]\n",
      "date extracted successfully:\t ['Mois de Novembre 2012']\n",
      "price extracted successfully!\t ['Pomme de terre blanche Kg 31,18']\n",
      "selected_lines:\t [['Mois de Mai 2016'], [], [], [], [], ['Pomme de terre blanche Kg 22,29 59,01 48,76 41,68 -14,52'], [], []]\n",
      "date extracted successfully:\t ['Mois de Mai 2016']\n",
      "price extracted successfully!\t ['Pomme de terre blanche Kg 22,29 59,01 48,76 41,68 -14,52']\n",
      "selected_lines:\t [['Mois de Juillet 2014'], [], [], [], [], ['Pomme de terre blanche Kg 24,10 33,64 47,94 54,55 13,79 62,16 126,35'], [], []]\n",
      "date extracted successfully:\t ['Mois de Juillet 2014']\n",
      "price extracted successfully!\t ['Pomme de terre blanche Kg 24,10 33,64 47,94 54,55 13,79 62,16 126,35']\n",
      "selected_lines:\t [['Mois de Septembre 2011'], [], [], [], [], ['Pomme de terre blanche Kg 30,35 43,57 42,19 42,53 0,81 -2,39 40,13'], [], []]\n",
      "date extracted successfully:\t ['Mois de Septembre 2011']\n",
      "price extracted successfully!\t ['Pomme de terre blanche Kg 30,35 43,57 42,19 42,53 0,81 -2,39 40,13']\n",
      "selected_lines:\t [['Mois d’Avril 2021]'], [], [], [], [], ['Pomme de terre blanche Kg 27,95 50,07 68,95 76,19 10,50 52,17 172,59'], [], []]\n",
      "date extracted successfully:\t ['Mois d’Avril 2021]']\n",
      "price extracted successfully!\t ['Pomme de terre blanche Kg 27,95 50,07 68,95 76,19 10,50 52,17 172,59']\n",
      "selected_lines:\t [['Mois d’aout 2003'], [], [], [], [], ['Pomme de terre blanche Kg 5,70 30,93 24,16 26,64 10,30 -13,90 370,70'], [], []]\n",
      "date extracted successfully:\t ['Mois d’aout 2003']\n",
      "price extracted successfully!\t ['Pomme de terre blanche Kg 5,70 30,93 24,16 26,64 10,30 -13,90 370,70']\n",
      "selected_lines:\t [['Mois d’avril 2010'], [], [], [], [], [], [], []]\n",
      "date extracted successfully:\t ['Mois d’avril 2010']\n",
      "none\n",
      "selected_lines:\t [['Mois de septembre 2003'], [], [], [], [], [], [], []]\n",
      "date extracted successfully:\t ['Mois de septembre 2003']\n",
      "none\n",
      "selected_lines:\t [['ae Mois d’Aoiit 2009'], [], [], [], [], ['Pomme de terre blanche Kg 27,36 28,76 37,07 42,69 15,16 48,44 56,03'], [], []]\n",
      "date extracted successfully:\t ['ae Mois d’Aoiit 2009']\n",
      "price extracted successfully!\t ['Pomme de terre blanche Kg 27,36 28,76 37,07 42,69 15,16 48,44 56,03']\n",
      "selected_lines:\t [['Mois d’Octobre 2011'], [], [], [], [], ['Pomme de terre blanche Kg 31,81 44,30 42,53 49,17 15,61 10,99 54,57'], [], []]\n",
      "date extracted successfully:\t ['Mois d’Octobre 2011']\n",
      "price extracted successfully!\t ['Pomme de terre blanche Kg 31,81 44,30 42,53 49,17 15,61 10,99 54,57']\n",
      "selected_lines:\t [['Mois d’Octobre 2010'], [], [], [], [], ['Pomme de terre blanche Kg 31,81 55,41 43,57 44,30 1,68 -20,05 39,26'], [], []]\n",
      "date extracted successfully:\t ['Mois d’Octobre 2010']\n",
      "price extracted successfully!\t ['Pomme de terre blanche Kg 31,81 55,41 43,57 44,30 1,68 -20,05 39,26']\n",
      "selected_lines:\t [['Mois de Juin 2019'], [], [], [], [], ['Pomme de terre blanche Kg 21,09 63,97 54,34 59,64 9,75 -6,77 182,79'], [], []]\n",
      "date extracted successfully:\t ['Mois de Juin 2019']\n",
      "price extracted successfully!\t ['Pomme de terre blanche Kg 21,09 63,97 54,34 59,64 9,75 -6,77 182,79']\n",
      "selected_lines:\t [['Mois d’Octobre 2012'], [], [], [], [], ['Pomme de terre blanche Kg 31,81 49,17 57,61 61,12 6,09 24,30 92,14'], [], [], []]\n",
      "date extracted successfully:\t ['Mois d’Octobre 2012']\n",
      "price extracted successfully!\t ['Pomme de terre blanche Kg 31,81 49,17 57,61 61,12 6,09 24,30 92,14']\n",
      "selected_lines:\t [['Mois de Juillet 2019'], [], [], [], [], ['Pomme de terre blanche Kg 24,10 65,15'], [], []]\n",
      "date extracted successfully:\t ['Mois de Juillet 2019']\n",
      "price extracted successfully!\t ['Pomme de terre blanche Kg 24,10 65,15']\n",
      "selected_lines:\t [['Mois d’Aout 2022'], [], [], [], [], ['Pomme de terre blanche Kg 27,36 71,30 75,92 88,91 17,11 24,70 224,96'], [], []]\n",
      "date extracted successfully:\t ['Mois d’Aout 2022']\n",
      "price extracted successfully!\t ['Pomme de terre blanche Kg 27,36 71,30 75,92 88,91 17,11 24,70 224,96']\n",
      "selected_lines:\t [['Mois d’Avril 2012'], [], [], [], [], ['Pomme de terre blanche Kg 27,95 40,92 78,81 90,11 14,34 120,21 222,40'], [], []]\n",
      "date extracted successfully:\t ['Mois d’Avril 2012']\n",
      "price extracted successfully!\t ['Pomme de terre blanche Kg 27,95 40,92 78,81 90,11 14,34 120,21 222,40']\n",
      "selected_lines:\t [['Mois de Mai 2015'], [], [], [], [], [], [], []]\n",
      "date extracted successfully:\t ['Mois de Mai 2015']\n",
      "none\n",
      "selected_lines:\t [['Mois de mai 2003'], [], [], [], [], ['Pomme de terre blanche Kg 5,20 29,74 21,81 19,16 -12,20 -35,60 265,60'], [], []]\n",
      "date extracted successfully:\t ['Mois de mai 2003']\n",
      "price extracted successfully!\t ['Pomme de terre blanche Kg 5,20 29,74 21,81 19,16 -12,20 -35,60 265,60']\n",
      "selected_lines:\t [['Mois d’Aout 2016'], [], [], [], [], ['Pomme de terre blanche Kg 27,36 47,38 45,79 44,07 -3,76 -6,99 61,07'], [], []]\n",
      "date extracted successfully:\t ['Mois d’Aout 2016']\n",
      "price extracted successfully!\t ['Pomme de terre blanche Kg 27,36 47,38 45,79 44,07 -3,76 -6,99 61,07']\n",
      "selected_lines:\t [['Mois de décembre 2010'], [], [], [], [], ['Pomme de terre blanche Kg 25,96 47,78 51,07 38,05 -25,49 -20,36 46,57'], [], []]\n",
      "date extracted successfully:\t ['Mois de décembre 2010']\n",
      "price extracted successfully!\t ['Pomme de terre blanche Kg 25,96 47,78 51,07 38,05 -25,49 -20,36 46,57']\n",
      "selected_lines:\t [['Mois de Septembre 2014'], [], [], [], [], ['Pomme de terre blanche Kg 30,35 34,72 58,45 63,09 7,94 81,71 107,87'], [], []]\n",
      "date extracted successfully:\t ['Mois de Septembre 2014']\n",
      "price extracted successfully!\t ['Pomme de terre blanche Kg 30,35 34,72 58,45 63,09 7,94 81,71 107,87']\n",
      "selected_lines:\t [['Mois de Janvier 2021'], [], [], [], [], ['Pomme de terre blanche Kg 25,60 53,26 52,29 50,11 -4,17 -5,91 95,74'], [], []]\n",
      "date extracted successfully:\t ['Mois de Janvier 2021']\n",
      "price extracted successfully!\t ['Pomme de terre blanche Kg 25,60 53,26 52,29 50,11 -4,17 -5,91 95,74']\n",
      "selected_lines:\t [['Mois de Novembre 2023'], [], [], [], [], ['Pomme de terre blanche Kg 31,18 85,87 73,77 79,73 8,08'], [], []]\n",
      "date extracted successfully:\t ['Mois de Novembre 2023']\n",
      "price extracted successfully!\t ['Pomme de terre blanche Kg 31,18 85,87 73,77 79,73 8,08']\n",
      "selected_lines:\t [['Mois de Mai 2020'], [], [], [], [], ['Pomme de terre blanche Kg 22,29 54,34 50,07 49,58 -0,98 -8,76 122,43'], [], []]\n",
      "date extracted successfully:\t ['Mois de Mai 2020']\n",
      "price extracted successfully!\t ['Pomme de terre blanche Kg 22,29 54,34 50,07 49,58 -0,98 -8,76 122,43']\n",
      "selected_lines:\t [['Mois de Mars 2012'], [], [], [], [], ['Pomme de terre blanche Kg 27,85 44,58 63,76 78,81 23,60 76,78 182,98'], [], []]\n",
      "date extracted successfully:\t ['Mois de Mars 2012']\n",
      "price extracted successfully!\t ['Pomme de terre blanche Kg 27,85 44,58 63,76 78,81 23,60 76,78 182,98']\n",
      "selected_lines:\t [['Mois de Janvier 2015'], [], [], [], [], ['Pomme de terre blanche Kg 25,60 45,10 68,04 62,43 -8,25 38,43 143,87'], [], []]\n",
      "date extracted successfully:\t ['Mois de Janvier 2015']\n",
      "price extracted successfully!\t ['Pomme de terre blanche Kg 25,60 45,10 68,04 62,43 -8,25 38,43 143,87']\n",
      "selected_lines:\t [['Mois d’Avril 2024'], [], [], [], [], ['Pomme de terre blanche Kg 27,95 72,95 77,09 91,57'], [], []]\n",
      "date extracted successfully:\t ['Mois d’Avril 2024']\n",
      "price extracted successfully!\t ['Pomme de terre blanche Kg 27,95 72,95 77,09 91,57']\n",
      "selected_lines:\t [['Mois d’Aout 2012'], [], [], [], [], ['Pomme de terre blanche Kg 27,36 42,19 40,77 52,86 29,65 25,29 93,20'], [], []]\n",
      "date extracted successfully:\t ['Mois d’Aout 2012']\n",
      "price extracted successfully!\t ['Pomme de terre blanche Kg 27,36 42,19 40,77 52,86 29,65 25,29 93,20']\n",
      "selected_lines:\t [['Mois de Juin 2022'], [], [], [], [], ['Pomme de terre blanche Kg 21,09 68,35 91,67 77,19 -15,80 12,93 266,00'], [], []]\n",
      "date extracted successfully:\t ['Mois de Juin 2022']\n",
      "price extracted successfully!\t ['Pomme de terre blanche Kg 21,09 68,35 91,67 77,19 -15,80 12,93 266,00']\n",
      "selected_lines:\t [['Mois de Mali 2004'], [], [], [], [], ['Pomme de terre blanche Kg 5,20 19,16 35,68 26,93 -24,50 40,60 413,90'], [], []]\n",
      "date extracted successfully:\t ['Mois de Mali 2004']\n",
      "price extracted successfully!\t ['Pomme de terre blanche Kg 5,20 19,16 35,68 26,93 -24,50 40,60 413,90']\n",
      "selected_lines:\t [[\"Mois d'Aoiut 2004\"], [], [], [], [], ['Pomme de terre blanche 26,64 23,82 24,88 4,50 -6,60 339,60'], [], []]\n",
      "date extracted successfully:\t [\"Mois d'Aoiut 2004\"]\n",
      "price extracted successfully!\t ['Pomme de terre blanche 26,64 23,82 24,88 4,50 -6,60 339,60']\n",
      "selected_lines:\t [['Mois de Fevrier 2012'], [], [], [], [], ['Pomme de terre blanche Kg 27,24 38,29 47,14 63,76 35,26 66,52 134,07'], [], []]\n",
      "date extracted successfully:\t ['Mois de Fevrier 2012']\n",
      "price extracted successfully!\t ['Pomme de terre blanche Kg 27,24 38,29 47,14 63,76 35,26 66,52 134,07']\n",
      "selected_lines:\t [['Mois d’Aoiut 2013'], [], [], [], [], ['Pomme de terre blanche Kg 27,36 52,86 33,64 34,95 3,89 -33,88 27,74'], [], []]\n",
      "date extracted successfully:\t ['Mois d’Aoiut 2013']\n",
      "price extracted successfully!\t ['Pomme de terre blanche Kg 27,36 52,86 33,64 34,95 3,89 -33,88 27,74']\n",
      "selected_lines:\t [['Mois de novembre 2015'], [], [], [], [], ['Pomme de terre blanche Kg 31,18 82,96 58,78 56,78 -3,40 -31,56 82,10'], [], []]\n",
      "date extracted successfully:\t ['Mois de novembre 2015']\n",
      "price extracted successfully!\t ['Pomme de terre blanche Kg 31,18 82,96 58,78 56,78 -3,40 -31,56 82,10']\n",
      "selected_lines:\t [['Mois de juin 2004'], [], [], [], [], ['Pomme de terre blanche Kg 4,50 22.71 26,93 24,54 -8,90 8,10 442,90'], [], []]\n",
      "date extracted successfully:\t ['Mois de juin 2004']\n",
      "price extracted successfully!\t ['Pomme de terre blanche Kg 4,50 22.71 26,93 24,54 -8,90 8,10 442,90']\n",
      "selected_lines:\t [['Mois de Déecembre 2020'], [], [], [], [], ['Pomme de terre blanche Kg 25,96 55,98 56,04 52,29 -6,69 -6,59 101,43'], [], []]\n",
      "date extracted successfully:\t ['Mois de Déecembre 2020']\n",
      "price extracted successfully!\t ['Pomme de terre blanche Kg 25,96 55,98 56,04 52,29 -6,69 -6,59 101,43']\n",
      "selected_lines:\t [['Mois d’Aoiut 2015'], [], [], [], [], ['Pomme de terre blanche Kg 27,36 58,45 50,92 47,38 -6,95 -18,94 73,17'], [], []]\n",
      "date extracted successfully:\t ['Mois d’Aoiut 2015']\n",
      "price extracted successfully!\t ['Pomme de terre blanche Kg 27,36 58,45 50,92 47,38 -6,95 -18,94 73,17']\n",
      "selected_lines:\t [['Mois d’Avril 2018'], [], [], [], [], ['Pomme de terre blanche Kg 27,95 73,98 62,61 57,84 -7,62 -21,82 106,94'], [], []]\n",
      "date extracted successfully:\t ['Mois d’Avril 2018']\n",
      "price extracted successfully!\t ['Pomme de terre blanche Kg 27,95 73,98 62,61 57,84 -7,62 -21,82 106,94']\n",
      "selected_lines:\t [['Mois de Septembre 2017'], [], [], [], [], ['Pomme de terre blanche Kg 30,35 47,35 19,81 47,24 129,72'], [], []]\n",
      "date extracted successfully:\t ['Mois de Septembre 2017']\n",
      "price extracted successfully!\t ['Pomme de terre blanche Kg 30,35 47,35 19,81 47,24 129,72']\n",
      "selected_lines:\t [['Mois de mars 2003'], [], [], [], [], ['Pomme de terre blanche Kg 6,20 42,67 22,08 20,78 -5,90 -51,30 236,80'], [], []]\n",
      "date extracted successfully:\t ['Mois de mars 2003']\n",
      "price extracted successfully!\t ['Pomme de terre blanche Kg 6,20 42,67 22,08 20,78 -5,90 -51,30 236,80']\n",
      "selected_lines:\t [['Mois de Juin 2011'], [], [], [], [], ['Pomme de terre blanche Kg 21,09'], [], []]\n",
      "date extracted successfully:\t ['Mois de Juin 2011']\n",
      "price extracted successfully!\t ['Pomme de terre blanche Kg 21,09']\n",
      "selected_lines:\t [['Mois d’Avril 2014'], [], [], [], [], [], [], []]\n",
      "date extracted successfully:\t ['Mois d’Avril 2014']\n",
      "none\n",
      "selected_lines:\t [['Mois de Novembre 2010'], [], [], [], [], ['Pomme de terre blanche Kg 31,18 53,14 44,30 51,07 15,28 -3,90 63,79'], [], [], []]\n",
      "date extracted successfully:\t ['Mois de Novembre 2010']\n",
      "price extracted successfully!\t ['Pomme de terre blanche Kg 31,18 53,14 44,30 51,07 15,28 -3,90 63,79']\n",
      "selected_lines:\t [['Mois de Février 2021'], [], [], [], [], [], [], []]\n",
      "date extracted successfully:\t ['Mois de Février 2021']\n",
      "none\n",
      "selected_lines:\t [['Mois de Mars 2017'], [], [], [], [], ['Pomme de terre blanche Kg 27,85 40,55 70,24 75,95 8,13 87,30 172,71'], [], []]\n",
      "date extracted successfully:\t ['Mois de Mars 2017']\n",
      "price extracted successfully!\t ['Pomme de terre blanche Kg 27,85 40,55 70,24 75,95 8,13 87,30 172,71']\n",
      "selected_lines:\t [['Mois de Mai 2023'], [], [], [], [], ['Pomme de terre blanche Kg 22,29 91,67 72,95 65,90'], [], []]\n",
      "date extracted successfully:\t ['Mois de Mai 2023']\n",
      "price extracted successfully!\t ['Pomme de terre blanche Kg 22,29 91,67 72,95 65,90']\n",
      "selected_lines:\t [['Mois de Mai 2024'], [], [], [], [], ['Pomme de terre blanche Kg 65,90 91,57 90,58 -1,08'], [], []]\n",
      "date extracted successfully:\t ['Mois de Mai 2024']\n",
      "price extracted successfully!\t ['Pomme de terre blanche Kg 65,90 91,57 90,58 -1,08']\n",
      "selected_lines:\t [['Mois de Juin 2017'], [], [], [], [], ['Pomme de terre blanche Kg 21,09 38,34 50,33 49,78 -1,09 29,84 136,04'], [], []]\n",
      "date extracted successfully:\t ['Mois de Juin 2017']\n",
      "price extracted successfully!\t ['Pomme de terre blanche Kg 21,09 38,34 50,33 49,78 -1,09 29,84 136,04']\n",
      "selected_lines:\t [['Mois de Mars 2020'], [], [], [], [], ['Pomme de terre blanche Kg 27,85 58,87 49,04 57,98 18,23 -1,51 108,19'], [], []]\n",
      "date extracted successfully:\t ['Mois de Mars 2020']\n",
      "price extracted successfully!\t ['Pomme de terre blanche Kg 27,85 58,87 49,04 57,98 18,23 -1,51 108,19']\n",
      "selected_lines:\t [['Mois de Mars 2022'], [], [], [], [], ['Pomme de terre blanche Kg 27,85 68,95 101,76 122,77 20,65 78,06 340,83'], [], []]\n",
      "date extracted successfully:\t ['Mois de Mars 2022']\n",
      "price extracted successfully!\t ['Pomme de terre blanche Kg 27,85 68,95 101,76 122,77 20,65 78,06 340,83']\n",
      "selected_lines:\t [['Mois de Septembre 2022'], [], [], [], [], ['Pomme de terre blanche Kg 30,35 86,16 88,91 84,99 -4,41 -1,36 180,03'], [], []]\n",
      "date extracted successfully:\t ['Mois de Septembre 2022']\n",
      "price extracted successfully!\t ['Pomme de terre blanche Kg 30,35 86,16 88,91 84,99 -4,41 -1,36 180,03']\n",
      "selected_lines:\t [['Mois de Septembre 2018'], [], [], [], [], ['Pomme de terre blanche Kg 30,35 69,72 76,46 79,02 3,35 13,34 160,36'], [], []]\n",
      "date extracted successfully:\t ['Mois de Septembre 2018']\n",
      "price extracted successfully!\t ['Pomme de terre blanche Kg 30,35 69,72 76,46 79,02 3,35 13,34 160,36']\n",
      "selected_lines:\t [['Mois de Novembre 2022'], [], [], [], [], ['Pomme de terre blanche Kg 31,18 105,19 83,12 85,87 3,31 -18,37 175,40'], [], []]\n",
      "date extracted successfully:\t ['Mois de Novembre 2022']\n",
      "price extracted successfully!\t ['Pomme de terre blanche Kg 31,18 105,19 83,12 85,87 3,31 -18,37 175,40']\n",
      "selected_lines:\t [['Mois de novembre 2003'], [], [], [], [], ['Pomme de terre blanche Kg 7,40 30,67 31,16 32,02 2,80 4,40 331,50'], [], []]\n",
      "date extracted successfully:\t ['Mois de novembre 2003']\n",
      "price extracted successfully!\t ['Pomme de terre blanche Kg 7,40 30,67 31,16 32,02 2,80 4,40 331,50']\n",
      "selected_lines:\t [['Mois de Décembre 2009'], [], [], [], [], ['Pomme de terre blanche Kg 25,96 43,53 53,14 47,78 -10,09 9,76 84,05'], [], []]\n",
      "date extracted successfully:\t ['Mois de Décembre 2009']\n",
      "price extracted successfully!\t ['Pomme de terre blanche Kg 25,96 43,53 53,14 47,78 -10,09 9,76 84,05']\n",
      "selected_lines:\t [['Mois d’Octobre 2017'], [], [], [], [], ['Pomme de terre blanche Kg 31,81 45,14 69,72 78,25 12,23 73,35 145,99'], [], []]\n",
      "date extracted successfully:\t ['Mois d’Octobre 2017']\n",
      "price extracted successfully!\t ['Pomme de terre blanche Kg 31,81 45,14 69,72 78,25 12,23 73,35 145,99']\n",
      "selected_lines:\t [['Mois de Novembre 2019'], [], [], [], [], ['Pomme de terre blanche Kg 31,18 74,06 59,76 57,06 -4,52 -22,95 83,00'], [], []]\n",
      "date extracted successfully:\t ['Mois de Novembre 2019']\n",
      "price extracted successfully!\t ['Pomme de terre blanche Kg 31,18 74,06 59,76 57,06 -4,52 -22,95 83,00']\n",
      "selected_lines:\t [['Mois d’Avril 2011'], [], [], [], [], ['Pomme de terre blanche Kg 27,95 28,80 44,58 40,92 -8,21 42,08 46,40'], [], []]\n",
      "date extracted successfully:\t ['Mois d’Avril 2011']\n",
      "price extracted successfully!\t ['Pomme de terre blanche Kg 27,95 28,80 44,58 40,92 -8,21 42,08 46,40']\n",
      "selected_lines:\t [['Mois de Juillet 2024'], [], [], [], [], ['Pomme de terre blanche Kg 24,10 63,52 93,81 107,21'], [], []]\n",
      "date extracted successfully:\t ['Mois de Juillet 2024']\n",
      "price extracted successfully!\t ['Pomme de terre blanche Kg 24,10 63,52 93,81 107,21']\n",
      "selected_lines:\t [['Mois de Mars 2024'], [], [], [], [], ['Pomme de terre blanche 27,85 73,45 71,1 77,09 8,42'], [], []]\n",
      "date extracted successfully:\t ['Mois de Mars 2024']\n",
      "price extracted successfully!\t ['Pomme de terre blanche 27,85 73,45 71,1 77,09 8,42']\n",
      "selected_lines:\t [['Mois d’Octobre 2024'], [], [], [], [], ['Pomme de terre blanche Kg 31,81 73,77 118,69 110,40'], [], []]\n",
      "date extracted successfully:\t ['Mois d’Octobre 2024']\n",
      "price extracted successfully!\t ['Pomme de terre blanche Kg 31,81 73,77 118,69 110,40']\n",
      "selected_lines:\t [['Mois d’Octobre 2020'], [], [], [], [], [], [], []]\n",
      "date extracted successfully:\t ['Mois d’Octobre 2020']\n",
      "none\n",
      "selected_lines:\t [['Mois de Juillet 2017'], [], [], [], [], ['Pomme de terre blanche Kg 24,10 45,79 49,78 50,10 0,64 9,41 107,88'], [], []]\n",
      "date extracted successfully:\t ['Mois de Juillet 2017']\n",
      "price extracted successfully!\t ['Pomme de terre blanche Kg 24,10 45,79 49,78 50,10 0,64 9,41 107,88']\n",
      "selected_lines:\t [['Mois de Juin 2012'], [], [], [], [], ['Pomme de terre blanche Kg 21,09 35,46 49,09 39,62 -19,29 11,73 87,86'], [], []]\n",
      "date extracted successfully:\t ['Mois de Juin 2012']\n",
      "price extracted successfully!\t ['Pomme de terre blanche Kg 21,09 35,46 49,09 39,62 -19,29 11,73 87,86']\n",
      "selected_lines:\t [['Mois de Novembre 2017'], [], [], [], [], ['Pomme de terre blanche Kg 31,18 51,34 78,25 83,48 6,68 62,60 167,74'], [], []]\n",
      "date extracted successfully:\t ['Mois de Novembre 2017']\n",
      "price extracted successfully!\t ['Pomme de terre blanche Kg 31,18 51,34 78,25 83,48 6,68 62,60 167,74']\n",
      "selected_lines:\t [['Mois de Septembre 2013'], [], [], [], [], ['Pomme de terre blanche Kg 30,35 57,61 34,95 34,72 -0,66 -39,73 14,40'], [], []]\n",
      "date extracted successfully:\t ['Mois de Septembre 2013']\n",
      "price extracted successfully!\t ['Pomme de terre blanche Kg 30,35 57,61 34,95 34,72 -0,66 -39,73 14,40']\n",
      "selected_lines:\t [['Mois d’Aout 2019'], [], [], [], [], ['Pomme de terre blanche Kg 27,36 76,46 60,51 60,97 0,76 -20,26 122,84'], [], []]\n",
      "date extracted successfully:\t ['Mois d’Aout 2019']\n",
      "price extracted successfully!\t ['Pomme de terre blanche Kg 27,36 76,46 60,51 60,97 0,76 -20,26 122,84']\n",
      "selected_lines:\t [['Mois de février 2004'], [], [], [], [], ['Pomme de terre blanche Kg 6,20 22,08 25,44 30,00 48,80 433,50'], [], []]\n",
      "date extracted successfully:\t ['Mois de février 2004']\n",
      "price extracted successfully!\t ['Pomme de terre blanche Kg 6,20 22,08 25,44 30,00 48,80 433,50']\n",
      "selected_lines:\t [['Mois de Juin 2015'], [], [], [], [], ['Pomme de terre blanche Kg 21,09 47,94 59,01 51,37 -12,95 7,15 143,58'], [], []]\n",
      "date extracted successfully:\t ['Mois de Juin 2015']\n",
      "price extracted successfully!\t ['Pomme de terre blanche Kg 21,09 47,94 59,01 51,37 -12,95 7,15 143,58']\n",
      "selected_lines:\t [['Mois de Mars 2018'], [], [], [], [], ['Pomme de terre blanche Kg 27,85 75,95 63,09 62,61 -0,76 -17,56 124,81'], [], []]\n",
      "date extracted successfully:\t ['Mois de Mars 2018']\n",
      "price extracted successfully!\t ['Pomme de terre blanche Kg 27,85 75,95 63,09 62,61 -0,76 -17,56 124,81']\n",
      "selected_lines:\t [['Mois de Février 2018'], [], [], [], [], ['Pomme de terre blanche Kg 27,24 70,24 67,87 63,09 -7,04 -10,18 131,61'], [], []]\n",
      "date extracted successfully:\t ['Mois de Février 2018']\n",
      "price extracted successfully!\t ['Pomme de terre blanche Kg 27,24 70,24 67,87 63,09 -7,04 -10,18 131,61']\n",
      "selected_lines:\t [['Mois d’Aout 2020'], [], [], [], [], ['Pomme de terre blanche Kg 27,36 60,97 47,30 44,84 -5,20'], [], []]\n",
      "date extracted successfully:\t ['Mois d’Aout 2020']\n",
      "price extracted successfully!\t ['Pomme de terre blanche Kg 27,36 60,97 47,30 44,84 -5,20']\n",
      "selected_lines:\t [['Mois de Novembre 2021'], [], [], [], [], ['Pomme de terre blanche Kg 31,18 56,04 99,25 105,19 5,98'], [], []]\n",
      "date extracted successfully:\t ['Mois de Novembre 2021']\n",
      "price extracted successfully!\t ['Pomme de terre blanche Kg 31,18 56,04 99,25 105,19 5,98']\n",
      "selected_lines:\t [['Mois d’Octobre 2009'], [], [], [], [], ['Pomme de terre blanche Kg 31,81 39,34 53,02 55,41 4,51 40,85 74,19'], [], [], []]\n",
      "date extracted successfully:\t ['Mois d’Octobre 2009']\n",
      "price extracted successfully!\t ['Pomme de terre blanche Kg 31,81 39,34 53,02 55,41 4,51 40,85 74,19']\n",
      "selected_lines:\t [['Mois d’Avril 2023'], [], [], [], [], [], [], []]\n",
      "date extracted successfully:\t ['Mois d’Avril 2023']\n",
      "none\n",
      "selected_lines:\t [['Mois de Mai 2013'], [], [], [], [], ['Pomme de terre blanche Kg 22,29 49,09 46,38 29,78 -35,79 -39,34 33,60'], [], []]\n",
      "date extracted successfully:\t ['Mois de Mai 2013']\n",
      "price extracted successfully!\t ['Pomme de terre blanche Kg 22,29 49,09 46,38 29,78 -35,79 -39,34 33,60']\n",
      "selected_lines:\t [['Mois d’Aout 2021'], [], [], [], [], ['Pomme de terre blanche Kg 27,36 44,84 73,05 71,30 -2,40 59,01 160,60'], [], []]\n",
      "date extracted successfully:\t ['Mois d’Aout 2021']\n",
      "price extracted successfully!\t ['Pomme de terre blanche Kg 27,36 44,84 73,05 71,30 -2,40 59,01 160,60']\n",
      "selected_lines:\t [['Mois de Décembre 2017'], [], [], [], [], ['Pomme de terre blanche Kg 25,96 53,18 83,48 77,33 -7,37'], [], []]\n",
      "date extracted successfully:\t ['Mois de Décembre 2017']\n",
      "price extracted successfully!\t ['Pomme de terre blanche Kg 25,96 53,18 83,48 77,33 -7,37']\n",
      "selected_lines:\t [['Mois d’Avril 2016'], [], [], [], [], [], [], []]\n",
      "date extracted successfully:\t ['Mois d’Avril 2016']\n",
      "none\n",
      "selected_lines:\t [['Mois de Janvier 2010'], [], [], [], [], ['Pomme de terre blanche Kg 25,60 40,96 47,78 43,62 -8,71'], [], []]\n",
      "date extracted successfully:\t ['Mois de Janvier 2010']\n",
      "price extracted successfully!\t ['Pomme de terre blanche Kg 25,60 40,96 47,78 43,62 -8,71']\n",
      "selected_lines:\t [['Mois de septembre 2024'], [], [], [], [], ['Pomme de terre blanche Kg 30,35 71,25 108,34 118,69'], [], []]\n",
      "date extracted successfully:\t ['Mois de septembre 2024']\n",
      "price extracted successfully!\t ['Pomme de terre blanche Kg 30,35 71,25 108,34 118,69']\n",
      "selected_lines:\t [['Mois de Mars 2023'], [], [], [], [], [], [], []]\n",
      "date extracted successfully:\t ['Mois de Mars 2023']\n",
      "none\n",
      "selected_lines:\t [['Mois de Juillet 2020'], [], [], [], [], ['Pomme de terre blanche Kg 24,10 60,51 51,14 47,30 -7,51 -21,83 96,27'], [], []]\n",
      "date extracted successfully:\t ['Mois de Juillet 2020']\n",
      "price extracted successfully!\t ['Pomme de terre blanche Kg 24,10 60,51 51,14 47,30 -7,51 -21,83 96,27']\n",
      "selected_lines:\t [['Mois d’Avril 2009'], [], [], [], [], ['Pomme de terre blanche Kg 6,80 47,52 59,02 66,47 12,60 39,90'], [], []]\n",
      "date extracted successfully:\t ['Mois d’Avril 2009']\n",
      "price extracted successfully!\t ['Pomme de terre blanche Kg 6,80 47,52 59,02 66,47 12,60 39,90']\n",
      "selected_lines:\t [['Mois de Février 2024'], [], [], [], [], ['Pomme de terre blanche Kg 27,24 68,70 73,08 71,10 -2,71'], [], []]\n",
      "date extracted successfully:\t ['Mois de Février 2024']\n",
      "price extracted successfully!\t ['Pomme de terre blanche Kg 27,24 68,70 73,08 71,10 -2,71']\n",
      "selected_lines:\t [['Mois de Juin 2014'], [], [], [], [], ['Pomme de terre blanche Kg 21,09 29,46 38,86 47,94 23,37 62,73 127,31'], [], []]\n",
      "date extracted successfully:\t ['Mois de Juin 2014']\n",
      "price extracted successfully!\t ['Pomme de terre blanche Kg 21,09 29,46 38,86 47,94 23,37 62,73 127,31']\n",
      "selected_lines:\t [['Mois de Mars 2021'], [], [], [], [], ['Pomme de terre blanche Kg 27,85 57,98 61,22 68,95 12,63 18,92 147,58'], [], []]\n",
      "date extracted successfully:\t ['Mois de Mars 2021']\n",
      "price extracted successfully!\t ['Pomme de terre blanche Kg 27,85 57,98 61,22 68,95 12,63 18,92 147,58']\n",
      "selected_lines:\t [['Mois de Juillet 2010'], [], [], [], [], ['Pomme de terre blanche Kg 24,10 37,07 36,90 34,65 -6,10 -6,53 43,78'], [], [], []]\n",
      "date extracted successfully:\t ['Mois de Juillet 2010']\n",
      "price extracted successfully!\t ['Pomme de terre blanche Kg 24,10 37,07 36,90 34,65 -6,10 -6,53 43,78']\n",
      "selected_lines:\t [['Mois de Juin 2009'], [], [], [], [], ['Pomme de terre blanche Kg 4,50 32,31 31,39 27,67 -11,90 -14,40'], [], []]\n",
      "date extracted successfully:\t ['Mois de Juin 2009']\n",
      "price extracted successfully!\t ['Pomme de terre blanche Kg 4,50 32,31 31,39 27,67 -11,90 -14,40']\n",
      "selected_lines:\t [['Mois de Mai 2017'], [], [], [], [], ['Pomme de terre blanche Kg 22,29 41,68 73,98 50,33 -31,97 20,75 125,80'], [], []]\n",
      "date extracted successfully:\t ['Mois de Mai 2017']\n",
      "price extracted successfully!\t ['Pomme de terre blanche Kg 22,29 41,68 73,98 50,33 -31,97 20,75 125,80']\n",
      "selected_lines:\t [['Mois de Juillet 2021'], [], [], [], [], ['Pomme de terre blanche Kg 24,10 47,30 68,35 73,05 6,88 54,44 203,11'], [], []]\n",
      "date extracted successfully:\t ['Mois de Juillet 2021']\n",
      "price extracted successfully!\t ['Pomme de terre blanche Kg 24,10 47,30 68,35 73,05 6,88 54,44 203,11']\n",
      "selected_lines:\t [['Mois de Septembre 2021'], [], [], [], [], ['Pomme de terre blanche Kg 30,35 45,76 71,30 86,16 20,84 88,29 183,89'], [], []]\n",
      "date extracted successfully:\t ['Mois de Septembre 2021']\n",
      "price extracted successfully!\t ['Pomme de terre blanche Kg 30,35 45,76 71,30 86,16 20,84 88,29 183,89']\n",
      "selected_lines:\t [['Mois de Juin 2018'], [], [], [], [], ['Pomme de terre blanche Kg 21,09 49,78 55,58 63,97 15,10 28,51 203,32'], [], []]\n",
      "date extracted successfully:\t ['Mois de Juin 2018']\n",
      "price extracted successfully!\t ['Pomme de terre blanche Kg 21,09 49,78 55,58 63,97 15,10 28,51 203,32']\n",
      "selected_lines:\t [['Mois de Janvier 2014'], [], [], [], [], ['Pomme de terre blanche Kg 25,60 51,46 43,85 45,10 2,85 -12,36 76,17'], [], []]\n",
      "date extracted successfully:\t ['Mois de Janvier 2014']\n",
      "price extracted successfully!\t ['Pomme de terre blanche Kg 25,60 51,46 43,85 45,10 2,85 -12,36 76,17']\n",
      "selected_lines:\t [['Mois d’Octobre 2023'], [], [], [], [], ['Pomme de terre blanche Kg 31,81 83,12 71,25 73,77 3,54'], [], []]\n",
      "date extracted successfully:\t ['Mois d’Octobre 2023']\n",
      "price extracted successfully!\t ['Pomme de terre blanche Kg 31,81 83,12 71,25 73,77 3,54']\n",
      "selected_lines:\t [['Mois de Juin 2016'], [], [], [], [], ['Pomme de terre blanche Kg 21,09 51,37 41,68 38,34 -8,01 -25,36 81,79'], [], []]\n",
      "date extracted successfully:\t ['Mois de Juin 2016']\n",
      "price extracted successfully!\t ['Pomme de terre blanche Kg 21,09 51,37 41,68 38,34 -8,01 -25,36 81,79']\n",
      "selected_lines:\t [['Mois d’Aoiut 2017'], [], [], [], [], ['Pomme de terre blanche Kg 27,36 44,07 50,10 58,19 16,15 32,04 112,68'], [], []]\n",
      "date extracted successfully:\t ['Mois d’Aoiut 2017']\n",
      "price extracted successfully!\t ['Pomme de terre blanche Kg 27,36 44,07 50,10 58,19 16,15 32,04 112,68']\n",
      "selected_lines:\t [['Mois de Décembre 2023'], [], [], [], [], ['Pomme de terre blanche Kg 25,96 77,07 79,73 76,68 -3,83'], [], []]\n",
      "date extracted successfully:\t ['Mois de Décembre 2023']\n",
      "price extracted successfully!\t ['Pomme de terre blanche Kg 25,96 77,07 79,73 76,68 -3,83']\n",
      "selected_lines:\t [['Mois de fevrier 2003'], [], [], [], [], ['Pomme de terre blanche Kg 6,20 39,84 18,95 22,08 16,50 -44,60 256,10'], [], []]\n",
      "date extracted successfully:\t ['Mois de fevrier 2003']\n",
      "price extracted successfully!\t ['Pomme de terre blanche Kg 6,20 39,84 18,95 22,08 16,50 -44,60 256,10']\n",
      "selected_lines:\t [['Mois d’Avril 2017'], [], [], [], [], ['Pomme de terre blanche Kg 27,95 48,76 75,95 73,98 -2,59 51,72 164,69'], [], []]\n",
      "date extracted successfully:\t ['Mois d’Avril 2017']\n",
      "price extracted successfully!\t ['Pomme de terre blanche Kg 27,95 48,76 75,95 73,98 -2,59 51,72 164,69']\n",
      "selected_lines:\t [['Mois d’Avril 2020'], [], [], [], [], ['Pomme de terre blanche Kg 27,95 55,49 57,98 50,07 -13,64 -9,77 79,14'], [], []]\n",
      "date extracted successfully:\t ['Mois d’Avril 2020']\n",
      "price extracted successfully!\t ['Pomme de terre blanche Kg 27,95 55,49 57,98 50,07 -13,64 -9,77 79,14']\n",
      "selected_lines:\t [['Mois de Décembre 2022'], [], [], [], [], ['Pomme de terre blanche Kg 25,96 75,34 85,87 77,07 -10,25 2,30 196,88'], [], []]\n",
      "date extracted successfully:\t ['Mois de Décembre 2022']\n",
      "price extracted successfully!\t ['Pomme de terre blanche Kg 25,96 75,34 85,87 77,07 -10,25 2,30 196,88']\n",
      "selected_lines:\t [['Mois de janvier 2003'], [], [], [], [], ['Pomme de terre blanche Kg 5,80 34.00 24,78 18,95 -23,50 -44,30 229,60'], [], []]\n",
      "date extracted successfully:\t ['Mois de janvier 2003']\n",
      "price extracted successfully!\t ['Pomme de terre blanche Kg 5,80 34.00 24,78 18,95 -23,50 -44,30 229,60']\n",
      "selected_lines:\t [['Mois de Février 2023'], [], [], [], [], [], [], []]\n",
      "date extracted successfully:\t ['Mois de Février 2023']\n",
      "none\n",
      "selected_lines:\t [['Mois de Juillet 2018'], [], [], [], [], ['Pomme de terre blanche Kg 24,10 50,10 63,97 65,15 1,84 30,04 170,33'], [], []]\n",
      "date extracted successfully:\t ['Mois de Juillet 2018']\n",
      "price extracted successfully!\t ['Pomme de terre blanche Kg 24,10 50,10 63,97 65,15 1,84 30,04 170,33']\n",
      "selected_lines:\t [['Mois de Novembre 2011'], [], [], [], [], ['Pomme de terre blanche Kg 31,18 51,07 49,17 52,70 718 3,19 69,02'], [], []]\n",
      "date extracted successfully:\t ['Mois de Novembre 2011']\n",
      "price extracted successfully!\t ['Pomme de terre blanche Kg 31,18 51,07 49,17 52,70 718 3,19 69,02']\n",
      "selected_lines:\t [['Mois de Mai 2014'], [], [], [], [], [], [], []]\n",
      "date extracted successfully:\t ['Mois de Mai 2014']\n",
      "none\n",
      "selected_lines:\t [['Mois de Septembre 2004'], [], [], [], [], [], [], []]\n",
      "date extracted successfully:\t ['Mois de Septembre 2004']\n",
      "none\n",
      "selected_lines:\t [['Mois d’Octobre 2019'], [], [], [], [], ['Pomme de terre blanche Kg 31,81 80,21 62,09 59,76 -3,75 -25,50 87,87'], [], []]\n",
      "date extracted successfully:\t ['Mois d’Octobre 2019']\n",
      "price extracted successfully!\t ['Pomme de terre blanche Kg 31,81 80,21 62,09 59,76 -3,75 -25,50 87,87']\n",
      "selected_lines:\t [['Mois de Mars 2015'], [], [], [], [], ['Pomme de terre blanche Kg 27,85 41,70 80,81 89,28 10,48 114,10 220,57'], [], []]\n",
      "date extracted successfully:\t ['Mois de Mars 2015']\n",
      "price extracted successfully!\t ['Pomme de terre blanche Kg 27,85 41,70 80,81 89,28 10,48 114,10 220,57']\n",
      "selected_lines:\t [['Mois de Juin 2024'], [], [], [], [], ['Pomme de terre blanche Kg 21,09 64,55 90,58 93,81 3,57'], [], []]\n",
      "date extracted successfully:\t ['Mois de Juin 2024']\n",
      "price extracted successfully!\t ['Pomme de terre blanche Kg 21,09 64,55 90,58 93,81 3,57']\n",
      "selected_lines:\t [['Mois d’Avril 2013'], [], [], [], [], ['Pomme de terre blanche Kg 27,95 90,11 56,37 46,38 -17,72 -48,53 65,94'], [], []]\n",
      "date extracted successfully:\t ['Mois d’Avril 2013']\n",
      "price extracted successfully!\t ['Pomme de terre blanche Kg 27,95 90,11 56,37 46,38 -17,72 -48,53 65,94']\n",
      "selected_lines:\t [['Mois d’Octobre 2016'], [], [], [], [], ['Pomme de terre blanche Kg 31,81 58,78 47,35 45,14 -4,67 -23,21 41,91'], [], []]\n",
      "date extracted successfully:\t ['Mois d’Octobre 2016']\n",
      "price extracted successfully!\t ['Pomme de terre blanche Kg 31,81 58,78 47,35 45,14 -4,67 -23,21 41,91']\n",
      "selected_lines:\t [['Mois de juin 2003'], [], [], [], [], ['Pomme de terre blanche Kg 4,50 24,50 19,16 22,71 18,50 -7,30 402,40'], [], []]\n",
      "date extracted successfully:\t ['Mois de juin 2003']\n",
      "price extracted successfully!\t ['Pomme de terre blanche Kg 4,50 24,50 19,16 22,71 18,50 -7,30 402,40']\n",
      "selected_lines:\t [['Mois de Mars 2009'], [], [], [], [], ['Pomme de terre blanche 6,20 49,04 45,06 59,02 31,00 20,40 856,60'], [], []]\n",
      "date extracted successfully:\t ['Mois de Mars 2009']\n",
      "price extracted successfully!\t ['Pomme de terre blanche 6,20 49,04 45,06 59,02 31,00 20,40 856,60']\n",
      "selected_lines:\t [['Mois de Janvier 2023'], [], [], [], [], ['Pomme de terre blanche Kg 25,60 71,91 77,07 69,76 -9,48 -2,99 172,50'], [], []]\n",
      "date extracted successfully:\t ['Mois de Janvier 2023']\n",
      "price extracted successfully!\t ['Pomme de terre blanche Kg 25,60 71,91 77,07 69,76 -9,48 -2,99 172,50']\n",
      "selected_lines:\t [['Mois d’Avril 2019'], [], [], [], [], ['Pomme de terre blanche Kg 27,95 57,84 58,87 55,49 -5,74'], [], []]\n",
      "date extracted successfully:\t ['Mois d’Avril 2019']\n",
      "price extracted successfully!\t ['Pomme de terre blanche Kg 27,95 57,84 58,87 55,49 -5,74']\n",
      "selected_lines:\t [['Mois de février 2010'], [], [], [], [], ['Pomme de terre blanche Kg 27,24 45,06 43,62 42,91 -1,63 -4,77 57,53'], [], []]\n",
      "date extracted successfully:\t ['Mois de février 2010']\n",
      "price extracted successfully!\t ['Pomme de terre blanche Kg 27,24 45,06 43,62 42,91 -1,63 -4,77 57,53']\n",
      "selected_lines:\t [['Mois de Juin 2010'], [], [], [], [], ['Pomme de terre blanche Kg 21,09 27,67 31,57 36,90 16,88 33,36 74,96'], [], []]\n",
      "date extracted successfully:\t ['Mois de Juin 2010']\n",
      "price extracted successfully!\t ['Pomme de terre blanche Kg 21,09 27,67 31,57 36,90 16,88 33,36 74,96']\n",
      "selected_lines:\t [['Mois de Novembre 2013'], [], [], [], [], ['Pomme de terre blanche Kg 31,18 60,72 34,27 38,63 12,72 -36,38 23,89'], [], []]\n",
      "date extracted successfully:\t ['Mois de Novembre 2013']\n",
      "price extracted successfully!\t ['Pomme de terre blanche Kg 31,18 60,72 34,27 38,63 12,72 -36,38 23,89']\n",
      "selected_lines:\t [['Mois d’Aoiut 2014'], [], [], [], [], ['Pomme de terre blanche Kg 27,36 34,95 54,55 58,45 7,15 67,24 113,63'], [], []]\n",
      "date extracted successfully:\t ['Mois d’Aoiut 2014']\n",
      "price extracted successfully!\t ['Pomme de terre blanche Kg 27,36 34,95 54,55 58,45 7,15 67,24 113,63']\n",
      "selected_lines:\t [['Mois de Juillet 2011'], [], [], [], [], ['Pomme de terre blanche Kg 24,10 34,65 35,46 36,55 3,07 5,48 51,66'], [], []]\n",
      "date extracted successfully:\t ['Mois de Juillet 2011']\n",
      "price extracted successfully!\t ['Pomme de terre blanche Kg 24,10 34,65 35,46 36,55 3,07 5,48 51,66']\n",
      "selected_lines:\t [['Mois de Mars 2016'], [], [], [], [], ['Pomme de terre blanche Kg 27,85 89,28 42,11 40,55 -3,70'], [], []]\n",
      "date extracted successfully:\t ['Mois de Mars 2016']\n",
      "price extracted successfully!\t ['Pomme de terre blanche Kg 27,85 89,28 42,11 40,55 -3,70']\n",
      "selected_lines:\t [['Mois d’Octobre 2021'], [], [], [], [], ['Pomme de terre blanche Kg 31,81 52,73 86,16 99,25 15,19 88,22 212,01'], [], []]\n",
      "date extracted successfully:\t ['Mois d’Octobre 2021']\n",
      "price extracted successfully!\t ['Pomme de terre blanche Kg 31,81 52,73 86,16 99,25 15,19 88,22 212,01']\n",
      "selected_lines:\t [['Mois de Mars 2011'], [], [], [], [], ['Pomme de terre blanche Kg 27,85 38,29 38,29 44,58 16,43 16,43 60,07'], [], []]\n",
      "date extracted successfully:\t ['Mois de Mars 2011']\n",
      "price extracted successfully!\t ['Pomme de terre blanche Kg 27,85 38,29 38,29 44,58 16,43 16,43 60,07']\n",
      "selected_lines:\t [['Mois de decembre 2003'], [], [], [], [], ['Pomme de terre blanche Kg 6,00 24,78 32,02 24,54 -23,40 -1,00 306,30'], [], []]\n",
      "date extracted successfully:\t ['Mois de decembre 2003']\n",
      "price extracted successfully!\t ['Pomme de terre blanche Kg 6,00 24,78 32,02 24,54 -23,40 -1,00 306,30']\n",
      "selected_lines:\t [['Mois de Novembre 2024'], [], [], [], [], ['Pomme de terre blanche Kg 31,18 79,73 110,4 103,76'], [], []]\n",
      "date extracted successfully:\t ['Mois de Novembre 2024']\n",
      "price extracted successfully!\t ['Pomme de terre blanche Kg 31,18 79,73 110,4 103,76']\n",
      "selected_lines:\t [['Mois d’Octobre 2015'], [], [], [], [], ['Pomme de terre blanche Kg 31,81 80,23 56,48 58,78 4,07'], [], []]\n",
      "date extracted successfully:\t ['Mois d’Octobre 2015']\n",
      "price extracted successfully!\t ['Pomme de terre blanche Kg 31,81 80,23 56,48 58,78 4,07']\n",
      "selected_lines:\t [['Mois de mars 2004'], [], [], [], [], ['Pomme de terre blanche Kg 6,20 20,78 33,08 17,20 86,60 528,40'], [], []]\n",
      "date extracted successfully:\t ['Mois de mars 2004']\n",
      "price extracted successfully!\t ['Pomme de terre blanche Kg 6,20 20,78 33,08 17,20 86,60 528,40']\n",
      "selected_lines:\t [['Mois de Février 2013'], [], [], [], [], ['Pomme de terre blanche Kg 27,24 63,76 51,46 56,08 8,98 -12,05 105,87'], [], []]\n",
      "date extracted successfully:\t ['Mois de Février 2013']\n",
      "price extracted successfully!\t ['Pomme de terre blanche Kg 27,24 63,76 51,46 56,08 8,98 -12,05 105,87']\n",
      "selected_lines:\t [['Mois de Janvier 2016'], [], [], [], [], ['Pomme de terre blanche Kg 25,60 62,43 47,92 45,03 -6,03 -27,87 75,90'], [], []]\n",
      "date extracted successfully:\t ['Mois de Janvier 2016']\n",
      "price extracted successfully!\t ['Pomme de terre blanche Kg 25,60 62,43 47,92 45,03 -6,03 -27,87 75,90']\n",
      "selected_lines:\t [['Mois de Décembre 2013'], [], [], [], [], ['Pomme de terre blanche Kg 25,96 51,93 38,63 43,85 13,51 -15,56 68,91'], [], []]\n",
      "date extracted successfully:\t ['Mois de Décembre 2013']\n",
      "price extracted successfully!\t ['Pomme de terre blanche Kg 25,96 51,93 38,63 43,85 13,51 -15,56 68,91']\n",
      "selected_lines:\t [['Mois de Juin 2020'], [], [], [], [], ['Pomme de terre blanche Kg 21,09 59,64 49,58 51,14 3,15 -14,25 142,48'], [], []]\n",
      "date extracted successfully:\t ['Mois de Juin 2020']\n",
      "price extracted successfully!\t ['Pomme de terre blanche Kg 21,09 59,64 49,58 51,14 3,15 -14,25 142,48']\n",
      "selected_lines:\t [['Mois de Septembre 2016'], [], [], [], [], ['Pomme de terre blanche Kg 30,35 56,48 44,07 47,35 7,44 -16,17 56,01'], [], []]\n",
      "date extracted successfully:\t ['Mois de Septembre 2016']\n",
      "price extracted successfully!\t ['Pomme de terre blanche Kg 30,35 56,48 44,07 47,35 7,44 -16,17 56,01']\n",
      "selected_lines:\t [['Mois d’octobre 2003'], [], [], [], [], ['Pomme de terre blanche Kg 7,20 32,57 28,36 31,16 9,90 -4,30 331,60'], [], [], []]\n",
      "date extracted successfully:\t ['Mois d’octobre 2003']\n",
      "price extracted successfully!\t ['Pomme de terre blanche Kg 7,20 32,57 28,36 31,16 9,90 -4,30 331,60']\n",
      "selected_lines:\t [['Mois de Janvier 2018'], [], [], [], [], ['Pomme de terre blanche Kg 25,60 63,17 77,33 67,87 -12,23'], [], []]\n",
      "date extracted successfully:\t ['Mois de Janvier 2018']\n",
      "price extracted successfully!\t ['Pomme de terre blanche Kg 25,60 63,17 77,33 67,87 -12,23']\n",
      "selected_lines:\t [['Mois d’Aout 2024'], [], [], [], [], ['Pomme de terre blanche Kg 27,36 66,04 107,21 108,34'], [], []]\n",
      "date extracted successfully:\t ['Mois d’Aout 2024']\n",
      "price extracted successfully!\t ['Pomme de terre blanche Kg 27,36 66,04 107,21 108,34']\n"
     ]
    }
   ],
   "source": [
    "for i in range(20,214):\n",
    "\n",
    "        # Convert PDF pages to images\n",
    "        pages = pdf2image.convert_from_path(\"pdf_files/\" + str(i) + '.pdf', 300)\n",
    "\n",
    "        data = {'year':-1,'month':'', 'price':0.0}\n",
    "        all_pdf_data = []\n",
    "        for page in pages:\n",
    "                # Use OCR on each page\n",
    "                text = pytesseract.image_to_string(page)\n",
    "                lines = text.splitlines()\n",
    "                selected_lines = [line for line in lines if (\"Pomme de terre blanche\" in line) or  (\"Mois d\" in line)]\n",
    "                all_pdf_data.append(selected_lines)\n",
    "                \n",
    "        print(\"selected_lines:\\t\",all_pdf_data)\n",
    "        date = next((item for item in all_pdf_data if item and \"Mois d\" in item[0]), None)\n",
    "\n",
    "    \n",
    "        \n",
    "        if date != None:\n",
    "            date = str(date)\n",
    "            print(\"date extracted successfully:\\t\",date)\n",
    "            dates = re.split(r\"[ '\\\"’]\", date)            \n",
    "            data[\"year\"] =dates[4]\n",
    "            data[\"month\"] = dates[3]\n",
    "        else:\n",
    "              print(\"none\")\n",
    "        price = next((item for item in all_pdf_data if item and \"Pomme de terre blanche\" in item[0]), None)\n",
    "        if price != None:\n",
    "            price = str(price)\n",
    "            print(\"price extracted successfully!\\t\",price)\n",
    "            prices = price.split('blanche')[1]\n",
    "            prices = price.split(' ')\n",
    "            if(len(prices) > 8):\n",
    "                data[\"price\"] = prices[8]\n",
    "            else:\n",
    "                data['price'] = prices[-1]\n",
    "            data['price'] = data['price'].replace(',', '.')\n",
    "        else:\n",
    "              print(\"none\")\n",
    "\n",
    "        \n",
    "    \n",
    "        data = [data]\n",
    "        with open('testOCR.csv', 'a', newline='') as csvfile:\n",
    "                fieldnames = ['year', 'month', 'price']\n",
    "                writer = csv.DictWriter(csvfile, fieldnames=fieldnames)\n",
    "                writer.writerows(data)\n"
   ]
  }
 ],
 "metadata": {
  "kernelspec": {
   "display_name": "TS_ENV",
   "language": "python",
   "name": "python3"
  },
  "language_info": {
   "codemirror_mode": {
    "name": "ipython",
    "version": 3
   },
   "file_extension": ".py",
   "mimetype": "text/x-python",
   "name": "python",
   "nbconvert_exporter": "python",
   "pygments_lexer": "ipython3",
   "version": "3.13.2"
  }
 },
 "nbformat": 4,
 "nbformat_minor": 2
}
